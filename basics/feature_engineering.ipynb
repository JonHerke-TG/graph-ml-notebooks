{
 "cells": [
  {
   "cell_type": "markdown",
   "id": "a0753d0e-9062-409d-8308-3d536bfa9d1c",
   "metadata": {},
   "source": [
    "# Feature Engineering\n",
    "\n",
    "This notebook demonstrates how to use `pyTigerGraph` for feature engineering and other common data processing tasks on graphs stored in `TigerGraph`."
   ]
  },
  {
   "cell_type": "markdown",
   "id": "c9f16295-3f06-48a6-83ec-bd5692b3990c",
   "metadata": {},
   "source": [
    "## Connection to Database\n",
    "\n",
    "The `TigerGraphConnection` class represents a connection to the TigerGraph database. Under the hood, it stores the necessary information to communicate with the database. It is able to perform quite a few database tasks. Please see its [documentation](https://docs.tigergraph.com/pytigergraph/current/intro/) for details.\n",
    "\n",
    "To connect your database, modify the `config.json` file accompanying this notebook. Set the value of `getToken` based on whether token auth is enabled for your database. Token auth is always enabled for tgcloud databases. "
   ]
  },
  {
   "cell_type": "code",
   "execution_count": 1,
   "id": "95391f04-3b1c-4c3b-ba2f-165b36dc82b7",
   "metadata": {},
   "outputs": [],
   "source": [
    "from pyTigerGraph import TigerGraphConnection\n",
    "import json\n",
    "\n",
    "# Read in DB configs\n",
    "with open('../config.json', \"r\") as config_file:\n",
    "    config = json.load(config_file)\n",
    "    \n",
    "conn = TigerGraphConnection(\n",
    "    host=config[\"host\"],\n",
    "    username=config[\"username\"],\n",
    "    password=config[\"password\"]\n",
    ")"
   ]
  },
  {
   "cell_type": "markdown",
   "id": "6bbcad84-5009-44b2-9018-52833efa6ce2",
   "metadata": {},
   "source": [
    "### Ingest Data"
   ]
  },
  {
   "cell_type": "code",
   "execution_count": 2,
   "id": "f55bbd2b-3108-4d53-a182-88ed8069d42a",
   "metadata": {},
   "outputs": [
    {
     "data": {
      "application/vnd.jupyter.widget-view+json": {
       "model_id": "7f1bdc29f07a4153a46277728a10be4f",
       "version_major": 2,
       "version_minor": 0
      },
      "text/plain": [
       "Downloading:   0%|          | 0/166537 [00:00<?, ?it/s]"
      ]
     },
     "metadata": {},
     "output_type": "display_data"
    }
   ],
   "source": [
    "from pyTigerGraph.datasets import Datasets\n",
    "\n",
    "dataset = Datasets(\"Cora\")"
   ]
  },
  {
   "cell_type": "code",
   "execution_count": 3,
   "id": "144489b8-e0fe-408e-9213-e25cfa6bf4b5",
   "metadata": {},
   "outputs": [
    {
     "name": "stdout",
     "output_type": "stream",
     "text": [
      "---- Checking database ----\n",
      "A graph with name Cora already exists in the database. Skip ingestion.\n"
     ]
    }
   ],
   "source": [
    "conn.ingestDataset(dataset, getToken=config[\"getToken\"])"
   ]
  },
  {
   "cell_type": "markdown",
   "id": "9e0734ea-8239-4182-b5ca-029ee5317e56",
   "metadata": {},
   "source": [
    "### Visualize Schema"
   ]
  },
  {
   "cell_type": "code",
   "execution_count": 4,
   "id": "a4e148ba-224c-4907-84ce-dd24f9fec87c",
   "metadata": {},
   "outputs": [
    {
     "data": {
      "application/vnd.jupyter.widget-view+json": {
       "model_id": "dd3541a47d564edebd1471cdda7161f0",
       "version_major": 2,
       "version_minor": 0
      },
      "text/plain": [
       "CytoscapeWidget(cytoscape_layout={'name': 'circle', 'animate': True, 'padding': 1}, cytoscape_style=[{'selecto…"
      ]
     },
     "execution_count": 4,
     "metadata": {},
     "output_type": "execute_result"
    }
   ],
   "source": [
    "from pyTigerGraph.visualization import drawSchema\n",
    "\n",
    "drawSchema(conn.getSchema(force=True))"
   ]
  },
  {
   "cell_type": "markdown",
   "id": "613e7855-3733-40fe-8116-e08f01468fed",
   "metadata": {},
   "source": [
    "### Basic Statistics"
   ]
  },
  {
   "cell_type": "code",
   "execution_count": 5,
   "id": "857a0f72-abf7-426a-b556-c41ae69a81a7",
   "metadata": {},
   "outputs": [
    {
     "name": "stdout",
     "output_type": "stream",
     "text": [
      "---- Global vertices, edges, and all graphs\n",
      "Vertex Types:\n",
      "Edge Types:\n",
      "\n",
      "Graphs:\n",
      "- Graph Cora(Paper:v, Cite:e)\n",
      "- Graph imdb(Movie:v, Actor:v, Director:v, actor_movie:e, director_movie:e, movie_actor:e, movie_director:e)\n",
      "Jobs:\n",
      "\n",
      "\n",
      "JSON API version: v2\n",
      "Syntax version: v2\n",
      "\n"
     ]
    }
   ],
   "source": [
    "# Check graph schema and other information.\n",
    "print(conn.gsql(\"ls\"))"
   ]
  },
  {
   "cell_type": "code",
   "execution_count": 6,
   "id": "21c77ec0-c6a8-474b-ac4e-526b562d7f59",
   "metadata": {},
   "outputs": [
    {
     "data": {
      "text/plain": [
       "{'Paper': 2708}"
      ]
     },
     "execution_count": 6,
     "metadata": {},
     "output_type": "execute_result"
    }
   ],
   "source": [
    "# Number of vertices for every vertex type\n",
    "conn.getVertexCount('*')"
   ]
  },
  {
   "cell_type": "code",
   "execution_count": 7,
   "id": "0209af7a-f2e0-4e23-88e4-bd7573246bc9",
   "metadata": {},
   "outputs": [
    {
     "data": {
      "text/plain": [
       "2708"
      ]
     },
     "execution_count": 7,
     "metadata": {},
     "output_type": "execute_result"
    }
   ],
   "source": [
    "# Number of vertices of a specific type\n",
    "conn.getVertexCount(\"Paper\")"
   ]
  },
  {
   "cell_type": "code",
   "execution_count": 8,
   "id": "8299b1b2-49f4-4c2f-8054-b824eb77c42c",
   "metadata": {},
   "outputs": [
    {
     "data": {
      "text/plain": [
       "{'Cite': 10556}"
      ]
     },
     "execution_count": 8,
     "metadata": {},
     "output_type": "execute_result"
    }
   ],
   "source": [
    "# Number of edges for every type\n",
    "conn.getEdgeCount()"
   ]
  },
  {
   "cell_type": "code",
   "execution_count": 9,
   "id": "a197b0e5-0ed1-4158-9a54-270db3d72670",
   "metadata": {},
   "outputs": [
    {
     "data": {
      "text/plain": [
       "10556"
      ]
     },
     "execution_count": 9,
     "metadata": {},
     "output_type": "execute_result"
    }
   ],
   "source": [
    "# Number of edges of a specific type\n",
    "conn.getEdgeCount(\"Cite\")"
   ]
  },
  {
   "cell_type": "markdown",
   "id": "4d4e2dcf-8c6f-43e1-9f58-1040cd503b9b",
   "metadata": {},
   "source": [
    "## Feature Engineering\n",
    "\n",
    "The `featurizer` in pyTigerGraph includes quite a few graph algorithms for feature engineering tasks. This notebook demonstrates the use of a few key functions. For examples on each algorithm, please check out the algos directory. \n",
    "\n",
    "The key functions are:\n",
    "1. `listAlgorithm()`: If it gets the class of algorithms (e.g. Centrality) as an input, it will print the available algorithms for    the specified category; otherwise will print all available algorithms. \n",
    "2. `installAlgorithm()`: Gets tha name of the algorithmm as input and installs the algorithm if it is not already installed. \n",
    "3. `runAlgorithmm()`: Gets the algorithm name, schema type (e.g. vertex/edge, by default it is vertex), attribute name (if the result needs to be stored as an attribute in the database), and a list of schema type names (list of vertices/edges that the attribute needs to be saved in, by default it is for all vertices/edges).  "
   ]
  },
  {
   "cell_type": "code",
   "execution_count": 10,
   "id": "8fef49ee-d207-4d80-ac77-e93c111cf067",
   "metadata": {},
   "outputs": [],
   "source": [
    "f = conn.gds.featurizer()"
   ]
  },
  {
   "cell_type": "code",
   "execution_count": 11,
   "id": "8dc84a85-1d89-42c3-8362-129d48fe9d7b",
   "metadata": {},
   "outputs": [
    {
     "name": "stdout",
     "output_type": "stream",
     "text": [
      "Available algorithms per category:\n",
      "- Centrality: 10 algorithms\n",
      "- Classification: 3 algorithms\n",
      "- Community: 6 algorithms\n",
      "- Embeddings: 1 algorithms\n",
      "- Path: 3 algorithms\n",
      "- Topological Link Prediction: 6 algorithms\n",
      "- Similarity: 3 algorithms\n",
      "Call listAlgorithms() with the category name to see the list of algorithms\n"
     ]
    }
   ],
   "source": [
    "f.listAlgorithms()"
   ]
  },
  {
   "cell_type": "code",
   "execution_count": 12,
   "id": "f4575f02",
   "metadata": {},
   "outputs": [
    {
     "name": "stdout",
     "output_type": "stream",
     "text": [
      "Available algorithms for Centrality:\n",
      "  pagerank:\n",
      "    weighted:\n",
      "      01. name: tg_pagerank_wt\n",
      "    unweighted:\n",
      "      02. name: tg_pagerank\n",
      "  article_rank:\n",
      "    03. name: tg_article_rank\n",
      "  betweenness:\n",
      "    04. name: tg_betweenness_cent\n",
      "  closeness:\n",
      "    approximate:\n",
      "      05. name: tg_closeness_cent_approx\n",
      "    exact:\n",
      "      06. name: tg_closeness_cent\n",
      "  degree:\n",
      "    unweighted:\n",
      "      07. name: tg_degree_cent\n",
      "    weighted:\n",
      "      08. name: tg_weighted_degree_cent\n",
      "  eigenvector:\n",
      "    09. name: tg_eigenvector_cent\n",
      "  harmonic:\n",
      "    10. name: tg_harmonic_cent\n",
      "Call runAlgorithm() with the algorithm name to execute it\n"
     ]
    }
   ],
   "source": [
    "f.listAlgorithms(\"Centrality\")"
   ]
  },
  {
   "cell_type": "markdown",
   "id": "fbf9b776-8f90-4a98-92b4-9220333ba819",
   "metadata": {},
   "source": [
    "### Built-in graph algorithms\n",
    "\n",
    "Below we will show how to run the built-in PageRank algorithm. See this [doc](https://docs.tigergraph.com/graph-ml/current/centrality-algorithms/pagerank) for a quick introduction to the algorithm."
   ]
  },
  {
   "cell_type": "code",
   "execution_count": 13,
   "id": "ba833564-b0e5-4782-a941-2a02f475f0b8",
   "metadata": {},
   "outputs": [
    {
     "name": "stdout",
     "output_type": "stream",
     "text": [
      "Installing and optimizing the queries, it might take a minute...\n",
      "Queries installed successfully\n"
     ]
    },
    {
     "data": {
      "text/plain": [
       "[{'@@top_scores_heap': [{'Vertex_ID': '1358', 'score': 33.06401},\n",
       "   {'Vertex_ID': '1701', 'score': 16.8922},\n",
       "   {'Vertex_ID': '1986', 'score': 14.46646},\n",
       "   {'Vertex_ID': '306', 'score': 13.72521},\n",
       "   {'Vertex_ID': '1810', 'score': 9.81972},\n",
       "   {'Vertex_ID': '2034', 'score': 8.61616},\n",
       "   {'Vertex_ID': '1623', 'score': 7.57608},\n",
       "   {'Vertex_ID': '88', 'score': 7.24722},\n",
       "   {'Vertex_ID': '598', 'score': 7.13392},\n",
       "   {'Vertex_ID': '1013', 'score': 6.85707}]}]"
      ]
     },
     "execution_count": 13,
     "metadata": {},
     "output_type": "execute_result"
    }
   ],
   "source": [
    "# Run the algorithm with paramters\n",
    "params = {\n",
    "    'v_type': 'Paper', \n",
    "    'e_type': 'Cite', \n",
    "    'max_change': 0.001, \n",
    "    'max_iter': 25, \n",
    "    'damping': 0.85,\n",
    "    'top_k': 10, \n",
    "    'print_accum': True, \n",
    "    'result_attr': '', \n",
    "    'file_path': '', \n",
    "    'display_edges': False}\n",
    "\n",
    "f.runAlgorithm(\n",
    "    'tg_pagerank', \n",
    "    params=params,\n",
    "    timeout=2147480, \n",
    "    sizeLimit=2000000\n",
    ")"
   ]
  },
  {
   "cell_type": "markdown",
   "id": "96972672",
   "metadata": {},
   "source": [
    "### User Defined Algorithm\n",
    "\n",
    "The featurizer can also be used to install and run user defined queries. The query needs to be save in a local file. Below is a toy example of running a user defined query."
   ]
  },
  {
   "cell_type": "code",
   "execution_count": 14,
   "id": "f5646bd7",
   "metadata": {},
   "outputs": [],
   "source": [
    "user_defined_query1 = \\\n",
    "'''CREATE QUERY user_defined_query1() FOR GRAPH Cora { \n",
    "  PRINT \"user_defined_query1 works!\"; \n",
    "}'''\n",
    "\n",
    "with open(\"./user_defined_query1.gsql\", \"w\") as outfile:\n",
    "    outfile.write(user_defined_query1)"
   ]
  },
  {
   "cell_type": "code",
   "execution_count": 15,
   "id": "6174919c",
   "metadata": {},
   "outputs": [
    {
     "name": "stdout",
     "output_type": "stream",
     "text": [
      "Installing and optimizing the queries, it might take a minute...\n",
      "Queries installed successfully\n"
     ]
    },
    {
     "data": {
      "text/plain": [
       "'user_defined_query1'"
      ]
     },
     "execution_count": 15,
     "metadata": {},
     "output_type": "execute_result"
    }
   ],
   "source": [
    "f.installAlgorithm(query_name=\"user_defined_query1\", \n",
    "    query_path=\"./user_defined_query1.gsql\" )"
   ]
  },
  {
   "cell_type": "code",
   "execution_count": 16,
   "id": "5cbc62fc",
   "metadata": {},
   "outputs": [
    {
     "data": {
      "text/plain": [
       "[{'\"user_defined_query1 works!\"': 'user_defined_query1 works!'}]"
      ]
     },
     "execution_count": 16,
     "metadata": {},
     "output_type": "execute_result"
    }
   ],
   "source": [
    "f.runAlgorithm(query_name=\"user_defined_query1\", custom_query=True)"
   ]
  },
  {
   "cell_type": "markdown",
   "id": "0eb4c8a6-76d4-43ec-9af0-08496ba9cc04",
   "metadata": {},
   "source": [
    "## Data Split"
   ]
  },
  {
   "cell_type": "markdown",
   "id": "44d74ad3",
   "metadata": {},
   "source": [
    "For machine learning tasks, it is common to partition the data into train/validation/test subsets. `pyTigerGraph` provides the function to split either vertices or edges randomly."
   ]
  },
  {
   "cell_type": "markdown",
   "id": "fc4f15d1",
   "metadata": {},
   "source": [
    "### Random Vertex Split"
   ]
  },
  {
   "cell_type": "markdown",
   "id": "475aa363",
   "metadata": {},
   "source": [
    "The `VertexSplitter` split vertices into at most 3 parts randomly. The split results are stored in the provided vertex boolean attributes. Each attribute indicates which part a vertex belongs to. For example, if you want to split the vertices into 80% train, 10% validation and 10% test, you can provide as arguments to the splitter `train_mask=0.8, val_mask=0.1, test_mask=0.1`. The 3 attributes `train_mask`, `val_mask`, `test_mask` have to exist in the graph. 80% of vertices will be set to `train_mask=True`, 10% to `val_mask=True`, and 10% to `test_mask=True` at random. There will be no overlap between the parts."
   ]
  },
  {
   "cell_type": "code",
   "execution_count": 17,
   "id": "52b1bf06",
   "metadata": {},
   "outputs": [
    {
     "name": "stdout",
     "output_type": "stream",
     "text": [
      "Installing and optimizing queries. It might take a minute if this is the first time you use this loader.\n",
      "Query installation finished.\n"
     ]
    }
   ],
   "source": [
    "# Initialize the splitter\n",
    "split = conn.gds.vertexSplitter(train_mask=0.8, val_mask=0.1, test_mask=0.1)"
   ]
  },
  {
   "cell_type": "code",
   "execution_count": 18,
   "id": "ce06a6ee",
   "metadata": {},
   "outputs": [
    {
     "name": "stdout",
     "output_type": "stream",
     "text": [
      "Splitting vertices...\n",
      "Vertex split finished successfully.\n"
     ]
    }
   ],
   "source": [
    "# Execute a split\n",
    "split.run()"
   ]
  },
  {
   "cell_type": "markdown",
   "id": "80a65b40",
   "metadata": {},
   "source": [
    "Now the split is done. Load all vertices and check if the split is correct. "
   ]
  },
  {
   "cell_type": "code",
   "execution_count": 19,
   "id": "79221227",
   "metadata": {},
   "outputs": [],
   "source": [
    "vertices = conn.getVertexDataFrame(\"Paper\", select=\"train_mask,val_mask,test_mask\")"
   ]
  },
  {
   "cell_type": "code",
   "execution_count": 20,
   "id": "0c797df5",
   "metadata": {},
   "outputs": [
    {
     "name": "stdout",
     "output_type": "stream",
     "text": [
      "Fraction of vertices with train_mask=True: 0.8068685376661743\n",
      "Fraction of vertices with val_mask=True: 0.09748892171344166\n",
      "Fraction of vertices with test_mask=True: 0.09564254062038405\n"
     ]
    }
   ],
   "source": [
    "for attr in [\"train_mask\", \"val_mask\", \"test_mask\"]:\n",
    "    print(\"Fraction of vertices with {}=True: {}\".format(\n",
    "        attr, vertices[attr].sum()/len(vertices)))"
   ]
  },
  {
   "cell_type": "markdown",
   "id": "d7e0f28a",
   "metadata": {},
   "source": [
    "It is also possible to split vertices of certain types, which is useful for heterogeneous graphs. Despite that Cora is a homogeneous graph, the example below shows how to specify vertex types in general."
   ]
  },
  {
   "cell_type": "code",
   "execution_count": 21,
   "id": "f259c427",
   "metadata": {},
   "outputs": [
    {
     "name": "stdout",
     "output_type": "stream",
     "text": [
      "Splitting vertices...\n",
      "Vertex split finished successfully.\n"
     ]
    }
   ],
   "source": [
    "# v_types takes a list of vertex types\n",
    "split = conn.gds.vertexSplitter(\n",
    "    v_types=[\"Paper\"], \n",
    "    train_mask=0.8, val_mask=0.1, test_mask=0.1\n",
    ")\n",
    "split.run()"
   ]
  },
  {
   "cell_type": "markdown",
   "id": "30d1a8b6",
   "metadata": {},
   "source": [
    "### Random Edge Split"
   ]
  },
  {
   "cell_type": "markdown",
   "id": "ad6cd674",
   "metadata": {},
   "source": [
    "The `EdgeSplitter` split edges into at most 3 parts randomly. The split results are stored in the provided edge boolean attributes. Each attribute indicates which part an edge belongs to. For example, if you want to split the edges into 80% train and 20% validation, you can provide as arguments to the splitter `is_train=0.8, is_val=0.2`. The 2 attributes `is_train`, `is_val` have to exist in the graph. 80% of edges will be set to `is_train=True`, 20% to `is_val=True` at random. There will be no overlap between the parts."
   ]
  },
  {
   "cell_type": "code",
   "execution_count": 22,
   "id": "9cf4e171",
   "metadata": {},
   "outputs": [
    {
     "name": "stdout",
     "output_type": "stream",
     "text": [
      "Installing and optimizing queries. It might take a minute if this is the first time you use this loader.\n",
      "Query installation finished.\n"
     ]
    }
   ],
   "source": [
    "# Initialize the splitter\n",
    "splitter = conn.gds.edgeSplitter(is_train=0.8, is_val=0.2)"
   ]
  },
  {
   "cell_type": "code",
   "execution_count": 23,
   "id": "f29d3761",
   "metadata": {},
   "outputs": [
    {
     "name": "stdout",
     "output_type": "stream",
     "text": [
      "Splitting edges...\n",
      "Edge split finished successfully.\n"
     ]
    }
   ],
   "source": [
    "# Execute the split\n",
    "splitter.run()"
   ]
  },
  {
   "cell_type": "markdown",
   "id": "3c9ac87d",
   "metadata": {},
   "source": [
    "Now the split is done. Load all edges and check if the split is correct."
   ]
  },
  {
   "cell_type": "code",
   "execution_count": 24,
   "id": "c4084c20",
   "metadata": {},
   "outputs": [],
   "source": [
    "edges = conn.getEdgesByType(\"Cite\", fmt=\"df\")"
   ]
  },
  {
   "cell_type": "code",
   "execution_count": 25,
   "id": "069ddfce",
   "metadata": {},
   "outputs": [
    {
     "name": "stdout",
     "output_type": "stream",
     "text": [
      "Fraction of edges with is_train=True: 0.8014399393709739\n",
      "Fraction of edges with is_val=True: 0.19856006062902615\n"
     ]
    }
   ],
   "source": [
    "for attr in [\"is_train\", \"is_val\"]:\n",
    "    print(\"Fraction of edges with {}=True: {}\".format(\n",
    "        attr, edges[attr].sum()/len(edges)))"
   ]
  },
  {
   "cell_type": "markdown",
   "id": "4e55a7d7",
   "metadata": {},
   "source": [
    "It is also possible to split edges of certain types, which is useful for heterogeneous graphs. Despite that Cora is a homogeneous graph, the example below shows how to specify edge types in general."
   ]
  },
  {
   "cell_type": "code",
   "execution_count": 26,
   "id": "085ad294",
   "metadata": {},
   "outputs": [
    {
     "name": "stdout",
     "output_type": "stream",
     "text": [
      "Splitting edges...\n",
      "Edge split finished successfully.\n"
     ]
    }
   ],
   "source": [
    "# v_types takes a list of edge types\n",
    "split = conn.gds.edgeSplitter(\n",
    "    e_types=[\"Cite\"], \n",
    "    is_train=0.8, is_val=0.2\n",
    ")\n",
    "split.run()"
   ]
  },
  {
   "cell_type": "code",
   "execution_count": null,
   "id": "7e64fb1c-2e3b-4895-9fce-333adaa0d7a3",
   "metadata": {},
   "outputs": [],
   "source": []
  }
 ],
 "metadata": {
  "kernelspec": {
   "display_name": "PyTorch",
   "language": "python",
   "name": "python3"
  },
  "language_info": {
   "codemirror_mode": {
    "name": "ipython",
    "version": 3
   },
   "file_extension": ".py",
   "mimetype": "text/x-python",
   "name": "python",
   "nbconvert_exporter": "python",
   "pygments_lexer": "ipython3",
   "version": "3.9.13"
  },
  "vscode": {
   "interpreter": {
    "hash": "96daeecb52bbbb8e3aef04d2f9c6a1e01f271d07cea30059f3c558ef00b717d2"
   }
  }
 },
 "nbformat": 4,
 "nbformat_minor": 5
}
