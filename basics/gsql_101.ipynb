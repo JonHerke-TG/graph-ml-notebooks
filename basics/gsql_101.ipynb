{
 "cells": [
  {
   "cell_type": "markdown",
   "id": "ccd9fdec-56a3-4abd-b271-c43cb3ae7f4d",
   "metadata": {
    "tags": []
   },
   "source": [
    "# GSQL 101\n",
    "\n",
    "In this tutorial, we will introduce core concepts in creating and querying graph databases using GSQL with pyTigerGraph. We will show you how to create a graph schema, load data, write simple parameterized queries, and run your queries. Further GSQL 101 documentation can be found here (https://docs.tigergraph.com/gsql-ref/current/tutorials/gsql-101/)."
   ]
  },
  {
   "cell_type": "markdown",
   "id": "a77adec0-9733-45d8-9d5b-2a21a16cf1f5",
   "metadata": {},
   "source": [
    "## Data set\n",
    "\n",
    "For this tutorial, we will create and query the simple friendship social graph shown in the previous section. The data for this graph consists of two files in csv (comma-separated values) format.\n",
    "\n",
    "To follow along with this tutorial, please save these two files, person.csv and friendship.csv, to your local disk."
   ]
  },
  {
   "cell_type": "markdown",
   "id": "4fdee1fc-6df0-42ce-9507-750372bfdf7d",
   "metadata": {},
   "source": [
    "person.csv\n",
    "\n",
    "name,gender,age,state<br>\n",
    "Tom,male,40,ca<br>\n",
    "Dan,male,34,ny<br>\n",
    "Jenny,female,25,tx<br>\n",
    "Kevin,male,28,az<br>\n",
    "Amily,female,22,ca<br>\n",
    "Nancy,female,20,ky<br>\n",
    "Jack,male,26,fl\n",
    "\n",
    "friendship.csv\n",
    "\n",
    "person1,person2,date<br>\n",
    "Tom,Dan,2017-06-03<br>\n",
    "Tom,Jenny,2015-01-01<br>\n",
    "Dan,Jenny,2016-08-03<br>\n",
    "Jenny,Amily,2015-06-08<br>\n",
    "Dan,Nancy,2016-01-03<br>\n",
    "Nancy,Jack,2017-03-02<br>\n",
    "Dan,Kevin,2015-12-30"
   ]
  },
  {
   "cell_type": "markdown",
   "id": "8be35da0-834d-4d15-9f3e-f78c8dfcc617",
   "metadata": {},
   "source": [
    "## Connecting to the Database with pyTigerGraph"
   ]
  },
  {
   "cell_type": "code",
   "execution_count": 1,
   "id": "617a6bf0-f295-4037-b913-c1610ee9d499",
   "metadata": {},
   "outputs": [],
   "source": [
    "import json\n",
    "import pyTigerGraph as tg\n",
    "\n",
    "from pyTigerGraph import TigerGraphConnection\n",
    "\n",
    "# Read in DB configs\n",
    "with open('../config.json', \"r\") as config_file:\n",
    "    config = json.load(config_file)\n",
    "    \n",
    "conn = TigerGraphConnection(\n",
    "    host=config[\"host\"],\n",
    "    username=config[\"username\"],\n",
    "    password=config[\"password\"]\n",
    ")"
   ]
  },
  {
   "cell_type": "markdown",
   "id": "c0acfa53-f872-4ef5-867f-e824a82115fc",
   "metadata": {},
   "source": [
    "### Create a graph\n",
    "\n",
    "Next, use the CREATE GRAPH command to create a graph named Social."
   ]
  },
  {
   "cell_type": "code",
   "execution_count": 2,
   "id": "b7c74a10-0dc4-40b7-bb13-b399389fdb7f",
   "metadata": {},
   "outputs": [
    {
     "name": "stdout",
     "output_type": "stream",
     "text": [
      "Semantic Check Fails: The graph name conflicts with another type or existing graph names! Please use a different name.\n",
      "The graph Social_101 could not be created!\n"
     ]
    }
   ],
   "source": [
    "results = conn.gsql(\n",
    "'''\n",
    "CREATE GRAPH Social_101 ()\n",
    "'''\n",
    ")\n",
    "\n",
    "print(results)"
   ]
  },
  {
   "cell_type": "markdown",
   "id": "c36a800c-03ca-47af-819f-c4225e6b5c1b",
   "metadata": {},
   "source": [
    "### Connect to graph"
   ]
  },
  {
   "cell_type": "code",
   "execution_count": 3,
   "id": "925823c8-1822-40fc-abf1-6b11d1dbd290",
   "metadata": {},
   "outputs": [],
   "source": [
    "conn.graphname=\"Social_101\"\n",
    "\n",
    "if config[\"getToken\"]: \n",
    "    conn.getToken(conn.createSecret())"
   ]
  },
  {
   "cell_type": "markdown",
   "id": "6e243269-1933-49f7-b1e0-6f360e267a1b",
   "metadata": {},
   "source": [
    "## Define a Schema for graph Social_101\n",
    "\n",
    "This section of the tutorial uses a simple example to walk you through the steps to define a schema in GSQL with pyTigerGraph.\n",
    "\n",
    "### Create a vertex type\n",
    "\n",
    "Use CREATE VERTEX to define a vertex type named Person. Here, PRIMARY_ID is required: each person must have a unique identifier. The rest is the optional list of attr ibutes which characterize each person vertex, in the format attribute_name data_type, attribute_name data_type, …​\n",
    "\n",
    "### Create an edge type\n",
    "\n",
    "Next, use the CREATE …​ EDGE command to create an edge type named Friendship. The keyword UNDIRECTED indicates this edge is a bidirectional edge, meaning that information can flow starting from either vertex. If you’d rather have a unidirectional connection where information flows only from the FROM vertex, use the DIRECTED keyword in place of UNDIRECTED. Here, FROM and TO are required to specify which two vertex types the edge type connects. An individual edge is specified by giving the primary_ids of its source (FROM) vertex and target (TO) vertex. These are followed by an optional list of attributes, just as in the vertex definition."
   ]
  },
  {
   "cell_type": "code",
   "execution_count": 4,
   "id": "7308e4d8-2465-4b34-9fd0-1d78f759bad9",
   "metadata": {},
   "outputs": [
    {
     "name": "stdout",
     "output_type": "stream",
     "text": [
      "Using graph 'Social_101'\n",
      "Semantic Check Fails: The vertex name Person is used by another object! Please use a different name.\n",
      "Failed to create schema change jobs: [social_101_schema].\n"
     ]
    }
   ],
   "source": [
    "results = conn.gsql(\n",
    "    ''' \n",
    "    USE GRAPH Social_101\n",
    "    \n",
    "    # Create vertex and edge type \n",
    "    CREATE SCHEMA_CHANGE JOB social_101_schema FOR GRAPH Social_101 {\n",
    "        ADD VERTEX Person (PRIMARY_ID name STRING, name STRING, age INT, gender STRING, state STRING);\n",
    "        ADD UNDIRECTED EDGE Friendship (FROM Person, TO Person, connect_day DATETIME);\n",
    "    }\n",
    "    \n",
    "    RUN SCHEMA_CHANGE JOB social_101_schema\n",
    "    '''\n",
    ")\n",
    "\n",
    "print (results)"
   ]
  },
  {
   "cell_type": "markdown",
   "id": "ec68c916-9d73-4f1d-9017-2e1976aa7e8d",
   "metadata": {},
   "source": [
    "At this point, we have created a Person vertex type, a Friendship edge type, and a Social_101 graph that includes them.\n",
    "\n",
    "You’ve now built your first graph schema!"
   ]
  },
  {
   "cell_type": "markdown",
   "id": "66e12198-25cb-4b83-9d8e-21240c2c1665",
   "metadata": {},
   "source": [
    "## Load Data for graph Social_101\n",
    "\n",
    "After creating a graph schema, the next step is to load data into it. The task here is to instruct the GSQL loader how to associate (\"map\") the fields in a set of data files to the attributes in your vertex types and edge types of the graph schema we just defined.\n",
    "\n",
    "You should have the two data files person.csv and friendship.csv on your local disk. It’s not necessary that they are in the same folder with you."
   ]
  },
  {
   "cell_type": "markdown",
   "id": "4e690814-33fb-448f-ab0e-de563b09aeaa",
   "metadata": {},
   "source": [
    "### Define a loading job"
   ]
  },
  {
   "cell_type": "code",
   "execution_count": 5,
   "id": "5683ff6b-0c35-40b5-a540-38c1ae6ad52f",
   "metadata": {},
   "outputs": [
    {
     "name": "stdout",
     "output_type": "stream",
     "text": [
      "Using graph 'Social_101'\n",
      "Semantic Check Fails: The job name load_social_101 already exists in other objects!\n",
      "Failed to create loading jobs: [load_social_101].\n"
     ]
    }
   ],
   "source": [
    "results = conn.gsql(\n",
    "    '''\n",
    "    USE GRAPH Social_101\n",
    "\n",
    "    CREATE LOADING JOB load_social_101 FOR GRAPH Social_101 {\n",
    "        DEFINE FILENAME person_file;\n",
    "        DEFINE FILENAME friendship_file;\n",
    "        \n",
    "        LOAD person_file\n",
    "            TO VERTEX Person VALUES ($0, $0, $2, $1, $3)\n",
    "            USING Header=\"true\",  separator=\",\";\n",
    "            \n",
    "        LOAD friendship_file\n",
    "            TO EDGE Friendship VALUES ($0, $1, $2)\n",
    "            USING Header=\"true\", separator=\",\";\n",
    "    }\n",
    "    '''\n",
    ")\n",
    "\n",
    "print (results)"
   ]
  },
  {
   "cell_type": "markdown",
   "id": "6aaf348e-0683-427d-a192-2e67aa8d4714",
   "metadata": {},
   "source": [
    "### Run a loading job\n",
    "\n",
    "You can now run your loading job to load data into your graph using runLoadingJobWithFile(filePath: str, fileTag: str, jobName: str, sep: str = None) \n",
    "\n",
    "* filePath: File variable name or file path for the file containing the data.\n",
    "* fileTag: The name of file variable in the loading job (DEFINE FILENAME <fileTag>).\n",
    "* jobName: The name of the loading job.\n",
    "* sep: Data value separator. If your data is JSON, you do not need to specify this parameter. The default separator is a comma ,.\n",
    "    \n",
    "note: change the file path to your local path"
   ]
  },
  {
   "cell_type": "code",
   "execution_count": 6,
   "id": "46ca324c-5f1f-400d-b3f4-9b573a5130a9",
   "metadata": {},
   "outputs": [
    {
     "name": "stdout",
     "output_type": "stream",
     "text": [
      "[{'sourceFileName': 'Online_POST', 'statistics': {'validLine': 8, 'rejectLine': 0, 'failedConditionLine': 0, 'notEnoughToken': 0, 'invalidJson': 0, 'oversizeToken': 0, 'vertex': [{'typeName': 'Person', 'validObject': 7, 'noIdFound': 0, 'invalidAttribute': 1, 'invalidAttributeLines': ['1:age'], 'invalidAttributeLinesData': ['name,gender,age,state\\n'], 'invalidVertexType': 0, 'invalidPrimaryId': 0, 'invalidSecondaryId': 0, 'incorrectFixedBinaryLength': 0}], 'edge': [], 'deleteVertex': [], 'deleteEdge': []}}]\n",
      "[{'sourceFileName': 'Online_POST', 'statistics': {'validLine': 8, 'rejectLine': 0, 'failedConditionLine': 0, 'notEnoughToken': 0, 'invalidJson': 0, 'oversizeToken': 0, 'vertex': [], 'edge': [{'typeName': 'Friendship', 'validObject': 7, 'noIdFound': 0, 'invalidAttribute': 1, 'invalidAttributeLines': ['1:connect_day'], 'invalidAttributeLinesData': ['person1,person2,date\\n'], 'invalidVertexType': 0, 'invalidPrimaryId': 0, 'invalidSecondaryId': 0, 'incorrectFixedBinaryLength': 0}], 'deleteVertex': [], 'deleteEdge': []}}]\n"
     ]
    }
   ],
   "source": [
    "uploadPersonFile = conn.runLoadingJobWithFile(\"person.csv\", \"person_file\", \"load_social_101\", \",\")\n",
    "print (uploadPersonFile)\n",
    "\n",
    "uploadFriendshipFile = conn.runLoadingJobWithFile(\"friendship.csv\", \"friendship_file\", \"load_social_101\", \",\")\n",
    "print (uploadFriendshipFile)"
   ]
  },
  {
   "cell_type": "markdown",
   "id": "fd1d95b4-38e1-4464-a26d-18de30579e90",
   "metadata": {},
   "source": [
    "### Get vertex/edge statistics"
   ]
  },
  {
   "cell_type": "code",
   "execution_count": 7,
   "id": "4b27a978-22c3-40a4-aaf0-9af2e4e04e12",
   "metadata": {},
   "outputs": [
    {
     "name": "stdout",
     "output_type": "stream",
     "text": [
      "Node count: (Person : 7) \n",
      "Total node count:  7\n"
     ]
    }
   ],
   "source": [
    "vertices = conn.getVertexTypes()\n",
    "total_count = 0\n",
    "for vertex in vertices:\n",
    "    vertex_cnt = conn.getVertexCount(vertex)\n",
    "    total_count += vertex_cnt\n",
    "    print(\"Node count: ({} : {}) \".format(vertex, vertex_cnt))\n",
    "print(\"Total node count: \", total_count)"
   ]
  },
  {
   "cell_type": "code",
   "execution_count": 8,
   "id": "c7f7561f-4d48-459c-9870-d90c4ddad953",
   "metadata": {},
   "outputs": [
    {
     "name": "stdout",
     "output_type": "stream",
     "text": [
      "Edges count: total  7\n",
      "{'Friendship': 7}\n"
     ]
    }
   ],
   "source": [
    "import pprint\n",
    "edge_count = conn.getEdgeCount()\n",
    "print(\"Edges count: total \", sum(edge_count.values()))\n",
    "pprint.pprint(edge_count) "
   ]
  },
  {
   "cell_type": "markdown",
   "id": "7124602a-1fc0-41a3-b100-3449f7c6f95b",
   "metadata": {},
   "source": [
    "### Select vertices\n",
    "\n",
    "If you want to look up the details about a vertex with its primary ID, you can use the following REST call.\n",
    "Example. Find a Person vertex whose primary_id is \"Tom\"."
   ]
  },
  {
   "cell_type": "code",
   "execution_count": 9,
   "id": "8bd1dc70-109f-4c24-afb0-55df78003783",
   "metadata": {},
   "outputs": [
    {
     "name": "stdout",
     "output_type": "stream",
     "text": [
      "  v_id  v_type attributes.name  attributes.age attributes.gender  \\\n",
      "0  Tom  Person             Tom              40              male   \n",
      "\n",
      "  attributes.state  \n",
      "0               ca  \n"
     ]
    }
   ],
   "source": [
    "import pandas as pd\n",
    "\n",
    "dan = conn.getVerticesById(\"Person\", \"Tom\")\n",
    "\n",
    "print (pd.json_normalize(dan))"
   ]
  },
  {
   "cell_type": "markdown",
   "id": "8f1c0c31-a89f-469d-90dc-c4179ebdca10",
   "metadata": {},
   "source": [
    "### Select edges\n",
    "\n",
    "In similar fashion, we can see details about edges. To describe an edge, you name the types of vertices and edges in the two parts or three parts of a URL. Example. Find all friendship edges whose source vertex’s primary_id is \"Tom\"."
   ]
  },
  {
   "cell_type": "code",
   "execution_count": 10,
   "id": "96a07019-69b5-4138-a325-928197ef08f6",
   "metadata": {},
   "outputs": [
    {
     "name": "stdout",
     "output_type": "stream",
     "text": [
      "       e_type  directed from_id from_type  to_id to_type  \\\n",
      "0  Friendship     False     Tom    Person    Dan  Person   \n",
      "1  Friendship     False     Tom    Person  Jenny  Person   \n",
      "\n",
      "  attributes.connect_day  \n",
      "0    2017-06-03 00:00:00  \n",
      "1    2015-01-01 00:00:00  \n"
     ]
    }
   ],
   "source": [
    "friendship = conn.getEdges(\"Person\", \"Tom\", \"Friendship\")\n",
    "\n",
    "print (pd.json_normalize(friendship))"
   ]
  },
  {
   "cell_type": "markdown",
   "id": "4731795e-55fd-46c5-aa09-259681836d8f",
   "metadata": {},
   "source": [
    "## Develop Parameterized Queries\n",
    "\n",
    "We just saw how easy and quick it is to run simple built-in queries. However, you’ll undoubtedly want to create more customized or complex queries. GSQL puts maximum power in your hands through parameterized vertex set queries.\n",
    "\n",
    "Parameterized queries let you traverse the graph from one vertex set to an adjacent set of vertices, again and again, performing computations along the way, with built-in parallel execution and handy aggregation operations. You can even have one query call another query. But we’ll start simple.\n",
    "\n",
    "A GSQL parameterized query has three steps.\n",
    "\n",
    "* Define your query in GSQL. This query will be added to the GSQL catalog.\n",
    "\n",
    "* Install one or more queries in the catalog, generating a REST endpoint for each query.\n",
    "\n",
    "* Run an installed query, supplying appropriate parameters, either as a GSQL command or by sending an HTTP request to the REST endpoint."
   ]
  },
  {
   "cell_type": "markdown",
   "id": "d16afe76-a039-4cda-ba50-4d8c8c06a660",
   "metadata": {},
   "source": [
    "### A simple 1-hop query\n",
    "\n",
    "Now, let’s write our first GSQL query. We’ll display all the direct (1-hop) neighbors of a person, given as an input parameter."
   ]
  },
  {
   "cell_type": "code",
   "execution_count": 11,
   "id": "c293c5ec-c234-4228-9430-dea6fff7c7fd",
   "metadata": {},
   "outputs": [],
   "source": [
    "query = '''\n",
    "    USE GRAPH Social_101\n",
    "    \n",
    "    CREATE QUERY hello (VERTEX<Person> p) {\n",
    "        start = {p};\n",
    "        result = SELECT tgt\n",
    "                 FROM start:s -(Friendship:e)- Person:tgt;\n",
    "                 \n",
    "    PRINT result;\n",
    "    }\n",
    "'''"
   ]
  },
  {
   "cell_type": "markdown",
   "id": "70cdf060-4ded-479f-b2dd-44d0e9c54681",
   "metadata": {},
   "source": [
    "This query features one SELECT statement. The query starts by seeding a vertex set start with the person vertex identified by parameter p passed in from the query call. The curly braces tell GSQL to construct a set containing the enclosed items.\n",
    "\n",
    "Next, the SELECT statement describes a 1-hop traversal according to the pattern described in the FROM clause:\n",
    "\n",
    "start:s -(Friendship:e)- Person:tgt\n",
    "\n",
    "The pattern means we select all edges beginning from the given source set (start), which have the given undirected edge type (Friendship) and which end at the given vertex type (Person). The FROM clause defines vertex and edge set aliases using :<alias>:\n",
    "\n",
    "* s is the alias for the source vertex,\n",
    "\n",
    "* e is the edge alias\n",
    "\n",
    "* tgt is the target vertex alias.\n",
    "\n",
    "Refer back to the initial clause and the assignment (result = SELECT tgt). Here we see the target set’s alias tgt. This means that the SELECT statement returns the target vertex set (as filtered and processed by the full set of clauses in the SELECT query block) and assign that output set to the variable called result.\n",
    "\n",
    "Last, we print out the result vertex set"
   ]
  },
  {
   "cell_type": "markdown",
   "id": "e9b1de7a-f8ca-47ae-a6e8-39e2289e1c10",
   "metadata": {},
   "source": [
    "### Create a query\n",
    "\n",
    "Rather than defining our query in interactive mode, we can store the query in a file and invoke the file from within the GSQL shell, using the @filename syntax. Copy and paste the above query into a file /home/tigergraph/hello.gsql. Then, enter the GSQL shell and invoke the file using @hello.qsql."
   ]
  },
  {
   "cell_type": "code",
   "execution_count": 12,
   "id": "c62cdab6-ceae-4715-a12e-33e1da1f797f",
   "metadata": {},
   "outputs": [
    {
     "name": "stdout",
     "output_type": "stream",
     "text": [
      "Using graph 'Social_101'\n",
      "Semantic Check Fails: The query name hello is used by another object! Please use a different name.\n",
      "Failed to create queries: [hello].\n"
     ]
    }
   ],
   "source": [
    "results = conn.gsql(query)\n",
    "\n",
    "print (results)"
   ]
  },
  {
   "cell_type": "markdown",
   "id": "ace2dfc5-5835-4c88-bdb9-44e8297850de",
   "metadata": {},
   "source": [
    "### Install a query\n",
    "\n",
    "However, the query is not installed yet. Let's install query \"hello\".\n",
    "\n",
    "It takes about 1 minute for the database to install this new query. Be patient! For queries on large datasets, this small investment pays off many times over in faster query execution, particularly if you will run the query many times, with different parameters. The installation will generate machine instructions and a REST endpoint. After the progress bar reaches 100%, we are ready to run this query."
   ]
  },
  {
   "cell_type": "code",
   "execution_count": 13,
   "id": "99c4c42d-e924-4479-b0bc-e0c1c4b4fb9f",
   "metadata": {},
   "outputs": [
    {
     "name": "stdout",
     "output_type": "stream",
     "text": [
      "Using graph 'Social_101'\n",
      "Semantic Check Fails: Graph Social_101: all queries in this catalog have been installed already.\n",
      "Query installation finished.\n"
     ]
    }
   ],
   "source": [
    "results = conn.gsql(\n",
    "'''\n",
    "USE GRAPH Social_101\n",
    "\n",
    "INSTALL QUERY hello\n",
    "'''\n",
    ")\n",
    "\n",
    "print(results)"
   ]
  },
  {
   "cell_type": "markdown",
   "id": "64bc3742-57ec-4f99-8a3c-292eea5bedec",
   "metadata": {},
   "source": [
    "### Run a query in GSQL\n",
    "\n",
    "To run a query in GSQL, use RUN QUERY followed by the query name and a set of parameter values.\n",
    "\n",
    "The result is presented in JSON format. Tom has two 1-hop neighbors, namely Dan and Jenny."
   ]
  },
  {
   "cell_type": "code",
   "execution_count": 14,
   "id": "057d3d3b-253e-4015-91dd-bd8141493841",
   "metadata": {},
   "outputs": [
    {
     "name": "stdout",
     "output_type": "stream",
     "text": [
      "{\n",
      " \"vertices\": {\n",
      "  \"Person\": {\n",
      "   \"Dan\": {\n",
      "    \"v_id\": \"Dan\",\n",
      "    \"v_type\": \"Person\",\n",
      "    \"attributes\": {\n",
      "     \"name\": \"Dan\",\n",
      "     \"age\": 34,\n",
      "     \"gender\": \"male\",\n",
      "     \"state\": \"ny\"\n",
      "    },\n",
      "    \"x_occurrences\": 1,\n",
      "    \"x_sources\": [\n",
      "     \"result\"\n",
      "    ]\n",
      "   },\n",
      "   \"Jenny\": {\n",
      "    \"v_id\": \"Jenny\",\n",
      "    \"v_type\": \"Person\",\n",
      "    \"attributes\": {\n",
      "     \"name\": \"Jenny\",\n",
      "     \"age\": 25,\n",
      "     \"gender\": \"female\",\n",
      "     \"state\": \"tx\"\n",
      "    },\n",
      "    \"x_occurrences\": 1,\n",
      "    \"x_sources\": [\n",
      "     \"result\"\n",
      "    ]\n",
      "   }\n",
      "  }\n",
      " },\n",
      " \"edges\": {}\n",
      "}\n"
     ]
    }
   ],
   "source": [
    "parameters = {\n",
    "    \"p\": \"Tom\"\n",
    "}\n",
    "\n",
    "results = conn.runInstalledQuery(\"hello\", params=parameters)\n",
    "parsed = conn.parseQueryOutput(results)\n",
    "print(json.dumps(parsed, indent=1))"
   ]
  },
  {
   "cell_type": "markdown",
   "id": "823bd398-18db-4bbf-85d9-dd2009db21fd",
   "metadata": {},
   "source": [
    "### Query with accumulators\n",
    "\n",
    "Now, let’s write a more advanced query. This time, we are going to learn to use the powerful built-in accumulators, which serve as the runtime attributes (properties) attachable to each vertex visited during our traversal on the graph.\n",
    "\n",
    "\"Runtime\" means they exist only while the query is running; they are called accumulators because they are specially designed to gather (accumulate) data during the implicitly parallel processing of the query.\n",
    "\n",
    "Say we need to write a query to find all the persons which are exactly 2 hops away from the parameterized input Person. Just for fun, let’s also compute the average age of those 2-hop neighbors.\n",
    "\n",
    "#### Method\n",
    "\n",
    "To get all Person vertices that are two hops away from the starting vertex, we can use the following logic:\n",
    "\n",
    "From the starting vertex, visit vertices that are one stop away from the starting vertex, and mark every vertex we visit as visited, including the starting vertex. This gives us the neighbors that are 1 hop away from the starting vertex.\n",
    "\n",
    "Now that we have the 1-hop neighbors, we can find vertices that are 1-hop away from those neighbors, excluding all vertices that we have already visited in the previous step. This gives us all vertices that are exactly two hops away from the original vertex. As we visit the 2-hop neighbors, we can also calculate their average age.\n",
    "\n",
    "#### Query\n",
    "\n",
    "We will use a SELECT statement to perform the first hop from the starting vertex. In order to keep track of vertices that have been visited, we declare a vertex-attached accumulator of the type OrAccum, also called a boolean accumulator. In addition, we also need to declare an AvgAccum to calculate the average age of the final vertex set.\n",
    "\n",
    "To declare a vertex-attached accumulator, prefix an identifier name with a single @ symbol. After you declare the accumulator, they are attached to vertices in the query, and you can access its value in an ACCUM or POST-ACCUM clause of the SELECT statement by using the dot. operator following a vertex alias as if they are an attribute of the vertices.\n",
    "\n",
    "After the first hop, we use another SELECT statement to perform a second hop, and filter out all vertices that we have visited previously. This gives us the neighbors that are exactly two hops away, and we can use the AvgAccum to calculate the average age of the 2-hop neighbors."
   ]
  },
  {
   "cell_type": "code",
   "execution_count": 15,
   "id": "69a92b0f-a6c6-4ba1-8efb-3109d0c59883",
   "metadata": {},
   "outputs": [],
   "source": [
    "query2 = '''\n",
    "USE GRAPH Social_101\n",
    "\n",
    "CREATE QUERY hello2 (VERTEX<Person> p) {\n",
    "    OrAccum  @visited = FALSE;\n",
    "    AvgAccum @@avg_age;\n",
    "    start = {p};\n",
    "\n",
    "    first_neighbors = SELECT tgt\n",
    "        FROM start:s -(Friendship:e)- Person:tgt\n",
    "        ACCUM tgt.@visited += TRUE, s.@visited += TRUE;  \n",
    "\n",
    "    second_neighbors = SELECT tgt \n",
    "        FROM first_neighbors -(:e)- :tgt \n",
    "        WHERE tgt.@visited == FALSE \n",
    "        POST-ACCUM @@avg_age += tgt.age; \n",
    "\n",
    "    PRINT second_neighbors;\n",
    "    PRINT @@avg_age;\n",
    "}\n",
    "\n",
    "INSTALL QUERY hello2\n",
    "'''"
   ]
  },
  {
   "cell_type": "markdown",
   "id": "c859bb50-1b7f-4f53-a1f6-8aac28176e1a",
   "metadata": {},
   "source": [
    "Note that a source vertex or target vertex may be visited multiple times in the first SELECT statement. Referring to Figure 1, if we start at vertex Tom, there are two edges incidental to Tom, so the ACCUM clause in the first SELECT statement will visit Tom twice. Since the accumulator type is OrAccum, the cumulative effect of the two traversals is the following:\n",
    "\n"
   ]
  },
  {
   "cell_type": "markdown",
   "id": "055ade7f-0489-4a91-ac5c-02bcbba59eb5",
   "metadata": {},
   "source": [
    "Tom.@visited = (initial value: false) OR (true) OR (true)"
   ]
  },
  {
   "cell_type": "markdown",
   "id": "bccd9653-3928-4fc0-b797-c6b4c8cc4fea",
   "metadata": {},
   "source": [
    "We can see it does not matter which of the two edges was processed first. The net effect is that as long as a vertex is visited at least once, it will end up with @visited = true.\n",
    "\n"
   ]
  },
  {
   "cell_type": "markdown",
   "id": "ebcc8b45-87e6-4c43-88f3-6333d5e0ed5c",
   "metadata": {},
   "source": [
    "#### Run query\n",
    "\n",
    "This time, we put all steps into one together"
   ]
  },
  {
   "cell_type": "code",
   "execution_count": 16,
   "id": "7fe164b4-392a-4758-b9a6-8004b8bd10a0",
   "metadata": {},
   "outputs": [
    {
     "name": "stdout",
     "output_type": "stream",
     "text": [
      "Using graph 'Social_101'\n",
      "Semantic Check Fails: The query name hello2 is used by another object! Please use a different name.\n",
      "Failed to create queries: [hello2].\n"
     ]
    }
   ],
   "source": [
    "parameters = {\n",
    "    \"p\": \"Tom\"\n",
    "}\n",
    "\n",
    "createAndInstall = conn.gsql(query2)\n",
    "print (createAndInstall)"
   ]
  },
  {
   "cell_type": "code",
   "execution_count": 17,
   "id": "98efc407-8dc6-4f46-9dbe-51baf84b80cc",
   "metadata": {},
   "outputs": [
    {
     "name": "stdout",
     "output_type": "stream",
     "text": [
      "{\n",
      " \"vertices\": {\n",
      "  \"Person\": {\n",
      "   \"Amily\": {\n",
      "    \"v_id\": \"Amily\",\n",
      "    \"v_type\": \"Person\",\n",
      "    \"attributes\": {\n",
      "     \"name\": \"Amily\",\n",
      "     \"age\": 22,\n",
      "     \"gender\": \"female\",\n",
      "     \"state\": \"ca\",\n",
      "     \"@visited\": false\n",
      "    },\n",
      "    \"x_occurrences\": 1,\n",
      "    \"x_sources\": [\n",
      "     \"second_neighbors\"\n",
      "    ]\n",
      "   },\n",
      "   \"Kevin\": {\n",
      "    \"v_id\": \"Kevin\",\n",
      "    \"v_type\": \"Person\",\n",
      "    \"attributes\": {\n",
      "     \"name\": \"Kevin\",\n",
      "     \"age\": 28,\n",
      "     \"gender\": \"male\",\n",
      "     \"state\": \"az\",\n",
      "     \"@visited\": false\n",
      "    },\n",
      "    \"x_occurrences\": 1,\n",
      "    \"x_sources\": [\n",
      "     \"second_neighbors\"\n",
      "    ]\n",
      "   },\n",
      "   \"Nancy\": {\n",
      "    \"v_id\": \"Nancy\",\n",
      "    \"v_type\": \"Person\",\n",
      "    \"attributes\": {\n",
      "     \"name\": \"Nancy\",\n",
      "     \"age\": 20,\n",
      "     \"gender\": \"female\",\n",
      "     \"state\": \"ky\",\n",
      "     \"@visited\": false\n",
      "    },\n",
      "    \"x_occurrences\": 1,\n",
      "    \"x_sources\": [\n",
      "     \"second_neighbors\"\n",
      "    ]\n",
      "   }\n",
      "  }\n",
      " },\n",
      " \"edges\": {}\n",
      "}\n"
     ]
    }
   ],
   "source": [
    "results = conn.runInstalledQuery(\"hello2\", params=parameters)\n",
    "parsed = conn.parseQueryOutput(results)\n",
    "print (json.dumps(parsed, indent=1))"
   ]
  },
  {
   "cell_type": "markdown",
   "id": "ffefe3c6-fc39-4413-9522-bb94ed2353e6",
   "metadata": {},
   "source": [
    "We can execute this full set of commands without entering the GSQL shell. Please copy and paste the above GSQL commands into a Linux file named /home/tigergraph/hello2.gsql.\n",
    "\n",
    "In a Linux shell, under /home/tigergraph, type the following to create, install, and execute the query:"
   ]
  },
  {
   "cell_type": "markdown",
   "id": "ee7fcddb-ffe6-4d0b-bfd4-f2bbde88440d",
   "metadata": {},
   "source": [
    "### GSQL query summary\n",
    "\n",
    "* Queries are installed in the catalog and can have one or more input parameters, enabling reuse of queries.\n",
    "* A GSQL query consists of a series of SELECT query blocks, each generating a named vertex set.\n",
    "* Each SELECT query block can start traversing the graph from any of the previously defined vertex sets (that is, the sequence does not have to form a linear chain).\n",
    "* Accumulators are runtime variables with built-in accumulation operations, for efficient multithreaded computation.\n",
    "* Query can call another query.\n",
    "* Output is in JSON format."
   ]
  }
 ],
 "metadata": {
  "kernelspec": {
   "display_name": "PyTorch",
   "language": "python",
   "name": "python3"
  },
  "language_info": {
   "codemirror_mode": {
    "name": "ipython",
    "version": 3
   },
   "file_extension": ".py",
   "mimetype": "text/x-python",
   "name": "python",
   "nbconvert_exporter": "python",
   "pygments_lexer": "ipython3",
   "version": "3.9.13"
  }
 },
 "nbformat": 4,
 "nbformat_minor": 5
}
