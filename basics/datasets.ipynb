{
 "cells": [
  {
   "cell_type": "markdown",
   "id": "300b2d48-024f-4d54-8688-8ac2cf7c10e0",
   "metadata": {},
   "source": [
    "# Datasets"
   ]
  },
  {
   "cell_type": "markdown",
   "id": "122d8f47-a77e-4c70-8bfd-9e1692620ebf",
   "metadata": {},
   "source": [
    "This notebook demostrates how to load two example datasets into your TigerGraph database. It uses [pyTigerGraph](https://github.com/tigergraph/pyTigerGraph) to download the datasets and ingest them into your database. Those datasets will be used throughout the remaining notebooks in the basics directory.\n",
    "\n",
    "The **Cora** dataset contains 2708 machine learning papers and 10556 citation links between the papers.  Each publication in the dataset is described by a 0/1-valued word vector indicating the absence/presence of the corresponding word from a dictionary. The dictionary consists of 1433 unique words. Each paper is classified into one of seven classes based on the topic.\n",
    "\n",
    "The **IMDB** dataset contains 3 types of vertices: 4278 movies, 5257 actors, and 2081 directors; and 4 types of edges: 12828 actor to movie edges, 12828 movie to actor edges, 4278 director to movie edges, and 4278 movie to director edges. Each vertex is described by a 0/1-valued word vector indicating the absence/presence of the corresponding keywords. For movies, the keywords are extracted from their plots; and for actors and directors, the keywords are extracted from the plots of movies they participated. Each movie is classified into one of three classes, action, comedy, and drama according to their genre. The goal is to predict the class of each movie in the graph.\n",
    "\n",
    "To connect your database, modify the `config.json` file accompanying this notebook. Set the value of `getToken` based on whether token auth is enabled for your database. Token auth is always enabled for tgcloud databases. "
   ]
  },
  {
   "cell_type": "markdown",
   "id": "ac7c3281",
   "metadata": {},
   "source": [
    "## Cora Dataset"
   ]
  },
  {
   "cell_type": "markdown",
   "id": "706cf86a",
   "metadata": {},
   "source": [
    "### Download dataset"
   ]
  },
  {
   "cell_type": "code",
   "execution_count": 1,
   "id": "ad11bd6c",
   "metadata": {},
   "outputs": [
    {
     "data": {
      "application/vnd.jupyter.widget-view+json": {
       "model_id": "1bcb2ad4a23649f6a8c6a66b309b5bbf",
       "version_major": 2,
       "version_minor": 0
      },
      "text/plain": [
       "Downloading:   0%|          | 0/166537 [00:00<?, ?it/s]"
      ]
     },
     "metadata": {},
     "output_type": "display_data"
    }
   ],
   "source": [
    "from pyTigerGraph.datasets import Datasets\n",
    "\n",
    "dataset = Datasets(\"Cora\")"
   ]
  },
  {
   "cell_type": "markdown",
   "id": "c9a42479",
   "metadata": {},
   "source": [
    "### Create connection"
   ]
  },
  {
   "cell_type": "code",
   "execution_count": 4,
   "id": "3a303c88",
   "metadata": {},
   "outputs": [],
   "source": [
    "from pyTigerGraph import TigerGraphConnection\n",
    "import json\n",
    "\n",
    "# Read in DB configs\n",
    "with open('../config.json', \"r\") as config_file:\n",
    "    config = json.load(config_file)\n",
    "\n",
    "conn1 = TigerGraphConnection(\n",
    "    host=config[\"host\"],\n",
    "    username=config[\"username\"],\n",
    "    password=config[\"password\"],\n",
    ")"
   ]
  },
  {
   "cell_type": "markdown",
   "id": "0f14b736",
   "metadata": {},
   "source": [
    "### Ingest data"
   ]
  },
  {
   "cell_type": "code",
   "execution_count": 5,
   "id": "66db99b3",
   "metadata": {},
   "outputs": [
    {
     "name": "stdout",
     "output_type": "stream",
     "text": [
      "---- Checking database ----\n",
      "---- Creating graph ----\n",
      "The graph Cora is created.\n",
      "---- Creating schema ----\n",
      "Using graph 'Cora'\n",
      "Successfully created schema change jobs: [cora_schema].\n",
      "Kick off schema change job cora_schema\n",
      "Doing schema change on graph 'Cora' (current version: 0)\n",
      "Trying to add local vertex 'Paper' to the graph 'Cora'.\n",
      "Trying to add local edge 'Cite' to the graph 'Cora'.\n",
      "\n",
      "Graph Cora updated to new version 1\n",
      "The job cora_schema completes in 0.928 seconds!\n",
      "---- Creating loading job ----\n",
      "Using graph 'Cora'\n",
      "Successfully created loading jobs: [load_cora_data].\n",
      "---- Ingesting data ----\n",
      "[[{'sourceFileName': 'Online_POST', 'statistics': {'validLine': 2708, 'rejectLine': 0, 'failedConditionLine': 0, 'notEnoughToken': 0, 'invalidJson': 0, 'oversizeToken': 0, 'vertex': [{'typeName': 'Paper', 'validObject': 2708, 'noIdFound': 0, 'invalidAttribute': 0, 'invalidVertexType': 0, 'invalidPrimaryId': 0, 'invalidSecondaryId': 0, 'incorrectFixedBinaryLength': 0}], 'edge': [], 'deleteVertex': [], 'deleteEdge': []}}], [{'sourceFileName': 'Online_POST', 'statistics': {'validLine': 10556, 'rejectLine': 0, 'failedConditionLine': 0, 'notEnoughToken': 0, 'invalidJson': 0, 'oversizeToken': 0, 'vertex': [], 'edge': [{'typeName': 'Cite', 'validObject': 10556, 'noIdFound': 0, 'invalidAttribute': 0, 'invalidVertexType': 0, 'invalidPrimaryId': 0, 'invalidSecondaryId': 0, 'incorrectFixedBinaryLength': 0}], 'deleteVertex': [], 'deleteEdge': []}}]]\n",
      "---- Cleaning ----\n",
      "---- Finished ingestion ----\n"
     ]
    }
   ],
   "source": [
    "conn1.ingestDataset(dataset, getToken=config[\"getToken\"])"
   ]
  },
  {
   "cell_type": "markdown",
   "id": "cd9f4cd7",
   "metadata": {},
   "source": [
    "### Visualize schema"
   ]
  },
  {
   "cell_type": "code",
   "execution_count": null,
   "id": "aed54f1f",
   "metadata": {},
   "outputs": [],
   "source": [
    "from pyTigerGraph.visualization import drawSchema\n",
    "\n",
    "drawSchema(conn1.getSchema(force=True))"
   ]
  },
  {
   "cell_type": "markdown",
   "id": "437442f7-df73-4397-b973-fd3c99377468",
   "metadata": {},
   "source": [
    "## IMDB Dataset"
   ]
  },
  {
   "cell_type": "markdown",
   "id": "f830b634-5b9e-4c18-9ebe-74aba60fff01",
   "metadata": {},
   "source": [
    "### Download dataset"
   ]
  },
  {
   "cell_type": "code",
   "execution_count": 1,
   "id": "a0958a42-db10-46b6-ab69-3d277cb6ecef",
   "metadata": {},
   "outputs": [
    {
     "data": {
      "application/vnd.jupyter.widget-view+json": {
       "model_id": "c90e95f4fe0b4a74b0568b10e8a59b38",
       "version_major": 2,
       "version_minor": 0
      },
      "text/plain": [
       "Downloading:   0%|          | 0/441333 [00:00<?, ?it/s]"
      ]
     },
     "metadata": {},
     "output_type": "display_data"
    }
   ],
   "source": [
    "from pyTigerGraph.datasets import Datasets\n",
    "\n",
    "dataset = Datasets(\"imdb\")"
   ]
  },
  {
   "cell_type": "markdown",
   "id": "d52b9da6-1011-4cba-a621-94bf2f43b879",
   "metadata": {},
   "source": [
    "### Create connection"
   ]
  },
  {
   "cell_type": "code",
   "execution_count": 2,
   "id": "c7055b0b-3e2c-4741-96f2-429e5a47391a",
   "metadata": {},
   "outputs": [
    {
     "name": "stderr",
     "output_type": "stream",
     "text": [
      "/Users/feng.shi/mlworkbench/lib/python3.9/site-packages/pyTigerGraph/pyTigerGraphBase.py:127: DeprecationWarning: The `debug` parameter is deprecated; configure standard logging in your app.\n",
      "  warnings.warn(\n"
     ]
    }
   ],
   "source": [
    "from pyTigerGraph import TigerGraphConnection\n",
    "import json\n",
    "\n",
    "# Read in DB configs\n",
    "with open('../config.json', \"r\") as config_file:\n",
    "    config = json.load(config_file)\n",
    "\n",
    "conn2 = TigerGraphConnection(\n",
    "    host=config[\"host\"],\n",
    "    username=config[\"username\"],\n",
    "    password=config[\"password\"],\n",
    ")"
   ]
  },
  {
   "cell_type": "markdown",
   "id": "5b14601e-27ef-4ddc-bac6-1695fc0abace",
   "metadata": {},
   "source": [
    "### Ingest data"
   ]
  },
  {
   "cell_type": "code",
   "execution_count": 3,
   "id": "9c811741-2a6e-43f7-91c4-28810ccbb90a",
   "metadata": {},
   "outputs": [
    {
     "name": "stdout",
     "output_type": "stream",
     "text": [
      "---- Checking database ----\n",
      "---- Creating graph ----\n",
      "The graph imdb is created.\n",
      "---- Creating schema ----\n",
      "Using graph 'imdb'\n",
      "Successfully created schema change jobs: [imdb_schema].\n",
      "Kick off schema change job imdb_schema\n",
      "Doing schema change on graph 'imdb' (current version: 0)\n",
      "Trying to add local vertex 'movie' to the graph 'imdb'.\n",
      "Trying to add local vertex 'actor' to the graph 'imdb'.\n",
      "Trying to add local vertex 'director' to the graph 'imdb'.\n",
      "Trying to add local edge 'actor_movie' to the graph 'imdb'.\n",
      "Trying to add local edge 'director_movie' to the graph 'imdb'.\n",
      "Trying to add local edge 'movie_actor' to the graph 'imdb'.\n",
      "Trying to add local edge 'movie_director' to the graph 'imdb'.\n",
      "\n",
      "Graph imdb updated to new version 1\n",
      "The job imdb_schema completes in 1.249 seconds!\n",
      "---- Creating loading job ----\n",
      "Using graph 'imdb'\n",
      "Successfully created loading jobs: [load_imdb_data].\n",
      "---- Ingesting data ----\n",
      "[[{'sourceFileName': 'Online_POST', 'statistics': {'validLine': 4278, 'rejectLine': 0, 'failedConditionLine': 0, 'notEnoughToken': 0, 'invalidJson': 0, 'oversizeToken': 0, 'vertex': [{'typeName': 'movie', 'validObject': 4278, 'noIdFound': 0, 'invalidAttribute': 0, 'invalidVertexType': 0, 'invalidPrimaryId': 0, 'invalidSecondaryId': 0, 'incorrectFixedBinaryLength': 0}], 'edge': [], 'deleteVertex': [], 'deleteEdge': []}}], [{'sourceFileName': 'Online_POST', 'statistics': {'validLine': 5257, 'rejectLine': 0, 'failedConditionLine': 0, 'notEnoughToken': 0, 'invalidJson': 0, 'oversizeToken': 0, 'vertex': [{'typeName': 'actor', 'validObject': 5257, 'noIdFound': 0, 'invalidAttribute': 0, 'invalidVertexType': 0, 'invalidPrimaryId': 0, 'invalidSecondaryId': 0, 'incorrectFixedBinaryLength': 0}], 'edge': [], 'deleteVertex': [], 'deleteEdge': []}}], [{'sourceFileName': 'Online_POST', 'statistics': {'validLine': 2081, 'rejectLine': 0, 'failedConditionLine': 0, 'notEnoughToken': 0, 'invalidJson': 0, 'oversizeToken': 0, 'vertex': [{'typeName': 'director', 'validObject': 2081, 'noIdFound': 0, 'invalidAttribute': 0, 'invalidVertexType': 0, 'invalidPrimaryId': 0, 'invalidSecondaryId': 0, 'incorrectFixedBinaryLength': 0}], 'edge': [], 'deleteVertex': [], 'deleteEdge': []}}], [{'sourceFileName': 'Online_POST', 'statistics': {'validLine': 12828, 'rejectLine': 0, 'failedConditionLine': 0, 'notEnoughToken': 0, 'invalidJson': 0, 'oversizeToken': 0, 'vertex': [], 'edge': [{'typeName': 'actor_movie', 'validObject': 12828, 'noIdFound': 0, 'invalidAttribute': 0, 'invalidVertexType': 0, 'invalidPrimaryId': 0, 'invalidSecondaryId': 0, 'incorrectFixedBinaryLength': 0}], 'deleteVertex': [], 'deleteEdge': []}}], [{'sourceFileName': 'Online_POST', 'statistics': {'validLine': 4278, 'rejectLine': 0, 'failedConditionLine': 0, 'notEnoughToken': 0, 'invalidJson': 0, 'oversizeToken': 0, 'vertex': [], 'edge': [{'typeName': 'director_movie', 'validObject': 4278, 'noIdFound': 0, 'invalidAttribute': 0, 'invalidVertexType': 0, 'invalidPrimaryId': 0, 'invalidSecondaryId': 0, 'incorrectFixedBinaryLength': 0}], 'deleteVertex': [], 'deleteEdge': []}}], [{'sourceFileName': 'Online_POST', 'statistics': {'validLine': 12828, 'rejectLine': 0, 'failedConditionLine': 0, 'notEnoughToken': 0, 'invalidJson': 0, 'oversizeToken': 0, 'vertex': [], 'edge': [{'typeName': 'movie_actor', 'validObject': 12828, 'noIdFound': 0, 'invalidAttribute': 0, 'invalidVertexType': 0, 'invalidPrimaryId': 0, 'invalidSecondaryId': 0, 'incorrectFixedBinaryLength': 0}], 'deleteVertex': [], 'deleteEdge': []}}], [{'sourceFileName': 'Online_POST', 'statistics': {'validLine': 4278, 'rejectLine': 0, 'failedConditionLine': 0, 'notEnoughToken': 0, 'invalidJson': 0, 'oversizeToken': 0, 'vertex': [], 'edge': [{'typeName': 'movie_director', 'validObject': 4278, 'noIdFound': 0, 'invalidAttribute': 0, 'invalidVertexType': 0, 'invalidPrimaryId': 0, 'invalidSecondaryId': 0, 'incorrectFixedBinaryLength': 0}], 'deleteVertex': [], 'deleteEdge': []}}]]\n",
      "---- Cleaning ----\n",
      "---- Finished ingestion ----\n"
     ]
    }
   ],
   "source": [
    "conn2.ingestDataset(dataset, getToken=config[\"getToken\"])"
   ]
  },
  {
   "cell_type": "markdown",
   "id": "c176daec-2bd0-4b3f-b96d-06dd72743c09",
   "metadata": {},
   "source": [
    "### Visualize schema"
   ]
  },
  {
   "cell_type": "code",
   "execution_count": 4,
   "id": "e183385f-02e8-4f4d-820e-8f6f98a2d6bf",
   "metadata": {},
   "outputs": [
    {
     "data": {
      "application/vnd.jupyter.widget-view+json": {
       "model_id": "b429553ee7d547af97c9a280f8b4d7fd",
       "version_major": 2,
       "version_minor": 0
      },
      "text/plain": [
       "CytoscapeWidget(cytoscape_layout={'name': 'circle', 'animate': True, 'padding': 1}, cytoscape_style=[{'selecto…"
      ]
     },
     "execution_count": 4,
     "metadata": {},
     "output_type": "execute_result"
    }
   ],
   "source": [
    "from pyTigerGraph.visualization import drawSchema\n",
    "\n",
    "drawSchema(conn2.getSchema(force=True))"
   ]
  }
 ],
 "metadata": {
  "kernelspec": {
   "display_name": "PyTorch",
   "language": "python",
   "name": "python3"
  },
  "language_info": {
   "codemirror_mode": {
    "name": "ipython",
    "version": 3
   },
   "file_extension": ".py",
   "mimetype": "text/x-python",
   "name": "python",
   "nbconvert_exporter": "python",
   "pygments_lexer": "ipython3",
   "version": "3.9.13"
  },
  "vscode": {
   "interpreter": {
    "hash": "96daeecb52bbbb8e3aef04d2f9c6a1e01f271d07cea30059f3c558ef00b717d2"
   }
  }
 },
 "nbformat": 4,
 "nbformat_minor": 5
}
