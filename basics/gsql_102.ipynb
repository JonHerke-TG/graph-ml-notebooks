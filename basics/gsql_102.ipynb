{
 "cells": [
  {
   "cell_type": "markdown",
   "id": "1feda573-8156-4b9b-a8bf-8ea91320b2b1",
   "metadata": {
    "tags": []
   },
   "source": [
    "## Prepare your environment: connect to TigerGraph database, create schema, map and load data \n",
    "\n",
    "This section of the gsql_102 walks you through creating the graph and loading graph data. We will be using the LDBC Social Network Benchmark (LDBC SNB) as the example. This data set models a typical online forum where users post messages and discuss topics. It comes with a data generator, which allows you to generate data at different scale factors. Scale factor 1 generates roughly 1GB of raw data, scale factor 10 generates roughly 10GB of raw data, and so on. Further GSQL 102 documentation can be found here (https://docs.tigergraph.com/gsql-ref/current/tutorials/pattern-matching/)."
   ]
  },
  {
   "cell_type": "markdown",
   "id": "9a60ccab-51aa-4ad1-bdad-93bb79b09da2",
   "metadata": {},
   "source": [
    "### Create connection"
   ]
  },
  {
   "cell_type": "code",
   "execution_count": 1,
   "id": "a9ca1988-2dae-4084-be12-9b95806eae4d",
   "metadata": {},
   "outputs": [],
   "source": [
    "import json\n",
    "import pandas as pd\n",
    "from pyTigerGraph import TigerGraphConnection\n",
    "\n",
    "# Read in DB configs\n",
    "with open('../config.json', \"r\") as config_file:\n",
    "    config = json.load(config_file)\n",
    "\n",
    "conn = TigerGraphConnection(\n",
    "    host=config[\"host\"],\n",
    "    username=config[\"username\"],\n",
    "    password=config[\"password\"],\n",
    ")"
   ]
  },
  {
   "cell_type": "markdown",
   "id": "043d9618-2ec0-4c59-bf93-9f3676a2e6b6",
   "metadata": {},
   "source": [
    "### Download ldbc_snb dataset"
   ]
  },
  {
   "cell_type": "code",
   "execution_count": 2,
   "id": "b5d3a7ff-c937-4523-8652-cf2aa6ff48c2",
   "metadata": {},
   "outputs": [
    {
     "data": {
      "application/vnd.jupyter.widget-view+json": {
       "model_id": "914cbf1453254164b103e52bb2dc2d20",
       "version_major": 2,
       "version_minor": 0
      },
      "text/plain": [
       "Downloading:   0%|          | 0/286678171 [00:00<?, ?it/s]"
      ]
     },
     "metadata": {},
     "output_type": "display_data"
    }
   ],
   "source": [
    "from pyTigerGraph.datasets import Datasets\n",
    "dataset_ldbc = Datasets(\"ldbc_snb\")"
   ]
  },
  {
   "cell_type": "markdown",
   "id": "55c28a89-8219-4312-ac06-6ec484bd3883",
   "metadata": {},
   "source": [
    "### Ingest data"
   ]
  },
  {
   "cell_type": "code",
   "execution_count": 3,
   "id": "d5c45c11-3c9a-47f4-85e6-7db18ddffd36",
   "metadata": {},
   "outputs": [
    {
     "name": "stdout",
     "output_type": "stream",
     "text": [
      "---- Checking database ----\n",
      "A graph with name ldbc_snb already exists in the database. Please drop it first before ingesting.\n"
     ]
    }
   ],
   "source": [
    "conn.ingestDataset(dataset_ldbc, getToken=config[\"getToken\"])"
   ]
  },
  {
   "cell_type": "markdown",
   "id": "4e6dc8c4-8304-4507-8fb7-fe81c7cb92d3",
   "metadata": {},
   "source": [
    "### Visualize schema"
   ]
  },
  {
   "cell_type": "code",
   "execution_count": 4,
   "id": "7321eb39-fb66-4cbe-b5cf-279380243214",
   "metadata": {},
   "outputs": [
    {
     "data": {
      "application/vnd.jupyter.widget-view+json": {
       "model_id": "aef74159eb4c401bbb09218f8a8f7183",
       "version_major": 2,
       "version_minor": 0
      },
      "text/plain": [
       "CytoscapeWidget(cytoscape_layout={'name': 'circle', 'animate': True, 'padding': 1}, cytoscape_style=[{'selecto…"
      ]
     },
     "execution_count": 4,
     "metadata": {},
     "output_type": "execute_result"
    }
   ],
   "source": [
    "from pyTigerGraph.visualization import drawSchema\n",
    "drawSchema(conn.getSchema(force=True))"
   ]
  },
  {
   "cell_type": "markdown",
   "id": "140ee63d-8637-4ea3-be00-1a29793fccc1",
   "metadata": {},
   "source": [
    "### Print graph stats"
   ]
  },
  {
   "cell_type": "code",
   "execution_count": 5,
   "id": "7094ef13-fbb2-467d-b5db-06e1086c5f88",
   "metadata": {},
   "outputs": [
    {
     "name": "stdout",
     "output_type": "stream",
     "text": [
      "Node count: (Comment : 2052169) \n",
      "Node count: (Post : 1003605) \n",
      "Node count: (Company : 1575) \n",
      "Node count: (University : 6380) \n",
      "Node count: (City : 1343) \n",
      "Node count: (Country : 111) \n",
      "Node count: (Continent : 6) \n",
      "Node count: (Forum : 90492) \n",
      "Node count: (Person : 9892) \n",
      "Node count: (Tag : 16080) \n",
      "Node count: (Tag_Class : 71) \n",
      "Total node count:  3181724\n"
     ]
    }
   ],
   "source": [
    "vertices = conn.getVertexTypes()\n",
    "total_count = 0\n",
    "for vertex in vertices:\n",
    "    vertex_cnt = conn.getVertexCount(vertex)\n",
    "    total_count += vertex_cnt\n",
    "    print(\"Node count: ({} : {}) \".format(vertex, vertex_cnt))\n",
    "print(\"Total node count: \", total_count)"
   ]
  },
  {
   "cell_type": "code",
   "execution_count": 6,
   "id": "cdb22c30-74af-470b-bfd1-a06bf49ebd82",
   "metadata": {},
   "outputs": [
    {
     "name": "stdout",
     "output_type": "stream",
     "text": [
      "Edges count: total  34331453\n",
      "{'Container_Of': 1003605,\n",
      " 'Container_Of_Reverse': 1003605,\n",
      " 'Has_Creator': 3055774,\n",
      " 'Has_Creator_Reverse': 3055774,\n",
      " 'Has_Interest': 229166,\n",
      " 'Has_Interest_Reverse': 229166,\n",
      " 'Has_Member': 1611869,\n",
      " 'Has_Member_Reverse': 1611869,\n",
      " 'Has_Moderator': 90492,\n",
      " 'Has_Moderator_Reverse': 90492,\n",
      " 'Has_Tag': 3721417,\n",
      " 'Has_Tag_Reverse': 3721417,\n",
      " 'Has_Type': 16080,\n",
      " 'Has_Type_Reverse': 16080,\n",
      " 'Is_Located_In': 3073621,\n",
      " 'Is_Located_In_Reverse': 3073621,\n",
      " 'Is_Part_Of': 1454,\n",
      " 'Is_Part_Of_Reverse': 1454,\n",
      " 'Is_Subclass_Of': 70,\n",
      " 'Is_Subclass_Of_Reverse': 70,\n",
      " 'Knows': 180623,\n",
      " 'Likes': 2190095,\n",
      " 'Likes_Reverse': 2190095,\n",
      " 'Reply_Of': 2052169,\n",
      " 'Reply_Of_Reverse': 2052169,\n",
      " 'Study_At': 7949,\n",
      " 'Study_At_Reverse': 7949,\n",
      " 'Work_At': 21654,\n",
      " 'Work_At_Reverse': 21654}\n"
     ]
    }
   ],
   "source": [
    "import pprint\n",
    "edge_count = conn.getEdgeCount()\n",
    "print(\"Edges count: total \", sum(edge_count.values()))\n",
    "pprint.pprint(edge_count) "
   ]
  },
  {
   "cell_type": "markdown",
   "id": "33414628-fb9b-4662-b297-aefdce3068aa",
   "metadata": {
    "tags": []
   },
   "source": [
    "## One-hop patterns\n",
    "\n",
    "After the loading job finishes running, your tutorial setup is complete, and you are ready to start learning about One-hop patterns.\n",
    "\n",
    "Pattern matching by nature is declarative. It enables users to focus on specifying what they want from a query without worrying about the underlying query processing.\n",
    "\n",
    "The pattern specifies sets of vertex types and how they are connected by edge types.\n",
    "\n",
    "A pattern usually appears in the FROM clause, the most fundamental part of the query structure. A pattern can be refined further with conditions in the WHERE clause.\n",
    "\n",
    "In this tutorial, we’ll start with simple one-hop path patterns, and then extend it multi-hop patterns and finally multiple-path patterns.\n",
    "\n",
    "The easiest way to understand patterns is to start with a simple 1-Hop pattern. Even a single hop has several options. After we’ve tackled single hops, then we’ll see how to add repetition to make variable length patterns and how to connect single hops to form bigger patterns.\n",
    "\n",
    "In GSQL syntax V2, we use the punctuation -( )- to denote a 1-hop pattern.\n",
    "\n",
    "The edge type(s) is enclosed in the parentheses () and the hyphens - symbolize connection. The directionality of the connection is explicitly stated for each edge type. Arrowheads are used to indicate direction: > or <.\n",
    "\n",
    "* For an undirected edge E, leave as is: E\n",
    "\n",
    "* For a directed edge E from left to right, use a right-pointing arrowhead: E>\n",
    "\n",
    "* For a directed edge E from right to left, use a left-pointing arrowhead: <E\n",
    "\n",
    "In this notation, E is a placeholder for any edge in a graph. \"Left\" and \"right\" refer to the order of the actual written pattern itself."
   ]
  },
  {
   "cell_type": "markdown",
   "id": "d8ab6e2b-27f4-4114-a502-23a5e561a5c7",
   "metadata": {},
   "source": [
    "## Examples of 1-Hop Fixed Length Query\n",
    "\n",
    "### Example 1. Left-Directed Edge Pattern\n",
    "\n",
    "Find persons who know the person named \"Viktor Akhiezer\" and return the top 3 oldest such persons."
   ]
  },
  {
   "cell_type": "code",
   "execution_count": 7,
   "id": "f7ca0b88-5deb-4c62-8d7f-fd6d0cb6c494",
   "metadata": {},
   "outputs": [
    {
     "name": "stdout",
     "output_type": "stream",
     "text": [
      "Using graph 'ldbc_snb'\n",
      "{\n",
      "\"error\": false,\n",
      "\"message\": \"\",\n",
      "\"version\": {\n",
      "\"schema\": 12,\n",
      "\"edition\": \"enterprise\",\n",
      "\"api\": \"v2\"\n",
      "},\n",
      "\"results\": [{\"friends\": [\n",
      "{\n",
      "\"v_id\": \"4398046517846\",\n",
      "\"attributes\": {\n",
      "\"friends.first_name\": \"Abdul-Malik\",\n",
      "\"friends.birthday\": \"1980-04-24 00:00:00\",\n",
      "\"friends.last_name\": \"Glosca\"\n",
      "},\n",
      "\"v_type\": \"Person\"\n",
      "},\n",
      "{\n",
      "\"v_id\": \"10995116279461\",\n",
      "\"attributes\": {\n",
      "\"friends.first_name\": \"Gregorio\",\n",
      "\"friends.birthday\": \"1980-05-13 00:00:00\",\n",
      "\"friends.last_name\": \"Cajes\"\n",
      "},\n",
      "\"v_type\": \"Person\"\n",
      "},\n",
      "{\n",
      "\"v_id\": \"6597069776731\",\n",
      "\"attributes\": {\n",
      "\"friends.first_name\": \"Sven\",\n",
      "\"friends.birthday\": \"1981-02-25 00:00:00\",\n",
      "\"friends.last_name\": \"Carlsson\"\n",
      "},\n",
      "\"v_type\": \"Person\"\n",
      "}\n",
      "]}]\n",
      "}\n"
     ]
    }
   ],
   "source": [
    "query = \"\"\"\n",
    "USE GRAPH ldbc_snb\n",
    "\n",
    "INTERPRET QUERY () SYNTAX v2 {\n",
    "    // 1-hop pattern.\n",
    "    friends = SELECT p\n",
    "              FROM Person:s -(Knows:e)- Person:p\n",
    "              WHERE s.first_name == \"Viktor\" AND s.last_name == \"Akhiezer\"\n",
    "              ORDER BY p.birthday ASC\n",
    "              LIMIT 3;\n",
    "\n",
    "    PRINT  friends[friends.first_name, friends.last_name, friends.birthday];\n",
    "}\n",
    "\"\"\"\n",
    "\n",
    "result = conn.gsql(query)\n",
    "print(result)"
   ]
  },
  {
   "cell_type": "markdown",
   "id": "f8983704-ef1d-4116-b37f-cd70c585a091",
   "metadata": {},
   "source": [
    "### Example 2. Right-directed Edge Pattern\n",
    "\n",
    "Find the total number of comments and total number of posts liked by Viktor. A Person can reach Comments or Posts via a directed edge LIKES."
   ]
  },
  {
   "cell_type": "code",
   "execution_count": 8,
   "id": "46b1e092-e97b-49fc-900d-6a7aa3012548",
   "metadata": {},
   "outputs": [
    {
     "name": "stdout",
     "output_type": "stream",
     "text": [
      "Using graph 'ldbc_snb'\n",
      "{\n",
      "\"error\": false,\n",
      "\"message\": \"\",\n",
      "\"version\": {\n",
      "\"schema\": 12,\n",
      "\"edition\": \"enterprise\",\n",
      "\"api\": \"v2\"\n",
      "},\n",
      "\"results\": [{\"Result\": [{\n",
      "\"v_id\": \"28587302323577\",\n",
      "\"attributes\": {\n",
      "\"Result.@post_cnt\": 51,\n",
      "\"Result.@comment_cnt\": 108\n",
      "},\n",
      "\"v_type\": \"Person\"\n",
      "}]}]\n",
      "}\n"
     ]
    }
   ],
   "source": [
    "query = \"\"\"\n",
    "USE GRAPH ldbc_snb\n",
    "\n",
    "INTERPRET QUERY () SYNTAX v2 {\n",
    "    SumAccum<int> @comment_cnt= 0;\n",
    "    SumAccum<int> @post_cnt= 0;\n",
    "\n",
    "    // 1-hop pattern.\n",
    "    Result = SELECT s\n",
    "             FROM Person:s -(Likes>)- :tgt\n",
    "             WHERE s.first_name == \"Viktor\" AND s.last_name == \"Akhiezer\"\n",
    "             ACCUM CASE WHEN tgt.type == \"Comment\" THEN\n",
    "                             s.@comment_cnt += 1\n",
    "                        WHEN tgt.type == \"Post\" THEN\n",
    "                             s.@post_cnt += 1\n",
    "             END;\n",
    "\n",
    "    PRINT  Result[Result.@comment_cnt, Result.@post_cnt];\n",
    "}\n",
    "\"\"\"\n",
    "\n",
    "result = conn.gsql(query)\n",
    "print(result)"
   ]
  },
  {
   "cell_type": "markdown",
   "id": "81735040-1361-40e2-90de-0c3aca7d0cc4",
   "metadata": {},
   "source": [
    "### Example 3. Left-directed Edge Pattern\n",
    "\n",
    "Solve the same problem as in Example 2, but use a left-directed edge pattern.\n",
    "\n",
    "Note below (line 8) that the source vertex set are now Comment and Post, and the target is Person."
   ]
  },
  {
   "cell_type": "code",
   "execution_count": 9,
   "id": "99220644-fce8-43da-9521-19a65ed5522d",
   "metadata": {},
   "outputs": [
    {
     "name": "stdout",
     "output_type": "stream",
     "text": [
      "Using graph 'ldbc_snb'\n",
      "{\n",
      "\"error\": false,\n",
      "\"message\": \"\",\n",
      "\"version\": {\n",
      "\"schema\": 12,\n",
      "\"edition\": \"enterprise\",\n",
      "\"api\": \"v2\"\n",
      "},\n",
      "\"results\": [{\"Result\": [{\n",
      "\"v_id\": \"28587302323577\",\n",
      "\"attributes\": {\n",
      "\"Result.@post_cnt\": 51,\n",
      "\"Result.@comment_cnt\": 108\n",
      "},\n",
      "\"v_type\": \"Person\"\n",
      "}]}]\n",
      "}\n"
     ]
    }
   ],
   "source": [
    "query = \"\"\"\n",
    "USE GRAPH ldbc_snb\n",
    "\n",
    "INTERPRET QUERY () SYNTAX v2{\n",
    "    SumAccum<int> @comment_cnt= 0;\n",
    "    SumAccum<int> @post_cnt= 0;\n",
    "\n",
    "    Result = SELECT tgt\n",
    "             FROM Person:tgt -(<Likes_Reverse)- (Comment|Post):src\n",
    "             WHERE tgt.first_name == \"Viktor\" AND tgt.last_name == \"Akhiezer\"\n",
    "             ACCUM CASE WHEN src.type == \"Comment\" THEN\n",
    "                             tgt.@comment_cnt += 1\n",
    "                        WHEN src.type == \"Post\" THEN\n",
    "                             tgt.@post_cnt += 1\n",
    "             END;\n",
    "\n",
    "    PRINT Result[Result.@comment_cnt, Result.@post_cnt];\n",
    "}\n",
    "\"\"\"\n",
    "\n",
    "result = conn.gsql(query)\n",
    "print(result)"
   ]
  },
  {
   "cell_type": "markdown",
   "id": "3b82b90e-78d8-447b-b5ea-02147d738a71",
   "metadata": {},
   "source": [
    "### Example 4. Disjunctive 1-hop edge pattern.\n",
    "\n",
    "Find Viktor Akhiezer’s total number of related comments and total number of related posts. That is, a comment or post is either created by Viktor or is liked by Viktor. Note that the HAS_CREATOR edge type starts from Comment|Post, and the LIKES edge type starts from Person."
   ]
  },
  {
   "cell_type": "code",
   "execution_count": 10,
   "id": "7a2bb897-904b-48fb-865f-e0d613174d90",
   "metadata": {},
   "outputs": [
    {
     "name": "stdout",
     "output_type": "stream",
     "text": [
      "Using graph 'ldbc_snb'\n",
      "{\n",
      "\"error\": false,\n",
      "\"message\": \"\",\n",
      "\"version\": {\n",
      "\"schema\": 12,\n",
      "\"edition\": \"enterprise\",\n",
      "\"api\": \"v2\"\n",
      "},\n",
      "\"results\": [{\"Result\": [{\n",
      "\"v_id\": \"28587302323577\",\n",
      "\"attributes\": {\n",
      "\"Result.@post_cnt\": 96,\n",
      "\"Result.@comment_cnt\": 152\n",
      "},\n",
      "\"v_type\": \"Person\"\n",
      "}]}]\n",
      "}\n"
     ]
    }
   ],
   "source": [
    "query = \"\"\"\n",
    "USE GRAPH ldbc_snb\n",
    "set query_timeout=60000\n",
    "\n",
    "INTERPRET QUERY () SYNTAX v2{\n",
    "    SumAccum<int> @comment_cnt= 0;\n",
    "    SumAccum<int> @post_cnt= 0;\n",
    "\n",
    "    Result = SELECT tgt\n",
    "             FROM Person:tgt -(<Has_Creator|Likes>)- (Comment|Post):src\n",
    "             WHERE tgt.first_name == \"Viktor\" AND tgt.last_name == \"Akhiezer\"\n",
    "             ACCUM CASE WHEN src.type == \"Comment\" THEN\n",
    "                             tgt.@comment_cnt += 1\n",
    "                        WHEN src.type == \"Post\" THEN\n",
    "                             tgt.@post_cnt += 1\n",
    "             END;\n",
    "\n",
    "    PRINT Result[Result.@comment_cnt, Result.@post_cnt];\n",
    "}\n",
    "\"\"\"\n",
    "\n",
    "result = conn.gsql(query)\n",
    "print(result)"
   ]
  },
  {
   "cell_type": "markdown",
   "id": "880c638f-f5b3-4f89-b910-5011284ccd81",
   "metadata": {},
   "source": [
    "### Example 5. Disjunctive 1-hop edge pattern.\n",
    "Find the total number of comments or posts related to \"Viktor Akhiezer\". This time, we count them together and, we use the wildcard _ to represent the two types of edges: HAS_CREATOR and LIKES_REVERSE. Both are following the same direction."
   ]
  },
  {
   "cell_type": "code",
   "execution_count": 11,
   "id": "f4d42eb6-116f-4560-850a-d2f7128bc5f2",
   "metadata": {},
   "outputs": [
    {
     "name": "stdout",
     "output_type": "stream",
     "text": [
      "Using graph 'ldbc_snb'\n",
      "{\n",
      "\"error\": false,\n",
      "\"message\": \"\",\n",
      "\"version\": {\n",
      "\"schema\": 12,\n",
      "\"edition\": \"enterprise\",\n",
      "\"api\": \"v2\"\n",
      "},\n",
      "\"results\": [{\"@@cnt\": 248}]\n",
      "}\n"
     ]
    }
   ],
   "source": [
    "query = \"\"\"\n",
    "USE GRAPH ldbc_snb\n",
    "\n",
    "INTERPRET QUERY () SYNTAX v2{\n",
    "    SumAccum<int> @@cnt= 0;\n",
    "\n",
    "    Result = SELECT tgt\n",
    "             FROM Person:tgt -(<_)- (Comment|Post):src\n",
    "             WHERE tgt.first_name == \"Viktor\" AND tgt.last_name == \"Akhiezer\"\n",
    "             ACCUM  @@cnt += 1;\n",
    "\n",
    "    PRINT @@cnt;\n",
    "}\n",
    "\"\"\"\n",
    "\n",
    "result = conn.gsql(query)\n",
    "print(result)"
   ]
  },
  {
   "cell_type": "markdown",
   "id": "6a1845f1-ea04-495c-a99d-23ca05b29e6a",
   "metadata": {},
   "source": [
    "## Repeating a 1-Hop Pattern\n",
    "\n",
    "A common pattern is the two-step \"Friend of a Friend\".\n",
    "\n",
    "This is related to the question \"Do I know any famous people?\" Even if you aren’t friends with any famous people, at least one of your friends' friends might be famous. That’s a one-hop pattern, repeated twice.\n",
    "\n",
    "In terms of data throughput on a network, you can also ask \"If everyone who receives a message passes it along to everyone else they know, how many entities will receive it?\"\n",
    "\n",
    "GSQL pattern matching makes it easy to express such variable-length patterns which repeat a single hop. Everything else stays the same as introduced in the previous section, except we append an asterisk (or Kleene star) and an optional min..max range to an edge pattern.\n",
    "\n",
    "(E*) means edge type E repeats any number of times (including zero)\n",
    "\n",
    "(E*1..3) means edge type E occurs one to three times."
   ]
  },
  {
   "cell_type": "markdown",
   "id": "614f53d5-0138-40f6-8215-dd819700a350",
   "metadata": {},
   "source": [
    "### Example 1. Directed Edge Pattern Unconstrained Repetition\n",
    "\n",
    "Find the direct or indirect superclass (including the self class) of the tag_class whose name is \"TennisPlayer\"."
   ]
  },
  {
   "cell_type": "code",
   "execution_count": 12,
   "id": "1f278cb9-d881-4389-b752-f7446150e016",
   "metadata": {},
   "outputs": [
    {
     "name": "stdout",
     "output_type": "stream",
     "text": [
      "Using graph 'ldbc_snb'\n",
      "{\n",
      "\"error\": false,\n",
      "\"message\": \"\",\n",
      "\"version\": {\n",
      "\"schema\": 12,\n",
      "\"edition\": \"enterprise\",\n",
      "\"api\": \"v2\"\n",
      "},\n",
      "\"results\": [{\"tag_class1\": [\n",
      "{\n",
      "\"v_id\": \"211\",\n",
      "\"attributes\": {\n",
      "\"name\": \"Person\",\n",
      "\"id\": 211,\n",
      "\"url\": \"http://dbpedia.org/ontology/Person\"\n",
      "},\n",
      "\"v_type\": \"Tag_Class\"\n",
      "},\n",
      "{\n",
      "\"v_id\": \"149\",\n",
      "\"attributes\": {\n",
      "\"name\": \"Athlete\",\n",
      "\"id\": 149,\n",
      "\"url\": \"http://dbpedia.org/ontology/Athlete\"\n",
      "},\n",
      "\"v_type\": \"Tag_Class\"\n",
      "},\n",
      "{\n",
      "\"v_id\": \"0\",\n",
      "\"attributes\": {\n",
      "\"name\": \"Thing\",\n",
      "\"id\": 0,\n",
      "\"url\": \"http://www.w3.org/2002/07/owl#Thing\"\n",
      "},\n",
      "\"v_type\": \"Tag_Class\"\n",
      "},\n",
      "{\n",
      "\"v_id\": \"59\",\n",
      "\"attributes\": {\n",
      "\"name\": \"TennisPlayer\",\n",
      "\"id\": 59,\n",
      "\"url\": \"http://dbpedia.org/ontology/TennisPlayer\"\n",
      "},\n",
      "\"v_type\": \"Tag_Class\"\n",
      "},\n",
      "{\n",
      "\"v_id\": \"239\",\n",
      "\"attributes\": {\n",
      "\"name\": \"Agent\",\n",
      "\"id\": 239,\n",
      "\"url\": \"http://dbpedia.org/ontology/Agent\"\n",
      "},\n",
      "\"v_type\": \"Tag_Class\"\n",
      "}\n",
      "]}]\n",
      "}\n"
     ]
    }
   ],
   "source": [
    "query = \"\"\"\n",
    "USE GRAPH ldbc_snb\n",
    "\n",
    "INTERPRET QUERY () SYNTAX v2 {\n",
    "\n",
    "    tag_class1 = SELECT t\n",
    "                 FROM Tag_Class:s - (Is_Subclass_Of>*) - Tag_Class:t\n",
    "                 WHERE s.name == \"TennisPlayer\";\n",
    "\n",
    "    PRINT  tag_class1;\n",
    "}\n",
    "\"\"\"\n",
    "\n",
    "result = conn.gsql(query)\n",
    "print(result)"
   ]
  },
  {
   "cell_type": "markdown",
   "id": "b3adc687-edd1-4873-acea-83f7fb2acef9",
   "metadata": {},
   "source": [
    "### Example 2. Exactly 1 Repetition of A Directed Edge\n",
    "\n",
    "Find the immediate superclass of the tag_class whose name is \"tennis_player\". (This is equivalent to a 1-hop non-repeating pattern.)\n"
   ]
  },
  {
   "cell_type": "code",
   "execution_count": 13,
   "id": "4c5809d0-898f-416f-8466-cd139d7cfe12",
   "metadata": {},
   "outputs": [
    {
     "name": "stdout",
     "output_type": "stream",
     "text": [
      "Using graph 'ldbc_snb'\n",
      "{\n",
      "\"error\": false,\n",
      "\"message\": \"\",\n",
      "\"version\": {\n",
      "\"schema\": 12,\n",
      "\"edition\": \"enterprise\",\n",
      "\"api\": \"v2\"\n",
      "},\n",
      "\"results\": [{\"tag_class1\": [{\n",
      "\"v_id\": \"149\",\n",
      "\"attributes\": {\n",
      "\"name\": \"Athlete\",\n",
      "\"id\": 149,\n",
      "\"url\": \"http://dbpedia.org/ontology/Athlete\"\n",
      "},\n",
      "\"v_type\": \"Tag_Class\"\n",
      "}]}]\n",
      "}\n"
     ]
    }
   ],
   "source": [
    "query = \"\"\"\n",
    "USE GRAPH ldbc_snb\n",
    "\n",
    "INTERPRET QUERY () SYNTAX v2 {\n",
    "\n",
    "    tag_class1 =  SELECT t\n",
    "        FROM Tag_Class:s - (Is_Subclass_Of>*1) - Tag_Class:t\n",
    "        WHERE s.name == \"TennisPlayer\";\n",
    "\n",
    "    PRINT tag_class1;\n",
    "}\n",
    "\"\"\"\n",
    "result = conn.gsql(query)\n",
    "print(result)"
   ]
  },
  {
   "cell_type": "markdown",
   "id": "5e7573d6-afe3-421b-ae79-6d53d81c6dd1",
   "metadata": {},
   "source": [
    "### Example 3. 1 to 2 Repetition Of A Directed Edge.\n",
    "\n",
    "Find the 1 to 2 hops direct and indirect superclasses of the tag_class whose name is \"TennisPlayer\"."
   ]
  },
  {
   "cell_type": "code",
   "execution_count": 14,
   "id": "70ae95e3-2f3b-4cbd-aad1-cbdeb7027992",
   "metadata": {},
   "outputs": [
    {
     "name": "stdout",
     "output_type": "stream",
     "text": [
      "Using graph 'ldbc_snb'\n",
      "{\n",
      "\"error\": false,\n",
      "\"message\": \"\",\n",
      "\"version\": {\n",
      "\"schema\": 12,\n",
      "\"edition\": \"enterprise\",\n",
      "\"api\": \"v2\"\n",
      "},\n",
      "\"results\": [{\"tag_class1\": [\n",
      "{\n",
      "\"v_id\": \"211\",\n",
      "\"attributes\": {\n",
      "\"name\": \"Person\",\n",
      "\"id\": 211,\n",
      "\"url\": \"http://dbpedia.org/ontology/Person\"\n",
      "},\n",
      "\"v_type\": \"Tag_Class\"\n",
      "},\n",
      "{\n",
      "\"v_id\": \"149\",\n",
      "\"attributes\": {\n",
      "\"name\": \"Athlete\",\n",
      "\"id\": 149,\n",
      "\"url\": \"http://dbpedia.org/ontology/Athlete\"\n",
      "},\n",
      "\"v_type\": \"Tag_Class\"\n",
      "}\n",
      "]}]\n",
      "}\n"
     ]
    }
   ],
   "source": [
    "query = \"\"\"\n",
    "USE GRAPH ldbc_snb\n",
    "\n",
    "INTERPRET QUERY () SYNTAX v2 {\n",
    "\n",
    "    tag_class1 =  SELECT t\n",
    "                  FROM Tag_Class:s - (Is_Subclass_Of>*1..2) - Tag_Class:t\n",
    "                  WHERE s.name == \"TennisPlayer\";\n",
    "\n",
    "    PRINT tag_class1;\n",
    "}\n",
    "\"\"\"\n",
    "\n",
    "result = conn.gsql(query)\n",
    "print(result)"
   ]
  },
  {
   "cell_type": "markdown",
   "id": "03cf30a5-6044-4d4c-870e-8a09a0a699a6",
   "metadata": {},
   "source": [
    "### Example 4. Up-to 2 Repetition Of A Directed Edge.\n",
    "\n",
    "Find the superclasses within 2 hops of the tag_class whose name is \"TennisPlayer\"."
   ]
  },
  {
   "cell_type": "code",
   "execution_count": 15,
   "id": "717826eb-3535-4551-9f06-8ae98abb0f5c",
   "metadata": {},
   "outputs": [
    {
     "name": "stdout",
     "output_type": "stream",
     "text": [
      "Using graph 'ldbc_snb'\n",
      "{\n",
      "\"error\": false,\n",
      "\"message\": \"\",\n",
      "\"version\": {\n",
      "\"schema\": 12,\n",
      "\"edition\": \"enterprise\",\n",
      "\"api\": \"v2\"\n",
      "},\n",
      "\"results\": [{\"tag_class1\": [\n",
      "{\n",
      "\"v_id\": \"211\",\n",
      "\"attributes\": {\n",
      "\"name\": \"Person\",\n",
      "\"id\": 211,\n",
      "\"url\": \"http://dbpedia.org/ontology/Person\"\n",
      "},\n",
      "\"v_type\": \"Tag_Class\"\n",
      "},\n",
      "{\n",
      "\"v_id\": \"149\",\n",
      "\"attributes\": {\n",
      "\"name\": \"Athlete\",\n",
      "\"id\": 149,\n",
      "\"url\": \"http://dbpedia.org/ontology/Athlete\"\n",
      "},\n",
      "\"v_type\": \"Tag_Class\"\n",
      "},\n",
      "{\n",
      "\"v_id\": \"59\",\n",
      "\"attributes\": {\n",
      "\"name\": \"TennisPlayer\",\n",
      "\"id\": 59,\n",
      "\"url\": \"http://dbpedia.org/ontology/TennisPlayer\"\n",
      "},\n",
      "\"v_type\": \"Tag_Class\"\n",
      "}\n",
      "]}]\n",
      "}\n"
     ]
    }
   ],
   "source": [
    "query = \"\"\"\n",
    "USE GRAPH ldbc_snb\n",
    "\n",
    "INTERPRET QUERY () SYNTAX v2 {\n",
    "\n",
    "    tag_class1 = SELECT t\n",
    "                 FROM Tag_Class:s - (Is_Subclass_Of>*..2) - Tag_Class:t\n",
    "                 WHERE s.name == \"TennisPlayer\";\n",
    "\n",
    "    PRINT  tag_class1;\n",
    "}\n",
    "\"\"\"\n",
    "\n",
    "result = conn.gsql(query)\n",
    "print(result)"
   ]
  },
  {
   "cell_type": "markdown",
   "id": "607d9db8-6d2b-472e-a984-d7bff8548cfc",
   "metadata": {},
   "source": [
    "### Example 5. At Least 1 Repetition Of A Directed Edge.\n",
    "\n",
    "Find the superclasses at least one hop from the tag_class whose name is \"TennisPlayer\"."
   ]
  },
  {
   "cell_type": "code",
   "execution_count": 16,
   "id": "66611cad-9856-4cb1-99b4-8c6c8269dd2e",
   "metadata": {},
   "outputs": [
    {
     "name": "stdout",
     "output_type": "stream",
     "text": [
      "Using graph 'ldbc_snb'\n",
      "{\n",
      "\"error\": false,\n",
      "\"message\": \"\",\n",
      "\"version\": {\n",
      "\"schema\": 12,\n",
      "\"edition\": \"enterprise\",\n",
      "\"api\": \"v2\"\n",
      "},\n",
      "\"results\": [{\"tag_class1\": [\n",
      "{\n",
      "\"v_id\": \"211\",\n",
      "\"attributes\": {\n",
      "\"name\": \"Person\",\n",
      "\"id\": 211,\n",
      "\"url\": \"http://dbpedia.org/ontology/Person\"\n",
      "},\n",
      "\"v_type\": \"Tag_Class\"\n",
      "},\n",
      "{\n",
      "\"v_id\": \"239\",\n",
      "\"attributes\": {\n",
      "\"name\": \"Agent\",\n",
      "\"id\": 239,\n",
      "\"url\": \"http://dbpedia.org/ontology/Agent\"\n",
      "},\n",
      "\"v_type\": \"Tag_Class\"\n",
      "},\n",
      "{\n",
      "\"v_id\": \"149\",\n",
      "\"attributes\": {\n",
      "\"name\": \"Athlete\",\n",
      "\"id\": 149,\n",
      "\"url\": \"http://dbpedia.org/ontology/Athlete\"\n",
      "},\n",
      "\"v_type\": \"Tag_Class\"\n",
      "},\n",
      "{\n",
      "\"v_id\": \"0\",\n",
      "\"attributes\": {\n",
      "\"name\": \"Thing\",\n",
      "\"id\": 0,\n",
      "\"url\": \"http://www.w3.org/2002/07/owl#Thing\"\n",
      "},\n",
      "\"v_type\": \"Tag_Class\"\n",
      "}\n",
      "]}]\n",
      "}\n"
     ]
    }
   ],
   "source": [
    "query = \"\"\"\n",
    "USE GRAPH ldbc_snb\n",
    "\n",
    "INTERPRET QUERY () SYNTAX v2 {\n",
    "\n",
    "    tag_class1 = SELECT t\n",
    "                 FROM Tag_Class:s - (Is_Subclass_Of>*1..) - Tag_Class:t\n",
    "                 WHERE s.name == \"TennisPlayer\";\n",
    "\n",
    "    PRINT tag_class1;\n",
    "}\n",
    "\"\"\"\n",
    "\n",
    "result = conn.gsql(query)\n",
    "print(result)"
   ]
  },
  {
   "cell_type": "markdown",
   "id": "1b5aba51-368f-4fab-baae-bdd6ffb6845e",
   "metadata": {},
   "source": [
    "### Example 6. Disjunctive 1-Repetition Directed Edge.\n",
    "\n",
    "Find the 3 most recent comments that are liked or created by Viktor Akhiezer and the total number of comments liked or created by the same person."
   ]
  },
  {
   "cell_type": "code",
   "execution_count": 17,
   "id": "51a4d991-78f0-44a5-a7a3-023ade644855",
   "metadata": {},
   "outputs": [
    {
     "name": "stdout",
     "output_type": "stream",
     "text": [
      "Using graph 'ldbc_snb'\n",
      "{\n",
      "\"error\": false,\n",
      "\"message\": \"\",\n",
      "\"version\": {\n",
      "\"schema\": 12,\n",
      "\"edition\": \"enterprise\",\n",
      "\"api\": \"v2\"\n",
      "},\n",
      "\"results\": [\n",
      "{\"top_3_comments\": [\n",
      "{\n",
      "\"v_id\": \"2061584720640\",\n",
      "\"attributes\": {\n",
      "\"browser_used\": \"Chrome\",\n",
      "\"length\": 4,\n",
      "\"location_ip\": \"194.62.64.117\",\n",
      "\"id\": 2061584720640,\n",
      "\"creation_date\": \"2012-09-06 06:46:31\",\n",
      "\"content\": \"fine\"\n",
      "},\n",
      "\"v_type\": \"Comment\"\n",
      "},\n",
      "{\n",
      "\"v_id\": \"2061590804929\",\n",
      "\"attributes\": {\n",
      "\"browser_used\": \"Chrome\",\n",
      "\"length\": 83,\n",
      "\"location_ip\": \"194.62.64.117\",\n",
      "\"id\": 2061590804929,\n",
      "\"creation_date\": \"2012-09-04 16:16:56\",\n",
      "\"content\": \"About Muttiah Muralitharan, mit by nine degrees, five degrees being thAbout Steve M\"\n",
      "},\n",
      "\"v_type\": \"Comment\"\n",
      "},\n",
      "{\n",
      "\"v_id\": \"2061586872389\",\n",
      "\"attributes\": {\n",
      "\"browser_used\": \"Chrome\",\n",
      "\"length\": 90,\n",
      "\"location_ip\": \"31.216.177.175\",\n",
      "\"id\": 2061586872389,\n",
      "\"creation_date\": \"2012-08-28 14:54:46\",\n",
      "\"content\": \"About Hector Berlioz, his compositions Symphonie fantastique and GraAbout Who Knew, the gu\"\n",
      "},\n",
      "\"v_type\": \"Comment\"\n",
      "}\n",
      "]},\n",
      "{\"@@comment_cnt\": 152}\n",
      "]\n",
      "}\n"
     ]
    }
   ],
   "source": [
    "query = \"\"\"\n",
    "USE GRAPH ldbc_snb\n",
    "\n",
    "INTERPRET QUERY () SYNTAX v2{\n",
    "    SumAccum<INT> @@comment_cnt = 0;\n",
    "\n",
    "    // find top 3 latest comments that is liked or created by Viktor Akhiezer\n",
    "    // and the total number of comments related to Viktor Akhiezer\n",
    "    top_3_comments = SELECT p\n",
    "                     FROM Person:s - ((<Has_Creator|Likes>)*1) - Comment:p\n",
    "                     WHERE s.first_name == \"Viktor\" AND s.last_name == \"Akhiezer\"\n",
    "                     ACCUM @@comment_cnt += 1\n",
    "                     ORDER BY p.creation_date DESC\n",
    "                     LIMIT 3;\n",
    "\n",
    "    PRINT top_3_comments;\n",
    "    // total number of comments related to Viktor Akhiezer\n",
    "    PRINT @@comment_cnt;\n",
    "}\n",
    "\"\"\"\n",
    "\n",
    "result = conn.gsql(query)\n",
    "print(result)"
   ]
  },
  {
   "cell_type": "markdown",
   "id": "df824485-4a8e-4f20-b10f-88a9f7a5fa75",
   "metadata": {},
   "source": [
    "## Multiple Hop Patterns and Accumulation\n",
    "\n",
    "Repeating the same hop is useful sometimes, but the real power of pattern matching comes from expressing multi-hop patterns, with specific characteristics for each hop. a 2-hop pattern is a simple concatenation and merging of two 1-hop patterns where the two patterns share a common endpoint. Similarly, a 3-hop pattern concatenates three 1-hop patterns in sequence, each pair of adjacent hops sharing one end point. A multi-hop pattern has two endpoint vertex sets and one or more intermediate vertex sets. If the query does not need to express any conditions for an intermediate vertex set, then the vertex set can be omitted and the two surrounding edge sets can be joined with a simple."
   ]
  },
  {
   "cell_type": "markdown",
   "id": "89fe055d-9def-42ff-96e9-7dbf3499e52b",
   "metadata": {},
   "source": [
    "### POST-ACCUM example \n",
    "\n",
    "At the end of the ACCUM clause, all the requested accumulation (+=) operators are processed in bulk, and the updated values are now visible. You can now use POST-ACCUM clauses to perform a second, different round of computation on the results of your pattern matching.\n",
    "\n",
    "The ACCUM clause executes for each full path that matches the pattern in the FROM clause. In contrast, the POST-ACCUM clause executes for each vertex in one vertex set (e.g. one vertex column in the matching table); its statements can access the aggregated accumulator result computed in the ACCUM clause. If you want to perform per-vertex updates for more than one vertex alias, you should use a separate POST-ACCUM clause for each vertex alias. The multiple POST-ACCUM clauses are processed in parallel; it doesn’t matter in what order you write them. (For each binding, the statements within a clause are executed in order.)\n",
    "\n",
    "For example, below we have two POST-ACCUM clauses. The first one iterates through s, and for each s, we do s.@cnt2 += s.@cnt1. The second POST-ACCUM iterations through t."
   ]
  },
  {
   "cell_type": "code",
   "execution_count": 18,
   "id": "17eaa194-aa8d-443b-9a01-d3f0285af946",
   "metadata": {},
   "outputs": [
    {
     "name": "stdout",
     "output_type": "stream",
     "text": [
      "Using graph 'ldbc_snb'\n",
      "{\n",
      "\"error\": false,\n",
      "\"message\": \"\",\n",
      "\"version\": {\n",
      "\"schema\": 12,\n",
      "\"edition\": \"enterprise\",\n",
      "\"api\": \"v2\"\n",
      "},\n",
      "\"results\": [{\"R\": [{\n",
      "\"v_id\": \"28587302323577\",\n",
      "\"attributes\": {\n",
      "\"R.first_name\": \"Viktor\",\n",
      "\"R.last_name\": \"Akhiezer\",\n",
      "\"R.@cnt1\": 3,\n",
      "\"R.@cnt2\": 3\n",
      "},\n",
      "\"v_type\": \"Person\"\n",
      "}]}]\n",
      "}\n"
     ]
    }
   ],
   "source": [
    "query = \"\"\"\n",
    "USE GRAPH ldbc_snb\n",
    "\n",
    "INTERPRET QUERY () SYNTAX v2 {\n",
    "\n",
    "    SumAccum<int> @cnt1;\n",
    "    SumAccum<int> @cnt2;\n",
    "\n",
    "    R = SELECT s\n",
    "        FROM Person:s-(Likes>) -:msg - (Has_Creator>)-Person:t\n",
    "        WHERE s.first_name == \"Viktor\" AND \n",
    "              s.last_name == \"Akhiezer\" AND \n",
    "              t.last_name LIKE \"S%\" AND \n",
    "              year(msg.creation_date) == 2012\n",
    "        ACCUM s.@cnt1 +=1 //execute this per match of the FROM pattern.\n",
    "        POST-ACCUM s.@cnt2 += s.@cnt1 //execute once per s.\n",
    "        POST-ACCUM t.@cnt2 +=1;//execute once per t\n",
    "\n",
    "    PRINT R [R.first_name, R.last_name, R.@cnt1, R.@cnt2];\n",
    "}\n",
    "\"\"\"\n",
    "\n",
    "result = conn.gsql(query)\n",
    "print(result)"
   ]
  },
  {
   "cell_type": "markdown",
   "id": "b87e0730-69ba-4950-b21b-a78dbfec7c5e",
   "metadata": {},
   "source": [
    "### Example 1. Succinct Representation Of Multiple-hop Pattern\n",
    "\n",
    "Find the 3rd superclass of the Tag class whose name is \"TennisPlayer\"."
   ]
  },
  {
   "cell_type": "code",
   "execution_count": 19,
   "id": "fd348829-2212-4b07-8c81-e75106078c6a",
   "metadata": {},
   "outputs": [
    {
     "name": "stdout",
     "output_type": "stream",
     "text": [
      "Using graph 'ldbc_snb'\n",
      "{\n",
      "\"error\": false,\n",
      "\"message\": \"\",\n",
      "\"version\": {\n",
      "\"schema\": 12,\n",
      "\"edition\": \"enterprise\",\n",
      "\"api\": \"v2\"\n",
      "},\n",
      "\"results\": [{\"Tag_Class1\": [{\n",
      "\"v_id\": \"239\",\n",
      "\"attributes\": {\n",
      "\"name\": \"Agent\",\n",
      "\"id\": 239,\n",
      "\"url\": \"http://dbpedia.org/ontology/Agent\"\n",
      "},\n",
      "\"v_type\": \"Tag_Class\"\n",
      "}]}]\n",
      "}\n"
     ]
    }
   ],
   "source": [
    "query = \"\"\"\n",
    "USE GRAPH ldbc_snb\n",
    "\n",
    "INTERPRET QUERY () SYNTAX v2 {\n",
    "\n",
    "    Tag_Class1 =\n",
    "        SELECT t\n",
    "        FROM Tag_Class:s-(Is_Subclass_Of>.Is_Subclass_Of>.Is_Subclass_Of>)-Tag_Class:t\n",
    "        WHERE s.name == \"TennisPlayer\";\n",
    "\n",
    "    PRINT Tag_Class1;\n",
    "}\n",
    "\"\"\"\n",
    "\n",
    "result = conn.gsql(query)\n",
    "print(result)"
   ]
  },
  {
   "cell_type": "markdown",
   "id": "845ab14d-cfe8-44a7-a6ed-7d884bd16d97",
   "metadata": {},
   "source": [
    "### Example 2. Disjunction in a Succinct Representation of a Multiple-hop Pattern\n",
    "\n",
    "Find in which continents were the 3 most recent messages in Jan 2011 created."
   ]
  },
  {
   "cell_type": "code",
   "execution_count": 20,
   "id": "39fe15ec-b7d3-4a02-94c3-dd0131303ab3",
   "metadata": {},
   "outputs": [
    {
     "name": "stdout",
     "output_type": "stream",
     "text": [
      "Using graph 'ldbc_snb'\n",
      "{\n",
      "\"error\": false,\n",
      "\"message\": \"\",\n",
      "\"version\": {\n",
      "\"schema\": 12,\n",
      "\"edition\": \"enterprise\",\n",
      "\"api\": \"v2\"\n",
      "},\n",
      "\"results\": [{\"acc_msg_continent\": [\n",
      "{\n",
      "\"v_id\": \"824634837528\",\n",
      "\"attributes\": {\n",
      "\"browser_used\": \"Internet Explorer\",\n",
      "\"@continent_name\": \"Asia\",\n",
      "\"length\": 115,\n",
      "\"image_file\": \"\",\n",
      "\"location_ip\": \"87.251.6.121\",\n",
      "\"id\": 824634837528,\n",
      "\"creation_date\": \"2011-01-31 23:58:03\",\n",
      "\"lang\": \"tk\",\n",
      "\"content\": \"About Adolf Hitler, iews. His writings and methods were often adapted to need and circumstance, although there were\"\n",
      "},\n",
      "\"v_type\": \"Post\"\n",
      "},\n",
      "{\n",
      "\"v_id\": \"824636727408\",\n",
      "\"attributes\": {\n",
      "\"browser_used\": \"Firefox\",\n",
      "\"@continent_name\": \"Europe\",\n",
      "\"length\": 3,\n",
      "\"location_ip\": \"31.2.225.17\",\n",
      "\"id\": 824636727408,\n",
      "\"creation_date\": \"2011-01-31 23:57:46\",\n",
      "\"content\": \"thx\"\n",
      "},\n",
      "\"v_type\": \"Comment\"\n",
      "},\n",
      "{\n",
      "\"v_id\": \"824640012997\",\n",
      "\"attributes\": {\n",
      "\"browser_used\": \"Firefox\",\n",
      "\"@continent_name\": \"Asia\",\n",
      "\"length\": 7,\n",
      "\"location_ip\": \"27.112.21.246\",\n",
      "\"id\": 824640012997,\n",
      "\"creation_date\": \"2011-01-31 23:54:28\",\n",
      "\"content\": \"no way!\"\n",
      "},\n",
      "\"v_type\": \"Comment\"\n",
      "}\n",
      "]}]\n",
      "}\n"
     ]
    }
   ],
   "source": [
    "query = \"\"\"\n",
    "USE GRAPH ldbc_snb\n",
    "\n",
    "INTERPRET QUERY () SYNTAX v2{\n",
    "\n",
    "    SumAccum<String> @continent_name;\n",
    "\n",
    "    acc_msg_continent =\n",
    "        SELECT s\n",
    "        FROM (Comment|Post):s-(Is_Located_In>.Is_Part_Of>)-Continent:t\n",
    "        WHERE year(s.creation_date) == 2011 AND month(s.creation_date) == 1\n",
    "        ACCUM s.@continent_name = t.name\n",
    "        ORDER BY s.creation_date DESC\n",
    "        LIMIT 3;\n",
    "\n",
    "    PRINT acc_msg_continent;\n",
    "}\n",
    "\"\"\"\n",
    "\n",
    "result = conn.gsql(query)\n",
    "print(result)"
   ]
  },
  {
   "cell_type": "markdown",
   "id": "8e1c39d3-6fec-4331-abb5-2c1b34d6134e",
   "metadata": {},
   "source": [
    "### Example 3. Multiple-hop Pattern With Accumulator Applied To All Matched Paths\n",
    "\n",
    "Find Viktor Akhiezer’s favorite author of 2012 whose last name begins with the letter 'S'. \n",
    "Also find how many LIKES Viktor has given to the author’s post or comment."
   ]
  },
  {
   "cell_type": "code",
   "execution_count": 21,
   "id": "19d812d5-5c92-46b9-bc6a-257112a146f8",
   "metadata": {},
   "outputs": [
    {
     "name": "stdout",
     "output_type": "stream",
     "text": [
      "Using graph 'ldbc_snb'\n",
      "{\n",
      "\"error\": false,\n",
      "\"message\": \"\",\n",
      "\"version\": {\n",
      "\"schema\": 12,\n",
      "\"edition\": \"enterprise\",\n",
      "\"api\": \"v2\"\n",
      "},\n",
      "\"results\": [{\"favorite_authors\": [\n",
      "{\n",
      "\"v_id\": \"15393162796846\",\n",
      "\"attributes\": {\n",
      "\"favorite_authors.last_name\": \"Santos\",\n",
      "\"favorite_authors.@likes_cnt\": 1,\n",
      "\"favorite_authors.first_name\": \"Mario\"\n",
      "},\n",
      "\"v_type\": \"Person\"\n",
      "},\n",
      "{\n",
      "\"v_id\": \"8796093025410\",\n",
      "\"attributes\": {\n",
      "\"favorite_authors.last_name\": \"Singh\",\n",
      "\"favorite_authors.@likes_cnt\": 1,\n",
      "\"favorite_authors.first_name\": \"Priyanka\"\n",
      "},\n",
      "\"v_type\": \"Person\"\n",
      "},\n",
      "{\n",
      "\"v_id\": \"2199023260091\",\n",
      "\"attributes\": {\n",
      "\"favorite_authors.last_name\": \"Seppala\",\n",
      "\"favorite_authors.@likes_cnt\": 1,\n",
      "\"favorite_authors.first_name\": \"Janne\"\n",
      "},\n",
      "\"v_type\": \"Person\"\n",
      "}\n",
      "]}]\n",
      "}\n"
     ]
    }
   ],
   "source": [
    "query = \"\"\"\n",
    "USE GRAPH ldbc_snb\n",
    "\n",
    "INTERPRET QUERY () SYNTAX v2{\n",
    "    SumAccum<int> @likes_cnt;\n",
    "\n",
    "    favorite_authors =\n",
    "        SELECT t\n",
    "        FROM Person:s-(Likes>) -:msg - (Has_Creator>)-Person:t\n",
    "        WHERE s.first_name == \"Viktor\" AND \n",
    "              s.last_name == \"Akhiezer\" AND \n",
    "              t.last_name LIKE \"S%\" AND \n",
    "              year(msg.creation_date) == 2012\n",
    "        ACCUM t.@likes_cnt +=1;\n",
    "\n",
    "    PRINT favorite_authors[favorite_authors.first_name, favorite_authors.last_name, favorite_authors.@likes_cnt];\n",
    "}\n",
    "\"\"\"\n",
    "\n",
    "result = conn.gsql(query)\n",
    "print(result)"
   ]
  },
  {
   "cell_type": "markdown",
   "id": "180d8e13-1d7a-4563-beb3-fd6131abdb6c",
   "metadata": {},
   "source": [
    "## Multi-Block Queries\n",
    "###  Example 1: Find Viktor Akhiezer’s liked messages whose authors' last names begin with S. Find these authors' alumni count."
   ]
  },
  {
   "cell_type": "code",
   "execution_count": 22,
   "id": "e32f118c-d844-4447-813a-f249828a870b",
   "metadata": {},
   "outputs": [
    {
     "name": "stdout",
     "output_type": "stream",
     "text": [
      "Using graph 'ldbc_snb'\n",
      "{\n",
      "\"error\": false,\n",
      "\"message\": \"\",\n",
      "\"version\": {\n",
      "\"schema\": 12,\n",
      "\"edition\": \"enterprise\",\n",
      "\"api\": \"v2\"\n",
      "},\n",
      "\"results\": [{\"@@cnt\": 223}]\n",
      "}\n"
     ]
    }
   ],
   "source": [
    "query = \"\"\"\n",
    "USE GRAPH ldbc_snb\n",
    "\n",
    "// a computed vertex set F is used to constrain the second pattern.\n",
    "INTERPRET QUERY () SYNTAX v2 {\n",
    "\n",
    "    SumAccum<int> @@cnt;\n",
    "\n",
    "    F = SELECT t\n",
    "        FROM :s -(Likes>:e1)- :msg -(Has_Creator>)- :t\n",
    "        WHERE s.first_name == \"Viktor\" AND \n",
    "              s.last_name == \"Akhiezer\" AND \n",
    "              t.last_name LIKE \"S%\";\n",
    "\n",
    "    Alumni = SELECT p\n",
    "             FROM Person:p -(Study_At>) -:u - (<Study_At)- F:s\n",
    "             WHERE s != p\n",
    "             Per (p)\n",
    "             POST-ACCUM @@cnt+=1;\n",
    "\n",
    "    PRINT @@cnt;\n",
    "\n",
    "}\n",
    "\n",
    "\"\"\"\n",
    "\n",
    "result = conn.gsql(query)\n",
    "print(result)"
   ]
  },
  {
   "cell_type": "markdown",
   "id": "f138dfd4-ceae-4583-aa32-6a53603d9803",
   "metadata": {},
   "source": [
    "###  Example 2: Find Viktor Akhiezer’s liked posts' authors A, and his liked comments' authors B. Count the universities that members from groups A and B studied at.\n"
   ]
  },
  {
   "cell_type": "code",
   "execution_count": 23,
   "id": "07b2256e-82bf-4201-9ecb-6844862d5c91",
   "metadata": {},
   "outputs": [
    {
     "name": "stdout",
     "output_type": "stream",
     "text": [
      "Using graph 'ldbc_snb'\n",
      "{\n",
      "\"error\": false,\n",
      "\"message\": \"\",\n",
      "\"version\": {\n",
      "\"schema\": 12,\n",
      "\"edition\": \"enterprise\",\n",
      "\"api\": \"v2\"\n",
      "},\n",
      "\"results\": [{\"@@cnt\": 4}]\n",
      "}\n"
     ]
    }
   ],
   "source": [
    "query = \"\"\"\n",
    "USE GRAPH ldbc_snb\n",
    "\n",
    "// A and B are used to constrain the third pattern.\n",
    "INTERPRET QUERY () SYNTAX v2 {\n",
    "\n",
    "    SumAccum<int> @@cnt;\n",
    "\n",
    "    A = SELECT t\n",
    "        FROM :s -(Likes>:e1)- Post:msg -(Has_Creator>)- :t\n",
    "        WHERE s.first_name == \"Viktor\" AND s.last_name == \"Akhiezer\" ;\n",
    "\n",
    "\n",
    "    B = SELECT t\n",
    "        FROM :s -(Likes>:e1)- Comment:msg -(Has_Creator>)- :t\n",
    "        WHERE s.first_name == \"Viktor\" AND s.last_name == \"Akhiezer\" ;\n",
    "\n",
    "    Univ = SELECT u\n",
    "           FROM A:p -(Study_At>) -:u - (<Study_At)- B:s\n",
    "           WHERE s != p\n",
    "           Per (u)\n",
    "           POST-ACCUM @@cnt+=1;\n",
    "\n",
    "    PRINT @@cnt;\n",
    "}\n",
    "\n",
    "\"\"\"\n",
    "\n",
    "result = conn.gsql(query)\n",
    "print(result)"
   ]
  },
  {
   "cell_type": "markdown",
   "id": "f4ebc969-6b97-4f66-a762-b2c3748dd5da",
   "metadata": {},
   "source": [
    "###  Example 3. Find Viktor Akhiezer’s liked posts' authors A. See how many pairs of persons exist in A such that one person likes a message authored by another person."
   ]
  },
  {
   "cell_type": "code",
   "execution_count": 24,
   "id": "d540d455-4ac7-4d4e-b1ec-2b11c8b4d386",
   "metadata": {},
   "outputs": [
    {
     "name": "stdout",
     "output_type": "stream",
     "text": [
      "Using graph 'ldbc_snb'\n",
      "{\n",
      "\"error\": false,\n",
      "\"message\": \"\",\n",
      "\"version\": {\n",
      "\"schema\": 12,\n",
      "\"edition\": \"enterprise\",\n",
      "\"api\": \"v2\"\n",
      "},\n",
      "\"results\": [{\"@@cnt\": 8341}]\n",
      "}\n"
     ]
    }
   ],
   "source": [
    "query = \"\"\"\n",
    "USE GRAPH ldbc_snb\n",
    "\n",
    "// a computed vertex set A is used twice in the second pattern.\n",
    "INTERPRET QUERY () SYNTAX v2 {\n",
    "\n",
    "    SumAccum<int> @@cnt;\n",
    "\n",
    "    A = SELECT t\n",
    "        FROM :s -(Likes>:e1)- Post:msg -(Has_Creator>)- :t\n",
    "        WHERE s.first_name == \"Viktor\" AND s.last_name == \"Akhiezer\" ;\n",
    "\n",
    "    A = SELECT p\n",
    "        FROM A:p -(Likes>) -:msg - (Has_Creator>) - A:p2\n",
    "        WHERE p2 != p\n",
    "        Per (p, p2)\n",
    "        ACCUM @@cnt +=1;\n",
    "\n",
    "  PRINT @@cnt;\n",
    "} \n",
    "\"\"\"\n",
    "\n",
    "result = conn.gsql(query)\n",
    "print(result)"
   ]
  },
  {
   "cell_type": "markdown",
   "id": "f0cdb825-750c-403e-baa0-5762d8615475",
   "metadata": {},
   "source": [
    "###  Example 4. Find how many messages are created and liked by the same person whose first name begins with the letter T."
   ]
  },
  {
   "cell_type": "code",
   "execution_count": 25,
   "id": "1105d97f-d1ad-4c2e-b12c-ccdb845b052a",
   "metadata": {},
   "outputs": [
    {
     "name": "stdout",
     "output_type": "stream",
     "text": [
      "Using graph 'ldbc_snb'\n",
      "{\n",
      "\"error\": false,\n",
      "\"message\": \"\",\n",
      "\"version\": {\n",
      "\"schema\": 12,\n",
      "\"edition\": \"enterprise\",\n",
      "\"api\": \"v2\"\n",
      "},\n",
      "\"results\": [{\"@@cnt\": 207}]\n",
      "}\n"
     ]
    }
   ],
   "source": [
    "query = \"\"\"\n",
    "USE GRAPH ldbc_snb\n",
    "\n",
    "// the same alias is used twice in a pattern\n",
    "INTERPRET QUERY () SYNTAX v2 {\n",
    "\n",
    "    SumAccum<int> @@cnt;\n",
    "\n",
    "    A = SELECT msg\n",
    "        FROM :s -(Likes>:e1)- :msg -(Has_Creator>)- :s\n",
    "        WHERE s.first_name LIKE \"T%\"\n",
    "        PER (msg)\n",
    "        ACCUM @@cnt +=1;\n",
    "\n",
    "  PRINT @@cnt;\n",
    "}\n",
    "\"\"\"\n",
    "\n",
    "result = conn.gsql(query)\n",
    "print(result)"
   ]
  },
  {
   "cell_type": "markdown",
   "id": "34c793f3-ad40-492f-b48c-8de18a5637ab",
   "metadata": {},
   "source": [
    "To further verify, we picked one message from the above query result. see if there exists a person who likes her own message."
   ]
  },
  {
   "cell_type": "code",
   "execution_count": 26,
   "id": "f6773c0f-5d13-465d-8500-5b3cb6c9436e",
   "metadata": {},
   "outputs": [
    {
     "name": "stdout",
     "output_type": "stream",
     "text": [
      "Using graph 'ldbc_snb'\n",
      "{\n",
      "\"error\": false,\n",
      "\"message\": \"\",\n",
      "\"version\": {\n",
      "\"schema\": 12,\n",
      "\"edition\": \"enterprise\",\n",
      "\"api\": \"v2\"\n",
      "},\n",
      "\"results\": [\n",
      "{\"R\": [{\n",
      "\"v_id\": \"13194139533433\",\n",
      "\"attributes\": {\n",
      "\"birthday\": \"1985-11-26 00:00:00\",\n",
      "\"browser_used\": \"Internet Explorer\",\n",
      "\"gender\": \"female\",\n",
      "\"last_name\": \"Kofler\",\n",
      "\"creation_date\": \"2011-01-29 01:14:27\",\n",
      "\"article_rank\": 0,\n",
      "\"pagerank_wt\": 0.15,\n",
      "\"speaks\": [\n",
      "\"uk\",\n",
      "\"ro\",\n",
      "\"en\"\n",
      "],\n",
      "\"location_ip\": \"31.131.28.133\",\n",
      "\"id\": 13194139533433,\n",
      "\"pagerank\": 2.56089,\n",
      "\"first_name\": \"Taras\",\n",
      "\"email\": [\n",
      "\"Taras13194139533433@gmail.com\",\n",
      "\"Taras13194139533433@yahoo.com\"\n",
      "]\n",
      "},\n",
      "\"v_type\": \"Person\"\n",
      "}]},\n",
      "{\"T\": [{\n",
      "\"v_id\": \"13194139533433\",\n",
      "\"attributes\": {\n",
      "\"birthday\": \"1985-11-26 00:00:00\",\n",
      "\"browser_used\": \"Internet Explorer\",\n",
      "\"gender\": \"female\",\n",
      "\"last_name\": \"Kofler\",\n",
      "\"creation_date\": \"2011-01-29 01:14:27\",\n",
      "\"article_rank\": 0,\n",
      "\"pagerank_wt\": 0.15,\n",
      "\"speaks\": [\n",
      "\"uk\",\n",
      "\"ro\",\n",
      "\"en\"\n",
      "],\n",
      "\"location_ip\": \"31.131.28.133\",\n",
      "\"id\": 13194139533433,\n",
      "\"pagerank\": 2.56089,\n",
      "\"first_name\": \"Taras\",\n",
      "\"email\": [\n",
      "\"Taras13194139533433@gmail.com\",\n",
      "\"Taras13194139533433@yahoo.com\"\n",
      "]\n",
      "},\n",
      "\"v_type\": \"Person\"\n",
      "}]}\n",
      "]\n",
      "}\n"
     ]
    }
   ],
   "source": [
    "query = \"\"\"\n",
    "USE GRAPH ldbc_snb\n",
    "\n",
    "INTERPRET QUERY () SYNTAX v2 {\n",
    "\n",
    "    R = SELECT s\n",
    "        FROM :msg -(Has_Creator>)- :s\n",
    "        WHERE msg.id == 1374390714042;\n",
    "\n",
    "    T = SELECT s\n",
    "        FROM R:s -(Likes>)- :msg\n",
    "        WHERE msg.id == 1374390714042;\n",
    "\n",
    "    PRINT R;\n",
    "    PRINT T;\n",
    "}\n",
    "\"\"\"\n",
    "\n",
    "result = conn.gsql(query)\n",
    "print(result)"
   ]
  },
  {
   "cell_type": "markdown",
   "id": "b7982fd9-e39d-4a74-be9b-c1c14a5b3cdc",
   "metadata": {},
   "source": [
    "## Example - A recommender\n",
    "\n",
    "We have demonstrated the basic pattern match syntax. You should fully understand the basics by this point. In this section, we show two end-to-end solutions using the pattern match syntax.\n",
    "In this example, we want to recommend some messages (comments or posts) to the person Viktor Akhiezer.\n",
    "\n",
    "How do we do this?\n",
    "\n",
    "One way is to find others who like the same messages Viktor likes, then recommend the messages that Others like but Viktor has not seen. The pattern can be sketched out as follows:\n",
    "\n",
    "Viktor - (Likes>) - Message - (<Likes) - Others\n",
    "\n",
    "Others - (Likes>) - NewMessage\n",
    "\n",
    "Recommend NewMessage to Viktor\n",
    "\n",
    "However, this is too granular. We are overfitting the message-level data with a collaborative filtering algorithm.\n",
    "\n",
    "Intutively, two persons are similar to each other when their \"liked\" messages fall into the same category - here represented by the set of tags attached to each message.\n",
    "\n",
    "As a result, one way to avoid overfitting is to go one level upward. Instead of looking at common messages, we look at their tags. We consider Person A and Person B similar if they like messages that belong to the same tag. This scheme fixes the overfitting problem. In pattern match vocabulary, we have\n",
    "\n",
    "Viktor - (Likes>) - Message - (Has>) - Tag - (<Has) - Message - (<Likes) - Others\n",
    "\n",
    "Others - (Likes>) - NewMessage\n",
    "\n",
    "Recommend NewMessage to Viktor\n",
    "\n",
    "This time, we create the query first and interpret the query by calling the query name with parameters.\n",
    "If we are satisfied with this query, we can use INSTALL QUERY queryName to install the query, increasing performance."
   ]
  },
  {
   "cell_type": "code",
   "execution_count": 27,
   "id": "082ad5a4-5fc1-4612-92c5-537cdd495c6b",
   "metadata": {},
   "outputs": [
    {
     "name": "stdout",
     "output_type": "stream",
     "text": [
      "Using graph 'ldbc_snb'\n",
      "Waiting other query to finish installation on the graph 'ldbc_snb', it may take a while ...\n",
      "Semantic Check Fails: The query name recommend_message is used by another object! Please use a different name.\n",
      "Failed to create queries: [recommend_message].\n"
     ]
    }
   ],
   "source": [
    "query = \"\"\"\n",
    "\n",
    "// before installing the query, need to set the syntax version\n",
    "SET syntax_version=\"v2\"\n",
    "USE GRAPH ldbc_snb\n",
    "\n",
    "CREATE QUERY recommend_message (STRING fn, STRING ln) SYNTAX v2{\n",
    "\n",
    "  SumAccum<int> @tag_in_common;\n",
    "  SumAccum<float> @similarity_score;\n",
    "  SumAccum<float> @rank;\n",
    "  OrAccum @Liked = false;\n",
    "\n",
    "   // 1. mark messages liked by Viktor\n",
    "   // 2. calculate log similarity score for each persons share the same\n",
    "   //   interests at Tag level.\n",
    "    Others =\n",
    "       SELECT p\n",
    "       FROM Person:s-(Likes>)-:msg - (Has_Tag>.<Has_Tag.<Likes)- :p\n",
    "       WHERE s.first_name == fn AND s.last_name == ln\n",
    "       ACCUM msg.@Liked = true, p.@tag_in_common +=1\n",
    "       POST-ACCUM p.@similarity_score = log (1 + p.@tag_in_common);\n",
    "\n",
    "    // recommend new messages to Viktor that have not been liked by him.\n",
    "    recommended_message =\n",
    "             SELECT msg\n",
    "             FROM Others:o-(Likes>) - :msg\n",
    "             WHERE  msg.@Liked == false\n",
    "             ACCUM msg.@rank +=o.@similarity_score\n",
    "             ORDER BY msg.@rank DESC\n",
    "             LIMIT 2;\n",
    "\n",
    "  PRINT recommended_message[recommended_message.content, recommended_message.@rank];\n",
    "}\n",
    "\n",
    "\n",
    "\n",
    "// install query\n",
    "INSTALL QUERY recommend_message\n",
    "\n",
    "\"\"\"\n",
    "\n",
    "result = conn.gsql(query)\n",
    "print(result)"
   ]
  },
  {
   "cell_type": "markdown",
   "id": "d652c903-b8d1-401e-9ad0-8a93f0cc5a30",
   "metadata": {},
   "source": [
    "### NOTE\n",
    "\n",
    "Increate the query timeout threshold. The query won't finish because it exceeded the default query timeout threshold (60 seconds). Please check GSE log for license expiration and \n",
    "RESTPP/GPE log with request id (16842754.RESTPP_1_1.1662360937266.N) for details. Try increase RESTPP.Factory.DefaultQueryTimeoutSec or add header GSQL-TIMEOUT to override default system timeout."
   ]
  },
  {
   "cell_type": "code",
   "execution_count": 28,
   "id": "7db522af-4934-4164-91c9-1d5a0673dce2",
   "metadata": {},
   "outputs": [
    {
     "name": "stdout",
     "output_type": "stream",
     "text": [
      "Using graph 'ldbc_snb'\n",
      "{\n",
      "\"error\": false,\n",
      "\"message\": \"\",\n",
      "\"version\": {\n",
      "\"schema\": 12,\n",
      "\"edition\": \"enterprise\",\n",
      "\"api\": \"v2\"\n",
      "},\n",
      "\"results\": [{\"recommended_message\": [\n",
      "{\n",
      "\"v_id\": \"549760294602\",\n",
      "\"attributes\": {\n",
      "\"recommended_message.@rank\": 4855.48975,\n",
      "\"recommended_message.content\": \"About Indira Gandhi, Gandhi established closer relatAbout Mick Jagger, eer of the band. In 1989, he waAbout Ho Chi Minh, ce Unit and ECA International, About Ottoman Empire,  After t\"\n",
      "},\n",
      "\"v_type\": \"Post\"\n",
      "},\n",
      "{\n",
      "\"v_id\": \"549760292109\",\n",
      "\"attributes\": {\n",
      "\"recommended_message.@rank\": 4828.72217,\n",
      "\"recommended_message.content\": \"About Ho Chi Minh, nam, as an anti-communist state, fought against the communisAbout Shiny Happy People, sale in the U.\"\n",
      "},\n",
      "\"v_type\": \"Post\"\n",
      "}\n",
      "]}]\n",
      "}\n",
      "Other operation is running, try to lock the catalog, timeout in 600 seconds ...\n",
      "The query didn't finish because it exceeded the query timeout threshold (60 seconds). Please check GSE log for license expiration and RESTPP/GPE log with request id (16973825.RESTPP_1_1.1668381187921.N) for details. Try increase RESTPP.Factory.DefaultQueryTimeoutSec or add header GSQL-TIMEOUT to override default system timeout.\n"
     ]
    }
   ],
   "source": [
    "query = \"\"\"\n",
    "USE GRAPH ldbc_snb\n",
    "\n",
    "INTERPRET QUERY recommend_message (\"Viktor\", \"Akhiezer\")\n",
    "INTERPRET QUERY recommend_message (\"Adriaan\", \"Jong\")\n",
    "\n",
    "\"\"\"\n",
    "result = conn.gsql(query)\n",
    "print(result)"
   ]
  }
 ],
 "metadata": {
  "kernelspec": {
   "display_name": "PyTorch",
   "language": "python",
   "name": "python3"
  },
  "language_info": {
   "codemirror_mode": {
    "name": "ipython",
    "version": 3
   },
   "file_extension": ".py",
   "mimetype": "text/x-python",
   "name": "python",
   "nbconvert_exporter": "python",
   "pygments_lexer": "ipython3",
   "version": "3.9.13"
  }
 },
 "nbformat": 4,
 "nbformat_minor": 5
}
