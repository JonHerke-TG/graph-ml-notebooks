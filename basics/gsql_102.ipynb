{
 "cells": [
  {
   "cell_type": "markdown",
   "id": "1feda573-8156-4b9b-a8bf-8ea91320b2b1",
   "metadata": {
    "tags": []
   },
   "source": [
    "## Prepare your environment: connect to TigerGraph database, create schema, map and load data \n",
    "\n",
    "This section of the gsql_102 walks you through creating the graph and loading graph data. We will be using the LDBC Social Network Benchmark (LDBC SNB) as the example. This data set models a typical online forum where users post messages and discuss topics. It comes with a data generator, which allows you to generate data at different scale factors. Scale factor 1 generates roughly 1GB of raw data, scale factor 10 generates roughly 10GB of raw data, and so on. Further GSQL 102 documentation can be found here (https://docs.tigergraph.com/gsql-ref/current/tutorials/pattern-matching/)."
   ]
  },
  {
   "cell_type": "markdown",
   "id": "9a60ccab-51aa-4ad1-bdad-93bb79b09da2",
   "metadata": {},
   "source": [
    "### Create connection"
   ]
  },
  {
   "cell_type": "code",
   "execution_count": 1,
   "id": "a9ca1988-2dae-4084-be12-9b95806eae4d",
   "metadata": {},
   "outputs": [],
   "source": [
    "import json\n",
    "import pandas as pd\n",
    "from pyTigerGraph import TigerGraphConnection\n",
    "\n",
    "# Read in DB configs\n",
    "with open('../config.json', \"r\") as config_file:\n",
    "    config = json.load(config_file)\n",
    "\n",
    "conn = TigerGraphConnection(\n",
    "    host=config[\"host\"],\n",
    "    username=config[\"username\"],\n",
    "    password=config[\"password\"],\n",
    ")"
   ]
  },
  {
   "cell_type": "markdown",
   "id": "043d9618-2ec0-4c59-bf93-9f3676a2e6b6",
   "metadata": {},
   "source": [
    "### Download ldbc_snb dataset"
   ]
  },
  {
   "cell_type": "code",
   "execution_count": 2,
   "id": "b5d3a7ff-c937-4523-8652-cf2aa6ff48c2",
   "metadata": {},
   "outputs": [
    {
     "data": {
      "application/vnd.jupyter.widget-view+json": {
       "model_id": "ae0dc10c4dfb4c2cafa19dc8325d9b8f",
       "version_major": 2,
       "version_minor": 0
      },
      "text/plain": [
       "Downloading:   0%|          | 0/286678171 [00:00<?, ?it/s]"
      ]
     },
     "metadata": {},
     "output_type": "display_data"
    }
   ],
   "source": [
    "from pyTigerGraph.datasets import Datasets\n",
    "dataset_ldbc = Datasets(\"ldbc_snb\")"
   ]
  },
  {
   "cell_type": "markdown",
   "id": "55c28a89-8219-4312-ac06-6ec484bd3883",
   "metadata": {},
   "source": [
    "### Ingest data"
   ]
  },
  {
   "cell_type": "code",
   "execution_count": 3,
   "id": "d5c45c11-3c9a-47f4-85e6-7db18ddffd36",
   "metadata": {},
   "outputs": [
    {
     "name": "stdout",
     "output_type": "stream",
     "text": [
      "---- Checking database ----\n",
      "---- Creating graph ----\n",
      "The graph ldbc_snb is created.\n",
      "---- Creating schema ----\n",
      "Using graph 'ldbc_snb'\n",
      "Successfully created schema change jobs: [ldbc_snb_schema].\n",
      "Kick off schema change job ldbc_snb_schema\n",
      "Doing schema change on graph 'ldbc_snb' (current version: 0)\n",
      "Trying to add local vertex 'Comment' to the graph 'ldbc_snb'.\n",
      "Trying to add local vertex 'Post' to the graph 'ldbc_snb'.\n",
      "Trying to add local vertex 'Company' to the graph 'ldbc_snb'.\n",
      "Trying to add local vertex 'University' to the graph 'ldbc_snb'.\n",
      "Trying to add local vertex 'City' to the graph 'ldbc_snb'.\n",
      "Trying to add local vertex 'Country' to the graph 'ldbc_snb'.\n",
      "Trying to add local vertex 'Continent' to the graph 'ldbc_snb'.\n",
      "Trying to add local vertex 'Forum' to the graph 'ldbc_snb'.\n",
      "Trying to add local vertex 'Person' to the graph 'ldbc_snb'.\n",
      "Trying to add local vertex 'Tag' to the graph 'ldbc_snb'.\n",
      "Trying to add local vertex 'Tag_Class' to the graph 'ldbc_snb'.\n",
      "Trying to add local edge 'Container_Of' and its reverse edge 'Container_Of_Reverse' to the graph 'ldbc_snb'.\n",
      "Trying to add local edge 'Has_Creator' and its reverse edge 'Has_Creator_Reverse' to the graph 'ldbc_snb'.\n",
      "Trying to add local edge 'Has_Interest' and its reverse edge 'Has_Interest_Reverse' to the graph 'ldbc_snb'.\n",
      "Trying to add local edge 'Has_Member' and its reverse edge 'Has_Member_Reverse' to the graph 'ldbc_snb'.\n",
      "Trying to add local edge 'Has_Moderator' and its reverse edge 'Has_Moderator_Reverse' to the graph 'ldbc_snb'.\n",
      "Trying to add local edge 'Has_Tag' and its reverse edge 'Has_Tag_Reverse' to the graph 'ldbc_snb'.\n",
      "Trying to add local edge 'Has_Type' and its reverse edge 'Has_Type_Reverse' to the graph 'ldbc_snb'.\n",
      "Trying to add local edge 'Is_Located_In' and its reverse edge 'Is_Located_In_Reverse' to the graph 'ldbc_snb'.\n",
      "Trying to add local edge 'Is_Part_Of' and its reverse edge 'Is_Part_Of_Reverse' to the graph 'ldbc_snb'.\n",
      "Trying to add local edge 'Is_Subclass_Of' and its reverse edge 'Is_Subclass_Of_Reverse' to the graph 'ldbc_snb'.\n",
      "Trying to add local edge 'Knows' to the graph 'ldbc_snb'.\n",
      "Trying to add local edge 'Likes' and its reverse edge 'Likes_Reverse' to the graph 'ldbc_snb'.\n",
      "Trying to add local edge 'Reply_Of' and its reverse edge 'Reply_Of_Reverse' to the graph 'ldbc_snb'.\n",
      "Trying to add local edge 'Study_At' and its reverse edge 'Study_At_Reverse' to the graph 'ldbc_snb'.\n",
      "Trying to add local edge 'Work_At' and its reverse edge 'Work_At_Reverse' to the graph 'ldbc_snb'.\n",
      "\n",
      "Graph ldbc_snb updated to new version 1\n",
      "The job ldbc_snb_schema completes in 4.377 seconds!\n",
      "---- Creating loading job ----\n",
      "Using graph 'ldbc_snb'\n",
      "Successfully created loading jobs: [load_ldbc_snb].\n",
      "---- Ingesting data ----\n",
      "[[{'sourceFileName': 'Online_POST', 'statistics': {'validLine': 9892, 'rejectLine': 0, 'failedConditionLine': 0, 'notEnoughToken': 0, 'invalidJson': 0, 'oversizeToken': 0, 'vertex': [{'typeName': 'Person', 'validObject': 9892, 'noIdFound': 0, 'invalidAttribute': 0, 'invalidVertexType': 0, 'invalidPrimaryId': 0, 'invalidSecondaryId': 0, 'incorrectFixedBinaryLength': 0}], 'edge': [], 'deleteVertex': [], 'deleteEdge': []}}], [{'sourceFileName': 'Online_POST', 'statistics': {'validLine': 1003605, 'rejectLine': 0, 'failedConditionLine': 0, 'notEnoughToken': 0, 'invalidJson': 0, 'oversizeToken': 0, 'vertex': [{'typeName': 'Post', 'validObject': 1003605, 'noIdFound': 0, 'invalidAttribute': 0, 'invalidVertexType': 0, 'invalidPrimaryId': 0, 'invalidSecondaryId': 0, 'incorrectFixedBinaryLength': 0}], 'edge': [], 'deleteVertex': [], 'deleteEdge': []}}], [{'sourceFileName': 'Online_POST', 'statistics': {'validLine': 16080, 'rejectLine': 0, 'failedConditionLine': 0, 'notEnoughToken': 0, 'invalidJson': 0, 'oversizeToken': 0, 'vertex': [{'typeName': 'Tag', 'validObject': 16080, 'noIdFound': 0, 'invalidAttribute': 0, 'invalidVertexType': 0, 'invalidPrimaryId': 0, 'invalidSecondaryId': 0, 'incorrectFixedBinaryLength': 0}], 'edge': [], 'deleteVertex': [], 'deleteEdge': []}}], [{'sourceFileName': 'Online_POST', 'statistics': {'validLine': 1460, 'rejectLine': 0, 'failedConditionLine': 0, 'notEnoughToken': 0, 'invalidJson': 0, 'oversizeToken': 0, 'vertex': [{'typeName': 'City', 'validObject': 1343, 'noIdFound': 0, 'invalidAttribute': 0, 'invalidVertexType': 0, 'invalidPrimaryId': 0, 'invalidSecondaryId': 0, 'incorrectFixedBinaryLength': 0, 'passedCondition': 1343, 'failedCondition': 117, 'failedConditionLines': [1, 2, 3, 4, 5, 6, 7, 8, 9, 10, 11, 12, 13, 14, 15, 16, 17, 18, 19, 20, 21, 22, 23, 24, 25, 26, 27, 28, 29, 30, 31, 32, 33, 34, 35, 36, 37, 38, 39, 40, 41, 42, 43, 44, 45, 46, 47, 48, 49, 50, 51, 52, 53, 54, 55, 56, 57, 58, 59, 60, 61, 62, 63, 64, 65, 66, 67, 68, 69, 70, 71, 72, 73, 74, 75, 76, 77, 78, 79, 80, 81, 82, 83, 84, 85, 86, 87, 88, 89, 90, 91, 92, 93, 94, 95, 96, 97, 98, 99, 100, 101, 102, 103, 104, 105, 106, 107, 108, 109, 110, 111, 1455, 1456, 1457, 1458, 1459, 1460], 'failedConditionLinesData': ['0|India|http://dbpedia.org/resource/India|country\\n', '1|China|http://dbpedia.org/resource/China|country\\n', '2|Angola|http://dbpedia.org/resource/Angola|country\\n', '3|Austria|http://dbpedia.org/resource/Austria|country\\n', '4|Azerbaijan|http://dbpedia.org/resource/Azerbaijan|country\\n', '5|Bolivia|http://dbpedia.org/resource/Bolivia|country\\n', '6|Bosnia_and_Herzegovina|http://dbpedia.org/resource/Bosnia_and_Herzegovina|country\\n', '7|Bulgaria|http://dbpedia.org/resource/Bulgaria|country\\n', '8|Chad|http://dbpedia.org/resource/Chad|country\\n', '9|Croatia|http://dbpedia.org/resource/Croatia|country\\n', '10|Denmark|http://dbpedia.org/resource/Denmark|country\\n', '11|Dominican_Republic|http://dbpedia.org/resource/Dominican_Republic|country\\n', '12|El_Salvador|http://dbpedia.org/resource/El_Salvador|country\\n', '13|Estonia|http://dbpedia.org/resource/Estonia|country\\n', '14|Finland|http://dbpedia.org/resource/Finland|country\\n', '15|Honduras|http://dbpedia.org/resource/Honduras|country\\n', '16|Hong_Kong|http://dbpedia.org/resource/Hong_Kong|country\\n', '17|Israel|http://dbpedia.org/resource/Israel|country\\n', '18|Jordan|http://dbpedia.org/resource/Jordan|country\\n', '19|Laos|http://dbpedia.org/resource/Laos|country\\n', '20|Latvia|http://dbpedia.org/resource/Latvia|country\\n', '21|Liberia|http://dbpedia.org/resource/Liberia|country\\n', '22|Libya|http://dbpedia.org/resource/Libya|country\\n', '23|Lithuania|http://dbpedia.org/resource/Lithuania|country\\n', '24|Malta|http://dbpedia.org/resource/Malta|country\\n', '25|Mauritania|http://dbpedia.org/resource/Mauritania|country\\n', '26|Mauritius|http://dbpedia.org/resource/Mauritius|country\\n', '27|Mongolia|http://dbpedia.org/resource/Mongolia|country\\n', '28|Namibia|http://dbpedia.org/resource/Namibia|country\\n', '29|New_Zealand|http://dbpedia.org/resource/New_Zealand|country\\n', '30|Nicaragua|http://dbpedia.org/resource/Nicaragua|country\\n', '31|Northern_Ireland|http://dbpedia.org/resource/Northern_Ireland|country\\n', '32|Norway|http://dbpedia.org/resource/Norway|country\\n', '33|Oman|http://dbpedia.org/resource/Oman|country\\n', '34|Panama|http://dbpedia.org/resource/Panama|country\\n', '35|Papua_New_Guinea|http://dbpedia.org/resource/Papua_New_Guinea|country\\n', '36|Puerto_Rico|http://dbpedia.org/resource/Puerto_Rico|country\\n', '37|Republic_of_Ireland|http://dbpedia.org/resource/Republic_of_Ireland|country\\n', '38|Republic_of_Macedonia|http://dbpedia.org/resource/Republic_of_Macedonia|country\\n', '39|Rwanda|http://dbpedia.org/resource/Rwanda|country\\n', '40|Scotland|http://dbpedia.org/resource/Scotland|country\\n', '41|Singapore|http://dbpedia.org/resource/Singapore|country\\n', '42|Slovakia|http://dbpedia.org/resource/Slovakia|country\\n', '43|Slovenia|http://dbpedia.org/resource/Slovenia|country\\n', '44|Swaziland|http://dbpedia.org/resource/Swaziland|country\\n', '45|Switzerland|http://dbpedia.org/resource/Switzerland|country\\n', '46|Tajikistan|http://dbpedia.org/resource/Tajikistan|country\\n', '47|Uruguay|http://dbpedia.org/resource/Uruguay|country\\n', '48|Wales|http://dbpedia.org/resource/Wales|country\\n', '49|Brazil|http://dbpedia.org/resource/Brazil|country\\n', '50|Germany|http://dbpedia.org/resource/Germany|country\\n', '51|Indonesia|http://dbpedia.org/resource/Indonesia|country\\n', '52|Japan|http://dbpedia.org/resource/Japan|country\\n', '53|Mexico|http://dbpedia.org/resource/Mexico|country\\n', '54|Pakistan|http://dbpedia.org/resource/Pakistan|country\\n', '55|Philippines|http://dbpedia.org/resource/Philippines|country\\n', '56|Russia|http://dbpedia.org/resource/Russia|country\\n', '57|United_States|http://dbpedia.org/resource/United_States|country\\n', '58|Vietnam|http://dbpedia.org/resource/Vietnam|country\\n', '59|Afghanistan|http://dbpedia.org/resource/Afghanistan|country\\n', '60|Algeria|http://dbpedia.org/resource/Algeria|country\\n', '61|Argentina|http://dbpedia.org/resource/Argentina|country\\n', '62|Australia|http://dbpedia.org/resource/Australia|country\\n', '63|Belarus|http://dbpedia.org/resource/Belarus|country\\n', '64|Belgium|http://dbpedia.org/resource/Belgium|country\\n', '65|Burma|http://dbpedia.org/resource/Burma|country\\n', '66|Canada|http://dbpedia.org/resource/Canada|country\\n', '67|Cambodia|http://dbpedia.org/resource/Cambodia|country\\n', '68|Cameroon|http://dbpedia.org/resource/Cameroon|country\\n', '69|Chile|http://dbpedia.org/resource/Chile|country\\n', '70|Colombia|http://dbpedia.org/resource/Colombia|country\\n', '71|Cuba|http://dbpedia.org/resource/Cuba|country\\n', '72|Czech_Republic|http://dbpedia.org/resource/Czech_Republic|country\\n', '73|Democratic_Republic_of_the_Congo|http://dbpedia.org/resource/Democratic_Republic_of_the_Congo|country\\n', '74|Egypt|http://dbpedia.org/resource/Egypt|country\\n', '75|England|http://dbpedia.org/resource/England|country\\n', '76|Ethiopia|http://dbpedia.org/resource/Ethiopia|country\\n', '77|France|http://dbpedia.org/resource/France|country\\n', '78|Greece|http://dbpedia.org/resource/Greece|country\\n', '79|Hungary|http://dbpedia.org/resource/Hungary|country\\n', '80|Iran|http://dbpedia.org/resource/Iran|country\\n', '81|Italy|http://dbpedia.org/resource/Italy|country\\n', '82|Kazakhstan|http://dbpedia.org/resource/Kazakhstan|country\\n', '83|Kenya|http://dbpedia.org/resource/Kenya|country\\n', '84|Madagascar|http://dbpedia.org/resource/Madagascar|country\\n', '85|Malaysia|http://dbpedia.org/resource/Malaysia|country\\n', '86|Moldova|http://dbpedia.org/resource/Moldova|country\\n', '87|Morocco|http://dbpedia.org/resource/Morocco|country\\n', '88|Nepal|http://dbpedia.org/resource/Nepal|country\\n', '89|Netherlands|http://dbpedia.org/resource/Netherlands|country\\n', '90|Niger|http://dbpedia.org/resource/Niger|country\\n', '91|Peru|http://dbpedia.org/resource/Peru|country\\n', '92|Poland|http://dbpedia.org/resource/Poland|country\\n', '93|Portugal|http://dbpedia.org/resource/Portugal|country\\n', '94|Taiwan|http://dbpedia.org/resource/Taiwan|country\\n', '95|Romania|http://dbpedia.org/resource/Romania|country\\n', '96|Senegal|http://dbpedia.org/resource/Senegal|country\\n', '97|South_Africa|http://dbpedia.org/resource/South_Africa|country\\n', '98|South_Korea|http://dbpedia.org/resource/South_Korea|country\\n', '99|Spain|http://dbpedia.org/resource/Spain|country\\n', '100|Sri_Lanka|http://dbpedia.org/resource/Sri_Lanka|country\\n', '101|Sweden|http://dbpedia.org/resource/Sweden|country\\n', '102|Tanzania|http://dbpedia.org/resource/Tanzania|country\\n', '103|Thailand|http://dbpedia.org/resource/Thailand|country\\n', '104|Tunisia|http://dbpedia.org/resource/Tunisia|country\\n', '105|Turkey|http://dbpedia.org/resource/Turkey|country\\n', '106|Ukraine|http://dbpedia.org/resource/Ukraine|country\\n', '107|United_Kingdom|http://dbpedia.org/resource/United_Kingdom|country\\n', '108|Venezuela|http://dbpedia.org/resource/Venezuela|country\\n', '109|Yemen|http://dbpedia.org/resource/Yemen|country\\n', '110|Zambia|http://dbpedia.org/resource/Zambia|country\\n', '1454|Asia|http://dbpedia.org/resource/Asia|continent\\n', '1455|Africa|http://dbpedia.org/resource/Africa|continent\\n', '1456|Europe|http://dbpedia.org/resource/Europe|continent\\n', '1457|South_America|http://dbpedia.org/resource/South_America|continent\\n', '1458|North_America|http://dbpedia.org/resource/North_America|continent\\n', '1459|Australia|http://dbpedia.org/resource/Australia|continent\\n']}, {'typeName': 'Country', 'validObject': 111, 'noIdFound': 0, 'invalidAttribute': 0, 'invalidVertexType': 0, 'invalidPrimaryId': 0, 'invalidSecondaryId': 0, 'incorrectFixedBinaryLength': 0, 'passedCondition': 111, 'failedCondition': 1349, 'failedConditionLines': [112, 113, 114, 115, 116, 117, 118, 119, 120, 121, 122, 123, 124, 125, 126, 127, 128, 129, 130, 131, 132, 133, 134, 135, 136, 137, 138, 139, 140, 141, 142, 143, 144, 145, 146, 147, 148, 149, 150, 151, 152, 153, 154, 155, 156, 157, 158, 159, 160, 161, 162, 163, 164, 165, 166, 167, 168, 169, 170, 171, 172, 173, 174, 175, 176, 177, 178, 179, 180, 181, 182, 183, 184, 185, 186, 187, 188, 189, 190, 191, 192, 193, 194, 195, 196, 197, 198, 199, 200, 201, 202, 203, 204, 205, 206, 207, 208, 209, 210, 211, 212, 213, 214, 215, 216, 217, 218, 219, 220, 221, 222, 223, 224, 225, 226, 227, 228, 229, 230, 231, 232, 233, 234, 235, 236, 237, 238, 239], 'failedConditionLinesData': ['111|Pondicherry|http://dbpedia.org/resource/Pondicherry|city\\n', '112|Rewari|http://dbpedia.org/resource/Rewari|city\\n', '113|Mysore|http://dbpedia.org/resource/Mysore|city\\n', '114|Thane|http://dbpedia.org/resource/Thane|city\\n', '115|Shibpur|http://dbpedia.org/resource/Shibpur|city\\n', '116|Rohtak|http://dbpedia.org/resource/Rohtak|city\\n', '117|Jiaganj_Azimganj|http://dbpedia.org/resource/Jiaganj_Azimganj|city\\n', '118|Andhra_Pradesh|http://dbpedia.org/resource/Andhra_Pradesh|city\\n', '119|Shillong|http://dbpedia.org/resource/Shillong|city\\n', '120|Baharampur|http://dbpedia.org/resource/Baharampur|city\\n', '121|Bhopal|http://dbpedia.org/resource/Bhopal|city\\n', '122|Tezpur|http://dbpedia.org/resource/Tezpur|city\\n', '123|Rourkela|http://dbpedia.org/resource/Rourkela|city\\n', '124|Chennai|http://dbpedia.org/resource/Chennai|city\\n', '125|Noida|http://dbpedia.org/resource/Noida|city\\n', '126|Jammu|http://dbpedia.org/resource/Jammu|city\\n', '127|Kalyani|http://dbpedia.org/resource/Kalyani|city\\n', '128|Delhi|http://dbpedia.org/resource/Delhi|city\\n', '129|Gobichettipalayam|http://dbpedia.org/resource/Gobichettipalayam|city\\n', '130|Kochi|http://dbpedia.org/resource/Kochi|city\\n', '131|Srinagar|http://dbpedia.org/resource/Srinagar|city\\n', '132|Ahmedabad|http://dbpedia.org/resource/Ahmedabad|city\\n', '133|Pune|http://dbpedia.org/resource/Pune|city\\n', '134|Haldia|http://dbpedia.org/resource/Haldia|city\\n', '135|Nagpur|http://dbpedia.org/resource/Nagpur|city\\n', '136|Kakinada|http://dbpedia.org/resource/Kakinada|city\\n', '137|Berhampur|http://dbpedia.org/resource/Berhampur|city\\n', '138|Darbhanga|http://dbpedia.org/resource/Darbhanga|city\\n', '139|Thirthahalli|http://dbpedia.org/resource/Thirthahalli|city\\n', '140|Bikaner|http://dbpedia.org/resource/Bikaner|city\\n', '141|Vellore|http://dbpedia.org/resource/Vellore|city\\n', '142|Surat|http://dbpedia.org/resource/Surat|city\\n', '143|Anantapur|http://dbpedia.org/resource/Anantapur|city\\n', '144|Cooch_Behar|http://dbpedia.org/resource/Cooch_Behar|city\\n', '145|Hubli|http://dbpedia.org/resource/Hubli|city\\n', '146|Hamirpur|http://dbpedia.org/resource/Hamirpur|city\\n', '147|Kanpur|http://dbpedia.org/resource/Kanpur|city\\n', '148|Tiruchirappalli|http://dbpedia.org/resource/Tiruchirappalli|city\\n', '149|Ujjain|http://dbpedia.org/resource/Ujjain|city\\n', '150|Visakhapatnam|http://dbpedia.org/resource/Visakhapatnam|city\\n', '151|Gandhinagar|http://dbpedia.org/resource/Gandhinagar|city\\n', '152|Kannur|http://dbpedia.org/resource/Kannur|city\\n', '153|Agra|http://dbpedia.org/resource/Agra|city\\n', '154|Loni|http://dbpedia.org/resource/Loni|city\\n', '155|Jind|http://dbpedia.org/resource/Jind|city\\n', '156|Durgapur|http://dbpedia.org/resource/Durgapur|city\\n', '157|Sangrur|http://dbpedia.org/resource/Sangrur|city\\n', '158|Raichur|http://dbpedia.org/resource/Raichur|city\\n', '159|Bardhaman|http://dbpedia.org/resource/Bardhaman|city\\n', '160|Moga|http://dbpedia.org/resource/Moga|city\\n', '161|Amritsar|http://dbpedia.org/resource/Amritsar|city\\n', '162|Srikakulam|http://dbpedia.org/resource/Srikakulam|city\\n', '163|Anantapur_district|http://dbpedia.org/resource/Anantapur_district|city\\n', '164|Kolkata|http://dbpedia.org/resource/Kolkata|city\\n', '165|Orissa|http://dbpedia.org/resource/Orissa|city\\n', '166|Kalady|http://dbpedia.org/resource/Kalady|city\\n', '167|Coimbatore|http://dbpedia.org/resource/Coimbatore|city\\n', '168|Gurgaon|http://dbpedia.org/resource/Gurgaon|city\\n', '169|Purulia|http://dbpedia.org/resource/Purulia|city\\n', '170|Kodambakkam|http://dbpedia.org/resource/Kodambakkam|city\\n', '171|Jodhpur|http://dbpedia.org/resource/Jodhpur|city\\n', '172|Mahishadal|http://dbpedia.org/resource/Mahishadal|city\\n', '173|Kurukshetra|http://dbpedia.org/resource/Kurukshetra|city\\n', '174|Meerut|http://dbpedia.org/resource/Meerut|city\\n', '175|Faizabad|http://dbpedia.org/resource/Faizabad|city\\n', '176|Bangalore|http://dbpedia.org/resource/Bangalore|city\\n', '177|Kota|http://dbpedia.org/resource/Kota|city\\n', '178|Lucknow|http://dbpedia.org/resource/Lucknow|city\\n', '179|Kalimpong|http://dbpedia.org/resource/Kalimpong|city\\n', '180|Cuttack|http://dbpedia.org/resource/Cuttack|city\\n', '181|Alappuzha|http://dbpedia.org/resource/Alappuzha|city\\n', '182|Davangere|http://dbpedia.org/resource/Davangere|city\\n', '183|Siliguri|http://dbpedia.org/resource/Siliguri|city\\n', '184|Bidar|http://dbpedia.org/resource/Bidar|city\\n', '185|Puttur|http://dbpedia.org/resource/Puttur|city\\n', '186|Maharashtra|http://dbpedia.org/resource/Maharashtra|city\\n', '187|Kolhapur|http://dbpedia.org/resource/Kolhapur|city\\n', '188|Habra|http://dbpedia.org/resource/Habra|city\\n', '189|Bihar|http://dbpedia.org/resource/Bihar|city\\n', '190|Hyderabad|http://dbpedia.org/resource/Hyderabad|city\\n', '191|Kadapa|http://dbpedia.org/resource/Kadapa|city\\n', '192|Bhilai|http://dbpedia.org/resource/Bhilai|city\\n', '193|Tirunelveli|http://dbpedia.org/resource/Tirunelveli|city\\n', '194|Moradabad|http://dbpedia.org/resource/Moradabad|city\\n', '195|Tiruvallur_district|http://dbpedia.org/resource/Tiruvallur_district|city\\n', '196|Nashik|http://dbpedia.org/resource/Nashik|city\\n', '197|Anand|http://dbpedia.org/resource/Anand|city\\n', '198|Sion|http://dbpedia.org/resource/Sion|city\\n', '199|Aizawl|http://dbpedia.org/resource/Aizawl|city\\n', '200|Jhansi|http://dbpedia.org/resource/Jhansi|city\\n', '201|Serampore|http://dbpedia.org/resource/Serampore|city\\n', '202|Asansol|http://dbpedia.org/resource/Asansol|city\\n', '203|Varanasi|http://dbpedia.org/resource/Varanasi|city\\n', '204|Navi_Mumbai|http://dbpedia.org/resource/Navi_Mumbai|city\\n', '205|Vadodara|http://dbpedia.org/resource/Vadodara|city\\n', '206|Patna|http://dbpedia.org/resource/Patna|city\\n', '207|Jajapur|http://dbpedia.org/resource/Jajapur|city\\n', '208|Bareilly|http://dbpedia.org/resource/Bareilly|city\\n', '209|Tamil_Nadu|http://dbpedia.org/resource/Tamil_Nadu|city\\n', '210|Ranchi|http://dbpedia.org/resource/Ranchi|city\\n', '211|Gulbarga|http://dbpedia.org/resource/Gulbarga|city\\n', '212|Erode|http://dbpedia.org/resource/Erode|city\\n', '213|Arambag|http://dbpedia.org/resource/Arambag|city\\n', '214|Howrah|http://dbpedia.org/resource/Howrah|city\\n', '215|Jaipur|http://dbpedia.org/resource/Jaipur|city\\n', '216|Kasaragod|http://dbpedia.org/resource/Kasaragod|city\\n', '217|Vallabh_Vidhyanagar|http://dbpedia.org/resource/Vallabh_Vidhyanagar|city\\n', '218|Suri|http://dbpedia.org/resource/Suri|city\\n', '219|Assam|http://dbpedia.org/resource/Assam|city\\n', '220|Greater_Noida|http://dbpedia.org/resource/Greater_Noida|city\\n', '221|Jorhat|http://dbpedia.org/resource/Jorhat|city\\n', '222|Allahabad|http://dbpedia.org/resource/Allahabad|city\\n', '223|Rajasthan|http://dbpedia.org/resource/Rajasthan|city\\n', '224|Aurangabad|http://dbpedia.org/resource/Aurangabad|city\\n', '225|Hisar|http://dbpedia.org/resource/Hisar|city\\n', '226|Haldwani|http://dbpedia.org/resource/Haldwani|city\\n', '227|Dum_Dum|http://dbpedia.org/resource/Dum_Dum|city\\n', '228|Vijayawada|http://dbpedia.org/resource/Vijayawada|city\\n', '229|Solapur|http://dbpedia.org/resource/Solapur|city\\n', '230|Malappuram|http://dbpedia.org/resource/Malappuram|city\\n', '231|Thanjavur|http://dbpedia.org/resource/Thanjavur|city\\n', '232|Dharwad|http://dbpedia.org/resource/Dharwad|city\\n', '233|Nalgonda|http://dbpedia.org/resource/Nalgonda|city\\n', '234|English_Bazar|http://dbpedia.org/resource/English_Bazar|city\\n', '235|Bankura|http://dbpedia.org/resource/Bankura|city\\n', '236|Belgaum|http://dbpedia.org/resource/Belgaum|city\\n', '237|Namakkal|http://dbpedia.org/resource/Namakkal|city\\n', '238|Balasore|http://dbpedia.org/resource/Balasore|city\\n']}, {'typeName': 'Continent', 'validObject': 6, 'noIdFound': 0, 'invalidAttribute': 0, 'invalidVertexType': 0, 'invalidPrimaryId': 0, 'invalidSecondaryId': 0, 'incorrectFixedBinaryLength': 0, 'passedCondition': 6, 'failedCondition': 1454, 'failedConditionLines': [1, 2, 3, 4, 5, 6, 7, 8, 9, 10, 11, 12, 13, 14, 15, 16, 17, 18, 19, 20, 21, 22, 23, 24, 25, 26, 27, 28, 29, 30, 31, 32, 33, 34, 35, 36, 37, 38, 39, 40, 41, 42, 43, 44, 45, 46, 47, 48, 49, 50, 51, 52, 53, 54, 55, 56, 57, 58, 59, 60, 61, 62, 63, 64, 65, 66, 67, 68, 69, 70, 71, 72, 73, 74, 75, 76, 77, 78, 79, 80, 81, 82, 83, 84, 85, 86, 87, 88, 89, 90, 91, 92, 93, 94, 95, 96, 97, 98, 99, 100, 101, 102, 103, 104, 105, 106, 107, 108, 109, 110, 111, 112, 113, 114, 115, 116, 117, 118, 119, 120, 121, 122, 123, 124, 125, 126, 127, 128], 'failedConditionLinesData': ['0|India|http://dbpedia.org/resource/India|country\\n', '1|China|http://dbpedia.org/resource/China|country\\n', '2|Angola|http://dbpedia.org/resource/Angola|country\\n', '3|Austria|http://dbpedia.org/resource/Austria|country\\n', '4|Azerbaijan|http://dbpedia.org/resource/Azerbaijan|country\\n', '5|Bolivia|http://dbpedia.org/resource/Bolivia|country\\n', '6|Bosnia_and_Herzegovina|http://dbpedia.org/resource/Bosnia_and_Herzegovina|country\\n', '7|Bulgaria|http://dbpedia.org/resource/Bulgaria|country\\n', '8|Chad|http://dbpedia.org/resource/Chad|country\\n', '9|Croatia|http://dbpedia.org/resource/Croatia|country\\n', '10|Denmark|http://dbpedia.org/resource/Denmark|country\\n', '11|Dominican_Republic|http://dbpedia.org/resource/Dominican_Republic|country\\n', '12|El_Salvador|http://dbpedia.org/resource/El_Salvador|country\\n', '13|Estonia|http://dbpedia.org/resource/Estonia|country\\n', '14|Finland|http://dbpedia.org/resource/Finland|country\\n', '15|Honduras|http://dbpedia.org/resource/Honduras|country\\n', '16|Hong_Kong|http://dbpedia.org/resource/Hong_Kong|country\\n', '17|Israel|http://dbpedia.org/resource/Israel|country\\n', '18|Jordan|http://dbpedia.org/resource/Jordan|country\\n', '19|Laos|http://dbpedia.org/resource/Laos|country\\n', '20|Latvia|http://dbpedia.org/resource/Latvia|country\\n', '21|Liberia|http://dbpedia.org/resource/Liberia|country\\n', '22|Libya|http://dbpedia.org/resource/Libya|country\\n', '23|Lithuania|http://dbpedia.org/resource/Lithuania|country\\n', '24|Malta|http://dbpedia.org/resource/Malta|country\\n', '25|Mauritania|http://dbpedia.org/resource/Mauritania|country\\n', '26|Mauritius|http://dbpedia.org/resource/Mauritius|country\\n', '27|Mongolia|http://dbpedia.org/resource/Mongolia|country\\n', '28|Namibia|http://dbpedia.org/resource/Namibia|country\\n', '29|New_Zealand|http://dbpedia.org/resource/New_Zealand|country\\n', '30|Nicaragua|http://dbpedia.org/resource/Nicaragua|country\\n', '31|Northern_Ireland|http://dbpedia.org/resource/Northern_Ireland|country\\n', '32|Norway|http://dbpedia.org/resource/Norway|country\\n', '33|Oman|http://dbpedia.org/resource/Oman|country\\n', '34|Panama|http://dbpedia.org/resource/Panama|country\\n', '35|Papua_New_Guinea|http://dbpedia.org/resource/Papua_New_Guinea|country\\n', '36|Puerto_Rico|http://dbpedia.org/resource/Puerto_Rico|country\\n', '37|Republic_of_Ireland|http://dbpedia.org/resource/Republic_of_Ireland|country\\n', '38|Republic_of_Macedonia|http://dbpedia.org/resource/Republic_of_Macedonia|country\\n', '39|Rwanda|http://dbpedia.org/resource/Rwanda|country\\n', '40|Scotland|http://dbpedia.org/resource/Scotland|country\\n', '41|Singapore|http://dbpedia.org/resource/Singapore|country\\n', '42|Slovakia|http://dbpedia.org/resource/Slovakia|country\\n', '43|Slovenia|http://dbpedia.org/resource/Slovenia|country\\n', '44|Swaziland|http://dbpedia.org/resource/Swaziland|country\\n', '45|Switzerland|http://dbpedia.org/resource/Switzerland|country\\n', '46|Tajikistan|http://dbpedia.org/resource/Tajikistan|country\\n', '47|Uruguay|http://dbpedia.org/resource/Uruguay|country\\n', '48|Wales|http://dbpedia.org/resource/Wales|country\\n', '49|Brazil|http://dbpedia.org/resource/Brazil|country\\n', '50|Germany|http://dbpedia.org/resource/Germany|country\\n', '51|Indonesia|http://dbpedia.org/resource/Indonesia|country\\n', '52|Japan|http://dbpedia.org/resource/Japan|country\\n', '53|Mexico|http://dbpedia.org/resource/Mexico|country\\n', '54|Pakistan|http://dbpedia.org/resource/Pakistan|country\\n', '55|Philippines|http://dbpedia.org/resource/Philippines|country\\n', '56|Russia|http://dbpedia.org/resource/Russia|country\\n', '57|United_States|http://dbpedia.org/resource/United_States|country\\n', '58|Vietnam|http://dbpedia.org/resource/Vietnam|country\\n', '59|Afghanistan|http://dbpedia.org/resource/Afghanistan|country\\n', '60|Algeria|http://dbpedia.org/resource/Algeria|country\\n', '61|Argentina|http://dbpedia.org/resource/Argentina|country\\n', '62|Australia|http://dbpedia.org/resource/Australia|country\\n', '63|Belarus|http://dbpedia.org/resource/Belarus|country\\n', '64|Belgium|http://dbpedia.org/resource/Belgium|country\\n', '65|Burma|http://dbpedia.org/resource/Burma|country\\n', '66|Canada|http://dbpedia.org/resource/Canada|country\\n', '67|Cambodia|http://dbpedia.org/resource/Cambodia|country\\n', '68|Cameroon|http://dbpedia.org/resource/Cameroon|country\\n', '69|Chile|http://dbpedia.org/resource/Chile|country\\n', '70|Colombia|http://dbpedia.org/resource/Colombia|country\\n', '71|Cuba|http://dbpedia.org/resource/Cuba|country\\n', '72|Czech_Republic|http://dbpedia.org/resource/Czech_Republic|country\\n', '73|Democratic_Republic_of_the_Congo|http://dbpedia.org/resource/Democratic_Republic_of_the_Congo|country\\n', '74|Egypt|http://dbpedia.org/resource/Egypt|country\\n', '75|England|http://dbpedia.org/resource/England|country\\n', '76|Ethiopia|http://dbpedia.org/resource/Ethiopia|country\\n', '77|France|http://dbpedia.org/resource/France|country\\n', '78|Greece|http://dbpedia.org/resource/Greece|country\\n', '79|Hungary|http://dbpedia.org/resource/Hungary|country\\n', '80|Iran|http://dbpedia.org/resource/Iran|country\\n', '81|Italy|http://dbpedia.org/resource/Italy|country\\n', '82|Kazakhstan|http://dbpedia.org/resource/Kazakhstan|country\\n', '83|Kenya|http://dbpedia.org/resource/Kenya|country\\n', '84|Madagascar|http://dbpedia.org/resource/Madagascar|country\\n', '85|Malaysia|http://dbpedia.org/resource/Malaysia|country\\n', '86|Moldova|http://dbpedia.org/resource/Moldova|country\\n', '87|Morocco|http://dbpedia.org/resource/Morocco|country\\n', '88|Nepal|http://dbpedia.org/resource/Nepal|country\\n', '89|Netherlands|http://dbpedia.org/resource/Netherlands|country\\n', '90|Niger|http://dbpedia.org/resource/Niger|country\\n', '91|Peru|http://dbpedia.org/resource/Peru|country\\n', '92|Poland|http://dbpedia.org/resource/Poland|country\\n', '93|Portugal|http://dbpedia.org/resource/Portugal|country\\n', '94|Taiwan|http://dbpedia.org/resource/Taiwan|country\\n', '95|Romania|http://dbpedia.org/resource/Romania|country\\n', '96|Senegal|http://dbpedia.org/resource/Senegal|country\\n', '97|South_Africa|http://dbpedia.org/resource/South_Africa|country\\n', '98|South_Korea|http://dbpedia.org/resource/South_Korea|country\\n', '99|Spain|http://dbpedia.org/resource/Spain|country\\n', '100|Sri_Lanka|http://dbpedia.org/resource/Sri_Lanka|country\\n', '101|Sweden|http://dbpedia.org/resource/Sweden|country\\n', '102|Tanzania|http://dbpedia.org/resource/Tanzania|country\\n', '103|Thailand|http://dbpedia.org/resource/Thailand|country\\n', '104|Tunisia|http://dbpedia.org/resource/Tunisia|country\\n', '105|Turkey|http://dbpedia.org/resource/Turkey|country\\n', '106|Ukraine|http://dbpedia.org/resource/Ukraine|country\\n', '107|United_Kingdom|http://dbpedia.org/resource/United_Kingdom|country\\n', '108|Venezuela|http://dbpedia.org/resource/Venezuela|country\\n', '109|Yemen|http://dbpedia.org/resource/Yemen|country\\n', '110|Zambia|http://dbpedia.org/resource/Zambia|country\\n', '111|Pondicherry|http://dbpedia.org/resource/Pondicherry|city\\n', '112|Rewari|http://dbpedia.org/resource/Rewari|city\\n', '113|Mysore|http://dbpedia.org/resource/Mysore|city\\n', '114|Thane|http://dbpedia.org/resource/Thane|city\\n', '115|Shibpur|http://dbpedia.org/resource/Shibpur|city\\n', '116|Rohtak|http://dbpedia.org/resource/Rohtak|city\\n', '117|Jiaganj_Azimganj|http://dbpedia.org/resource/Jiaganj_Azimganj|city\\n', '118|Andhra_Pradesh|http://dbpedia.org/resource/Andhra_Pradesh|city\\n', '119|Shillong|http://dbpedia.org/resource/Shillong|city\\n', '120|Baharampur|http://dbpedia.org/resource/Baharampur|city\\n', '121|Bhopal|http://dbpedia.org/resource/Bhopal|city\\n', '122|Tezpur|http://dbpedia.org/resource/Tezpur|city\\n', '123|Rourkela|http://dbpedia.org/resource/Rourkela|city\\n', '124|Chennai|http://dbpedia.org/resource/Chennai|city\\n', '125|Noida|http://dbpedia.org/resource/Noida|city\\n', '126|Jammu|http://dbpedia.org/resource/Jammu|city\\n', '127|Kalyani|http://dbpedia.org/resource/Kalyani|city\\n']}], 'edge': [], 'deleteVertex': [], 'deleteEdge': []}}], [{'sourceFileName': 'Online_POST', 'statistics': {'validLine': 1000000, 'rejectLine': 0, 'failedConditionLine': 0, 'notEnoughToken': 0, 'invalidJson': 0, 'oversizeToken': 0, 'vertex': [{'typeName': 'Comment', 'validObject': 999999, 'noIdFound': 0, 'invalidAttribute': 0, 'invalidVertexType': 0, 'invalidPrimaryId': 1, 'invalidSecondaryId': 0, 'incorrectFixedBinaryLength': 0}], 'edge': [], 'deleteVertex': [], 'deleteEdge': []}}], [{'sourceFileName': 'Online_POST', 'statistics': {'validLine': 1000000, 'rejectLine': 0, 'failedConditionLine': 0, 'notEnoughToken': 0, 'invalidJson': 0, 'oversizeToken': 0, 'vertex': [{'typeName': 'Comment', 'validObject': 1000000, 'noIdFound': 0, 'invalidAttribute': 0, 'invalidVertexType': 0, 'invalidPrimaryId': 0, 'invalidSecondaryId': 0, 'incorrectFixedBinaryLength': 0}], 'edge': [], 'deleteVertex': [], 'deleteEdge': []}}], [{'sourceFileName': 'Online_POST', 'statistics': {'validLine': 52170, 'rejectLine': 0, 'failedConditionLine': 0, 'notEnoughToken': 0, 'invalidJson': 0, 'oversizeToken': 0, 'vertex': [{'typeName': 'Comment', 'validObject': 52170, 'noIdFound': 0, 'invalidAttribute': 0, 'invalidVertexType': 0, 'invalidPrimaryId': 0, 'invalidSecondaryId': 0, 'incorrectFixedBinaryLength': 0}], 'edge': [], 'deleteVertex': [], 'deleteEdge': []}}], [{'sourceFileName': 'Online_POST', 'statistics': {'validLine': 90492, 'rejectLine': 0, 'failedConditionLine': 0, 'notEnoughToken': 0, 'invalidJson': 0, 'oversizeToken': 0, 'vertex': [{'typeName': 'Forum', 'validObject': 90492, 'noIdFound': 0, 'invalidAttribute': 0, 'invalidVertexType': 0, 'invalidPrimaryId': 0, 'invalidSecondaryId': 0, 'incorrectFixedBinaryLength': 0}], 'edge': [], 'deleteVertex': [], 'deleteEdge': []}}], [{'sourceFileName': 'Online_POST', 'statistics': {'validLine': 7955, 'rejectLine': 0, 'failedConditionLine': 0, 'notEnoughToken': 0, 'invalidJson': 0, 'oversizeToken': 0, 'vertex': [{'typeName': 'Company', 'validObject': 1575, 'noIdFound': 0, 'invalidAttribute': 0, 'invalidVertexType': 0, 'invalidPrimaryId': 0, 'invalidSecondaryId': 0, 'incorrectFixedBinaryLength': 0, 'passedCondition': 1575, 'failedCondition': 6380, 'failedConditionLines': [1576, 1577, 1578, 1579, 1580, 1581, 1582, 1583, 1584, 1585, 1586, 1587, 1588, 1589, 1590, 1591, 1592, 1593, 1594, 1595, 1596, 1597, 1598, 1599, 1600, 1601, 1602, 1603, 1604, 1605, 1606, 1607, 1608, 1609, 1610, 1611, 1612, 1613, 1614, 1615, 1616, 1617, 1618, 1619, 1620, 1621, 1622, 1623, 1624, 1625, 1626, 1627, 1628, 1629, 1630, 1631, 1632, 1633, 1634, 1635, 1636, 1637, 1638, 1639, 1640, 1641, 1642, 1643, 1644, 1645, 1646, 1647, 1648, 1649, 1650, 1651, 1652, 1653, 1654, 1655, 1656, 1657, 1658, 1659, 1660, 1661, 1662, 1663, 1664, 1665, 1666, 1667, 1668, 1669, 1670, 1671, 1672, 1673, 1674, 1675, 1676, 1677, 1678, 1679, 1680, 1681, 1682, 1683, 1684, 1685, 1686, 1687, 1688, 1689, 1690, 1691, 1692, 1693, 1694, 1695, 1696, 1697, 1698, 1699, 1700, 1701, 1702, 1703], 'failedConditionLinesData': ['1575|university|Paktia_University|http://dbpedia.org/resource/Paktia_University\\n', '1576|university|Baghlan_University|http://dbpedia.org/resource/Baghlan_University\\n', '1577|university|Syed_Jamaluddin_Afghan_University|http://dbpedia.org/resource/Syed_Jamaluddin_Afghan_University\\n', '1578|university|Bost_University|http://dbpedia.org/resource/Bost_University\\n', '1579|university|Aga_Khan_University|http://dbpedia.org/resource/Aga_Khan_University\\n', '1580|university|Kandahar_University|http://dbpedia.org/resource/Kandahar_University\\n', '1581|university|Nangarhar_University|http://dbpedia.org/resource/Nangarhar_University\\n', '1582|university|Kabul_University|http://dbpedia.org/resource/Kabul_University\\n', '1583|university|Rana_Institute_of_Higher_Education|http://dbpedia.org/resource/Rana_Institute_of_Higher_Education\\n', '1584|university|Khost_University|http://dbpedia.org/resource/Khost_University\\n', '1585|university|American_University_of_Afghanistan|http://dbpedia.org/resource/American_University_of_Afghanistan\\n', '1586|university|Herat_University|http://dbpedia.org/resource/Herat_University\\n', '1587|university|Afghanistan_Public_Policy_Research_Organization|http://dbpedia.org/resource/Afghanistan_Public_Policy_Research_O...', '1588|university|Spinghar_Higher_Education_Centre|http://dbpedia.org/resource/Spinghar_Higher_Education_Centre\\n', '1589|university|Higher_Education_Institute_of_Karwan|http://dbpedia.org/resource/Higher_Education_Institute_of_Karwan\\n', '1590|university|Polytechnical_University_of_Kabul|http://dbpedia.org/resource/Polytechnical_University_of_Kabul\\n', '1591|university|Kabul_Medical_University|http://dbpedia.org/resource/Kabul_Medical_University\\n', '1592|university|National_Military_Academy_of_Afghanistan|http://dbpedia.org/resource/National_Military_Academy_of_Afghanistan\\n', '1593|university|Dawat_University|http://dbpedia.org/resource/Dawat_University\\n', '1594|university|Pamir_University|http://dbpedia.org/resource/Pamir_University\\n', '1595|university|University_of_Science_and_Technology_Boumediene|http://dbpedia.org/resource/University_of_Science_and_Technology...', '1596|university|Higher_National_Veterinary_School|http://dbpedia.org/resource/Higher_National_Veterinary_School\\n', '1597|university|Polytechnic_School_of_Algiers|http://dbpedia.org/resource/Polytechnic_School_of_Algiers\\n', '1598|university|AES_Algiers|http://dbpedia.org/resource/AES_Algiers\\n', '1599|university|University_of_Batna|http://dbpedia.org/resource/University_of_Batna\\n', '1600|university|University_of_Algiers|http://dbpedia.org/resource/University_of_Algiers\\n', '1601|university|University_of_Oran|http://dbpedia.org/resource/University_of_Oran\\n', '1602|university|University_of_Annaba|http://dbpedia.org/resource/University_of_Annaba\\n', '1603|university|Private_University_of_Angola|http://dbpedia.org/resource/Private_University_of_Angola\\n', '1604|university|National_University_of_Misiones|http://dbpedia.org/resource/National_University_of_Misiones\\n', '1605|university|Instituto_Tecnológico_de_Buenos_Aires|http://dbpedia.org/resource/Instituto_Tecnológico_de_Buenos_Aires\\n', '1606|university|National_Technological_University|http://dbpedia.org/resource/National_Technological_University\\n', '1607|university|National_University_of_Rosario|http://dbpedia.org/resource/National_University_of_Rosario\\n', '1608|university|National_University_of_the_Chaco_Austral|http://dbpedia.org/resource/National_University_of_the_Chaco_Austral\\n', '1609|university|Saint_Thomas_Aquinas_University_of_the_North|http://dbpedia.org/resource/Saint_Thomas_Aquinas_University_of_the_...', '1610|university|University_of_Palermo|http://dbpedia.org/resource/University_of_Palermo\\n', '1611|university|Torcuato_di_Tella_University|http://dbpedia.org/resource/Torcuato_di_Tella_University\\n', '1612|university|National_University_of_Tucumán|http://dbpedia.org/resource/National_University_of_Tucumán\\n', '1613|university|Universidad_de_Mendoza|http://dbpedia.org/resource/Universidad_de_Mendoza\\n', '1614|university|National_University_of_Cuyo|http://dbpedia.org/resource/National_University_of_Cuyo\\n', '1615|university|University_of_Buenos_Aires|http://dbpedia.org/resource/University_of_Buenos_Aires\\n', '1616|university|University_of_Belgrano|http://dbpedia.org/resource/University_of_Belgrano\\n', '1617|university|University_of_CEMA|http://dbpedia.org/resource/University_of_CEMA\\n', '1618|university|Instituto_Universitario_Nacional_del_Arte|http://dbpedia.org/resource/Instituto_Universitario_Nacional_del_Arte\\n', '1619|university|National_University_of_La_Pampa|http://dbpedia.org/resource/National_University_of_La_Pampa\\n', '1620|university|National_University_of_General_San_Martín|http://dbpedia.org/resource/National_University_of_General_San_Martí...', '1621|university|National_University_of_the_Northeast|http://dbpedia.org/resource/National_University_of_the_Northeast\\n', '1622|university|University_of_Cuenca_del_Plata|http://dbpedia.org/resource/University_of_Cuenca_del_Plata\\n', '1623|university|Jorge_A._Sabato_institute|http://dbpedia.org/resource/Jorge_A._Sabato_institute\\n', '1624|university|Universidad_del_Aconcagua|http://dbpedia.org/resource/Universidad_del_Aconcagua\\n', '1625|university|Universidad_Argentina_John_F._Kennedy|http://dbpedia.org/resource/Universidad_Argentina_John_F._Kennedy\\n', '1626|university|Universidad_Argentina_de_la_Empresa|http://dbpedia.org/resource/Universidad_Argentina_de_la_Empresa\\n', '1627|university|Higher_Education_Army_Institute|http://dbpedia.org/resource/Higher_Education_Army_Institute\\n', '1628|university|Universidad_del_Salvador|http://dbpedia.org/resource/Universidad_del_Salvador\\n', '1629|university|Favaloro_University|http://dbpedia.org/resource/Favaloro_University\\n', '1630|university|Damaso_Centeno|http://dbpedia.org/resource/Damaso_Centeno\\n', '1631|university|Instituto_Superior_Santo_Domingo|http://dbpedia.org/resource/Instituto_Superior_Santo_Domingo\\n', '1632|university|National_University_of_Córdoba|http://dbpedia.org/resource/National_University_of_Córdoba\\n', '1633|university|Catholic_University_of_Cordoba|http://dbpedia.org/resource/Catholic_University_of_Cordoba\\n', '1634|university|Austral_University|http://dbpedia.org/resource/Austral_University\\n', '1635|university|Victoria_University|http://dbpedia.org/resource/Victoria_University\\n', '1636|university|Kangan_Institute|http://dbpedia.org/resource/Kangan_Institute\\n', '1637|university|University_of_Western_Australia|http://dbpedia.org/resource/University_of_Western_Australia\\n', '1638|university|Murdoch_University|http://dbpedia.org/resource/Murdoch_University\\n', '1639|university|University_of_Sydney_School_of_Molecular_Bioscience|http://dbpedia.org/resource/University_of_Sydney_School_of_M...', '1640|university|University_of_Sydney_School_of_Molecular_Bioscience|http://dbpedia.org/resource/University_of_Sydney_School_of_M...', '1641|university|ANU_College_of_Engineering_and_Computer_Science|http://dbpedia.org/resource/ANU_College_of_Engineering_and_Compu...', '1642|university|Martin_College|http://dbpedia.org/resource/Martin_College\\n', '1643|university|TC_Beirne_School_of_Law|http://dbpedia.org/resource/TC_Beirne_School_of_Law\\n', '1644|university|Australian_College_of_Theology|http://dbpedia.org/resource/Australian_College_of_Theology\\n', '1645|university|Kenvale_College_of_Tourism_&_Hospitality_Management|http://dbpedia.org/resource/Kenvale_College_of_Tourism_&_Hos...', '1646|university|Martin_College|http://dbpedia.org/resource/Martin_College\\n', '1647|university|Sydney_Law_School|http://dbpedia.org/resource/Sydney_Law_School\\n', '1648|university|Sydney_Institute_of_Business_and_Technology|http://dbpedia.org/resource/Sydney_Institute_of_Business_and_Technol...', '1649|university|University_of_Sydney_School_of_Chemistry|http://dbpedia.org/resource/University_of_Sydney_School_of_Chemistry\\n', '1650|university|University_of_Sydney_School_of_Psychology|http://dbpedia.org/resource/University_of_Sydney_School_of_Psychology\\n', '1651|university|University_of_Sydney_School_of_Geosciences|http://dbpedia.org/resource/University_of_Sydney_School_of_Geoscience...', '1652|university|University_of_Sydney_Faculty_of_Agriculture_and_Environment|http://dbpedia.org/resource/University_of_Sydney_Fac...', '1653|university|University_of_Sydney_Business_School|http://dbpedia.org/resource/University_of_Sydney_Business_School\\n', '1654|university|University_of_Sydney_Unit_for_the_History_and_Philosophy_of_Science|http://dbpedia.org/resource/University_of_Sy...', '1655|university|Australian_International_Hotel_School|http://dbpedia.org/resource/Australian_International_Hotel_School\\n', '1656|university|ANU_Research_School_of_Asia_&_the_Pacific|http://dbpedia.org/resource/ANU_Research_School_of_Asia_&_the_Pacific\\n', '1657|university|IPP-SHR|http://dbpedia.org/resource/IPP-SHR\\n', '1658|university|University_of_Queensland|http://dbpedia.org/resource/University_of_Queensland\\n', '1659|university|Deakin_University|http://dbpedia.org/resource/Deakin_University\\n', '1660|university|UNSW_Faculty_of_Law|http://dbpedia.org/resource/UNSW_Faculty_of_Law\\n', '1661|university|Australian_College_of_Natural_Medicine|http://dbpedia.org/resource/Australian_College_of_Natural_Medicine\\n', '1662|university|Macquarie_University_Faculty_of_Human_Sciences|http://dbpedia.org/resource/Macquarie_University_Faculty_of_Human...', '1663|university|Blue_Mountains_International_Hotel_Management_School|http://dbpedia.org/resource/Blue_Mountains_International_Ho...', \"1664|university|St_Andrew's_Greek_Orthodox_Theological_College|http://dbpedia.org/resource/St_Andrew's_Greek_Orthodox_Theologica...\", '1665|university|University_of_Technology|http://dbpedia.org/resource/University_of_Technology\\n', '1666|university|Presbyterian_Theological_Centre|http://dbpedia.org/resource/Presbyterian_Theological_Centre\\n', '1667|university|University_of_Sydney_Faculty_of_Science|http://dbpedia.org/resource/University_of_Sydney_Faculty_of_Science\\n', '1668|university|University_of_Sydney_School_of_Biological_Sciences|http://dbpedia.org/resource/University_of_Sydney_School_of_Bi...', '1669|university|University_of_Sydney_Faculty_of_Health_Sciences|http://dbpedia.org/resource/University_of_Sydney_Faculty_of_Heal...', '1670|university|University_of_Sydney_Faculty_of_Education_and_Social_Work|http://dbpedia.org/resource/University_of_Sydney_Facul...', '1671|university|Sydney_Nursing_School|http://dbpedia.org/resource/Sydney_Nursing_School\\n', '1672|university|Centre_for_Values,_Ethics_and_the_Law_in_Medicine|http://dbpedia.org/resource/Centre_for_Values,_Ethics_and_the_...', '1673|university|Sydney_Bioethics_Program|http://dbpedia.org/resource/Sydney_Bioethics_Program\\n', '1674|university|University_of_Sydney_Faculty_of_Arts_and_Social_Sciences|http://dbpedia.org/resource/University_of_Sydney_Facult...', '1675|university|University_of_Sydney_Faculty_of_Engineering_and_Information_Technologies|http://dbpedia.org/resource/University_...', '1676|university|Heinz_College_Australia|http://dbpedia.org/resource/Heinz_College_Australia\\n', '1677|university|Tabor_College_Australia|http://dbpedia.org/resource/Tabor_College_Australia\\n', '1678|university|Australian_College_of_Natural_Medicine|http://dbpedia.org/resource/Australian_College_of_Natural_Medicine\\n', '1679|university|Adelaide_College_of_Divinity|http://dbpedia.org/resource/Adelaide_College_of_Divinity\\n', '1680|university|University_of_Sydney_School_of_Chemistry|http://dbpedia.org/resource/University_of_Sydney_School_of_Chemistry\\n', '1681|university|University_of_Sydney_School_of_Psychology|http://dbpedia.org/resource/University_of_Sydney_School_of_Psychology\\n', '1682|university|University_of_Sydney_School_of_Geosciences|http://dbpedia.org/resource/University_of_Sydney_School_of_Geoscience...', '1683|university|University_of_Sydney_Faculty_of_Agriculture_and_Environment|http://dbpedia.org/resource/University_of_Sydney_Fac...', '1684|university|University_of_Sydney_Business_School|http://dbpedia.org/resource/University_of_Sydney_Business_School\\n', '1685|university|University_of_Sydney_Unit_for_the_History_and_Philosophy_of_Science|http://dbpedia.org/resource/University_of_Sy...', '1686|university|JMC_Academy|http://dbpedia.org/resource/JMC_Academy\\n', '1687|university|University_of_Sydney_Faculty_of_Science|http://dbpedia.org/resource/University_of_Sydney_Faculty_of_Science\\n', '1688|university|University_of_Sydney_School_of_Biological_Sciences|http://dbpedia.org/resource/University_of_Sydney_School_of_Bi...', '1689|university|University_of_Sydney_Faculty_of_Health_Sciences|http://dbpedia.org/resource/University_of_Sydney_Faculty_of_Heal...', '1690|university|University_of_Sydney_Faculty_of_Education_and_Social_Work|http://dbpedia.org/resource/University_of_Sydney_Facul...', '1691|university|Sydney_Nursing_School|http://dbpedia.org/resource/Sydney_Nursing_School\\n', '1692|university|Centre_for_Values,_Ethics_and_the_Law_in_Medicine|http://dbpedia.org/resource/Centre_for_Values,_Ethics_and_the_...', '1693|university|Sydney_Bioethics_Program|http://dbpedia.org/resource/Sydney_Bioethics_Program\\n', '1694|university|University_of_Sydney_Faculty_of_Arts_and_Social_Sciences|http://dbpedia.org/resource/University_of_Sydney_Facult...', '1695|university|University_of_Sydney_Faculty_of_Engineering_and_Information_Technologies|http://dbpedia.org/resource/University_...', '1696|university|University_of_Canberra|http://dbpedia.org/resource/University_of_Canberra\\n', '1697|university|ANU_College_of_Physical_&_Mathematical_Sciences|http://dbpedia.org/resource/ANU_College_of_Physical_&_Mathematic...', '1698|university|Australian_National_University_Medical_School|http://dbpedia.org/resource/Australian_National_University_Medical...', '1699|university|UQ_Business_School|http://dbpedia.org/resource/UQ_Business_School\\n', '1700|university|Queensland_University_of_Technology|http://dbpedia.org/resource/Queensland_University_of_Technology\\n', '1701|university|Shafston_College|http://dbpedia.org/resource/Shafston_College\\n', '1702|university|Deakin_University_School_of_Medicine|http://dbpedia.org/resource/Deakin_University_School_of_Medicine\\n']}, {'typeName': 'University', 'validObject': 6380, 'noIdFound': 0, 'invalidAttribute': 0, 'invalidVertexType': 0, 'invalidPrimaryId': 0, 'invalidSecondaryId': 0, 'incorrectFixedBinaryLength': 0, 'passedCondition': 6380, 'failedCondition': 1575, 'failedConditionLines': [1, 2, 3, 4, 5, 6, 7, 8, 9, 10, 11, 12, 13, 14, 15, 16, 17, 18, 19, 20, 21, 22, 23, 24, 25, 26, 27, 28, 29, 30, 31, 32, 33, 34, 35, 36, 37, 38, 39, 40, 41, 42, 43, 44, 45, 46, 47, 48, 49, 50, 51, 52, 53, 54, 55, 56, 57, 58, 59, 60, 61, 62, 63, 64, 65, 66, 67, 68, 69, 70, 71, 72, 73, 74, 75, 76, 77, 78, 79, 80, 81, 82, 83, 84, 85, 86, 87, 88, 89, 90, 91, 92, 93, 94, 95, 96, 97, 98, 99, 100, 101, 102, 103, 104, 105, 106, 107, 108, 109, 110, 111, 112, 113, 114, 115, 116, 117, 118, 119, 120, 121, 122, 123, 124, 125, 126, 127, 128], 'failedConditionLinesData': ['0|company|Kam_Air|http://dbpedia.org/resource/Kam_Air\\n', '1|company|Balkh_Airlines|http://dbpedia.org/resource/Balkh_Airlines\\n', '2|company|Khyber_Afghan_Airlines|http://dbpedia.org/resource/Khyber_Afghan_Airlines\\n', '3|company|MarcoPolo_Airways|http://dbpedia.org/resource/MarcoPolo_Airways\\n', '4|company|Pamir_Airways|http://dbpedia.org/resource/Pamir_Airways\\n', '5|company|Bakhtar_Afghan_Airlines|http://dbpedia.org/resource/Bakhtar_Afghan_Airlines\\n', '6|company|Safi_Airways|http://dbpedia.org/resource/Safi_Airways\\n', '7|company|Air_Algérie|http://dbpedia.org/resource/Air_Algérie\\n', '8|company|Khalifa_Airways|http://dbpedia.org/resource/Khalifa_Airways\\n', '9|company|Tassili_Airlines|http://dbpedia.org/resource/Tassili_Airlines\\n', '10|company|Antinea_Airlines|http://dbpedia.org/resource/Antinea_Airlines\\n', '11|company|Star_Aviation|http://dbpedia.org/resource/Star_Aviation\\n', '12|company|TAAG_Angola_Airlines|http://dbpedia.org/resource/TAAG_Angola_Airlines\\n', '13|company|Aero_Tropical|http://dbpedia.org/resource/Aero_Tropical\\n', '14|company|Angola_Air_Charter|http://dbpedia.org/resource/Angola_Air_Charter\\n', '15|company|Alada|http://dbpedia.org/resource/Alada\\n', '16|company|Air_Gemini|http://dbpedia.org/resource/Air_Gemini\\n', '17|company|Aeronáutica_(Angola)|http://dbpedia.org/resource/Aeronáutica_(Angola)\\n', '18|company|Diexim_Expresso|http://dbpedia.org/resource/Diexim_Expresso\\n', '19|company|SonAir|http://dbpedia.org/resource/SonAir\\n', '20|company|Air_26|http://dbpedia.org/resource/Air_26\\n', '21|company|Aerolíneas_Argentinas|http://dbpedia.org/resource/Aerolíneas_Argentinas\\n', '22|company|Austral_Líneas_Aéreas|http://dbpedia.org/resource/Austral_Líneas_Aéreas\\n', '23|company|Líneas_Aéreas_Privadas_Argentinas|http://dbpedia.org/resource/Líneas_Aéreas_Privadas_Argentinas\\n', '24|company|Aero_VIP_(Argentina)|http://dbpedia.org/resource/Aero_VIP_(Argentina)\\n', '25|company|CATA_Línea_Aérea|http://dbpedia.org/resource/CATA_Línea_Aérea\\n', '26|company|LADE|http://dbpedia.org/resource/LADE\\n', '27|company|Líneas_Aéreas_Federales|http://dbpedia.org/resource/Líneas_Aéreas_Federales\\n', '28|company|LAN_Argentina|http://dbpedia.org/resource/LAN_Argentina\\n', '29|company|Sol_Líneas_Aéreas|http://dbpedia.org/resource/Sol_Líneas_Aéreas\\n', '30|company|Andes_Líneas_Aéreas|http://dbpedia.org/resource/Andes_Líneas_Aéreas\\n', '31|company|Silver_Sky_Airlines|http://dbpedia.org/resource/Silver_Sky_Airlines\\n', '32|company|Dinar_Líneas_Aéreas|http://dbpedia.org/resource/Dinar_Líneas_Aéreas\\n', '33|company|Aerochaco|http://dbpedia.org/resource/Aerochaco\\n', '34|company|Trans_Australia_Airlines|http://dbpedia.org/resource/Trans_Australia_Airlines\\n', '35|company|Ansett_Australia|http://dbpedia.org/resource/Ansett_Australia\\n', '36|company|Skywest_Airlines|http://dbpedia.org/resource/Skywest_Airlines\\n', '37|company|Virgin_Blue|http://dbpedia.org/resource/Virgin_Blue\\n', '38|company|Jetstar_Airways|http://dbpedia.org/resource/Jetstar_Airways\\n', '39|company|Kendell_Airlines|http://dbpedia.org/resource/Kendell_Airlines\\n', '40|company|Impulse_Airlines|http://dbpedia.org/resource/Impulse_Airlines\\n', '41|company|Sunshine_Express_Airlines|http://dbpedia.org/resource/Sunshine_Express_Airlines\\n', '42|company|Norfolk_Jet_Express|http://dbpedia.org/resource/Norfolk_Jet_Express\\n', '43|company|Alliance_Airlines|http://dbpedia.org/resource/Alliance_Airlines\\n', '44|company|Aeropelican_Air_Services|http://dbpedia.org/resource/Aeropelican_Air_Services\\n', '45|company|Aero-Tropics_Air_Services|http://dbpedia.org/resource/Aero-Tropics_Air_Services\\n', '46|company|Emu_Airways|http://dbpedia.org/resource/Emu_Airways\\n', '47|company|Cobham_Aviation_Services_Australia|http://dbpedia.org/resource/Cobham_Aviation_Services_Australia\\n', '48|company|Rossair_(Australia)|http://dbpedia.org/resource/Rossair_(Australia)\\n', '49|company|Airlines_of_Tasmania|http://dbpedia.org/resource/Airlines_of_Tasmania\\n', '50|company|Tasman_Cargo_Airlines|http://dbpedia.org/resource/Tasman_Cargo_Airlines\\n', '51|company|Australian_air_Express|http://dbpedia.org/resource/Australian_air_Express\\n', '52|company|Toll_Aviation|http://dbpedia.org/resource/Toll_Aviation\\n', '53|company|Skippers_Aviation|http://dbpedia.org/resource/Skippers_Aviation\\n', '54|company|Skytrans_Airlines|http://dbpedia.org/resource/Skytrans_Airlines\\n', '55|company|East-West_Airlines_(Australia)|http://dbpedia.org/resource/East-West_Airlines_(Australia)\\n', '56|company|Regional_Express_Airlines|http://dbpedia.org/resource/Regional_Express_Airlines\\n', '57|company|QantasLink|http://dbpedia.org/resource/QantasLink\\n', '58|company|Flight_West_Airlines|http://dbpedia.org/resource/Flight_West_Airlines\\n', '59|company|Brindabella_Airlines|http://dbpedia.org/resource/Brindabella_Airlines\\n', '60|company|Tasair|http://dbpedia.org/resource/Tasair\\n', '61|company|OzJet|http://dbpedia.org/resource/OzJet\\n', '62|company|Eastern_Australia_Airlines|http://dbpedia.org/resource/Eastern_Australia_Airlines\\n', '63|company|Eco_Airlines|http://dbpedia.org/resource/Eco_Airlines\\n', '64|company|Sunstate_Airlines|http://dbpedia.org/resource/Sunstate_Airlines\\n', '65|company|HeavyLift_Cargo_Airlines|http://dbpedia.org/resource/HeavyLift_Cargo_Airlines\\n', '66|company|Palm_Beach_Seaplanes|http://dbpedia.org/resource/Palm_Beach_Seaplanes\\n', '67|company|SkyAirWorld|http://dbpedia.org/resource/SkyAirWorld\\n', '68|company|Pacific_Air_Express|http://dbpedia.org/resource/Pacific_Air_Express\\n', '69|company|RMA_Gold_Airways|http://dbpedia.org/resource/RMA_Gold_Airways\\n', '70|company|Tiger_Airways_Australia|http://dbpedia.org/resource/Tiger_Airways_Australia\\n', '71|company|Express_Freighters_Australia|http://dbpedia.org/resource/Express_Freighters_Australia\\n', '72|company|V_Australia|http://dbpedia.org/resource/V_Australia\\n', '73|company|Skytraders|http://dbpedia.org/resource/Skytraders\\n', '74|company|Airtex_Aviation|http://dbpedia.org/resource/Airtex_Aviation\\n', '75|company|Sharp_Airlines|http://dbpedia.org/resource/Sharp_Airlines\\n', '76|company|Toll_Priority|http://dbpedia.org/resource/Toll_Priority\\n', '77|company|AlphaJet_Airlines|http://dbpedia.org/resource/AlphaJet_Airlines\\n', '78|company|Strategic_Airlines|http://dbpedia.org/resource/Strategic_Airlines\\n', '79|company|Lauda_Air|http://dbpedia.org/resource/Lauda_Air\\n', '80|company|Tyrolean_Airways|http://dbpedia.org/resource/Tyrolean_Airways\\n', '81|company|Niki_(airline)|http://dbpedia.org/resource/Niki_(airline)\\n', '82|company|Air_Alps|http://dbpedia.org/resource/Air_Alps\\n', '83|company|Welcome_Air|http://dbpedia.org/resource/Welcome_Air\\n', '84|company|Amerer_Air|http://dbpedia.org/resource/Amerer_Air\\n', '85|company|InterSky|http://dbpedia.org/resource/InterSky\\n', '86|company|LTU_Austria|http://dbpedia.org/resource/LTU_Austria\\n', '87|company|Styrian_Spirit|http://dbpedia.org/resource/Styrian_Spirit\\n', '88|company|Teamline_Air|http://dbpedia.org/resource/Teamline_Air\\n', '89|company|Slovenian_Spirit|http://dbpedia.org/resource/Slovenian_Spirit\\n', '90|company|Fairline|http://dbpedia.org/resource/Fairline\\n', '91|company|Austrian_Airlines|http://dbpedia.org/resource/Austrian_Airlines\\n', '92|company|Jetalliance|http://dbpedia.org/resource/Jetalliance\\n', '93|company|Tyrolean_Jet_Services|http://dbpedia.org/resource/Tyrolean_Jet_Services\\n', '94|company|Air_Sylhet|http://dbpedia.org/resource/Air_Sylhet\\n', '95|company|Robin_Hood_Aviation|http://dbpedia.org/resource/Robin_Hood_Aviation\\n', '96|company|MAP_Jet|http://dbpedia.org/resource/MAP_Jet\\n', '97|company|Montana_Austria|http://dbpedia.org/resource/Montana_Austria\\n', '98|company|Austrojet|http://dbpedia.org/resource/Austrojet\\n', '99|company|Mali_Air|http://dbpedia.org/resource/Mali_Air\\n', '100|company|Azerbaijan_Airlines|http://dbpedia.org/resource/Azerbaijan_Airlines\\n', '101|company|Turan_Air|http://dbpedia.org/resource/Turan_Air\\n', '102|company|Silk_Way_Airlines|http://dbpedia.org/resource/Silk_Way_Airlines\\n', '103|company|Azal_Avia_Cargo|http://dbpedia.org/resource/Azal_Avia_Cargo\\n', '104|company|Imair_Airlines|http://dbpedia.org/resource/Imair_Airlines\\n', '105|company|SW_Business_Aviation|http://dbpedia.org/resource/SW_Business_Aviation\\n', '106|company|Belavia|http://dbpedia.org/resource/Belavia\\n', '107|company|Gomelavia|http://dbpedia.org/resource/Gomelavia\\n', '108|company|TransAVIAexport_Airlines|http://dbpedia.org/resource/TransAVIAexport_Airlines\\n', '109|company|Genex|http://dbpedia.org/resource/Genex\\n', '110|company|Sabena|http://dbpedia.org/resource/Sabena\\n', '111|company|SN_Brussels_Airlines|http://dbpedia.org/resource/SN_Brussels_Airlines\\n', '112|company|Virgin_Express|http://dbpedia.org/resource/Virgin_Express\\n', '113|company|VLM_Airlines|http://dbpedia.org/resource/VLM_Airlines\\n', '114|company|TNT_Airways|http://dbpedia.org/resource/TNT_Airways\\n', '115|company|European_Air_Transport|http://dbpedia.org/resource/European_Air_Transport\\n', '116|company|Thomas_Cook_Airlines_Belgium|http://dbpedia.org/resource/Thomas_Cook_Airlines_Belgium\\n', '117|company|Abelag_Aviation|http://dbpedia.org/resource/Abelag_Aviation\\n', '118|company|CityBird|http://dbpedia.org/resource/CityBird\\n', '119|company|Jetairfly|http://dbpedia.org/resource/Jetairfly\\n', '120|company|Brussels_Airlines|http://dbpedia.org/resource/Brussels_Airlines\\n', '121|company|Cargo_B_Airlines|http://dbpedia.org/resource/Cargo_B_Airlines\\n', '122|company|Lloyd_Aéreo_Boliviano|http://dbpedia.org/resource/Lloyd_Aéreo_Boliviano\\n', '123|company|AeroSur_(Bolivia)|http://dbpedia.org/resource/AeroSur_(Bolivia)\\n', '124|company|TAM_–_Transporte_Aéreo_Militar|http://dbpedia.org/resource/TAM_–_Transporte_Aéreo_Militar\\n', '125|company|Amaszonas|http://dbpedia.org/resource/Amaszonas\\n', '126|company|Aerolíneas_Sudamericanas|http://dbpedia.org/resource/Aerolíneas_Sudamericanas\\n', '127|company|TAB_–_Transportes_Aéreos_Bolivianos|http://dbpedia.org/resource/TAB_–_Transportes_Aéreos_Bolivianos\\n']}], 'edge': [], 'deleteVertex': [], 'deleteEdge': []}}], [{'sourceFileName': 'Online_POST', 'statistics': {'validLine': 71, 'rejectLine': 0, 'failedConditionLine': 0, 'notEnoughToken': 0, 'invalidJson': 0, 'oversizeToken': 0, 'vertex': [{'typeName': 'Tag_Class', 'validObject': 71, 'noIdFound': 0, 'invalidAttribute': 0, 'invalidVertexType': 0, 'invalidPrimaryId': 0, 'invalidSecondaryId': 0, 'incorrectFixedBinaryLength': 0}], 'edge': [], 'deleteVertex': [], 'deleteEdge': []}}], [{'sourceFileName': 'Online_POST', 'statistics': {'validLine': 180623, 'rejectLine': 0, 'failedConditionLine': 0, 'notEnoughToken': 0, 'invalidJson': 0, 'oversizeToken': 0, 'vertex': [], 'edge': [{'typeName': 'Knows', 'validObject': 180623, 'noIdFound': 0, 'invalidAttribute': 0, 'invalidVertexType': 0, 'invalidPrimaryId': 0, 'invalidSecondaryId': 0, 'incorrectFixedBinaryLength': 0}], 'deleteVertex': [], 'deleteEdge': []}}], [{'sourceFileName': 'Online_POST', 'statistics': {'validLine': 1011420, 'rejectLine': 0, 'failedConditionLine': 0, 'notEnoughToken': 0, 'invalidJson': 0, 'oversizeToken': 0, 'vertex': [], 'edge': [{'typeName': 'Reply_Of', 'validObject': 1011420, 'noIdFound': 0, 'invalidAttribute': 0, 'invalidVertexType': 0, 'invalidPrimaryId': 0, 'invalidSecondaryId': 0, 'incorrectFixedBinaryLength': 0}], 'deleteVertex': [], 'deleteEdge': []}}], [{'sourceFileName': 'Online_POST', 'statistics': {'validLine': 1040749, 'rejectLine': 0, 'failedConditionLine': 0, 'notEnoughToken': 0, 'invalidJson': 0, 'oversizeToken': 0, 'vertex': [], 'edge': [{'typeName': 'Reply_Of', 'validObject': 1040749, 'noIdFound': 0, 'invalidAttribute': 0, 'invalidVertexType': 0, 'invalidPrimaryId': 0, 'invalidSecondaryId': 0, 'incorrectFixedBinaryLength': 0}], 'deleteVertex': [], 'deleteEdge': []}}], [{'sourceFileName': 'Online_POST', 'statistics': {'validLine': 1003605, 'rejectLine': 0, 'failedConditionLine': 0, 'notEnoughToken': 0, 'invalidJson': 0, 'oversizeToken': 0, 'vertex': [], 'edge': [{'typeName': 'Has_Creator', 'validObject': 1003605, 'noIdFound': 0, 'invalidAttribute': 0, 'invalidVertexType': 0, 'invalidPrimaryId': 0, 'invalidSecondaryId': 0, 'incorrectFixedBinaryLength': 0}], 'deleteVertex': [], 'deleteEdge': []}}], [{'sourceFileName': 'Online_POST', 'statistics': {'validLine': 713258, 'rejectLine': 0, 'failedConditionLine': 0, 'notEnoughToken': 0, 'invalidJson': 0, 'oversizeToken': 0, 'vertex': [], 'edge': [{'typeName': 'Has_Tag', 'validObject': 713258, 'noIdFound': 0, 'invalidAttribute': 0, 'invalidVertexType': 0, 'invalidPrimaryId': 0, 'invalidSecondaryId': 0, 'incorrectFixedBinaryLength': 0}], 'deleteVertex': [], 'deleteEdge': []}}], [{'sourceFileName': 'Online_POST', 'statistics': {'validLine': 2052169, 'rejectLine': 0, 'failedConditionLine': 0, 'notEnoughToken': 0, 'invalidJson': 0, 'oversizeToken': 0, 'vertex': [], 'edge': [{'typeName': 'Has_Creator', 'validObject': 2052169, 'noIdFound': 0, 'invalidAttribute': 0, 'invalidVertexType': 0, 'invalidPrimaryId': 0, 'invalidSecondaryId': 0, 'incorrectFixedBinaryLength': 0}], 'deleteVertex': [], 'deleteEdge': []}}], [{'sourceFileName': 'Online_POST', 'statistics': {'validLine': 1003605, 'rejectLine': 0, 'failedConditionLine': 0, 'notEnoughToken': 0, 'invalidJson': 0, 'oversizeToken': 0, 'vertex': [], 'edge': [{'typeName': 'Is_Located_In', 'validObject': 1003605, 'noIdFound': 0, 'invalidAttribute': 0, 'invalidVertexType': 0, 'invalidPrimaryId': 0, 'invalidSecondaryId': 0, 'incorrectFixedBinaryLength': 0}], 'deleteVertex': [], 'deleteEdge': []}}], [{'sourceFileName': 'Online_POST', 'statistics': {'validLine': 2698393, 'rejectLine': 0, 'failedConditionLine': 0, 'notEnoughToken': 0, 'invalidJson': 0, 'oversizeToken': 0, 'vertex': [], 'edge': [{'typeName': 'Has_Tag', 'validObject': 2698393, 'noIdFound': 0, 'invalidAttribute': 0, 'invalidVertexType': 0, 'invalidPrimaryId': 0, 'invalidSecondaryId': 0, 'incorrectFixedBinaryLength': 0}], 'deleteVertex': [], 'deleteEdge': []}}], [{'sourceFileName': 'Online_POST', 'statistics': {'validLine': 2052169, 'rejectLine': 0, 'failedConditionLine': 0, 'notEnoughToken': 0, 'invalidJson': 0, 'oversizeToken': 0, 'vertex': [], 'edge': [{'typeName': 'Is_Located_In', 'validObject': 2052169, 'noIdFound': 0, 'invalidAttribute': 0, 'invalidVertexType': 0, 'invalidPrimaryId': 0, 'invalidSecondaryId': 0, 'incorrectFixedBinaryLength': 0}], 'deleteVertex': [], 'deleteEdge': []}}], [{'sourceFileName': 'Online_POST', 'statistics': {'validLine': 1003605, 'rejectLine': 0, 'failedConditionLine': 0, 'notEnoughToken': 0, 'invalidJson': 0, 'oversizeToken': 0, 'vertex': [], 'edge': [{'typeName': 'Container_Of', 'validObject': 1003605, 'noIdFound': 0, 'invalidAttribute': 0, 'invalidVertexType': 0, 'invalidPrimaryId': 0, 'invalidSecondaryId': 0, 'incorrectFixedBinaryLength': 0}], 'deleteVertex': [], 'deleteEdge': []}}], [{'sourceFileName': 'Online_POST', 'statistics': {'validLine': 1611869, 'rejectLine': 0, 'failedConditionLine': 0, 'notEnoughToken': 0, 'invalidJson': 0, 'oversizeToken': 0, 'vertex': [], 'edge': [{'typeName': 'Has_Member', 'validObject': 1611869, 'noIdFound': 0, 'invalidAttribute': 0, 'invalidVertexType': 0, 'invalidPrimaryId': 0, 'invalidSecondaryId': 0, 'incorrectFixedBinaryLength': 0}], 'deleteVertex': [], 'deleteEdge': []}}], [{'sourceFileName': 'Online_POST', 'statistics': {'validLine': 90492, 'rejectLine': 0, 'failedConditionLine': 0, 'notEnoughToken': 0, 'invalidJson': 0, 'oversizeToken': 0, 'vertex': [], 'edge': [{'typeName': 'Has_Moderator', 'validObject': 90492, 'noIdFound': 0, 'invalidAttribute': 0, 'invalidVertexType': 0, 'invalidPrimaryId': 0, 'invalidSecondaryId': 0, 'incorrectFixedBinaryLength': 0}], 'deleteVertex': [], 'deleteEdge': []}}], [{'sourceFileName': 'Online_POST', 'statistics': {'validLine': 309766, 'rejectLine': 0, 'failedConditionLine': 0, 'notEnoughToken': 0, 'invalidJson': 0, 'oversizeToken': 0, 'vertex': [], 'edge': [{'typeName': 'Has_Tag', 'validObject': 309766, 'noIdFound': 0, 'invalidAttribute': 0, 'invalidVertexType': 0, 'invalidPrimaryId': 0, 'invalidSecondaryId': 0, 'incorrectFixedBinaryLength': 0}], 'deleteVertex': [], 'deleteEdge': []}}], [{'sourceFileName': 'Online_POST', 'statistics': {'validLine': 7955, 'rejectLine': 0, 'failedConditionLine': 0, 'notEnoughToken': 0, 'invalidJson': 0, 'oversizeToken': 0, 'vertex': [], 'edge': [{'typeName': 'Is_Located_In', 'validObject': 6380, 'noIdFound': 0, 'invalidAttribute': 0, 'invalidVertexType': 0, 'invalidPrimaryId': 0, 'invalidSecondaryId': 0, 'incorrectFixedBinaryLength': 0, 'passedCondition': 6380, 'failedCondition': 1575, 'failedConditionLines': [1, 2, 3, 4, 5, 6, 7, 8, 9, 10, 11, 12, 13, 14, 15, 16, 17, 18, 19, 20, 21, 22, 23, 24, 25, 26, 27, 28, 29, 30, 31, 32, 33, 34, 35, 36, 37, 38, 39, 40, 41, 42, 43, 44, 45, 46, 47, 48, 49, 50, 51, 52, 53, 54, 55, 56, 57, 58, 59, 60, 61, 62, 63, 64, 65, 66, 67, 68, 69, 70, 71, 72, 73, 74, 75, 76, 77, 78, 79, 80, 81, 82, 83, 84, 85, 86, 87, 88, 89, 90, 91, 92, 93, 94, 95, 96, 97, 98, 99, 100, 101, 102, 103, 104, 105, 106, 107, 108, 109, 110, 111, 112, 113, 114, 115, 116, 117, 118, 119, 120, 121, 122, 123, 124, 125, 126, 127, 128], 'failedConditionLinesData': ['0|59\\n', '1|59\\n', '2|59\\n', '3|59\\n', '4|59\\n', '5|59\\n', '6|59\\n', '7|60\\n', '8|60\\n', '9|60\\n', '10|60\\n', '11|60\\n', '12|2\\n', '13|2\\n', '14|2\\n', '15|2\\n', '16|2\\n', '17|2\\n', '18|2\\n', '19|2\\n', '20|2\\n', '21|61\\n', '22|61\\n', '23|61\\n', '24|61\\n', '25|61\\n', '26|61\\n', '27|61\\n', '28|61\\n', '29|61\\n', '30|61\\n', '31|61\\n', '32|61\\n', '33|61\\n', '34|62\\n', '35|62\\n', '36|62\\n', '37|62\\n', '38|62\\n', '39|62\\n', '40|62\\n', '41|62\\n', '42|62\\n', '43|62\\n', '44|62\\n', '45|62\\n', '46|62\\n', '47|62\\n', '48|62\\n', '49|62\\n', '50|62\\n', '51|62\\n', '52|62\\n', '53|62\\n', '54|62\\n', '55|62\\n', '56|62\\n', '57|62\\n', '58|62\\n', '59|62\\n', '60|62\\n', '61|62\\n', '62|62\\n', '63|62\\n', '64|62\\n', '65|62\\n', '66|62\\n', '67|62\\n', '68|62\\n', '69|62\\n', '70|62\\n', '71|62\\n', '72|62\\n', '73|62\\n', '74|62\\n', '75|62\\n', '76|62\\n', '77|62\\n', '78|62\\n', '79|3\\n', '80|3\\n', '81|3\\n', '82|3\\n', '83|3\\n', '84|3\\n', '85|3\\n', '86|3\\n', '87|3\\n', '88|3\\n', '89|3\\n', '90|3\\n', '91|3\\n', '92|3\\n', '93|3\\n', '94|3\\n', '95|3\\n', '96|3\\n', '97|3\\n', '98|3\\n', '99|3\\n', '100|4\\n', '101|4\\n', '102|4\\n', '103|4\\n', '104|4\\n', '105|4\\n', '106|63\\n', '107|63\\n', '108|63\\n', '109|63\\n', '110|64\\n', '111|64\\n', '112|64\\n', '113|64\\n', '114|64\\n', '115|64\\n', '116|64\\n', '117|64\\n', '118|64\\n', '119|64\\n', '120|64\\n', '121|64\\n', '122|5\\n', '123|5\\n', '124|5\\n', '125|5\\n', '126|5\\n', '127|5\\n']}, {'typeName': 'Is_Located_In', 'validObject': 1575, 'noIdFound': 0, 'invalidAttribute': 0, 'invalidVertexType': 0, 'invalidPrimaryId': 0, 'invalidSecondaryId': 0, 'incorrectFixedBinaryLength': 0, 'passedCondition': 1575, 'failedCondition': 6380, 'failedConditionLines': [1576, 1577, 1578, 1579, 1580, 1581, 1582, 1583, 1584, 1585, 1586, 1587, 1588, 1589, 1590, 1591, 1592, 1593, 1594, 1595, 1596, 1597, 1598, 1599, 1600, 1601, 1602, 1603, 1604, 1605, 1606, 1607, 1608, 1609, 1610, 1611, 1612, 1613, 1614, 1615, 1616, 1617, 1618, 1619, 1620, 1621, 1622, 1623, 1624, 1625, 1626, 1627, 1628, 1629, 1630, 1631, 1632, 1633, 1634, 1635, 1636, 1637, 1638, 1639, 1640, 1641, 1642, 1643, 1644, 1645, 1646, 1647, 1648, 1649, 1650, 1651, 1652, 1653, 1654, 1655, 1656, 1657, 1658, 1659, 1660, 1661, 1662, 1663, 1664, 1665, 1666, 1667, 1668, 1669, 1670, 1671, 1672, 1673, 1674, 1675, 1676, 1677, 1678, 1679, 1680, 1681, 1682, 1683, 1684, 1685, 1686, 1687, 1688, 1689, 1690, 1691, 1692, 1693, 1694, 1695, 1696, 1697, 1698, 1699, 1700, 1701, 1702, 1703], 'failedConditionLinesData': ['1575|957\\n', '1576|951\\n', '1577|954\\n', '1578|952\\n', '1579|772\\n', '1580|956\\n', '1581|953\\n', '1582|955\\n', '1583|955\\n', '1584|959\\n', '1585|955\\n', '1586|958\\n', '1587|955\\n', '1588|953\\n', '1589|955\\n', '1590|955\\n', '1591|955\\n', '1592|955\\n', '1593|955\\n', '1594|959\\n', '1595|965\\n', '1596|960\\n', '1597|963\\n', '1598|960\\n', '1599|961\\n', '1600|960\\n', '1601|969\\n', '1602|967\\n', '1603|508\\n', '1604|974\\n', '1605|972\\n', '1606|973\\n', '1607|978\\n', '1608|977\\n', '1609|979\\n', '1610|972\\n', '1611|972\\n', '1612|979\\n', '1613|971\\n', '1614|971\\n', '1615|972\\n', '1616|972\\n', '1617|972\\n', '1618|972\\n', '1619|827\\n', '1620|975\\n', '1621|976\\n', '1622|976\\n', '1623|975\\n', '1624|971\\n', '1625|972\\n', '1626|972\\n', '1627|972\\n', '1628|972\\n', '1629|972\\n', '1630|972\\n', '1631|970\\n', '1632|970\\n', '1633|970\\n', '1634|978\\n', '1635|984\\n', '1636|984\\n', '1637|985\\n', '1638|985\\n', '1639|986\\n', '1640|987\\n', '1641|982\\n', '1642|983\\n', '1643|983\\n', '1644|981\\n', '1645|981\\n', '1646|981\\n', '1647|981\\n', '1648|981\\n', '1649|987\\n', '1650|987\\n', '1651|987\\n', '1652|987\\n', '1653|987\\n', '1654|987\\n', '1655|982\\n', '1656|982\\n', '1657|983\\n', '1658|983\\n', '1659|980\\n', '1660|981\\n', '1661|981\\n', '1662|981\\n', '1663|981\\n', '1664|981\\n', '1665|981\\n', '1666|981\\n', '1667|986\\n', '1668|986\\n', '1669|986\\n', '1670|986\\n', '1671|986\\n', '1672|986\\n', '1673|986\\n', '1674|986\\n', '1675|986\\n', '1676|989\\n', '1677|984\\n', '1678|989\\n', '1679|989\\n', '1680|986\\n', '1681|986\\n', '1682|986\\n', '1683|986\\n', '1684|986\\n', '1685|986\\n', '1686|981\\n', '1687|987\\n', '1688|987\\n', '1689|987\\n', '1690|987\\n', '1691|987\\n', '1692|987\\n', '1693|987\\n', '1694|987\\n', '1695|987\\n', '1696|982\\n', '1697|982\\n', '1698|982\\n', '1699|983\\n', '1700|983\\n', '1701|983\\n', '1702|980\\n']}], 'deleteVertex': [], 'deleteEdge': []}}], [{'sourceFileName': 'Online_POST', 'statistics': {'validLine': 229166, 'rejectLine': 0, 'failedConditionLine': 0, 'notEnoughToken': 0, 'invalidJson': 0, 'oversizeToken': 0, 'vertex': [], 'edge': [{'typeName': 'Has_Interest', 'validObject': 229166, 'noIdFound': 0, 'invalidAttribute': 0, 'invalidVertexType': 0, 'invalidPrimaryId': 0, 'invalidSecondaryId': 0, 'incorrectFixedBinaryLength': 0}], 'deleteVertex': [], 'deleteEdge': []}}], [{'sourceFileName': 'Online_POST', 'statistics': {'validLine': 9892, 'rejectLine': 0, 'failedConditionLine': 0, 'notEnoughToken': 0, 'invalidJson': 0, 'oversizeToken': 0, 'vertex': [], 'edge': [{'typeName': 'Is_Located_In', 'validObject': 9892, 'noIdFound': 0, 'invalidAttribute': 0, 'invalidVertexType': 0, 'invalidPrimaryId': 0, 'invalidSecondaryId': 0, 'incorrectFixedBinaryLength': 0}], 'deleteVertex': [], 'deleteEdge': []}}], [{'sourceFileName': 'Online_POST', 'statistics': {'validLine': 1438418, 'rejectLine': 0, 'failedConditionLine': 0, 'notEnoughToken': 0, 'invalidJson': 0, 'oversizeToken': 0, 'vertex': [], 'edge': [{'typeName': 'Likes', 'validObject': 1438418, 'noIdFound': 0, 'invalidAttribute': 0, 'invalidVertexType': 0, 'invalidPrimaryId': 0, 'invalidSecondaryId': 0, 'incorrectFixedBinaryLength': 0}], 'deleteVertex': [], 'deleteEdge': []}}], [{'sourceFileName': 'Online_POST', 'statistics': {'validLine': 751677, 'rejectLine': 0, 'failedConditionLine': 0, 'notEnoughToken': 0, 'invalidJson': 0, 'oversizeToken': 0, 'vertex': [], 'edge': [{'typeName': 'Likes', 'validObject': 751677, 'noIdFound': 0, 'invalidAttribute': 0, 'invalidVertexType': 0, 'invalidPrimaryId': 0, 'invalidSecondaryId': 0, 'incorrectFixedBinaryLength': 0}], 'deleteVertex': [], 'deleteEdge': []}}], [{'sourceFileName': 'Online_POST', 'statistics': {'validLine': 7949, 'rejectLine': 0, 'failedConditionLine': 0, 'notEnoughToken': 0, 'invalidJson': 0, 'oversizeToken': 0, 'vertex': [], 'edge': [{'typeName': 'Study_At', 'validObject': 7949, 'noIdFound': 0, 'invalidAttribute': 0, 'invalidVertexType': 0, 'invalidPrimaryId': 0, 'invalidSecondaryId': 0, 'incorrectFixedBinaryLength': 0}], 'deleteVertex': [], 'deleteEdge': []}}], [{'sourceFileName': 'Online_POST', 'statistics': {'validLine': 21654, 'rejectLine': 0, 'failedConditionLine': 0, 'notEnoughToken': 0, 'invalidJson': 0, 'oversizeToken': 0, 'vertex': [], 'edge': [{'typeName': 'Work_At', 'validObject': 21654, 'noIdFound': 0, 'invalidAttribute': 0, 'invalidVertexType': 0, 'invalidPrimaryId': 0, 'invalidSecondaryId': 0, 'incorrectFixedBinaryLength': 0}], 'deleteVertex': [], 'deleteEdge': []}}], [{'sourceFileName': 'Online_POST', 'statistics': {'validLine': 1454, 'rejectLine': 0, 'failedConditionLine': 0, 'notEnoughToken': 0, 'invalidJson': 0, 'oversizeToken': 0, 'vertex': [], 'edge': [{'typeName': 'Is_Part_Of', 'validObject': 111, 'noIdFound': 0, 'invalidAttribute': 0, 'invalidVertexType': 0, 'invalidPrimaryId': 0, 'invalidSecondaryId': 0, 'incorrectFixedBinaryLength': 0, 'passedCondition': 111, 'failedCondition': 1343, 'failedConditionLines': [112, 113, 114, 115, 116, 117, 118, 119, 120, 121, 122, 123, 124, 125, 126, 127, 128, 129, 130, 131, 132, 133, 134, 135, 136, 137, 138, 139, 140, 141, 142, 143, 144, 145, 146, 147, 148, 149, 150, 151, 152, 153, 154, 155, 156, 157, 158, 159, 160, 161, 162, 163, 164, 165, 166, 167, 168, 169, 170, 171, 172, 173, 174, 175, 176, 177, 178, 179, 180, 181, 182, 183, 184, 185, 186, 187, 188, 189, 190, 191, 192, 193, 194, 195, 196, 197, 198, 199, 200, 201, 202, 203, 204, 205, 206, 207, 208, 209, 210, 211, 212, 213, 214, 215, 216, 217, 218, 219, 220, 221, 222, 223, 224, 225, 226, 227, 228, 229, 230, 231, 232, 233, 234, 235, 236, 237, 238, 239], 'failedConditionLinesData': ['111|0\\n', '112|0\\n', '113|0\\n', '114|0\\n', '115|0\\n', '116|0\\n', '117|0\\n', '118|0\\n', '119|0\\n', '120|0\\n', '121|0\\n', '122|0\\n', '123|0\\n', '124|0\\n', '125|0\\n', '126|0\\n', '127|0\\n', '128|0\\n', '129|0\\n', '130|0\\n', '131|0\\n', '132|0\\n', '133|0\\n', '134|0\\n', '135|0\\n', '136|0\\n', '137|0\\n', '138|0\\n', '139|0\\n', '140|0\\n', '141|0\\n', '142|0\\n', '143|0\\n', '144|0\\n', '145|0\\n', '146|0\\n', '147|0\\n', '148|0\\n', '149|0\\n', '150|0\\n', '151|0\\n', '152|0\\n', '153|0\\n', '154|0\\n', '155|0\\n', '156|0\\n', '157|0\\n', '158|0\\n', '159|0\\n', '160|0\\n', '161|0\\n', '162|0\\n', '163|0\\n', '164|0\\n', '165|0\\n', '166|0\\n', '167|0\\n', '168|0\\n', '169|0\\n', '170|0\\n', '171|0\\n', '172|0\\n', '173|0\\n', '174|0\\n', '175|0\\n', '176|0\\n', '177|0\\n', '178|0\\n', '179|0\\n', '180|0\\n', '181|0\\n', '182|0\\n', '183|0\\n', '184|0\\n', '185|0\\n', '186|0\\n', '187|0\\n', '188|0\\n', '189|0\\n', '190|0\\n', '191|0\\n', '192|0\\n', '193|0\\n', '194|0\\n', '195|0\\n', '196|0\\n', '197|0\\n', '198|0\\n', '199|0\\n', '200|0\\n', '201|0\\n', '202|0\\n', '203|0\\n', '204|0\\n', '205|0\\n', '206|0\\n', '207|0\\n', '208|0\\n', '209|0\\n', '210|0\\n', '211|0\\n', '212|0\\n', '213|0\\n', '214|0\\n', '215|0\\n', '216|0\\n', '217|0\\n', '218|0\\n', '219|0\\n', '220|0\\n', '221|0\\n', '222|0\\n', '223|0\\n', '224|0\\n', '225|0\\n', '226|0\\n', '227|0\\n', '228|0\\n', '229|0\\n', '230|0\\n', '231|0\\n', '232|0\\n', '233|0\\n', '234|0\\n', '235|0\\n', '236|0\\n', '237|0\\n', '238|0\\n']}, {'typeName': 'Is_Part_Of', 'validObject': 1343, 'noIdFound': 0, 'invalidAttribute': 0, 'invalidVertexType': 0, 'invalidPrimaryId': 0, 'invalidSecondaryId': 0, 'incorrectFixedBinaryLength': 0, 'passedCondition': 1343, 'failedCondition': 111, 'failedConditionLines': [1, 2, 3, 4, 5, 6, 7, 8, 9, 10, 11, 12, 13, 14, 15, 16, 17, 18, 19, 20, 21, 22, 23, 24, 25, 26, 27, 28, 29, 30, 31, 32, 33, 34, 35, 36, 37, 38, 39, 40, 41, 42, 43, 44, 45, 46, 47, 48, 49, 50, 51, 52, 53, 54, 55, 56, 57, 58, 59, 60, 61, 62, 63, 64, 65, 66, 67, 68, 69, 70, 71, 72, 73, 74, 75, 76, 77, 78, 79, 80, 81, 82, 83, 84, 85, 86, 87, 88, 89, 90, 91, 92, 93, 94, 95, 96, 97, 98, 99, 100, 101, 102, 103, 104, 105, 106, 107, 108, 109, 110, 111], 'failedConditionLinesData': ['0|1454\\n', '1|1454\\n', '2|1455\\n', '3|1456\\n', '4|1454\\n', '5|1457\\n', '6|1456\\n', '7|1456\\n', '8|1455\\n', '9|1456\\n', '10|1456\\n', '11|1458\\n', '12|1458\\n', '13|1456\\n', '14|1456\\n', '15|1458\\n', '16|1454\\n', '17|1454\\n', '18|1454\\n', '19|1454\\n', '20|1456\\n', '21|1455\\n', '22|1455\\n', '23|1456\\n', '24|1456\\n', '25|1455\\n', '26|1455\\n', '27|1454\\n', '28|1455\\n', '29|1459\\n', '30|1458\\n', '31|1456\\n', '32|1456\\n', '33|1454\\n', '34|1458\\n', '35|1459\\n', '36|1458\\n', '37|1456\\n', '38|1456\\n', '39|1455\\n', '40|1456\\n', '41|1454\\n', '42|1456\\n', '43|1456\\n', '44|1455\\n', '45|1456\\n', '46|1454\\n', '47|1457\\n', '48|1456\\n', '49|1457\\n', '50|1456\\n', '51|1454\\n', '52|1454\\n', '53|1458\\n', '54|1454\\n', '55|1454\\n', '56|1456\\n', '57|1458\\n', '58|1454\\n', '59|1454\\n', '60|1455\\n', '61|1457\\n', '62|1459\\n', '63|1456\\n', '64|1456\\n', '65|1454\\n', '66|1458\\n', '67|1454\\n', '68|1455\\n', '69|1457\\n', '70|1457\\n', '71|1458\\n', '72|1456\\n', '73|1455\\n', '74|1455\\n', '75|1456\\n', '76|1455\\n', '77|1456\\n', '78|1456\\n', '79|1456\\n', '80|1454\\n', '81|1456\\n', '82|1454\\n', '83|1455\\n', '84|1455\\n', '85|1454\\n', '86|1456\\n', '87|1455\\n', '88|1454\\n', '89|1456\\n', '90|1455\\n', '91|1457\\n', '92|1456\\n', '93|1456\\n', '94|1454\\n', '95|1456\\n', '96|1455\\n', '97|1455\\n', '98|1454\\n', '99|1456\\n', '100|1455\\n', '101|1456\\n', '102|1455\\n', '103|1454\\n', '104|1455\\n', '105|1454\\n', '106|1456\\n', '107|1456\\n', '108|1457\\n', '109|1454\\n', '110|1455\\n']}], 'deleteVertex': [], 'deleteEdge': []}}], [{'sourceFileName': 'Online_POST', 'statistics': {'validLine': 16080, 'rejectLine': 0, 'failedConditionLine': 0, 'notEnoughToken': 0, 'invalidJson': 0, 'oversizeToken': 0, 'vertex': [], 'edge': [{'typeName': 'Has_Type', 'validObject': 16080, 'noIdFound': 0, 'invalidAttribute': 0, 'invalidVertexType': 0, 'invalidPrimaryId': 0, 'invalidSecondaryId': 0, 'incorrectFixedBinaryLength': 0}], 'deleteVertex': [], 'deleteEdge': []}}], [{'sourceFileName': 'Online_POST', 'statistics': {'validLine': 70, 'rejectLine': 0, 'failedConditionLine': 0, 'notEnoughToken': 0, 'invalidJson': 0, 'oversizeToken': 0, 'vertex': [], 'edge': [{'typeName': 'Is_Subclass_Of', 'validObject': 70, 'noIdFound': 0, 'invalidAttribute': 0, 'invalidVertexType': 0, 'invalidPrimaryId': 0, 'invalidSecondaryId': 0, 'incorrectFixedBinaryLength': 0}], 'deleteVertex': [], 'deleteEdge': []}}]]\n"
     ]
    },
    {
     "name": "stdout",
     "output_type": "stream",
     "text": [
      "---- Cleaning ----\n",
      "---- Finished ingestion ----\n"
     ]
    }
   ],
   "source": [
    "conn.ingestDataset(dataset_ldbc, getToken=config[\"getToken\"])"
   ]
  },
  {
   "cell_type": "markdown",
   "id": "4e6dc8c4-8304-4507-8fb7-fe81c7cb92d3",
   "metadata": {},
   "source": [
    "### Visualize schema"
   ]
  },
  {
   "cell_type": "code",
   "execution_count": 4,
   "id": "7321eb39-fb66-4cbe-b5cf-279380243214",
   "metadata": {},
   "outputs": [
    {
     "data": {
      "application/vnd.jupyter.widget-view+json": {
       "model_id": "505dda0cb7594c6ebf2e2a7ade808c2d",
       "version_major": 2,
       "version_minor": 0
      },
      "text/plain": [
       "CytoscapeWidget(cytoscape_layout={'name': 'circle', 'animate': True, 'padding': 1}, cytoscape_style=[{'selecto…"
      ]
     },
     "execution_count": 4,
     "metadata": {},
     "output_type": "execute_result"
    }
   ],
   "source": [
    "from pyTigerGraph.visualization import drawSchema\n",
    "drawSchema(conn.getSchema(force=True))"
   ]
  },
  {
   "cell_type": "markdown",
   "id": "140ee63d-8637-4ea3-be00-1a29793fccc1",
   "metadata": {},
   "source": [
    "### Print graph stats"
   ]
  },
  {
   "cell_type": "code",
   "execution_count": 5,
   "id": "7094ef13-fbb2-467d-b5db-06e1086c5f88",
   "metadata": {},
   "outputs": [
    {
     "name": "stdout",
     "output_type": "stream",
     "text": [
      "Node count: (Comment : 2052169) \n",
      "Node count: (Post : 1003605) \n",
      "Node count: (Company : 1575) \n",
      "Node count: (University : 6380) \n",
      "Node count: (City : 1343) \n",
      "Node count: (Country : 111) \n",
      "Node count: (Continent : 6) \n",
      "Node count: (Forum : 90492) \n",
      "Node count: (Person : 9892) \n",
      "Node count: (Tag : 16080) \n",
      "Node count: (Tag_Class : 71) \n",
      "Total node count:  3181724\n"
     ]
    }
   ],
   "source": [
    "vertices = conn.getVertexTypes()\n",
    "total_count = 0\n",
    "for vertex in vertices:\n",
    "    vertex_cnt = conn.getVertexCount(vertex)\n",
    "    total_count += vertex_cnt\n",
    "    print(\"Node count: ({} : {}) \".format(vertex, vertex_cnt))\n",
    "print(\"Total node count: \", total_count)"
   ]
  },
  {
   "cell_type": "code",
   "execution_count": 6,
   "id": "cdb22c30-74af-470b-bfd1-a06bf49ebd82",
   "metadata": {},
   "outputs": [
    {
     "name": "stdout",
     "output_type": "stream",
     "text": [
      "Edges count: total  33127294\n",
      "{'Container_Of': 1003605,\n",
      " 'Container_Of_Reverse': 1003605,\n",
      " 'Has_Creator': 3055774,\n",
      " 'Has_Creator_Reverse': 3055774,\n",
      " 'Has_Interest': 229166,\n",
      " 'Has_Interest_Reverse': 229166,\n",
      " 'Has_Member': 1611869,\n",
      " 'Has_Member_Reverse': 1611869,\n",
      " 'Has_Moderator': 90492,\n",
      " 'Has_Moderator_Reverse': 90492,\n",
      " 'Has_Tag': 3721417,\n",
      " 'Has_Tag_Reverse': 3721417,\n",
      " 'Has_Type': 0,\n",
      " 'Has_Type_Reverse': 9055,\n",
      " 'Is_Located_In': 3073621,\n",
      " 'Is_Located_In_Reverse': 3073621,\n",
      " 'Is_Part_Of': 0,\n",
      " 'Is_Part_Of_Reverse': 111,\n",
      " 'Is_Subclass_Of': 49,\n",
      " 'Is_Subclass_Of_Reverse': 62,\n",
      " 'Knows': 180623,\n",
      " 'Likes': 1621994,\n",
      " 'Likes_Reverse': 1633457,\n",
      " 'Reply_Of': 2052169,\n",
      " 'Reply_Of_Reverse': 2052169,\n",
      " 'Study_At': 1523,\n",
      " 'Study_At_Reverse': 0,\n",
      " 'Work_At': 4194,\n",
      " 'Work_At_Reverse': 0}\n"
     ]
    }
   ],
   "source": [
    "import pprint\n",
    "edge_count = conn.getEdgeCount()\n",
    "print(\"Edges count: total \", sum(edge_count.values()))\n",
    "pprint.pprint(edge_count) "
   ]
  },
  {
   "cell_type": "markdown",
   "id": "33414628-fb9b-4662-b297-aefdce3068aa",
   "metadata": {
    "tags": []
   },
   "source": [
    "## One-hop patterns\n",
    "\n",
    "After the loading job finishes running, your tutorial setup is complete, and you are ready to start learning about One-hop patterns.\n",
    "\n",
    "Pattern matching by nature is declarative. It enables users to focus on specifying what they want from a query without worrying about the underlying query processing.\n",
    "\n",
    "The pattern specifies sets of vertex types and how they are connected by edge types.\n",
    "\n",
    "A pattern usually appears in the FROM clause, the most fundamental part of the query structure. A pattern can be refined further with conditions in the WHERE clause.\n",
    "\n",
    "In this tutorial, we’ll start with simple one-hop path patterns, and then extend it multi-hop patterns and finally multiple-path patterns.\n",
    "\n",
    "The easiest way to understand patterns is to start with a simple 1-Hop pattern. Even a single hop has several options. After we’ve tackled single hops, then we’ll see how to add repetition to make variable length patterns and how to connect single hops to form bigger patterns.\n",
    "\n",
    "In GSQL syntax V2, we use the punctuation -( )- to denote a 1-hop pattern.\n",
    "\n",
    "The edge type(s) is enclosed in the parentheses () and the hyphens - symbolize connection. The directionality of the connection is explicitly stated for each edge type. Arrowheads are used to indicate direction: > or <.\n",
    "\n",
    "* For an undirected edge E, leave as is: E\n",
    "\n",
    "* For a directed edge E from left to right, use a right-pointing arrowhead: E>\n",
    "\n",
    "* For a directed edge E from right to left, use a left-pointing arrowhead: <E\n",
    "\n",
    "In this notation, E is a placeholder for any edge in a graph. \"Left\" and \"right\" refer to the order of the actual written pattern itself."
   ]
  },
  {
   "cell_type": "markdown",
   "id": "d8ab6e2b-27f4-4114-a502-23a5e561a5c7",
   "metadata": {},
   "source": [
    "## Examples of 1-Hop Fixed Length Query\n",
    "\n",
    "### Example 1. Left-Directed Edge Pattern\n",
    "\n",
    "Find persons who know the person named \"Viktor Akhiezer\" and return the top 3 oldest such persons."
   ]
  },
  {
   "cell_type": "code",
   "execution_count": 7,
   "id": "f7ca0b88-5deb-4c62-8d7f-fd6d0cb6c494",
   "metadata": {},
   "outputs": [
    {
     "name": "stdout",
     "output_type": "stream",
     "text": [
      "[\n",
      " {\n",
      "  \"friends\": [\n",
      "   {\n",
      "    \"v_id\": \"4398046517846\",\n",
      "    \"v_type\": \"Person\",\n",
      "    \"attributes\": {\n",
      "     \"friends.first_name\": \"Abdul-Malik\",\n",
      "     \"friends.last_name\": \"Glosca\",\n",
      "     \"friends.birthday\": \"1980-04-24 00:00:00\"\n",
      "    }\n",
      "   },\n",
      "   {\n",
      "    \"v_id\": \"10995116279461\",\n",
      "    \"v_type\": \"Person\",\n",
      "    \"attributes\": {\n",
      "     \"friends.first_name\": \"Gregorio\",\n",
      "     \"friends.last_name\": \"Cajes\",\n",
      "     \"friends.birthday\": \"1980-05-13 00:00:00\"\n",
      "    }\n",
      "   },\n",
      "   {\n",
      "    \"v_id\": \"6597069776731\",\n",
      "    \"v_type\": \"Person\",\n",
      "    \"attributes\": {\n",
      "     \"friends.first_name\": \"Sven\",\n",
      "     \"friends.last_name\": \"Carlsson\",\n",
      "     \"friends.birthday\": \"1981-02-25 00:00:00\"\n",
      "    }\n",
      "   }\n",
      "  ]\n",
      " }\n",
      "]\n"
     ]
    }
   ],
   "source": [
    "query = \"\"\"\n",
    "INTERPRET QUERY() FOR GRAPH ldbc_snb SYNTAX v2 {\n",
    "    friends = SELECT p\n",
    "              FROM Person:s -(Knows:e)- Person:p\n",
    "              WHERE s.first_name == \"Viktor\" AND s.last_name == \"Akhiezer\"\n",
    "              ORDER BY p.birthday ASC\n",
    "              LIMIT 3;\n",
    "              \n",
    "    PRINT friends[friends.first_name, friends.last_name, friends.birthday];\n",
    "}\n",
    "\"\"\"\n",
    "\n",
    "## run interpret query\n",
    "results = conn.runInterpretedQuery(query)\n",
    "\n",
    "## print results\n",
    "print(json.dumps(results, indent=1))"
   ]
  },
  {
   "cell_type": "markdown",
   "id": "f8983704-ef1d-4116-b37f-cd70c585a091",
   "metadata": {},
   "source": [
    "### Example 2. Right-directed Edge Pattern\n",
    "\n",
    "Find the total number of comments and total number of posts liked by Viktor. A Person can reach Comments or Posts via a directed edge LIKES."
   ]
  },
  {
   "cell_type": "code",
   "execution_count": 8,
   "id": "46b1e092-e97b-49fc-900d-6a7aa3012548",
   "metadata": {},
   "outputs": [
    {
     "name": "stdout",
     "output_type": "stream",
     "text": [
      "[\n",
      " {\n",
      "  \"Result\": [\n",
      "   {\n",
      "    \"v_id\": \"28587302323577\",\n",
      "    \"v_type\": \"Person\",\n",
      "    \"attributes\": {\n",
      "     \"Result.@comment_cnt\": 108,\n",
      "     \"Result.@post_cnt\": 51\n",
      "    }\n",
      "   }\n",
      "  ]\n",
      " }\n",
      "]\n"
     ]
    }
   ],
   "source": [
    "query = \"\"\"\n",
    "INTERPRET QUERY() FOR GRAPH ldbc_snb SYNTAX v2 {\n",
    "    SumAccum<int> @comment_cnt= 0;\n",
    "    SumAccum<int> @post_cnt= 0;\n",
    "\n",
    "    // 1-hop pattern.\n",
    "    Result = SELECT s\n",
    "             FROM Person:s -(Likes>)- :tgt\n",
    "             WHERE s.first_name == \"Viktor\" AND s.last_name == \"Akhiezer\"\n",
    "             ACCUM CASE WHEN tgt.type == \"Comment\" THEN\n",
    "                             s.@comment_cnt += 1\n",
    "                        WHEN tgt.type == \"Post\" THEN\n",
    "                             s.@post_cnt += 1\n",
    "             END;\n",
    "\n",
    "    PRINT  Result[Result.@comment_cnt, Result.@post_cnt];\n",
    "}\n",
    "\"\"\"\n",
    "\n",
    "## run interpret query\n",
    "results = conn.runInterpretedQuery(query)\n",
    "\n",
    "## print results\n",
    "print(json.dumps(results, indent=1))"
   ]
  },
  {
   "cell_type": "markdown",
   "id": "81735040-1361-40e2-90de-0c3aca7d0cc4",
   "metadata": {},
   "source": [
    "### Example 3. Left-directed Edge Pattern of Example 2\n",
    "\n",
    "Solve the same problem as in Example 2, but use a left-directed edge pattern.\n",
    "\n",
    "Note below (line 8) that the source vertex set are now Comment and Post, and the target is Person."
   ]
  },
  {
   "cell_type": "code",
   "execution_count": 9,
   "id": "99220644-fce8-43da-9521-19a65ed5522d",
   "metadata": {},
   "outputs": [
    {
     "name": "stdout",
     "output_type": "stream",
     "text": [
      "[\n",
      " {\n",
      "  \"Result\": [\n",
      "   {\n",
      "    \"v_id\": \"28587302323577\",\n",
      "    \"v_type\": \"Person\",\n",
      "    \"attributes\": {\n",
      "     \"Result.@comment_cnt\": 108,\n",
      "     \"Result.@post_cnt\": 51\n",
      "    }\n",
      "   }\n",
      "  ]\n",
      " }\n",
      "]\n"
     ]
    }
   ],
   "source": [
    "query = \"\"\"\n",
    "INTERPRET QUERY() FOR GRAPH ldbc_snb SYNTAX v2{\n",
    "    SumAccum<int> @comment_cnt= 0;\n",
    "    SumAccum<int> @post_cnt= 0;\n",
    "\n",
    "    Result = SELECT tgt\n",
    "             FROM Person:tgt -(<Likes_Reverse)- (Comment|Post):src\n",
    "             WHERE tgt.first_name == \"Viktor\" AND tgt.last_name == \"Akhiezer\"\n",
    "             ACCUM CASE WHEN src.type == \"Comment\" THEN\n",
    "                             tgt.@comment_cnt += 1\n",
    "                        WHEN src.type == \"Post\" THEN\n",
    "                             tgt.@post_cnt += 1\n",
    "             END;\n",
    "\n",
    "    PRINT Result[Result.@comment_cnt, Result.@post_cnt];\n",
    "}\n",
    "\"\"\"\n",
    "\n",
    "## run interpret query\n",
    "results = conn.runInterpretedQuery(query)\n",
    "\n",
    "## print results\n",
    "print(json.dumps(results, indent=1))"
   ]
  },
  {
   "cell_type": "markdown",
   "id": "3b82b90e-78d8-447b-b5ea-02147d738a71",
   "metadata": {},
   "source": [
    "### Example 4. Disjunctive 1-hop edge pattern.\n",
    "\n",
    "Find Viktor Akhiezer’s total number of related comments and total number of related posts. That is, a comment or post is either created by Viktor or is liked by Viktor. Note that the HAS_CREATOR edge type starts from Comment|Post, and the LIKES edge type starts from Person."
   ]
  },
  {
   "cell_type": "code",
   "execution_count": 10,
   "id": "7a2bb897-904b-48fb-865f-e0d613174d90",
   "metadata": {},
   "outputs": [
    {
     "name": "stdout",
     "output_type": "stream",
     "text": [
      "[\n",
      " {\n",
      "  \"Result\": [\n",
      "   {\n",
      "    \"v_id\": \"28587302323577\",\n",
      "    \"v_type\": \"Person\",\n",
      "    \"attributes\": {\n",
      "     \"Result.@comment_cnt\": 152,\n",
      "     \"Result.@post_cnt\": 96\n",
      "    }\n",
      "   }\n",
      "  ]\n",
      " }\n",
      "]\n"
     ]
    }
   ],
   "source": [
    "query = \"\"\"\n",
    "INTERPRET QUERY() FOR GRAPH ldbc_snb SYNTAX v2 {\n",
    "    SumAccum<int> @comment_cnt= 0;\n",
    "    SumAccum<int> @post_cnt= 0;\n",
    "\n",
    "    Result = SELECT tgt\n",
    "             FROM Person:tgt -(<Has_Creator|Likes>)- (Comment|Post):src\n",
    "             WHERE tgt.first_name == \"Viktor\" AND tgt.last_name == \"Akhiezer\"\n",
    "             ACCUM CASE WHEN src.type == \"Comment\" THEN\n",
    "                             tgt.@comment_cnt += 1\n",
    "                        WHEN src.type == \"Post\" THEN\n",
    "                             tgt.@post_cnt += 1\n",
    "             END;\n",
    "\n",
    "    PRINT Result[Result.@comment_cnt, Result.@post_cnt];\n",
    "}\n",
    "\"\"\"\n",
    "\n",
    "## run interpret query\n",
    "results = conn.runInterpretedQuery(query)\n",
    "\n",
    "## print results\n",
    "print(json.dumps(results, indent=1))"
   ]
  },
  {
   "cell_type": "markdown",
   "id": "880c638f-f5b3-4f89-b910-5011284ccd81",
   "metadata": {},
   "source": [
    "### Example 5. Disjunctive 1-hop edge pattern.\n",
    "Find the total number of comments or posts related to \"Viktor Akhiezer\". This time, we count them together and, we use the wildcard _ to represent the two types of edges: HAS_CREATOR and LIKES_REVERSE. Both are following the same direction."
   ]
  },
  {
   "cell_type": "code",
   "execution_count": 11,
   "id": "f4d42eb6-116f-4560-850a-d2f7128bc5f2",
   "metadata": {},
   "outputs": [
    {
     "name": "stdout",
     "output_type": "stream",
     "text": [
      "[\n",
      " {\n",
      "  \"@@cnt\": 248\n",
      " }\n",
      "]\n"
     ]
    }
   ],
   "source": [
    "query = \"\"\"\n",
    "INTERPRET QUERY() FOR GRAPH ldbc_snb SYNTAX v2 {\n",
    "    SumAccum<int> @@cnt= 0;\n",
    "\n",
    "    Result = SELECT tgt\n",
    "             FROM Person:tgt -(<_)- (Comment|Post):src\n",
    "             WHERE tgt.first_name == \"Viktor\" AND tgt.last_name == \"Akhiezer\"\n",
    "             ACCUM  @@cnt += 1;\n",
    "\n",
    "    PRINT @@cnt;\n",
    "}\n",
    "\"\"\"\n",
    "\n",
    "## run interpret query\n",
    "results = conn.runInterpretedQuery(query)\n",
    "\n",
    "## print results\n",
    "print(json.dumps(results, indent=1))"
   ]
  },
  {
   "cell_type": "markdown",
   "id": "6a1845f1-ea04-495c-a99d-23ca05b29e6a",
   "metadata": {},
   "source": [
    "## Repeating a 1-Hop Pattern\n",
    "\n",
    "A common pattern is the two-step \"Friend of a Friend\".\n",
    "\n",
    "This is related to the question \"Do I know any famous people?\" Even if you aren’t friends with any famous people, at least one of your friends' friends might be famous. That’s a one-hop pattern, repeated twice.\n",
    "\n",
    "In terms of data throughput on a network, you can also ask \"If everyone who receives a message passes it along to everyone else they know, how many entities will receive it?\"\n",
    "\n",
    "GSQL pattern matching makes it easy to express such variable-length patterns which repeat a single hop. Everything else stays the same as introduced in the previous section, except we append an asterisk (or Kleene star) and an optional min..max range to an edge pattern.\n",
    "\n",
    "(E*) means edge type E repeats any number of times (including zero)\n",
    "\n",
    "(E*1..3) means edge type E occurs one to three times."
   ]
  },
  {
   "cell_type": "markdown",
   "id": "614f53d5-0138-40f6-8215-dd819700a350",
   "metadata": {},
   "source": [
    "### Example 1. Directed Edge Pattern Unconstrained Repetition\n",
    "\n",
    "Find the direct or indirect superclass (including the self class) of the tag_class whose name is \"TennisPlayer\"."
   ]
  },
  {
   "cell_type": "code",
   "execution_count": 12,
   "id": "1f278cb9-d881-4389-b752-f7446150e016",
   "metadata": {},
   "outputs": [
    {
     "name": "stdout",
     "output_type": "stream",
     "text": [
      "[\n",
      " {\n",
      "  \"tag_class1\": [\n",
      "   {\n",
      "    \"v_id\": \"211\",\n",
      "    \"v_type\": \"Tag_Class\",\n",
      "    \"attributes\": {\n",
      "     \"id\": 211,\n",
      "     \"name\": \"Person\",\n",
      "     \"url\": \"http://dbpedia.org/ontology/Person\"\n",
      "    }\n",
      "   },\n",
      "   {\n",
      "    \"v_id\": \"239\",\n",
      "    \"v_type\": \"Tag_Class\",\n",
      "    \"attributes\": {\n",
      "     \"id\": 239,\n",
      "     \"name\": \"Agent\",\n",
      "     \"url\": \"http://dbpedia.org/ontology/Agent\"\n",
      "    }\n",
      "   },\n",
      "   {\n",
      "    \"v_id\": \"149\",\n",
      "    \"v_type\": \"Tag_Class\",\n",
      "    \"attributes\": {\n",
      "     \"id\": 149,\n",
      "     \"name\": \"Athlete\",\n",
      "     \"url\": \"http://dbpedia.org/ontology/Athlete\"\n",
      "    }\n",
      "   },\n",
      "   {\n",
      "    \"v_id\": \"59\",\n",
      "    \"v_type\": \"Tag_Class\",\n",
      "    \"attributes\": {\n",
      "     \"id\": 59,\n",
      "     \"name\": \"TennisPlayer\",\n",
      "     \"url\": \"http://dbpedia.org/ontology/TennisPlayer\"\n",
      "    }\n",
      "   },\n",
      "   {\n",
      "    \"v_id\": \"0\",\n",
      "    \"v_type\": \"Tag_Class\",\n",
      "    \"attributes\": {\n",
      "     \"id\": 0,\n",
      "     \"name\": \"Thing\",\n",
      "     \"url\": \"http://www.w3.org/2002/07/owl#Thing\"\n",
      "    }\n",
      "   }\n",
      "  ]\n",
      " }\n",
      "]\n"
     ]
    }
   ],
   "source": [
    "query = \"\"\"\n",
    "INTERPRET QUERY() FOR GRAPH ldbc_snb SYNTAX v2 {\n",
    "    tag_class1 = SELECT t\n",
    "                 FROM Tag_Class:s - (Is_Subclass_Of>*) - Tag_Class:t\n",
    "                 WHERE s.name == \"TennisPlayer\";\n",
    "\n",
    "    PRINT  tag_class1;\n",
    "}\n",
    "\"\"\"\n",
    "\n",
    "## run interpret query\n",
    "results = conn.runInterpretedQuery(query)\n",
    "\n",
    "## print results\n",
    "print(json.dumps(results, indent=1))"
   ]
  },
  {
   "cell_type": "markdown",
   "id": "b3adc687-edd1-4873-acea-83f7fb2acef9",
   "metadata": {},
   "source": [
    "### Example 2. Exactly 1 Repetition of A Directed Edge\n",
    "\n",
    "Find the immediate superclass of the tag_class whose name is \"tennis_player\". (This is equivalent to a 1-hop non-repeating pattern.)\n"
   ]
  },
  {
   "cell_type": "code",
   "execution_count": 13,
   "id": "4c5809d0-898f-416f-8466-cd139d7cfe12",
   "metadata": {},
   "outputs": [
    {
     "name": "stdout",
     "output_type": "stream",
     "text": [
      "[\n",
      " {\n",
      "  \"tag_class1\": [\n",
      "   {\n",
      "    \"v_id\": \"149\",\n",
      "    \"v_type\": \"Tag_Class\",\n",
      "    \"attributes\": {\n",
      "     \"id\": 149,\n",
      "     \"name\": \"Athlete\",\n",
      "     \"url\": \"http://dbpedia.org/ontology/Athlete\"\n",
      "    }\n",
      "   }\n",
      "  ]\n",
      " }\n",
      "]\n"
     ]
    }
   ],
   "source": [
    "query = \"\"\"\n",
    "INTERPRET QUERY() FOR GRAPH ldbc_snb SYNTAX v2 {\n",
    "\n",
    "    tag_class1 =  SELECT t\n",
    "        FROM Tag_Class:s - (Is_Subclass_Of>*1) - Tag_Class:t\n",
    "        WHERE s.name == \"TennisPlayer\";\n",
    "\n",
    "    PRINT tag_class1;\n",
    "}\n",
    "\"\"\"\n",
    "\n",
    "## run interpret query\n",
    "results = conn.runInterpretedQuery(query)\n",
    "\n",
    "## print results\n",
    "print(json.dumps(results, indent=1))"
   ]
  },
  {
   "cell_type": "markdown",
   "id": "5e7573d6-afe3-421b-ae79-6d53d81c6dd1",
   "metadata": {},
   "source": [
    "### Example 3. 1 to 2 Repetition Of A Directed Edge.\n",
    "\n",
    "Find the 1 to 2 hops direct and indirect superclasses of the tag_class whose name is \"TennisPlayer\"."
   ]
  },
  {
   "cell_type": "code",
   "execution_count": 14,
   "id": "70ae95e3-2f3b-4cbd-aad1-cbdeb7027992",
   "metadata": {},
   "outputs": [
    {
     "name": "stdout",
     "output_type": "stream",
     "text": [
      "[\n",
      " {\n",
      "  \"tag_class1\": [\n",
      "   {\n",
      "    \"v_id\": \"211\",\n",
      "    \"v_type\": \"Tag_Class\",\n",
      "    \"attributes\": {\n",
      "     \"id\": 211,\n",
      "     \"name\": \"Person\",\n",
      "     \"url\": \"http://dbpedia.org/ontology/Person\"\n",
      "    }\n",
      "   },\n",
      "   {\n",
      "    \"v_id\": \"149\",\n",
      "    \"v_type\": \"Tag_Class\",\n",
      "    \"attributes\": {\n",
      "     \"id\": 149,\n",
      "     \"name\": \"Athlete\",\n",
      "     \"url\": \"http://dbpedia.org/ontology/Athlete\"\n",
      "    }\n",
      "   }\n",
      "  ]\n",
      " }\n",
      "]\n"
     ]
    }
   ],
   "source": [
    "query = \"\"\"\n",
    "INTERPRET QUERY() FOR GRAPH ldbc_snb SYNTAX v2 {\n",
    "\n",
    "    tag_class1 =  SELECT t\n",
    "                  FROM Tag_Class:s - (Is_Subclass_Of>*1..2) - Tag_Class:t\n",
    "                  WHERE s.name == \"TennisPlayer\";\n",
    "\n",
    "    PRINT tag_class1;\n",
    "}\n",
    "\"\"\"\n",
    "\n",
    "## run interpret query\n",
    "results = conn.runInterpretedQuery(query)\n",
    "\n",
    "## print results\n",
    "print(json.dumps(results, indent=1))"
   ]
  },
  {
   "cell_type": "markdown",
   "id": "03cf30a5-6044-4d4c-870e-8a09a0a699a6",
   "metadata": {},
   "source": [
    "### Example 4. Up-to 2 Repetition Of A Directed Edge.\n",
    "\n",
    "Find the superclasses within 2 hops of the tag_class whose name is \"TennisPlayer\"."
   ]
  },
  {
   "cell_type": "code",
   "execution_count": 15,
   "id": "717826eb-3535-4551-9f06-8ae98abb0f5c",
   "metadata": {},
   "outputs": [
    {
     "name": "stdout",
     "output_type": "stream",
     "text": [
      "[\n",
      " {\n",
      "  \"tag_class1\": [\n",
      "   {\n",
      "    \"v_id\": \"211\",\n",
      "    \"v_type\": \"Tag_Class\",\n",
      "    \"attributes\": {\n",
      "     \"id\": 211,\n",
      "     \"name\": \"Person\",\n",
      "     \"url\": \"http://dbpedia.org/ontology/Person\"\n",
      "    }\n",
      "   },\n",
      "   {\n",
      "    \"v_id\": \"149\",\n",
      "    \"v_type\": \"Tag_Class\",\n",
      "    \"attributes\": {\n",
      "     \"id\": 149,\n",
      "     \"name\": \"Athlete\",\n",
      "     \"url\": \"http://dbpedia.org/ontology/Athlete\"\n",
      "    }\n",
      "   },\n",
      "   {\n",
      "    \"v_id\": \"59\",\n",
      "    \"v_type\": \"Tag_Class\",\n",
      "    \"attributes\": {\n",
      "     \"id\": 59,\n",
      "     \"name\": \"TennisPlayer\",\n",
      "     \"url\": \"http://dbpedia.org/ontology/TennisPlayer\"\n",
      "    }\n",
      "   }\n",
      "  ]\n",
      " }\n",
      "]\n"
     ]
    }
   ],
   "source": [
    "query = \"\"\"\n",
    "INTERPRET QUERY() FOR GRAPH ldbc_snb SYNTAX v2 {\n",
    "    tag_class1 = SELECT t\n",
    "                 FROM Tag_Class:s - (Is_Subclass_Of>*..2) - Tag_Class:t\n",
    "                 WHERE s.name == \"TennisPlayer\";\n",
    "\n",
    "    PRINT  tag_class1;\n",
    "}\n",
    "\"\"\"\n",
    "\n",
    "## run interpret query\n",
    "results = conn.runInterpretedQuery(query)\n",
    "\n",
    "## print results\n",
    "print(json.dumps(results, indent=1))"
   ]
  },
  {
   "cell_type": "markdown",
   "id": "607d9db8-6d2b-472e-a984-d7bff8548cfc",
   "metadata": {},
   "source": [
    "### Example 5. At Least 1 Repetition Of A Directed Edge.\n",
    "\n",
    "Find the superclasses at least one hop from the tag_class whose name is \"TennisPlayer\"."
   ]
  },
  {
   "cell_type": "code",
   "execution_count": 16,
   "id": "66611cad-9856-4cb1-99b4-8c6c8269dd2e",
   "metadata": {},
   "outputs": [
    {
     "name": "stdout",
     "output_type": "stream",
     "text": [
      "[\n",
      " {\n",
      "  \"tag_class1\": [\n",
      "   {\n",
      "    \"v_id\": \"211\",\n",
      "    \"v_type\": \"Tag_Class\",\n",
      "    \"attributes\": {\n",
      "     \"id\": 211,\n",
      "     \"name\": \"Person\",\n",
      "     \"url\": \"http://dbpedia.org/ontology/Person\"\n",
      "    }\n",
      "   },\n",
      "   {\n",
      "    \"v_id\": \"149\",\n",
      "    \"v_type\": \"Tag_Class\",\n",
      "    \"attributes\": {\n",
      "     \"id\": 149,\n",
      "     \"name\": \"Athlete\",\n",
      "     \"url\": \"http://dbpedia.org/ontology/Athlete\"\n",
      "    }\n",
      "   },\n",
      "   {\n",
      "    \"v_id\": \"239\",\n",
      "    \"v_type\": \"Tag_Class\",\n",
      "    \"attributes\": {\n",
      "     \"id\": 239,\n",
      "     \"name\": \"Agent\",\n",
      "     \"url\": \"http://dbpedia.org/ontology/Agent\"\n",
      "    }\n",
      "   },\n",
      "   {\n",
      "    \"v_id\": \"0\",\n",
      "    \"v_type\": \"Tag_Class\",\n",
      "    \"attributes\": {\n",
      "     \"id\": 0,\n",
      "     \"name\": \"Thing\",\n",
      "     \"url\": \"http://www.w3.org/2002/07/owl#Thing\"\n",
      "    }\n",
      "   }\n",
      "  ]\n",
      " }\n",
      "]\n"
     ]
    }
   ],
   "source": [
    "query = \"\"\"\n",
    "INTERPRET QUERY() FOR GRAPH ldbc_snb SYNTAX v2 {\n",
    "\n",
    "    tag_class1 = SELECT t\n",
    "                 FROM Tag_Class:s - (Is_Subclass_Of>*1..) - Tag_Class:t\n",
    "                 WHERE s.name == \"TennisPlayer\";\n",
    "\n",
    "    PRINT tag_class1;\n",
    "}\n",
    "\"\"\"\n",
    "\n",
    "## run interpret query\n",
    "results = conn.runInterpretedQuery(query)\n",
    "\n",
    "## print results\n",
    "print(json.dumps(results, indent=1))"
   ]
  },
  {
   "cell_type": "markdown",
   "id": "1b5aba51-368f-4fab-baae-bdd6ffb6845e",
   "metadata": {},
   "source": [
    "### Example 6. Disjunctive 1-Repetition Directed Edge.\n",
    "\n",
    "Find the 3 most recent comments that are liked or created by Viktor Akhiezer and the total number of comments liked or created by the same person."
   ]
  },
  {
   "cell_type": "code",
   "execution_count": 17,
   "id": "51a4d991-78f0-44a5-a7a3-023ade644855",
   "metadata": {},
   "outputs": [
    {
     "name": "stdout",
     "output_type": "stream",
     "text": [
      "[\n",
      " {\n",
      "  \"top_3_comments\": [\n",
      "   {\n",
      "    \"v_id\": \"2061584720640\",\n",
      "    \"v_type\": \"Comment\",\n",
      "    \"attributes\": {\n",
      "     \"id\": 2061584720640,\n",
      "     \"creation_date\": \"2012-09-06 06:46:31\",\n",
      "     \"location_ip\": \"194.62.64.117\",\n",
      "     \"browser_used\": \"Chrome\",\n",
      "     \"content\": \"fine\",\n",
      "     \"length\": 4\n",
      "    }\n",
      "   },\n",
      "   {\n",
      "    \"v_id\": \"2061590804929\",\n",
      "    \"v_type\": \"Comment\",\n",
      "    \"attributes\": {\n",
      "     \"id\": 2061590804929,\n",
      "     \"creation_date\": \"2012-09-04 16:16:56\",\n",
      "     \"location_ip\": \"194.62.64.117\",\n",
      "     \"browser_used\": \"Chrome\",\n",
      "     \"content\": \"About Muttiah Muralitharan, mit by nine degrees, five degrees being thAbout Steve M\",\n",
      "     \"length\": 83\n",
      "    }\n",
      "   },\n",
      "   {\n",
      "    \"v_id\": \"2061586872389\",\n",
      "    \"v_type\": \"Comment\",\n",
      "    \"attributes\": {\n",
      "     \"id\": 2061586872389,\n",
      "     \"creation_date\": \"2012-08-28 14:54:46\",\n",
      "     \"location_ip\": \"31.216.177.175\",\n",
      "     \"browser_used\": \"Chrome\",\n",
      "     \"content\": \"About Hector Berlioz, his compositions Symphonie fantastique and GraAbout Who Knew, the gu\",\n",
      "     \"length\": 90\n",
      "    }\n",
      "   }\n",
      "  ]\n",
      " },\n",
      " {\n",
      "  \"@@comment_cnt\": 152\n",
      " }\n",
      "]\n"
     ]
    }
   ],
   "source": [
    "query = \"\"\"\n",
    "INTERPRET QUERY() FOR GRAPH ldbc_snb SYNTAX v2 {\n",
    "    SumAccum<INT> @@comment_cnt = 0;\n",
    "\n",
    "    // find top 3 latest comments that is liked or created by Viktor Akhiezer\n",
    "    // and the total number of comments related to Viktor Akhiezer\n",
    "    top_3_comments = SELECT p\n",
    "                     FROM Person:s - ((<Has_Creator|Likes>)*1) - Comment:p\n",
    "                     WHERE s.first_name == \"Viktor\" AND s.last_name == \"Akhiezer\"\n",
    "                     ACCUM @@comment_cnt += 1\n",
    "                     ORDER BY p.creation_date DESC\n",
    "                     LIMIT 3;\n",
    "\n",
    "    PRINT top_3_comments;\n",
    "    // total number of comments related to Viktor Akhiezer\n",
    "    PRINT @@comment_cnt;\n",
    "}\n",
    "\"\"\"\n",
    "\n",
    "## run interpret query\n",
    "results = conn.runInterpretedQuery(query)\n",
    "\n",
    "## print results\n",
    "print(json.dumps(results, indent=1))"
   ]
  },
  {
   "cell_type": "markdown",
   "id": "df824485-4a8e-4f20-b10f-88a9f7a5fa75",
   "metadata": {},
   "source": [
    "## Multiple Hop Patterns and Accumulation\n",
    "\n",
    "Repeating the same hop is useful sometimes, but the real power of pattern matching comes from expressing multi-hop patterns, with specific characteristics for each hop. a 2-hop pattern is a simple concatenation and merging of two 1-hop patterns where the two patterns share a common endpoint. Similarly, a 3-hop pattern concatenates three 1-hop patterns in sequence, each pair of adjacent hops sharing one end point. A multi-hop pattern has two endpoint vertex sets and one or more intermediate vertex sets. If the query does not need to express any conditions for an intermediate vertex set, then the vertex set can be omitted and the two surrounding edge sets can be joined with a simple."
   ]
  },
  {
   "cell_type": "markdown",
   "id": "89fe055d-9def-42ff-96e9-7dbf3499e52b",
   "metadata": {},
   "source": [
    "### POST-ACCUM example \n",
    "\n",
    "At the end of the ACCUM clause, all the requested accumulation (+=) operators are processed in bulk, and the updated values are now visible. You can now use POST-ACCUM clauses to perform a second, different round of computation on the results of your pattern matching.\n",
    "\n",
    "The ACCUM clause executes for each full path that matches the pattern in the FROM clause. In contrast, the POST-ACCUM clause executes for each vertex in one vertex set (e.g. one vertex column in the matching table); its statements can access the aggregated accumulator result computed in the ACCUM clause. If you want to perform per-vertex updates for more than one vertex alias, you should use a separate POST-ACCUM clause for each vertex alias. The multiple POST-ACCUM clauses are processed in parallel; it doesn’t matter in what order you write them. (For each binding, the statements within a clause are executed in order.)\n",
    "\n",
    "For example, below we have two POST-ACCUM clauses. The first one iterates through s, and for each s, we do s.@cnt2 += s.@cnt1. The second POST-ACCUM iterations through t."
   ]
  },
  {
   "cell_type": "code",
   "execution_count": 18,
   "id": "17eaa194-aa8d-443b-9a01-d3f0285af946",
   "metadata": {},
   "outputs": [
    {
     "name": "stdout",
     "output_type": "stream",
     "text": [
      "[\n",
      " {\n",
      "  \"R\": [\n",
      "   {\n",
      "    \"v_id\": \"28587302323577\",\n",
      "    \"v_type\": \"Person\",\n",
      "    \"attributes\": {\n",
      "     \"R.first_name\": \"Viktor\",\n",
      "     \"R.last_name\": \"Akhiezer\",\n",
      "     \"R.@cnt1\": 3,\n",
      "     \"R.@cnt2\": 3\n",
      "    }\n",
      "   }\n",
      "  ]\n",
      " }\n",
      "]\n"
     ]
    }
   ],
   "source": [
    "query = \"\"\"\n",
    "INTERPRET QUERY() FOR GRAPH ldbc_snb SYNTAX v2 {\n",
    "\n",
    "    SumAccum<int> @cnt1;\n",
    "    SumAccum<int> @cnt2;\n",
    "\n",
    "    R = SELECT s\n",
    "        FROM Person:s-(Likes>) -:msg - (Has_Creator>)-Person:t\n",
    "        WHERE s.first_name == \"Viktor\" AND \n",
    "              s.last_name == \"Akhiezer\" AND \n",
    "              t.last_name LIKE \"S%\" AND \n",
    "              year(msg.creation_date) == 2012\n",
    "        ACCUM s.@cnt1 +=1 //execute this per match of the FROM pattern.\n",
    "        POST-ACCUM s.@cnt2 += s.@cnt1 //execute once per s.\n",
    "        POST-ACCUM t.@cnt2 +=1;//execute once per t\n",
    "\n",
    "    PRINT R [R.first_name, R.last_name, R.@cnt1, R.@cnt2];\n",
    "}\n",
    "\"\"\"\n",
    "\n",
    "## run interpret query\n",
    "results = conn.runInterpretedQuery(query)\n",
    "\n",
    "## print results\n",
    "print(json.dumps(results, indent=1))"
   ]
  },
  {
   "cell_type": "markdown",
   "id": "b87e0730-69ba-4950-b21b-a78dbfec7c5e",
   "metadata": {},
   "source": [
    "### Example 1. Succinct Representation Of Multiple-hop Pattern\n",
    "\n",
    "Find the 3rd superclass of the Tag class whose name is \"TennisPlayer\"."
   ]
  },
  {
   "cell_type": "code",
   "execution_count": 19,
   "id": "fd348829-2212-4b07-8c81-e75106078c6a",
   "metadata": {},
   "outputs": [
    {
     "name": "stdout",
     "output_type": "stream",
     "text": [
      "[\n",
      " {\n",
      "  \"Tag_Class1\": [\n",
      "   {\n",
      "    \"v_id\": \"239\",\n",
      "    \"v_type\": \"Tag_Class\",\n",
      "    \"attributes\": {\n",
      "     \"id\": 239,\n",
      "     \"name\": \"Agent\",\n",
      "     \"url\": \"http://dbpedia.org/ontology/Agent\"\n",
      "    }\n",
      "   }\n",
      "  ]\n",
      " }\n",
      "]\n"
     ]
    }
   ],
   "source": [
    "query = \"\"\"\n",
    "INTERPRET QUERY() FOR GRAPH ldbc_snb SYNTAX v2 {\n",
    "\n",
    "    Tag_Class1 =\n",
    "        SELECT t\n",
    "        FROM Tag_Class:s-(Is_Subclass_Of>.Is_Subclass_Of>.Is_Subclass_Of>)-Tag_Class:t\n",
    "        WHERE s.name == \"TennisPlayer\";\n",
    "\n",
    "    PRINT Tag_Class1;\n",
    "}\n",
    "\"\"\"\n",
    "\n",
    "## run interpret query\n",
    "results = conn.runInterpretedQuery(query)\n",
    "\n",
    "## print results\n",
    "print(json.dumps(results, indent=1))"
   ]
  },
  {
   "cell_type": "markdown",
   "id": "845ab14d-cfe8-44a7-a6ed-7d884bd16d97",
   "metadata": {},
   "source": [
    "### Example 2. Disjunction in a Succinct Representation of a Multiple-hop Pattern\n",
    "\n",
    "Find in which continents were the 3 most recent messages in Jan 2011 created."
   ]
  },
  {
   "cell_type": "code",
   "execution_count": 20,
   "id": "39fe15ec-b7d3-4a02-94c3-dd0131303ab3",
   "metadata": {},
   "outputs": [
    {
     "name": "stdout",
     "output_type": "stream",
     "text": [
      "[\n",
      " {\n",
      "  \"acc_msg_continent\": [\n",
      "   {\n",
      "    \"v_id\": \"824634837528\",\n",
      "    \"v_type\": \"Post\",\n",
      "    \"attributes\": {\n",
      "     \"id\": 824634837528,\n",
      "     \"image_file\": \"\",\n",
      "     \"creation_date\": \"2011-01-31 23:58:03\",\n",
      "     \"location_ip\": \"87.251.6.121\",\n",
      "     \"browser_used\": \"Internet Explorer\",\n",
      "     \"lang\": \"tk\",\n",
      "     \"content\": \"About Adolf Hitler, iews. His writings and methods were often adapted to need and circumstance, although there were\",\n",
      "     \"length\": 115,\n",
      "     \"@continent_name\": \"Asia\"\n",
      "    }\n",
      "   },\n",
      "   {\n",
      "    \"v_id\": \"824636727408\",\n",
      "    \"v_type\": \"Comment\",\n",
      "    \"attributes\": {\n",
      "     \"id\": 824636727408,\n",
      "     \"creation_date\": \"2011-01-31 23:57:46\",\n",
      "     \"location_ip\": \"31.2.225.17\",\n",
      "     \"browser_used\": \"Firefox\",\n",
      "     \"content\": \"thx\",\n",
      "     \"length\": 3,\n",
      "     \"@continent_name\": \"Europe\"\n",
      "    }\n",
      "   },\n",
      "   {\n",
      "    \"v_id\": \"824640012997\",\n",
      "    \"v_type\": \"Comment\",\n",
      "    \"attributes\": {\n",
      "     \"id\": 824640012997,\n",
      "     \"creation_date\": \"2011-01-31 23:54:28\",\n",
      "     \"location_ip\": \"27.112.21.246\",\n",
      "     \"browser_used\": \"Firefox\",\n",
      "     \"content\": \"no way!\",\n",
      "     \"length\": 7,\n",
      "     \"@continent_name\": \"Asia\"\n",
      "    }\n",
      "   }\n",
      "  ]\n",
      " }\n",
      "]\n"
     ]
    }
   ],
   "source": [
    "query = \"\"\"\n",
    "INTERPRET QUERY() FOR GRAPH ldbc_snb SYNTAX v2 {\n",
    "\n",
    "    SumAccum<String> @continent_name;\n",
    "\n",
    "    acc_msg_continent =\n",
    "        SELECT s\n",
    "        FROM (Comment|Post):s-(Is_Located_In>.Is_Part_Of>)-Continent:t\n",
    "        WHERE year(s.creation_date) == 2011 AND month(s.creation_date) == 1\n",
    "        ACCUM s.@continent_name = t.name\n",
    "        ORDER BY s.creation_date DESC\n",
    "        LIMIT 3;\n",
    "\n",
    "    PRINT acc_msg_continent;\n",
    "}\n",
    "\"\"\"\n",
    "\n",
    "## run interpret query\n",
    "results = conn.runInterpretedQuery(query)\n",
    "\n",
    "## print results\n",
    "print(json.dumps(results, indent=1))"
   ]
  },
  {
   "cell_type": "markdown",
   "id": "8e1c39d3-6fec-4331-abb5-2c1b34d6134e",
   "metadata": {},
   "source": [
    "### Example 3. Multiple-hop Pattern With Accumulator Applied To All Matched Paths\n",
    "\n",
    "Find Viktor Akhiezer’s favorite author of 2012 whose last name begins with the letter 'S'. \n",
    "Also find how many LIKES Viktor has given to the author’s post or comment."
   ]
  },
  {
   "cell_type": "code",
   "execution_count": 21,
   "id": "19d812d5-5c92-46b9-bc6a-257112a146f8",
   "metadata": {},
   "outputs": [
    {
     "name": "stdout",
     "output_type": "stream",
     "text": [
      "[\n",
      " {\n",
      "  \"favorite_authors\": [\n",
      "   {\n",
      "    \"v_id\": \"15393162796846\",\n",
      "    \"v_type\": \"Person\",\n",
      "    \"attributes\": {\n",
      "     \"favorite_authors.first_name\": \"Mario\",\n",
      "     \"favorite_authors.last_name\": \"Santos\",\n",
      "     \"favorite_authors.@likes_cnt\": 1\n",
      "    }\n",
      "   },\n",
      "   {\n",
      "    \"v_id\": \"2199023260091\",\n",
      "    \"v_type\": \"Person\",\n",
      "    \"attributes\": {\n",
      "     \"favorite_authors.first_name\": \"Janne\",\n",
      "     \"favorite_authors.last_name\": \"Seppala\",\n",
      "     \"favorite_authors.@likes_cnt\": 1\n",
      "    }\n",
      "   },\n",
      "   {\n",
      "    \"v_id\": \"8796093025410\",\n",
      "    \"v_type\": \"Person\",\n",
      "    \"attributes\": {\n",
      "     \"favorite_authors.first_name\": \"Priyanka\",\n",
      "     \"favorite_authors.last_name\": \"Singh\",\n",
      "     \"favorite_authors.@likes_cnt\": 1\n",
      "    }\n",
      "   }\n",
      "  ]\n",
      " }\n",
      "]\n"
     ]
    }
   ],
   "source": [
    "query = \"\"\"\n",
    "INTERPRET QUERY() FOR GRAPH ldbc_snb SYNTAX v2 {\n",
    "    SumAccum<int> @likes_cnt;\n",
    "\n",
    "    favorite_authors =\n",
    "        SELECT t\n",
    "        FROM Person:s-(Likes>) -:msg - (Has_Creator>)-Person:t\n",
    "        WHERE s.first_name == \"Viktor\" AND \n",
    "              s.last_name == \"Akhiezer\" AND \n",
    "              t.last_name LIKE \"S%\" AND \n",
    "              year(msg.creation_date) == 2012\n",
    "        ACCUM t.@likes_cnt +=1;\n",
    "\n",
    "    PRINT favorite_authors[favorite_authors.first_name, favorite_authors.last_name, favorite_authors.@likes_cnt];\n",
    "}\n",
    "\"\"\"\n",
    "\n",
    "## run interpret query\n",
    "results = conn.runInterpretedQuery(query)\n",
    "\n",
    "## print results\n",
    "print(json.dumps(results, indent=1))"
   ]
  },
  {
   "cell_type": "markdown",
   "id": "180d8e13-1d7a-4563-beb3-fd6131abdb6c",
   "metadata": {},
   "source": [
    "## Multi-Block Queries\n",
    "###  Example 1: Find Viktor Akhiezer’s liked messages whose authors' last names begin with S. Find these authors' alumni count."
   ]
  },
  {
   "cell_type": "code",
   "execution_count": 22,
   "id": "e32f118c-d844-4447-813a-f249828a870b",
   "metadata": {},
   "outputs": [
    {
     "name": "stdout",
     "output_type": "stream",
     "text": [
      "[\n",
      " {\n",
      "  \"@@cnt\": 223\n",
      " }\n",
      "]\n"
     ]
    }
   ],
   "source": [
    "query = \"\"\"\n",
    "INTERPRET QUERY() FOR GRAPH ldbc_snb SYNTAX v2 {\n",
    "    SumAccum<int> @@cnt;\n",
    "    // a computed vertex set F is used to constrain the second pattern.\n",
    "    F = SELECT t\n",
    "        FROM  :s -(Likes>)- :msg -(Has_Creator>)- :t\n",
    "        WHERE s.first_name == \"Viktor\" AND \n",
    "              s.last_name == \"Akhiezer\" AND \n",
    "              t.last_name LIKE \"S%\";\n",
    "              \n",
    "    Alumni = SELECT p\n",
    "             FROM Person:p -(Study_At>) -:u - (<Study_At)- F:s\n",
    "             WHERE s != p\n",
    "             Per (p)\n",
    "             POST-ACCUM @@cnt+=1;\n",
    "\n",
    "    PRINT @@cnt;\n",
    "}\n",
    "\"\"\"\n",
    "\n",
    "## run interpret query\n",
    "results = conn.runInterpretedQuery(query)\n",
    "\n",
    "\n",
    "## print results\n",
    "print(json.dumps(results, indent=1))"
   ]
  },
  {
   "cell_type": "markdown",
   "id": "f138dfd4-ceae-4583-aa32-6a53603d9803",
   "metadata": {},
   "source": [
    "###  Example 2: Find Viktor Akhiezer’s liked posts' authors A, and his liked comments' authors B. Count the universities that members from groups A and B studied at.\n"
   ]
  },
  {
   "cell_type": "code",
   "execution_count": 23,
   "id": "07b2256e-82bf-4201-9ecb-6844862d5c91",
   "metadata": {},
   "outputs": [
    {
     "name": "stdout",
     "output_type": "stream",
     "text": [
      "[\n",
      " {\n",
      "  \"@@cnt\": 4\n",
      " }\n",
      "]\n"
     ]
    }
   ],
   "source": [
    "query = \"\"\"\n",
    "INTERPRET QUERY() FOR GRAPH ldbc_snb SYNTAX v2 {\n",
    "    SumAccum<int> @@cnt;\n",
    "// A and B are used to constrain the third pattern.\n",
    "    A = SELECT t\n",
    "        FROM :s -(Likes>:e1)- Post:msg -(Has_Creator>)- :t\n",
    "        WHERE s.first_name == \"Viktor\" AND s.last_name == \"Akhiezer\" ;\n",
    "\n",
    "\n",
    "    B = SELECT t\n",
    "        FROM :s -(Likes>:e1)- Comment:msg -(Has_Creator>)- :t\n",
    "        WHERE s.first_name == \"Viktor\" AND s.last_name == \"Akhiezer\" ;\n",
    "\n",
    "    Univ = SELECT u\n",
    "           FROM A:p -(Study_At>) -:u - (<Study_At)- B:s\n",
    "           WHERE s != p\n",
    "           Per (u)\n",
    "           POST-ACCUM @@cnt+=1;\n",
    "\n",
    "    PRINT @@cnt;\n",
    "}\n",
    "\"\"\"\n",
    "\n",
    "## run interpret query\n",
    "results = conn.runInterpretedQuery(query)\n",
    "\n",
    "## print results\n",
    "print(json.dumps(results, indent=1))"
   ]
  },
  {
   "cell_type": "markdown",
   "id": "f4ebc969-6b97-4f66-a762-b2c3748dd5da",
   "metadata": {},
   "source": [
    "###  Example 3. Find Viktor Akhiezer’s liked posts' authors A. See how many pairs of persons exist in A such that one person likes a message authored by another person."
   ]
  },
  {
   "cell_type": "code",
   "execution_count": 24,
   "id": "d540d455-4ac7-4d4e-b1ec-2b11c8b4d386",
   "metadata": {},
   "outputs": [
    {
     "name": "stdout",
     "output_type": "stream",
     "text": [
      "[\n",
      " {\n",
      "  \"@@cnt\": 8341\n",
      " }\n",
      "]\n"
     ]
    }
   ],
   "source": [
    "query = \"\"\"\n",
    "INTERPRET QUERY() FOR GRAPH ldbc_snb SYNTAX v2 {\n",
    "// a computed vertex set A is used twice in the second pattern.\n",
    "    SumAccum<int> @@cnt;\n",
    "\n",
    "    A = SELECT t\n",
    "        FROM :s -(Likes>:e1)- Post:msg -(Has_Creator>)- :t\n",
    "        WHERE s.first_name == \"Viktor\" AND s.last_name == \"Akhiezer\" ;\n",
    "\n",
    "    A = SELECT p\n",
    "        FROM A:p -(Likes>) -:msg - (Has_Creator>) - A:p2\n",
    "        WHERE p2 != p\n",
    "        Per (p, p2)\n",
    "        ACCUM @@cnt +=1;\n",
    "\n",
    "  PRINT @@cnt;\n",
    "} \n",
    "\"\"\"\n",
    "\n",
    "## run interpret query\n",
    "results = conn.runInterpretedQuery(query)\n",
    "\n",
    "## print results\n",
    "print(json.dumps(results, indent=1))"
   ]
  },
  {
   "cell_type": "markdown",
   "id": "f0cdb825-750c-403e-baa0-5762d8615475",
   "metadata": {},
   "source": [
    "###  Example 4. Find how many messages are created and liked by the same person whose first name begins with the letter T."
   ]
  },
  {
   "cell_type": "code",
   "execution_count": 25,
   "id": "1105d97f-d1ad-4c2e-b12c-ccdb845b052a",
   "metadata": {},
   "outputs": [
    {
     "name": "stdout",
     "output_type": "stream",
     "text": [
      "[\n",
      " {\n",
      "  \"@@cnt\": 207\n",
      " }\n",
      "]\n"
     ]
    }
   ],
   "source": [
    "query = \"\"\"\n",
    "INTERPRET QUERY() FOR GRAPH ldbc_snb SYNTAX v2 {\n",
    "// the same alias is used twice in a pattern\n",
    "    SumAccum<int> @@cnt;\n",
    "\n",
    "    A = SELECT msg\n",
    "        FROM :s -(Likes>:e1)- :msg -(Has_Creator>)- :s\n",
    "        WHERE s.first_name LIKE \"T%\"\n",
    "        PER (msg)\n",
    "        ACCUM @@cnt +=1;\n",
    "\n",
    "  PRINT @@cnt;\n",
    "}\n",
    "\"\"\"\n",
    "\n",
    "## run interpret query\n",
    "results = conn.runInterpretedQuery(query)\n",
    "\n",
    "## print results\n",
    "print(json.dumps(results, indent=1))"
   ]
  },
  {
   "cell_type": "markdown",
   "id": "34c793f3-ad40-492f-b48c-8de18a5637ab",
   "metadata": {},
   "source": [
    "To further verify, we picked one message from the above query result. see if there exists a person who likes her own message."
   ]
  },
  {
   "cell_type": "code",
   "execution_count": 26,
   "id": "f6773c0f-5d13-465d-8500-5b3cb6c9436e",
   "metadata": {},
   "outputs": [
    {
     "name": "stdout",
     "output_type": "stream",
     "text": [
      "[\n",
      " {\n",
      "  \"R\": [\n",
      "   {\n",
      "    \"v_id\": \"13194139533433\",\n",
      "    \"v_type\": \"Person\",\n",
      "    \"attributes\": {\n",
      "     \"id\": 13194139533433,\n",
      "     \"first_name\": \"Taras\",\n",
      "     \"last_name\": \"Kofler\",\n",
      "     \"gender\": \"female\",\n",
      "     \"birthday\": \"1985-11-26 00:00:00\",\n",
      "     \"creation_date\": \"2011-01-29 01:14:27\",\n",
      "     \"location_ip\": \"31.131.28.133\",\n",
      "     \"browser_used\": \"Internet Explorer\",\n",
      "     \"speaks\": [\n",
      "      \"uk\",\n",
      "      \"ro\",\n",
      "      \"en\"\n",
      "     ],\n",
      "     \"email\": [\n",
      "      \"Taras13194139533433@gmail.com\",\n",
      "      \"Taras13194139533433@yahoo.com\"\n",
      "     ]\n",
      "    }\n",
      "   }\n",
      "  ]\n",
      " },\n",
      " {\n",
      "  \"T\": [\n",
      "   {\n",
      "    \"v_id\": \"13194139533433\",\n",
      "    \"v_type\": \"Person\",\n",
      "    \"attributes\": {\n",
      "     \"id\": 13194139533433,\n",
      "     \"first_name\": \"Taras\",\n",
      "     \"last_name\": \"Kofler\",\n",
      "     \"gender\": \"female\",\n",
      "     \"birthday\": \"1985-11-26 00:00:00\",\n",
      "     \"creation_date\": \"2011-01-29 01:14:27\",\n",
      "     \"location_ip\": \"31.131.28.133\",\n",
      "     \"browser_used\": \"Internet Explorer\",\n",
      "     \"speaks\": [\n",
      "      \"uk\",\n",
      "      \"ro\",\n",
      "      \"en\"\n",
      "     ],\n",
      "     \"email\": [\n",
      "      \"Taras13194139533433@gmail.com\",\n",
      "      \"Taras13194139533433@yahoo.com\"\n",
      "     ]\n",
      "    }\n",
      "   }\n",
      "  ]\n",
      " }\n",
      "]\n"
     ]
    }
   ],
   "source": [
    "query = \"\"\"\n",
    "INTERPRET QUERY() FOR GRAPH ldbc_snb SYNTAX v2 {\n",
    "    R = SELECT s\n",
    "        FROM :msg -(Has_Creator>)- :s\n",
    "        WHERE msg.id == 1374390714042;\n",
    "\n",
    "    T = SELECT s\n",
    "        FROM R:s -(Likes>)- :msg\n",
    "        WHERE msg.id == 1374390714042;\n",
    "\n",
    "    PRINT R;\n",
    "    PRINT T;\n",
    "}\n",
    "\"\"\"\n",
    "\n",
    "## run installed query\n",
    "results = conn.runInterpretedQuery(query)\n",
    "\n",
    "## print results\n",
    "print(json.dumps(results, indent=1))"
   ]
  },
  {
   "cell_type": "markdown",
   "id": "b7982fd9-e39d-4a74-be9b-c1c14a5b3cdc",
   "metadata": {},
   "source": [
    "## Example - A recommender\n",
    "\n",
    "We have demonstrated the basic pattern match syntax. You should fully understand the basics by this point. In this section, we show two end-to-end solutions using the pattern match syntax.\n",
    "In this example, we want to recommend some messages (comments or posts) to the person Viktor Akhiezer.\n",
    "\n",
    "How do we do this?\n",
    "\n",
    "One way is to find others who like the same messages Viktor likes, then recommend the messages that Others like but Viktor has not seen. The pattern can be sketched out as follows:\n",
    "\n",
    "Viktor - (Likes>) - Message - (<Likes) - Others\n",
    "\n",
    "Others - (Likes>) - NewMessage\n",
    "\n",
    "Recommend NewMessage to Viktor\n",
    "\n",
    "However, this is too granular. We are overfitting the message-level data with a collaborative filtering algorithm.\n",
    "\n",
    "Intutively, two persons are similar to each other when their \"liked\" messages fall into the same category - here represented by the set of tags attached to each message.\n",
    "\n",
    "As a result, one way to avoid overfitting is to go one level upward. Instead of looking at common messages, we look at their tags. We consider Person A and Person B similar if they like messages that belong to the same tag. This scheme fixes the overfitting problem. In pattern match vocabulary, we have\n",
    "\n",
    "Viktor - (Likes>) - Message - (Has>) - Tag - (<Has) - Message - (<Likes) - Others\n",
    "\n",
    "Others - (Likes>) - NewMessage\n",
    "\n",
    "Recommend NewMessage to Viktor\n",
    "\n",
    "This time, we create the query first and interpret the query by calling the query name with parameters.\n",
    "If we are satisfied with this query, we can use INSTALL QUERY queryName to install the query, increasing performance."
   ]
  },
  {
   "cell_type": "code",
   "execution_count": 27,
   "id": "082ad5a4-5fc1-4612-92c5-537cdd495c6b",
   "metadata": {},
   "outputs": [],
   "source": [
    "query = \"\"\"\n",
    "USE GRAPH ldbc_snb\n",
    "\n",
    "CREATE QUERY recommend_message (STRING fn, STRING ln) SYNTAX v2{\n",
    "\n",
    "  SumAccum<int> @tag_in_common;\n",
    "  SumAccum<float> @similarity_score;\n",
    "  SumAccum<float> @rank;\n",
    "  OrAccum @Liked = false;\n",
    "\n",
    "   // 1. mark messages liked by Viktor\n",
    "   // 2. calculate log similarity score for each persons share the same\n",
    "   //   interests at Tag level.\n",
    "    Others =\n",
    "       SELECT p\n",
    "       FROM Person:s-(Likes>)-:msg - (Has_Tag>.<Has_Tag.<Likes)- :p\n",
    "       WHERE s.first_name == fn AND s.last_name == ln\n",
    "       ACCUM msg.@Liked = true, p.@tag_in_common +=1\n",
    "       POST-ACCUM p.@similarity_score = log (1 + p.@tag_in_common);\n",
    "\n",
    "    // recommend new messages to Viktor that have not been liked by him.\n",
    "    recommended_message =\n",
    "             SELECT msg\n",
    "             FROM Others:o-(Likes>) - :msg\n",
    "             WHERE  msg.@Liked == false\n",
    "             ACCUM msg.@rank +=o.@similarity_score\n",
    "             ORDER BY msg.@rank DESC\n",
    "             LIMIT 2;\n",
    "\n",
    "  PRINT recommended_message[recommended_message.content, recommended_message.@rank];\n",
    "}\n",
    "\n",
    "// install query\n",
    "INSTALL QUERY recommend_message\n",
    "\n",
    "\"\"\"\n",
    "\n",
    "## create and install query\n",
    "createAndInstall = conn.gsql(query)"
   ]
  },
  {
   "cell_type": "code",
   "execution_count": 28,
   "id": "70582fae",
   "metadata": {},
   "outputs": [
    {
     "name": "stdout",
     "output_type": "stream",
     "text": [
      "[\n",
      " {\n",
      "  \"recommended_message\": [\n",
      "   {\n",
      "    \"v_id\": \"549760294602\",\n",
      "    \"v_type\": \"Post\",\n",
      "    \"attributes\": {\n",
      "     \"recommended_message.content\": \"About Indira Gandhi, Gandhi established closer relatAbout Mick Jagger, eer of the band. In 1989, he waAbout Ho Chi Minh, ce Unit and ECA International, About Ottoman Empire,  After t\",\n",
      "     \"recommended_message.@rank\": 4855.49561\n",
      "    }\n",
      "   },\n",
      "   {\n",
      "    \"v_id\": \"549760292109\",\n",
      "    \"v_type\": \"Post\",\n",
      "    \"attributes\": {\n",
      "     \"recommended_message.content\": \"About Ho Chi Minh, nam, as an anti-communist state, fought against the communisAbout Shiny Happy People, sale in the U.\",\n",
      "     \"recommended_message.@rank\": 4828.72607\n",
      "    }\n",
      "   }\n",
      "  ]\n",
      " }\n",
      "]\n"
     ]
    }
   ],
   "source": [
    "params1 = {\n",
    "    \"fn\": \"Viktor\",\n",
    "    \"ln\": \"Akhiezer\"\n",
    "}\n",
    "\n",
    "## run installed query\n",
    "results = conn.runInstalledQuery(\"recommend_message\", params1)\n",
    "\n",
    "## print results\n",
    "print(json.dumps(results, indent=1))"
   ]
  },
  {
   "cell_type": "code",
   "execution_count": 29,
   "id": "16dad8f2",
   "metadata": {},
   "outputs": [
    {
     "name": "stdout",
     "output_type": "stream",
     "text": [
      "[\n",
      " {\n",
      "  \"recommended_message\": [\n",
      "   {\n",
      "    \"v_id\": \"549760294602\",\n",
      "    \"v_type\": \"Post\",\n",
      "    \"attributes\": {\n",
      "     \"recommended_message.content\": \"About Indira Gandhi, Gandhi established closer relatAbout Mick Jagger, eer of the band. In 1989, he waAbout Ho Chi Minh, ce Unit and ECA International, About Ottoman Empire,  After t\",\n",
      "     \"recommended_message.@rank\": 6213.12891\n",
      "    }\n",
      "   },\n",
      "   {\n",
      "    \"v_id\": \"549760292109\",\n",
      "    \"v_type\": \"Post\",\n",
      "    \"attributes\": {\n",
      "     \"recommended_message.content\": \"About Ho Chi Minh, nam, as an anti-communist state, fought against the communisAbout Shiny Happy People, sale in the U.\",\n",
      "     \"recommended_message.@rank\": 6179.06299\n",
      "    }\n",
      "   }\n",
      "  ]\n",
      " }\n",
      "]\n"
     ]
    }
   ],
   "source": [
    "params2 = {\n",
    "    \"fn\": \"Adriaan\",\n",
    "    \"ln\": \"Jong\"\n",
    "}\n",
    "\n",
    "## run installed query\n",
    "results = conn.runInstalledQuery(\"recommend_message\", params2)\n",
    "\n",
    "## print results\n",
    "print(json.dumps(results, indent=1))"
   ]
  },
  {
   "cell_type": "markdown",
   "id": "d652c903-b8d1-401e-9ad0-8a93f0cc5a30",
   "metadata": {},
   "source": [
    "### NOTE\n",
    "\n",
    "Increate the query timeout threshold. The query won't finish because it exceeded the default query timeout threshold (60 seconds). Please check GSE log for license expiration and \n",
    "RESTPP/GPE log with request id (16842754.RESTPP_1_1.1662360937266.N) for details. Try increase RESTPP.Factory.DefaultQueryTimeoutSec or add header GSQL-TIMEOUT to override default system timeout."
   ]
  }
 ],
 "metadata": {
  "kernelspec": {
   "display_name": "Python 3 (ipykernel)",
   "language": "python",
   "name": "python3"
  },
  "language_info": {
   "codemirror_mode": {
    "name": "ipython",
    "version": 3
   },
   "file_extension": ".py",
   "mimetype": "text/x-python",
   "name": "python",
   "nbconvert_exporter": "python",
   "pygments_lexer": "ipython3",
   "version": "3.9.6"
  }
 },
 "nbformat": 4,
 "nbformat_minor": 5
}
