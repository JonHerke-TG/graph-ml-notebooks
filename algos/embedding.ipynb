{
 "cells": [
  {
   "cell_type": "markdown",
   "metadata": {},
   "source": [
    "# TigerGraph Graph Data Science Library 101 - Graph Embedding \n",
    "\n",
    "This notebook shows the examples of using graph embedding algorithms in TigerGraph Graph Science Library. More detailed explanations of these algorithms can be four in the official documentation \n",
    "(https://docs.tigergraph.com/graph-ml/current/node-embeddings/).  "
   ]
  },
  {
   "cell_type": "markdown",
   "metadata": {},
   "source": [
    "## Step 1: Load Cora graph data"
   ]
  },
  {
   "cell_type": "code",
   "execution_count": 1,
   "metadata": {},
   "outputs": [],
   "source": [
    "import json\n",
    "config_file = open ('../config.json', \"r\")\n",
    "config = json.load(config_file)\n",
    "config_file.close()"
   ]
  },
  {
   "cell_type": "code",
   "execution_count": 2,
   "metadata": {},
   "outputs": [
    {
     "data": {
      "application/vnd.jupyter.widget-view+json": {
       "model_id": "061dccfbc30744518d86c35a43d38a48",
       "version_major": 2,
       "version_minor": 0
      },
      "text/plain": [
       "Downloading:   0%|          | 0/166537 [00:00<?, ?it/s]"
      ]
     },
     "metadata": {},
     "output_type": "display_data"
    }
   ],
   "source": [
    "from pyTigerGraph.datasets import Datasets\n",
    "\n",
    "dataset = Datasets(\"Cora\")"
   ]
  },
  {
   "cell_type": "code",
   "execution_count": 3,
   "metadata": {},
   "outputs": [],
   "source": [
    "from pyTigerGraph import TigerGraphConnection\n",
    "import json\n",
    "\n",
    "conn = TigerGraphConnection(\n",
    "    host=config[\"host\"],\n",
    "    username=config[\"username\"],\n",
    "    password=config[\"password\"],\n",
    ")"
   ]
  },
  {
   "cell_type": "code",
   "execution_count": 4,
   "metadata": {},
   "outputs": [
    {
     "name": "stdout",
     "output_type": "stream",
     "text": [
      "---- Checking database ----\n",
      "A graph with name Cora already exists in the database. Please drop it first before ingesting.\n"
     ]
    }
   ],
   "source": [
    "conn.ingestDataset(dataset, getToken=config[\"getToken\"])"
   ]
  },
  {
   "cell_type": "code",
   "execution_count": 5,
   "metadata": {},
   "outputs": [
    {
     "data": {
      "application/vnd.jupyter.widget-view+json": {
       "model_id": "f24e4d5d2f4f40dfa6450ced8dfffd7f",
       "version_major": 2,
       "version_minor": 0
      },
      "text/plain": [
       "CytoscapeWidget(cytoscape_layout={'name': 'circle', 'animate': True, 'padding': 1}, cytoscape_style=[{'selecto…"
      ]
     },
     "execution_count": 5,
     "metadata": {},
     "output_type": "execute_result"
    }
   ],
   "source": [
    "from pyTigerGraph.visualization import drawSchema\n",
    "\n",
    "drawSchema(conn.getSchema(force=True))"
   ]
  },
  {
   "cell_type": "markdown",
   "metadata": {},
   "source": [
    "## Step 2: Running Louvain Community Detection\n",
    "We are going to use the pyTigerGraph featurizer to run Louvain community detection on the citation network."
   ]
  },
  {
   "cell_type": "code",
   "execution_count": 6,
   "metadata": {},
   "outputs": [
    {
     "data": {
      "text/plain": [
       "[{'AllVertexCount': 2708},\n",
       " {'InitChangeCount': 0},\n",
       " {'VertexFollowedToCommunity': 371},\n",
       " {'VertexFollowedToVertex': 114},\n",
       " {'VertexAssignedToItself': 0},\n",
       " {'FinalCommunityCount': 2280}]"
      ]
     },
     "execution_count": 6,
     "metadata": {},
     "output_type": "execute_result"
    }
   ],
   "source": [
    "feat = conn.gds.featurizer()\n",
    "\n",
    "params = {\n",
    "    \"v_type_set\": \"Paper\",\n",
    "    \"e_type_set\": \"Cite\",\n",
    "    \"weight_attr\": \"\",\n",
    "    \"max_iter\": 10,\n",
    "    \"result_attribute\": \"community_id\",\n",
    "    \"file_path\": \"\",\n",
    "    \"print_stats\": True\n",
    "}\n",
    "\n",
    "feat.runAlgorithm(\"tg_louvain\", params = params)"
   ]
  },
  {
   "cell_type": "markdown",
   "metadata": {},
   "source": [
    "## Step 3: Leveraging pyTigerGraph’s featurizer to run embedding algorithms\n",
    "\n",
    "pyTIgerGraph provides a full suit of data science capabilities, and in this tutorial, we will showcase how to use featurizer to run a few popular algorithms as an example."
   ]
  },
  {
   "cell_type": "code",
   "execution_count": 7,
   "metadata": {},
   "outputs": [
    {
     "name": "stdout",
     "output_type": "stream",
     "text": [
      "Available algorithms for Embeddings:\n",
      "  FastRP:\n",
      "    01. name: tg_fastRP\n",
      "Call runAlgorithm() with the algorithm name to execute it\n"
     ]
    }
   ],
   "source": [
    "feat.listAlgorithms(\"Embeddings\")"
   ]
  },
  {
   "cell_type": "markdown",
   "metadata": {
    "tags": []
   },
   "source": [
    "### Install and run fastRP algorithm \n",
    "\n",
    "Fast Random Projection (FastRP) is a scalable and performant node-embedding algorithm. It generates node embeddings (vectors) of low dimensionality through random projections from the graph’s adjacency matrix (a high-dimensional matrix) to a low-dimensional matrix, significantly reducing the computing power required to process the data. (https://docs.tigergraph.com/graph-ml/current/node-embeddings/fast-random-projection)"
   ]
  },
  {
   "cell_type": "code",
   "execution_count": 9,
   "metadata": {
    "tags": []
   },
   "outputs": [
    {
     "data": {
      "text/plain": [
       "[{'@@embedding_dim_map': {'default': {'min_dim': 0,\n",
       "    'max_dim': 128,\n",
       "    'weight': 1}}},\n",
       " {'sample_verts': []}]"
      ]
     },
     "execution_count": 9,
     "metadata": {},
     "output_type": "execute_result"
    }
   ],
   "source": [
    "params={\"v_type\": [\"Paper\"],\n",
    "        \"e_type\": [\"Cite\"],\n",
    "        \"output_v_type\": [\"Paper\"],\n",
    "        \"iteration_weights\": \"1,2,4\",\n",
    "        \"beta\": -0.1,\n",
    "        \"embedding_dimension\": 128,\n",
    "        \"embedding_dim_map\": [],\n",
    "        \"default_length\": 128,\n",
    "        \"sampling_constant\": 3,\n",
    "        \"random_seed\": 42,\n",
    "        \"component_attribute\": \"\",\n",
    "        \"result_attribute\": \"embedding\",\n",
    "        \"choose_k\": 0}\n",
    "\n",
    "feat.runAlgorithm(\"tg_fastRP\", params=params)"
   ]
  },
  {
   "cell_type": "code",
   "execution_count": 10,
   "metadata": {},
   "outputs": [],
   "source": [
    "df = conn.getVertexDataFrame(\"Paper\")"
   ]
  },
  {
   "cell_type": "code",
   "execution_count": 11,
   "metadata": {},
   "outputs": [
    {
     "data": {
      "text/html": [
       "<div>\n",
       "<style scoped>\n",
       "    .dataframe tbody tr th:only-of-type {\n",
       "        vertical-align: middle;\n",
       "    }\n",
       "\n",
       "    .dataframe tbody tr th {\n",
       "        vertical-align: top;\n",
       "    }\n",
       "\n",
       "    .dataframe thead th {\n",
       "        text-align: right;\n",
       "    }\n",
       "</style>\n",
       "<table border=\"1\" class=\"dataframe\">\n",
       "  <thead>\n",
       "    <tr style=\"text-align: right;\">\n",
       "      <th></th>\n",
       "      <th>v_id</th>\n",
       "      <th>id</th>\n",
       "      <th>x</th>\n",
       "      <th>y</th>\n",
       "      <th>train_mask</th>\n",
       "      <th>val_mask</th>\n",
       "      <th>test_mask</th>\n",
       "      <th>community_id</th>\n",
       "      <th>embedding</th>\n",
       "    </tr>\n",
       "  </thead>\n",
       "  <tbody>\n",
       "    <tr>\n",
       "      <th>0</th>\n",
       "      <td>2571</td>\n",
       "      <td>2571</td>\n",
       "      <td>[0, 1, 0, 0, 0, 0, 0, 0, 0, 0, 0, 0, 0, 0, 0, ...</td>\n",
       "      <td>3</td>\n",
       "      <td>False</td>\n",
       "      <td>False</td>\n",
       "      <td>True</td>\n",
       "      <td>16777285</td>\n",
       "      <td>[0.18001, -0.03698, 0.16291, -0.18522, -0.0242...</td>\n",
       "    </tr>\n",
       "    <tr>\n",
       "      <th>1</th>\n",
       "      <td>2540</td>\n",
       "      <td>2540</td>\n",
       "      <td>[0, 0, 0, 0, 0, 0, 0, 0, 0, 0, 0, 0, 0, 0, 0, ...</td>\n",
       "      <td>3</td>\n",
       "      <td>False</td>\n",
       "      <td>False</td>\n",
       "      <td>True</td>\n",
       "      <td>26214414</td>\n",
       "      <td>[0.05586, 0.17652, -0.00023, -0.21363, -0.1412...</td>\n",
       "    </tr>\n",
       "    <tr>\n",
       "      <th>2</th>\n",
       "      <td>2514</td>\n",
       "      <td>2514</td>\n",
       "      <td>[0, 0, 0, 0, 0, 0, 0, 0, 0, 0, 0, 0, 0, 0, 0, ...</td>\n",
       "      <td>2</td>\n",
       "      <td>False</td>\n",
       "      <td>False</td>\n",
       "      <td>True</td>\n",
       "      <td>63963138</td>\n",
       "      <td>[-0.18557, -0.14713, -0.09497, -0.19152, 0.470...</td>\n",
       "    </tr>\n",
       "    <tr>\n",
       "      <th>3</th>\n",
       "      <td>2429</td>\n",
       "      <td>2429</td>\n",
       "      <td>[0, 0, 0, 0, 0, 0, 0, 0, 0, 0, 0, 0, 0, 0, 0, ...</td>\n",
       "      <td>1</td>\n",
       "      <td>False</td>\n",
       "      <td>False</td>\n",
       "      <td>True</td>\n",
       "      <td>20971571</td>\n",
       "      <td>[0, 0, 0, -0.25161, 0, -0.25161, 0, -0.25161, ...</td>\n",
       "    </tr>\n",
       "    <tr>\n",
       "      <th>4</th>\n",
       "      <td>2306</td>\n",
       "      <td>2306</td>\n",
       "      <td>[0, 0, 0, 0, 0, 0, 0, 0, 0, 0, 0, 0, 0, 0, 0, ...</td>\n",
       "      <td>4</td>\n",
       "      <td>False</td>\n",
       "      <td>False</td>\n",
       "      <td>True</td>\n",
       "      <td>63963140</td>\n",
       "      <td>[-0.27593, 0.35585, -0.52515, 0.00761, -0.0522...</td>\n",
       "    </tr>\n",
       "  </tbody>\n",
       "</table>\n",
       "</div>"
      ],
      "text/plain": [
       "   v_id    id                                                  x  y  \\\n",
       "0  2571  2571  [0, 1, 0, 0, 0, 0, 0, 0, 0, 0, 0, 0, 0, 0, 0, ...  3   \n",
       "1  2540  2540  [0, 0, 0, 0, 0, 0, 0, 0, 0, 0, 0, 0, 0, 0, 0, ...  3   \n",
       "2  2514  2514  [0, 0, 0, 0, 0, 0, 0, 0, 0, 0, 0, 0, 0, 0, 0, ...  2   \n",
       "3  2429  2429  [0, 0, 0, 0, 0, 0, 0, 0, 0, 0, 0, 0, 0, 0, 0, ...  1   \n",
       "4  2306  2306  [0, 0, 0, 0, 0, 0, 0, 0, 0, 0, 0, 0, 0, 0, 0, ...  4   \n",
       "\n",
       "   train_mask  val_mask  test_mask  community_id  \\\n",
       "0       False     False       True      16777285   \n",
       "1       False     False       True      26214414   \n",
       "2       False     False       True      63963138   \n",
       "3       False     False       True      20971571   \n",
       "4       False     False       True      63963140   \n",
       "\n",
       "                                           embedding  \n",
       "0  [0.18001, -0.03698, 0.16291, -0.18522, -0.0242...  \n",
       "1  [0.05586, 0.17652, -0.00023, -0.21363, -0.1412...  \n",
       "2  [-0.18557, -0.14713, -0.09497, -0.19152, 0.470...  \n",
       "3  [0, 0, 0, -0.25161, 0, -0.25161, 0, -0.25161, ...  \n",
       "4  [-0.27593, 0.35585, -0.52515, 0.00761, -0.0522...  "
      ]
     },
     "execution_count": 11,
     "metadata": {},
     "output_type": "execute_result"
    }
   ],
   "source": [
    "df.head()"
   ]
  },
  {
   "cell_type": "code",
   "execution_count": 12,
   "metadata": {},
   "outputs": [
    {
     "data": {
      "text/plain": [
       "community_id\n",
       "1               1925\n",
       "2                314\n",
       "3                 29\n",
       "4                  7\n",
       "5                  3\n",
       "12                 1\n",
       "13                 1\n",
       "dtype: int64"
      ]
     },
     "execution_count": 12,
     "metadata": {},
     "output_type": "execute_result"
    }
   ],
   "source": [
    "import pandas as pd\n",
    "\n",
    "pd.DataFrame(df['community_id'].value_counts()).value_counts().sort_index()"
   ]
  },
  {
   "cell_type": "markdown",
   "metadata": {},
   "source": [
    "### Compute intra- and inter-communities similarities for FastRP embeddings using Louvain Communities"
   ]
  },
  {
   "cell_type": "code",
   "execution_count": 13,
   "metadata": {},
   "outputs": [
    {
     "name": "stdout",
     "output_type": "stream",
     "text": [
      "***Community Detection ID: community_id***\n",
      "\n",
      "Intra-community similarities:\n",
      "\n",
      "Community: 0\n",
      "Number of members in community: 13\n",
      "Mean intra-community similarity: 0.995393532214212\n",
      "Std. Dev. of intra-community similarity: 0.011322606612286857\n",
      "\n",
      "Community: 1\n",
      "Number of members in community: 12\n",
      "Mean intra-community similarity: 0.9965355767565699\n",
      "Std. Dev. of intra-community similarity: 0.008158297131735716\n",
      "\n",
      "Community: 2\n",
      "Number of members in community: 5\n",
      "Mean intra-community similarity: 0.9884981291108721\n",
      "Std. Dev. of intra-community similarity: 0.0167667139638064\n",
      "\n",
      "Community: 3\n",
      "Number of members in community: 5\n",
      "Mean intra-community similarity: 0.9976103116344618\n",
      "Std. Dev. of intra-community similarity: 0.0034835394757808343\n",
      "\n",
      "Community: 4\n",
      "Number of members in community: 5\n",
      "Mean intra-community similarity: 0.9968358982217786\n",
      "Std. Dev. of intra-community similarity: 0.004612431314800437\n",
      "\n",
      "Inter-community similarities:\n",
      "\n",
      "Communities: 0-1\n",
      "Mean inter-community similarity: 0.10263887063503166\n",
      "Std. Dev. of intra-community similarity: 0.0028905341949137502\n",
      "\n",
      "Communities: 1-2\n",
      "Mean inter-community similarity: 0.07009941018989184\n",
      "Std. Dev. of intra-community similarity: 0.0042060525029748285\n",
      "\n",
      "Communities: 2-3\n",
      "Mean inter-community similarity: 0.03565407435256426\n",
      "Std. Dev. of intra-community similarity: 0.006514777838004342\n",
      "\n",
      "Communities: 3-4\n",
      "Mean inter-community similarity: -0.21209426289866823\n",
      "Std. Dev. of intra-community similarity: 0.0062511633136295335\n",
      "\n"
     ]
    }
   ],
   "source": [
    "import numpy as np\n",
    "from sklearn.metrics.pairwise import cosine_similarity\n",
    "\n",
    "cnt = 5\n",
    "comms_list = ['community_id']\n",
    "\n",
    "for comm in comms_list:\n",
    "    print(f\"***Community Detection ID: {comm}***\\n\")\n",
    "    \n",
    "    comm_embs = None\n",
    "    print(\"Intra-community similarities:\\n\")\n",
    "\n",
    "    for i, c_id in enumerate(df[comm].value_counts().head(cnt).index):\n",
    "        community = df[df[comm] == c_id]\n",
    "        comm_embs = np.stack(community[\"embedding\"].values)\n",
    "        similarities = cosine_similarity(comm_embs)\n",
    "        print(f\"Community: {i}\")\n",
    "        print(f\"Number of members in community: {len(comm_embs)}\")\n",
    "        print(f\"Mean intra-community similarity: {similarities.mean()}\")\n",
    "        print(f\"Std. Dev. of intra-community similarity: {np.std(similarities)}\")\n",
    "        print()\n",
    "\n",
    "    print(\"Inter-community similarities:\\n\")\n",
    "\n",
    "    for i, c_id in enumerate(df[comm].value_counts().head(cnt).index):\n",
    "        community = df[df[comm] == c_id]\n",
    "        comm_embs_comp = comm_embs\n",
    "        comm_embs = np.stack(community[\"embedding\"].values)\n",
    "\n",
    "        if i >= 1:\n",
    "            similarities = cosine_similarity(comm_embs_comp, comm_embs)\n",
    "            print(f\"Communities: {i-1}-{i}\")\n",
    "            print(f\"Mean inter-community similarity: {similarities.mean()}\")\n",
    "            print(f\"Std. Dev. of intra-community similarity: {np.std(similarities)}\")\n",
    "            print()"
   ]
  },
  {
   "cell_type": "code",
   "execution_count": 14,
   "metadata": {},
   "outputs": [],
   "source": [
    "# Grab embeddings for Louvain Communities\n",
    "\n",
    "c_id0 = df[\"community_id\"].value_counts().head(25).index[0]\n",
    "c_id1 = df[\"community_id\"].value_counts().head(25).index[1]\n",
    "c_id2 = df[\"community_id\"].value_counts().head(25).index[2]\n",
    "c_id3 = df[\"community_id\"].value_counts().head(25).index[3]\n",
    "c_id4 = df[\"community_id\"].value_counts().head(25).index[4]\n",
    "\n",
    "community0 = df[df[\"community_id\"] == c_id0]\n",
    "comm_embs0 = np.stack(community0[\"embedding\"].values)\n",
    "\n",
    "community1 = df[df[\"community_id\"] == c_id1]\n",
    "comm_embs1 = np.stack(community1[\"embedding\"].values)\n",
    "\n",
    "community2 = df[df[\"community_id\"] == c_id2]\n",
    "comm_embs2 = np.stack(community2[\"embedding\"].values)\n",
    "\n",
    "community3 = df[df[\"community_id\"] == c_id3]\n",
    "comm_embs3 = np.stack(community3[\"embedding\"].values)\n",
    "\n",
    "community4 = df[df[\"community_id\"] == c_id4]\n",
    "comm_embs4 = np.stack(community4[\"embedding\"].values)\n",
    "\n",
    "X = np.vstack((comm_embs0, comm_embs1, comm_embs2, comm_embs3, comm_embs4))\n",
    "\n",
    "y0 = np.ones((comm_embs0.shape[0])) * 0\n",
    "y1 = np.ones((comm_embs1.shape[0])) * 1\n",
    "y2 = np.ones((comm_embs2.shape[0])) * 2\n",
    "y3 = np.ones((comm_embs3.shape[0])) * 3\n",
    "y4 = np.ones((comm_embs4.shape[0])) * 4\n",
    "y = np.hstack((y0,y1,y2,y3,y4))"
   ]
  },
  {
   "cell_type": "markdown",
   "metadata": {},
   "source": [
    "### Plot embeddings in 2D space"
   ]
  },
  {
   "cell_type": "code",
   "execution_count": 15,
   "metadata": {},
   "outputs": [
    {
     "name": "stdout",
     "output_type": "stream",
     "text": [
      "Collecting umap\n",
      "  Downloading umap-0.1.1.tar.gz (3.2 kB)\n",
      "  Preparing metadata (setup.py) ... \u001b[?25ldone\n",
      "\u001b[?25hBuilding wheels for collected packages: umap\n",
      "  Building wheel for umap (setup.py) ... \u001b[?25ldone\n",
      "\u001b[?25h  Created wheel for umap: filename=umap-0.1.1-py3-none-any.whl size=3543 sha256=c0ce5734997b4be6dce065019e8f8d8193949b79880dcb7ed26046fd48e3f6c9\n",
      "  Stored in directory: /home/tigergraph/.cache/pip/wheels/0f/d2/29/4d21dda3eb23f4eb42bc340a0e0282333539015afc8082a7b2\n",
      "Successfully built umap\n",
      "Installing collected packages: umap\n",
      "Successfully installed umap-0.1.1\n",
      "Collecting umap-learn\n",
      "  Downloading umap-learn-0.5.3.tar.gz (88 kB)\n",
      "\u001b[2K     \u001b[90m━━━━━━━━━━━━━━━━━━━━━━━━━━━━━━━━━━━━━━━━\u001b[0m \u001b[32m88.2/88.2 kB\u001b[0m \u001b[31m6.5 MB/s\u001b[0m eta \u001b[36m0:00:00\u001b[0m\n",
      "\u001b[?25h  Preparing metadata (setup.py) ... \u001b[?25ldone\n",
      "\u001b[?25hRequirement already satisfied: numpy>=1.17 in /opt/conda/lib/python3.9/site-packages (from umap-learn) (1.23.0)\n",
      "Requirement already satisfied: scikit-learn>=0.22 in /opt/conda/lib/python3.9/site-packages (from umap-learn) (1.1.2)\n",
      "Requirement already satisfied: scipy>=1.0 in /opt/conda/lib/python3.9/site-packages (from umap-learn) (1.9.1)\n",
      "Collecting numba>=0.49\n",
      "  Downloading numba-0.56.4-cp39-cp39-manylinux2014_x86_64.manylinux_2_17_x86_64.whl (3.5 MB)\n",
      "\u001b[2K     \u001b[90m━━━━━━━━━━━━━━━━━━━━━━━━━━━━━━━━━━━━━━━━\u001b[0m \u001b[32m3.5/3.5 MB\u001b[0m \u001b[31m47.7 MB/s\u001b[0m eta \u001b[36m0:00:00\u001b[0ma \u001b[36m0:00:01\u001b[0m\n",
      "\u001b[?25hCollecting pynndescent>=0.5\n",
      "  Downloading pynndescent-0.5.8.tar.gz (1.1 MB)\n",
      "\u001b[2K     \u001b[90m━━━━━━━━━━━━━━━━━━━━━━━━━━━━━━━━━━━━━━━━\u001b[0m \u001b[32m1.1/1.1 MB\u001b[0m \u001b[31m62.3 MB/s\u001b[0m eta \u001b[36m0:00:00\u001b[0m\n",
      "\u001b[?25h  Preparing metadata (setup.py) ... \u001b[?25ldone\n",
      "\u001b[?25hRequirement already satisfied: tqdm in /opt/conda/lib/python3.9/site-packages (from umap-learn) (4.64.1)\n",
      "Collecting llvmlite<0.40,>=0.39.0dev0\n",
      "  Downloading llvmlite-0.39.1-cp39-cp39-manylinux_2_17_x86_64.manylinux2014_x86_64.whl (34.6 MB)\n",
      "\u001b[2K     \u001b[90m━━━━━━━━━━━━━━━━━━━━━━━━━━━━━━━━━━━━━━━━\u001b[0m \u001b[32m34.6/34.6 MB\u001b[0m \u001b[31m38.6 MB/s\u001b[0m eta \u001b[36m0:00:00\u001b[0m00:01\u001b[0m00:01\u001b[0m\n",
      "\u001b[?25hRequirement already satisfied: setuptools in /opt/conda/lib/python3.9/site-packages (from numba>=0.49->umap-learn) (65.5.1)\n",
      "Requirement already satisfied: joblib>=0.11 in /opt/conda/lib/python3.9/site-packages (from pynndescent>=0.5->umap-learn) (1.2.0)\n",
      "Requirement already satisfied: threadpoolctl>=2.0.0 in /opt/conda/lib/python3.9/site-packages (from scikit-learn>=0.22->umap-learn) (3.1.0)\n",
      "Building wheels for collected packages: umap-learn, pynndescent\n",
      "  Building wheel for umap-learn (setup.py) ... \u001b[?25ldone\n",
      "\u001b[?25h  Created wheel for umap-learn: filename=umap_learn-0.5.3-py3-none-any.whl size=82814 sha256=44ab93997d96987ae5cdfe698d3ee8ecc6aebdbe9cfb6d07e1013d12ba579093\n",
      "  Stored in directory: /home/tigergraph/.cache/pip/wheels/fb/99/10/ed2f3bc57ea29f540470eb43570929e30ae911b2d8353b2ee4\n",
      "  Building wheel for pynndescent (setup.py) ... \u001b[?25ldone\n",
      "\u001b[?25h  Created wheel for pynndescent: filename=pynndescent-0.5.8-py3-none-any.whl size=55497 sha256=e87033c712ede5778f797340f1df2adbca31559a254f84b10a183c521f240efd\n",
      "  Stored in directory: /home/tigergraph/.cache/pip/wheels/8d/ca/f1/f60e041b5c82ae83173373a8991be5419647bdcf64026fd91f\n",
      "Successfully built umap-learn pynndescent\n",
      "Installing collected packages: llvmlite, numba, pynndescent, umap-learn\n",
      "Successfully installed llvmlite-0.39.1 numba-0.56.4 pynndescent-0.5.8 umap-learn-0.5.3\n",
      "Requirement already satisfied: seaborn in /opt/conda/lib/python3.9/site-packages (0.12.0)\n",
      "Requirement already satisfied: matplotlib>=3.1 in /opt/conda/lib/python3.9/site-packages (from seaborn) (3.5.3)\n",
      "Requirement already satisfied: pandas>=0.25 in /opt/conda/lib/python3.9/site-packages (from seaborn) (1.5.0)\n",
      "Requirement already satisfied: numpy>=1.17 in /opt/conda/lib/python3.9/site-packages (from seaborn) (1.23.0)\n",
      "Requirement already satisfied: kiwisolver>=1.0.1 in /opt/conda/lib/python3.9/site-packages (from matplotlib>=3.1->seaborn) (1.4.4)\n",
      "Requirement already satisfied: pyparsing>=2.2.1 in /opt/conda/lib/python3.9/site-packages (from matplotlib>=3.1->seaborn) (3.0.9)\n",
      "Requirement already satisfied: python-dateutil>=2.7 in /opt/conda/lib/python3.9/site-packages (from matplotlib>=3.1->seaborn) (2.8.2)\n",
      "Requirement already satisfied: cycler>=0.10 in /opt/conda/lib/python3.9/site-packages (from matplotlib>=3.1->seaborn) (0.11.0)\n",
      "Requirement already satisfied: packaging>=20.0 in /opt/conda/lib/python3.9/site-packages (from matplotlib>=3.1->seaborn) (21.3)\n",
      "Requirement already satisfied: pillow>=6.2.0 in /opt/conda/lib/python3.9/site-packages (from matplotlib>=3.1->seaborn) (9.2.0)\n",
      "Requirement already satisfied: fonttools>=4.22.0 in /opt/conda/lib/python3.9/site-packages (from matplotlib>=3.1->seaborn) (4.38.0)\n",
      "Requirement already satisfied: pytz>=2020.1 in /opt/conda/lib/python3.9/site-packages (from pandas>=0.25->seaborn) (2022.6)\n",
      "Requirement already satisfied: six>=1.5 in /opt/conda/lib/python3.9/site-packages (from python-dateutil>=2.7->matplotlib>=3.1->seaborn) (1.16.0)\n"
     ]
    }
   ],
   "source": [
    "!pip install umap\n",
    "!pip install umap-learn\n",
    "!pip install seaborn"
   ]
  },
  {
   "cell_type": "code",
   "execution_count": 16,
   "metadata": {},
   "outputs": [],
   "source": [
    "import umap.umap_ as umap\n",
    "\n",
    "embd_x = umap.UMAP().fit_transform(X)"
   ]
  },
  {
   "cell_type": "code",
   "execution_count": 17,
   "metadata": {},
   "outputs": [
    {
     "data": {
      "image/png": "[encoded data removed]",
      "text/plain": [
       "<Figure size 800x800 with 1 Axes>"
      ]
     },
     "metadata": {},
     "output_type": "display_data"
    }
   ],
   "source": [
    "import matplotlib.pyplot as plt\n",
    "import seaborn as sns\n",
    "fig, axs = plt.subplots(nrows=1, ncols=1, figsize=(8,8))\n",
    "sns.set(font_scale=1)\n",
    "\n",
    "palette = {}\n",
    "for n, i in enumerate(set([0, 1, 2, 3, 4])):\n",
    "    palette[i] = f'C{n}'\n",
    "    \n",
    "sns.scatterplot(ax=axs, x=embd_x.T[0], y=embd_x.T[1], hue=y, palette=palette)\n",
    "axs.get_legend().remove()\n",
    "plt.title(\"FastRP Embeddings for 5 Largest Louvain Communities\", fontsize=18)\n",
    "\n",
    "plt.show()"
   ]
  },
  {
   "cell_type": "code",
   "execution_count": null,
   "metadata": {},
   "outputs": [],
   "source": []
  }
 ],
 "metadata": {
  "kernelspec": {
   "display_name": "Python 3 (ipykernel)",
   "language": "python",
   "name": "python3"
  },
  "language_info": {
   "codemirror_mode": {
    "name": "ipython",
    "version": 3
   },
   "file_extension": ".py",
   "mimetype": "text/x-python",
   "name": "python",
   "nbconvert_exporter": "python",
   "pygments_lexer": "ipython3",
   "version": "3.9.12"
  },
  "vscode": {
   "interpreter": {
    "hash": "90d6c93474222cb78a3df501c82ec4449f5717293aebbaa3deb6ac807c305b50"
   }
  }
 },
 "nbformat": 4,
 "nbformat_minor": 4
}
