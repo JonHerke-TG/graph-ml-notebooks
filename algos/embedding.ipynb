{
 "cells": [
  {
   "cell_type": "markdown",
   "metadata": {},
   "source": [
    "# TigerGraph Graph Data Science Library 101 - Graph Embedding \n",
    "\n",
    "This notebook shows the examples of using graph embedding algorithms in TigerGraph Graph Science Library. More detailed explanations of these algorithms can be four in the official documentation \n",
    "(https://docs.tigergraph.com/graph-ml/current/node-embeddings/).  "
   ]
  },
  {
   "cell_type": "markdown",
   "metadata": {},
   "source": [
    "## Step 1: Load Cora graph data"
   ]
  },
  {
   "cell_type": "code",
   "execution_count": 1,
   "metadata": {},
   "outputs": [],
   "source": [
    "import json\n",
    "config_file = open ('../config.json', \"r\")\n",
    "config = json.load(config_file)\n",
    "config_file.close()"
   ]
  },
  {
   "cell_type": "code",
   "execution_count": 2,
   "metadata": {},
   "outputs": [
    {
     "data": {
      "application/vnd.jupyter.widget-view+json": {
       "model_id": "20755ce7dd2747d895b42dd5cde52570",
       "version_major": 2,
       "version_minor": 0
      },
      "text/plain": [
       "Downloading:   0%|          | 0/166537 [00:00<?, ?it/s]"
      ]
     },
     "metadata": {},
     "output_type": "display_data"
    }
   ],
   "source": [
    "from pyTigerGraph.datasets import Datasets\n",
    "\n",
    "dataset = Datasets(\"Cora\")"
   ]
  },
  {
   "cell_type": "code",
   "execution_count": 3,
   "metadata": {},
   "outputs": [],
   "source": [
    "from pyTigerGraph import TigerGraphConnection\n",
    "import json\n",
    "\n",
    "conn = TigerGraphConnection(\n",
    "    host=config[\"host\"],\n",
    "    username=config[\"username\"],\n",
    "    password=config[\"password\"],\n",
    ")"
   ]
  },
  {
   "cell_type": "code",
   "execution_count": 4,
   "metadata": {},
   "outputs": [
    {
     "name": "stdout",
     "output_type": "stream",
     "text": [
      "---- Checking database ----\n",
      "---- Creating graph ----\n",
      "The graph Cora is created.\n",
      "---- Creating schema ----\n",
      "Using graph 'Cora'\n",
      "Successfully created schema change jobs: [cora_schema].\n",
      "Kick off schema change job cora_schema\n",
      "Doing schema change on graph 'Cora' (current version: 0)\n",
      "Trying to add local vertex 'Paper' to the graph 'Cora'.\n",
      "Trying to add local edge 'Cite' to the graph 'Cora'.\n",
      "\n",
      "Graph Cora updated to new version 1\n",
      "The job cora_schema completes in 1.707 seconds!\n",
      "---- Creating loading job ----\n",
      "Using graph 'Cora'\n",
      "Successfully created loading jobs: [load_cora_data].\n",
      "---- Ingesting data ----\n",
      "Ingested 2708 objects into VERTEX Paper\n",
      "Ingested 10556 objects into EDGE Cite\n",
      "---- Cleaning ----\n",
      "---- Finished ingestion ----\n"
     ]
    }
   ],
   "source": [
    "conn.ingestDataset(dataset, getToken=config[\"getToken\"])"
   ]
  },
  {
   "cell_type": "code",
   "execution_count": 5,
   "metadata": {},
   "outputs": [
    {
     "data": {
      "application/vnd.jupyter.widget-view+json": {
       "model_id": "3552a2dd4e5b41dcb3e79d959fc1563d",
       "version_major": 2,
       "version_minor": 0
      },
      "text/plain": [
       "CytoscapeWidget(cytoscape_layout={'name': 'circle', 'animate': True, 'padding': 1}, cytoscape_style=[{'selecto…"
      ]
     },
     "execution_count": 5,
     "metadata": {},
     "output_type": "execute_result"
    }
   ],
   "source": [
    "from pyTigerGraph.visualization import drawSchema\n",
    "\n",
    "drawSchema(conn.getSchema(force=True))"
   ]
  },
  {
   "cell_type": "markdown",
   "metadata": {},
   "source": [
    "## Step 2: Running Louvain Community Detection\n",
    "We are going to use the pyTigerGraph featurizer to run Louvain community detection on the citation network."
   ]
  },
  {
   "cell_type": "code",
   "execution_count": 6,
   "metadata": {},
   "outputs": [
    {
     "name": "stdout",
     "output_type": "stream",
     "text": [
      "Altering graph schema to save results...\n",
      "The job add_VERTEX_attr_vRiDrB completes in 1.628 seconds!\n",
      "Installing and optimizing the queries, it might take a minute...\n",
      "Queries installed successfully\n"
     ]
    },
    {
     "data": {
      "text/plain": [
       "[{'AllVertexCount': 2708},\n",
       " {'InitChangeCount': 0},\n",
       " {'VertexFollowedToCommunity': 371},\n",
       " {'VertexFollowedToVertex': 114},\n",
       " {'VertexAssignedToItself': 0},\n",
       " {'FinalCommunityCount': 2280}]"
      ]
     },
     "execution_count": 6,
     "metadata": {},
     "output_type": "execute_result"
    }
   ],
   "source": [
    "feat = conn.gds.featurizer()\n",
    "\n",
    "params = {\n",
    "    \"v_type\": \"Paper\",\n",
    "    \"e_type\": \"Cite\",\n",
    "    \"wt_attr\": \"\",\n",
    "    \"max_iter\": 10,\n",
    "    \"result_attr\": \"community_id\",\n",
    "    \"file_path\": \"\",\n",
    "    \"print_info\": True\n",
    "}\n",
    "\n",
    "feat.runAlgorithm(\"tg_louvain\", params = params)"
   ]
  },
  {
   "cell_type": "markdown",
   "metadata": {},
   "source": [
    "## Step 3: Leveraging pyTigerGraph’s featurizer to run embedding algorithms\n",
    "\n",
    "pyTIgerGraph provides a full suit of data science capabilities, and in this tutorial, we will showcase how to use featurizer to run a few popular algorithms as an example."
   ]
  },
  {
   "cell_type": "code",
   "execution_count": 7,
   "metadata": {},
   "outputs": [
    {
     "name": "stdout",
     "output_type": "stream",
     "text": [
      "Available algorithms for Embeddings:\n",
      "  FastRP:\n",
      "    01. name: tg_fastRP\n",
      "Call runAlgorithm() with the algorithm name to execute it\n"
     ]
    }
   ],
   "source": [
    "feat.listAlgorithms(\"Embeddings\")"
   ]
  },
  {
   "cell_type": "markdown",
   "metadata": {
    "tags": []
   },
   "source": [
    "### Install and run fastRP algorithm \n",
    "\n",
    "Fast Random Projection (FastRP) is a scalable and performant node-embedding algorithm. It generates node embeddings (vectors) of low dimensionality through random projections from the graph’s adjacency matrix (a high-dimensional matrix) to a low-dimensional matrix, significantly reducing the computing power required to process the data. (https://docs.tigergraph.com/graph-ml/current/node-embeddings/fast-random-projection)"
   ]
  },
  {
   "cell_type": "code",
   "execution_count": 9,
   "metadata": {
    "tags": []
   },
   "outputs": [
    {
     "name": "stdout",
     "output_type": "stream",
     "text": [
      "Altering graph schema to save results...\n",
      "The job add_VERTEX_attr_URVdot completes in 20.237 seconds!\n",
      "Installing and optimizing the queries, it might take a minute...\n",
      "Queries installed successfully\n"
     ]
    },
    {
     "data": {
      "text/plain": [
       "[]"
      ]
     },
     "execution_count": 9,
     "metadata": {},
     "output_type": "execute_result"
    }
   ],
   "source": [
    "params={\"v_type\": [\"Paper\"],\n",
    "        \"e_type\": [\"Cite\"],\n",
    "        \"weights\": \"1,2,4\",\n",
    "        \"beta\": -0.1,\n",
    "        \"k\": 3,\n",
    "        \"reduced_dim\": 128,\n",
    "        \"sampling_constant\": 3,\n",
    "        \"random_seed\": 42,\n",
    "        \"result_attr\": \"embedding\"}\n",
    "\n",
    "feat.runAlgorithm(\"tg_fastRP\", params=params)"
   ]
  },
  {
   "cell_type": "code",
   "execution_count": 10,
   "metadata": {},
   "outputs": [],
   "source": [
    "df = conn.getVertexDataFrame(\"Paper\")"
   ]
  },
  {
   "cell_type": "code",
   "execution_count": 11,
   "metadata": {},
   "outputs": [
    {
     "data": {
      "text/html": [
       "<div>\n",
       "<style scoped>\n",
       "    .dataframe tbody tr th:only-of-type {\n",
       "        vertical-align: middle;\n",
       "    }\n",
       "\n",
       "    .dataframe tbody tr th {\n",
       "        vertical-align: top;\n",
       "    }\n",
       "\n",
       "    .dataframe thead th {\n",
       "        text-align: right;\n",
       "    }\n",
       "</style>\n",
       "<table border=\"1\" class=\"dataframe\">\n",
       "  <thead>\n",
       "    <tr style=\"text-align: right;\">\n",
       "      <th></th>\n",
       "      <th>v_id</th>\n",
       "      <th>id</th>\n",
       "      <th>x</th>\n",
       "      <th>y</th>\n",
       "      <th>train_mask</th>\n",
       "      <th>val_mask</th>\n",
       "      <th>test_mask</th>\n",
       "      <th>community_id</th>\n",
       "      <th>embedding</th>\n",
       "    </tr>\n",
       "  </thead>\n",
       "  <tbody>\n",
       "    <tr>\n",
       "      <th>0</th>\n",
       "      <td>2644</td>\n",
       "      <td>2644</td>\n",
       "      <td>[0, 0, 0, 0, 0, 0, 0, 0, 0, 0, 0, 0, 0, 0, 0, ...</td>\n",
       "      <td>5</td>\n",
       "      <td>False</td>\n",
       "      <td>False</td>\n",
       "      <td>True</td>\n",
       "      <td>406847506</td>\n",
       "      <td>[0.03616, -0.00431, 0.00443, 0.18269, -0.03913...</td>\n",
       "    </tr>\n",
       "    <tr>\n",
       "      <th>1</th>\n",
       "      <td>2498</td>\n",
       "      <td>2498</td>\n",
       "      <td>[0, 0, 1, 0, 0, 0, 0, 0, 0, 0, 0, 0, 0, 0, 0, ...</td>\n",
       "      <td>4</td>\n",
       "      <td>False</td>\n",
       "      <td>False</td>\n",
       "      <td>True</td>\n",
       "      <td>434110465</td>\n",
       "      <td>[0, 0.04287, 0.28621, 0.04155, -0.23527, 0.082...</td>\n",
       "    </tr>\n",
       "    <tr>\n",
       "      <th>2</th>\n",
       "      <td>2482</td>\n",
       "      <td>2482</td>\n",
       "      <td>[0, 0, 0, 0, 0, 0, 0, 0, 0, 0, 0, 0, 0, 0, 0, ...</td>\n",
       "      <td>3</td>\n",
       "      <td>False</td>\n",
       "      <td>False</td>\n",
       "      <td>True</td>\n",
       "      <td>434110466</td>\n",
       "      <td>[-0.22419, -0.16898, -0.0552, -0.16898, -0.285...</td>\n",
       "    </tr>\n",
       "    <tr>\n",
       "      <th>3</th>\n",
       "      <td>2455</td>\n",
       "      <td>2455</td>\n",
       "      <td>[0, 0, 0, 0, 0, 0, 0, 0, 0, 0, 0, 0, 0, 0, 0, ...</td>\n",
       "      <td>6</td>\n",
       "      <td>False</td>\n",
       "      <td>False</td>\n",
       "      <td>True</td>\n",
       "      <td>434110467</td>\n",
       "      <td>[0, 0.07596, 0, -0.22733, -0.30912, -0.33169, ...</td>\n",
       "    </tr>\n",
       "    <tr>\n",
       "      <th>4</th>\n",
       "      <td>2433</td>\n",
       "      <td>2433</td>\n",
       "      <td>[0, 0, 0, 0, 0, 0, 0, 0, 0, 0, 0, 0, 0, 0, 0, ...</td>\n",
       "      <td>2</td>\n",
       "      <td>False</td>\n",
       "      <td>False</td>\n",
       "      <td>True</td>\n",
       "      <td>386924601</td>\n",
       "      <td>[0, -0.24595, -0.24595, 0, 0, -0.24595, 0, 0.2...</td>\n",
       "    </tr>\n",
       "  </tbody>\n",
       "</table>\n",
       "</div>"
      ],
      "text/plain": [
       "   v_id    id                                                  x  y  \\\n",
       "0  2644  2644  [0, 0, 0, 0, 0, 0, 0, 0, 0, 0, 0, 0, 0, 0, 0, ...  5   \n",
       "1  2498  2498  [0, 0, 1, 0, 0, 0, 0, 0, 0, 0, 0, 0, 0, 0, 0, ...  4   \n",
       "2  2482  2482  [0, 0, 0, 0, 0, 0, 0, 0, 0, 0, 0, 0, 0, 0, 0, ...  3   \n",
       "3  2455  2455  [0, 0, 0, 0, 0, 0, 0, 0, 0, 0, 0, 0, 0, 0, 0, ...  6   \n",
       "4  2433  2433  [0, 0, 0, 0, 0, 0, 0, 0, 0, 0, 0, 0, 0, 0, 0, ...  2   \n",
       "\n",
       "   train_mask  val_mask  test_mask  community_id  \\\n",
       "0       False     False       True     406847506   \n",
       "1       False     False       True     434110465   \n",
       "2       False     False       True     434110466   \n",
       "3       False     False       True     434110467   \n",
       "4       False     False       True     386924601   \n",
       "\n",
       "                                           embedding  \n",
       "0  [0.03616, -0.00431, 0.00443, 0.18269, -0.03913...  \n",
       "1  [0, 0.04287, 0.28621, 0.04155, -0.23527, 0.082...  \n",
       "2  [-0.22419, -0.16898, -0.0552, -0.16898, -0.285...  \n",
       "3  [0, 0.07596, 0, -0.22733, -0.30912, -0.33169, ...  \n",
       "4  [0, -0.24595, -0.24595, 0, 0, -0.24595, 0, 0.2...  "
      ]
     },
     "execution_count": 11,
     "metadata": {},
     "output_type": "execute_result"
    }
   ],
   "source": [
    "df.head()"
   ]
  },
  {
   "cell_type": "code",
   "execution_count": 12,
   "metadata": {},
   "outputs": [
    {
     "data": {
      "text/plain": [
       "community_id\n",
       "1               1925\n",
       "2                314\n",
       "3                 29\n",
       "4                  7\n",
       "5                  3\n",
       "12                 1\n",
       "13                 1\n",
       "dtype: int64"
      ]
     },
     "execution_count": 12,
     "metadata": {},
     "output_type": "execute_result"
    }
   ],
   "source": [
    "import pandas as pd\n",
    "\n",
    "pd.DataFrame(df['community_id'].value_counts()).value_counts().sort_index()"
   ]
  },
  {
   "cell_type": "markdown",
   "metadata": {},
   "source": [
    "### Compute intra- and inter-communities similarities for FastRP embeddings using Louvain Communities"
   ]
  },
  {
   "cell_type": "code",
   "execution_count": 13,
   "metadata": {},
   "outputs": [
    {
     "name": "stdout",
     "output_type": "stream",
     "text": [
      "***Community Detection ID: community_id***\n",
      "\n",
      "Intra-community similarities:\n",
      "\n",
      "Community: 0\n",
      "Number of members in community: 13\n",
      "Mean intra-community similarity: 0.9925975678341424\n",
      "Std. Dev. of intra-community similarity: 0.018195031700149116\n",
      "\n",
      "Community: 1\n",
      "Number of members in community: 12\n",
      "Mean intra-community similarity: 0.9969499365383349\n",
      "Std. Dev. of intra-community similarity: 0.007182530032410187\n",
      "\n",
      "Community: 2\n",
      "Number of members in community: 5\n",
      "Mean intra-community similarity: 0.9983909014097485\n",
      "Std. Dev. of intra-community similarity: 0.0023456441184528643\n",
      "\n",
      "Community: 3\n",
      "Number of members in community: 5\n",
      "Mean intra-community similarity: 0.9908406007631427\n",
      "Std. Dev. of intra-community similarity: 0.013352004083949787\n",
      "\n",
      "Community: 4\n",
      "Number of members in community: 5\n",
      "Mean intra-community similarity: 0.9968543647866701\n",
      "Std. Dev. of intra-community similarity: 0.004585511901915775\n",
      "\n",
      "Inter-community similarities:\n",
      "\n",
      "Communities: 0-1\n",
      "Mean inter-community similarity: -0.12997597623480175\n",
      "Std. Dev. of intra-community similarity: 0.009069564614928196\n",
      "\n",
      "Communities: 1-2\n",
      "Mean inter-community similarity: 0.0036177129970893316\n",
      "Std. Dev. of intra-community similarity: 0.006506100416875652\n",
      "\n",
      "Communities: 2-3\n",
      "Mean inter-community similarity: 0.1145958663306429\n",
      "Std. Dev. of intra-community similarity: 0.006285646114767675\n",
      "\n",
      "Communities: 3-4\n",
      "Mean inter-community similarity: 0.08958867140551108\n",
      "Std. Dev. of intra-community similarity: 0.015780516833165652\n",
      "\n"
     ]
    }
   ],
   "source": [
    "import numpy as np\n",
    "from sklearn.metrics.pairwise import cosine_similarity\n",
    "\n",
    "cnt = 5\n",
    "comms_list = ['community_id']\n",
    "\n",
    "for comm in comms_list:\n",
    "    print(f\"***Community Detection ID: {comm}***\\n\")\n",
    "    \n",
    "    comm_embs = None\n",
    "    print(\"Intra-community similarities:\\n\")\n",
    "\n",
    "    for i, c_id in enumerate(df[comm].value_counts().head(cnt).index):\n",
    "        community = df[df[comm] == c_id]\n",
    "        comm_embs = np.stack(community[\"embedding\"].values)\n",
    "        similarities = cosine_similarity(comm_embs)\n",
    "        print(f\"Community: {i}\")\n",
    "        print(f\"Number of members in community: {len(comm_embs)}\")\n",
    "        print(f\"Mean intra-community similarity: {similarities.mean()}\")\n",
    "        print(f\"Std. Dev. of intra-community similarity: {np.std(similarities)}\")\n",
    "        print()\n",
    "\n",
    "    print(\"Inter-community similarities:\\n\")\n",
    "\n",
    "    for i, c_id in enumerate(df[comm].value_counts().head(cnt).index):\n",
    "        community = df[df[comm] == c_id]\n",
    "        comm_embs_comp = comm_embs\n",
    "        comm_embs = np.stack(community[\"embedding\"].values)\n",
    "\n",
    "        if i >= 1:\n",
    "            similarities = cosine_similarity(comm_embs_comp, comm_embs)\n",
    "            print(f\"Communities: {i-1}-{i}\")\n",
    "            print(f\"Mean inter-community similarity: {similarities.mean()}\")\n",
    "            print(f\"Std. Dev. of intra-community similarity: {np.std(similarities)}\")\n",
    "            print()"
   ]
  },
  {
   "cell_type": "code",
   "execution_count": 14,
   "metadata": {},
   "outputs": [],
   "source": [
    "# Grab embeddings for Louvain Communities\n",
    "\n",
    "c_id0 = df[\"community_id\"].value_counts().head(25).index[0]\n",
    "c_id1 = df[\"community_id\"].value_counts().head(25).index[1]\n",
    "c_id2 = df[\"community_id\"].value_counts().head(25).index[2]\n",
    "c_id3 = df[\"community_id\"].value_counts().head(25).index[3]\n",
    "c_id4 = df[\"community_id\"].value_counts().head(25).index[4]\n",
    "\n",
    "community0 = df[df[\"community_id\"] == c_id0]\n",
    "comm_embs0 = np.stack(community0[\"embedding\"].values)\n",
    "\n",
    "community1 = df[df[\"community_id\"] == c_id1]\n",
    "comm_embs1 = np.stack(community1[\"embedding\"].values)\n",
    "\n",
    "community2 = df[df[\"community_id\"] == c_id2]\n",
    "comm_embs2 = np.stack(community2[\"embedding\"].values)\n",
    "\n",
    "community3 = df[df[\"community_id\"] == c_id3]\n",
    "comm_embs3 = np.stack(community3[\"embedding\"].values)\n",
    "\n",
    "community4 = df[df[\"community_id\"] == c_id4]\n",
    "comm_embs4 = np.stack(community4[\"embedding\"].values)\n",
    "\n",
    "X = np.vstack((comm_embs0, comm_embs1, comm_embs2, comm_embs3, comm_embs4))\n",
    "\n",
    "y0 = np.ones((comm_embs0.shape[0])) * 0\n",
    "y1 = np.ones((comm_embs1.shape[0])) * 1\n",
    "y2 = np.ones((comm_embs2.shape[0])) * 2\n",
    "y3 = np.ones((comm_embs3.shape[0])) * 3\n",
    "y4 = np.ones((comm_embs4.shape[0])) * 4\n",
    "y = np.hstack((y0,y1,y2,y3,y4))"
   ]
  },
  {
   "cell_type": "markdown",
   "metadata": {},
   "source": [
    "### Plot embeddings in 2D space"
   ]
  },
  {
   "cell_type": "code",
   "execution_count": 16,
   "metadata": {},
   "outputs": [
    {
     "name": "stdout",
     "output_type": "stream",
     "text": [
      "Collecting umap-learn\n",
      "  Downloading umap-learn-0.5.3.tar.gz (88 kB)\n",
      "\u001b[2K     \u001b[90m━━━━━━━━━━━━━━━━━━━━━━━━━━━━━━━━━━━━━━━\u001b[0m \u001b[32m88.2/88.2 kB\u001b[0m \u001b[31m366.6 kB/s\u001b[0m eta \u001b[36m0:00:00\u001b[0ma \u001b[36m0:00:01\u001b[0m\n",
      "\u001b[?25h  Preparing metadata (setup.py) ... \u001b[?25ldone\n",
      "\u001b[?25hRequirement already satisfied: numpy>=1.17 in /Users/feng.shi/mlworkbench/lib/python3.9/site-packages (from umap-learn) (1.23.4)\n",
      "Requirement already satisfied: scikit-learn>=0.22 in /Users/feng.shi/mlworkbench/lib/python3.9/site-packages (from umap-learn) (1.1.2)\n",
      "Requirement already satisfied: scipy>=1.0 in /Users/feng.shi/mlworkbench/lib/python3.9/site-packages (from umap-learn) (1.9.2)\n",
      "Collecting numba>=0.49\n",
      "  Downloading numba-0.56.4-cp39-cp39-macosx_10_14_x86_64.whl (2.4 MB)\n",
      "\u001b[2K     \u001b[90m━━━━━━━━━━━━━━━━━━━━━━━━━━━━━━━━━━━━━━━━\u001b[0m \u001b[32m2.4/2.4 MB\u001b[0m \u001b[31m1.4 MB/s\u001b[0m eta \u001b[36m0:00:00\u001b[0m00:01\u001b[0m00:01\u001b[0m0m\n",
      "\u001b[?25hCollecting pynndescent>=0.5\n",
      "  Downloading pynndescent-0.5.8.tar.gz (1.1 MB)\n",
      "\u001b[2K     \u001b[90m━━━━━━━━━━━━━━━━━━━━━━━━━━━━━━━━━━━━━━━━\u001b[0m \u001b[32m1.1/1.1 MB\u001b[0m \u001b[31m2.6 MB/s\u001b[0m eta \u001b[36m0:00:00\u001b[0ma \u001b[36m0:00:01\u001b[0m\n",
      "\u001b[?25h  Preparing metadata (setup.py) ... \u001b[?25ldone\n",
      "\u001b[?25hRequirement already satisfied: tqdm in /Users/feng.shi/mlworkbench/lib/python3.9/site-packages (from umap-learn) (4.64.1)\n",
      "Collecting llvmlite<0.40,>=0.39.0dev0\n",
      "  Downloading llvmlite-0.39.1-cp39-cp39-macosx_10_9_x86_64.whl (25.5 MB)\n",
      "\u001b[2K     \u001b[90m━━━━━━━━━━━━━━━━━━━━━━━━━━━━━━━━━━━━━━━━\u001b[0m \u001b[32m25.5/25.5 MB\u001b[0m \u001b[31m4.1 MB/s\u001b[0m eta \u001b[36m0:00:00\u001b[0m00:01\u001b[0m00:01\u001b[0m\n",
      "\u001b[?25hRequirement already satisfied: setuptools in /Users/feng.shi/mlworkbench/lib/python3.9/site-packages (from numba>=0.49->umap-learn) (65.4.1)\n",
      "Requirement already satisfied: joblib>=0.11 in /Users/feng.shi/mlworkbench/lib/python3.9/site-packages (from pynndescent>=0.5->umap-learn) (1.2.0)\n",
      "Requirement already satisfied: threadpoolctl>=2.0.0 in /Users/feng.shi/mlworkbench/lib/python3.9/site-packages (from scikit-learn>=0.22->umap-learn) (3.1.0)\n",
      "Building wheels for collected packages: umap-learn, pynndescent\n",
      "  Building wheel for umap-learn (setup.py) ... \u001b[?25ldone\n",
      "\u001b[?25h  Created wheel for umap-learn: filename=umap_learn-0.5.3-py3-none-any.whl size=82814 sha256=040e9bd0f192dd00084ca3f84332647de831d8cfe8c3c0775ccf6bb691fe3bdf\n",
      "  Stored in directory: /Users/feng.shi/Library/Caches/pip/wheels/f4/3e/1c/596d0a463d17475af648688443fa4846fef624d1390339e7e9\n",
      "  Building wheel for pynndescent (setup.py) ... \u001b[?25ldone\n",
      "\u001b[?25h  Created wheel for pynndescent: filename=pynndescent-0.5.8-py3-none-any.whl size=55496 sha256=8654c74fef7db6a55279a35a429a489339df48b9d5eded9c9b3496c650069670\n",
      "  Stored in directory: /Users/feng.shi/Library/Caches/pip/wheels/b9/89/cc/59ab91ef5b21dc2ab3635528d7d227f49dfc9169905dcb959d\n",
      "Successfully built umap-learn pynndescent\n",
      "Installing collected packages: llvmlite, numba, pynndescent, umap-learn\n",
      "Successfully installed llvmlite-0.39.1 numba-0.56.4 pynndescent-0.5.8 umap-learn-0.5.3\n"
     ]
    }
   ],
   "source": [
    "!pip install umap-learn"
   ]
  },
  {
   "cell_type": "code",
   "execution_count": 17,
   "metadata": {},
   "outputs": [],
   "source": [
    "import umap\n",
    "\n",
    "embd_x = umap.UMAP().fit_transform(X)"
   ]
  },
  {
   "cell_type": "code",
   "execution_count": 18,
   "metadata": {},
   "outputs": [
    {
     "data": {
      "image/png": "[encoded data removed]",
      "text/plain": [
       "<Figure size 800x800 with 1 Axes>"
      ]
     },
     "metadata": {},
     "output_type": "display_data"
    }
   ],
   "source": [
    "import matplotlib.pyplot as plt\n",
    "import seaborn as sns\n",
    "fig, axs = plt.subplots(nrows=1, ncols=1, figsize=(8,8))\n",
    "sns.set(font_scale=1)\n",
    "\n",
    "palette = {}\n",
    "for n, i in enumerate(set([0, 1, 2, 3, 4])):\n",
    "    palette[i] = f'C{n}'\n",
    "    \n",
    "sns.scatterplot(ax=axs, x=embd_x.T[0], y=embd_x.T[1], hue=y, palette=palette)\n",
    "axs.get_legend().remove()\n",
    "plt.title(\"FastRP Embeddings for 5 Largest Louvain Communities\", fontsize=18)\n",
    "\n",
    "plt.show()"
   ]
  }
 ],
 "metadata": {
  "kernelspec": {
   "display_name": "PyTorch",
   "language": "python",
   "name": "python3"
  },
  "language_info": {
   "codemirror_mode": {
    "name": "ipython",
    "version": 3
   },
   "file_extension": ".py",
   "mimetype": "text/x-python",
   "name": "python",
   "nbconvert_exporter": "python",
   "pygments_lexer": "ipython3",
   "version": "3.9.13"
  },
  "vscode": {
   "interpreter": {
    "hash": "90d6c93474222cb78a3df501c82ec4449f5717293aebbaa3deb6ac807c305b50"
   }
  }
 },
 "nbformat": 4,
 "nbformat_minor": 4
}
