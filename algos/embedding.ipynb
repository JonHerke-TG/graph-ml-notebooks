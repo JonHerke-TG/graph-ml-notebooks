{
 "cells": [
  {
   "cell_type": "markdown",
   "metadata": {},
   "source": [
    "# TigerGraph Graph Data Science Library 101 - Graph Embedding \n",
    "\n",
    "This notebook shows the examples of using graph embedding algorithms in TigerGraph Graph Science Library. More detailed explanations of these algorithms can be four in the official documentation \n",
    "(https://docs.tigergraph.com/graph-ml/current/node-embeddings/).  "
   ]
  },
  {
   "cell_type": "markdown",
   "metadata": {},
   "source": [
    "## Step 1: Load Cora graph data"
   ]
  },
  {
   "cell_type": "code",
   "execution_count": 3,
   "metadata": {},
   "outputs": [],
   "source": [
    "import json\n",
    "config_file = open ('config.json', \"r\")\n",
    "config = json.load(config_file)\n",
    "config_file.close()"
   ]
  },
  {
   "cell_type": "code",
   "execution_count": 4,
   "metadata": {},
   "outputs": [
    {
     "data": {
      "application/vnd.jupyter.widget-view+json": {
       "model_id": "4ea9b22778e9482490eebf55070fed85",
       "version_major": 2,
       "version_minor": 0
      },
      "text/plain": [
       "Downloading:   0%|          | 0/166537 [00:00<?, ?it/s]"
      ]
     },
     "metadata": {},
     "output_type": "display_data"
    }
   ],
   "source": [
    "from pyTigerGraph.datasets import Datasets\n",
    "\n",
    "dataset = Datasets(\"Cora\")"
   ]
  },
  {
   "cell_type": "code",
   "execution_count": 5,
   "metadata": {},
   "outputs": [],
   "source": [
    "from pyTigerGraph import TigerGraphConnection\n",
    "import json\n",
    "\n",
    "# Read in DB configs\n",
    "with open('config.json', \"r\") as config_file:\n",
    "    config = json.load(config_file)\n",
    "\n",
    "conn = TigerGraphConnection(\n",
    "    host=config[\"host\"],\n",
    "    username=config[\"username\"],\n",
    "    password=config[\"password\"],\n",
    ")"
   ]
  },
  {
   "cell_type": "code",
   "execution_count": 6,
   "metadata": {},
   "outputs": [
    {
     "name": "stdout",
     "output_type": "stream",
     "text": [
      "---- Checking database ----\n",
      "A graph with name Cora already exists in the database. Please drop it first before ingesting.\n"
     ]
    }
   ],
   "source": [
    "conn.ingestDataset(dataset, getToken=config[\"getToken\"])"
   ]
  },
  {
   "cell_type": "code",
   "execution_count": 7,
   "metadata": {},
   "outputs": [
    {
     "data": {
      "application/vnd.jupyter.widget-view+json": {
       "model_id": "e1395fc5f5d7424389ede9a7d452a23f",
       "version_major": 2,
       "version_minor": 0
      },
      "text/plain": [
       "CytoscapeWidget(cytoscape_layout={'name': 'circle', 'animate': True, 'padding': 1}, cytoscape_style=[{'selecto…"
      ]
     },
     "execution_count": 7,
     "metadata": {},
     "output_type": "execute_result"
    }
   ],
   "source": [
    "from pyTigerGraph.visualization import drawSchema\n",
    "\n",
    "drawSchema(conn.getSchema(force=True))"
   ]
  },
  {
   "cell_type": "markdown",
   "metadata": {},
   "source": [
    "## Step 2: Running Louvain Community Detection\n",
    "We are going to use the pyTigerGraph featurizer to run Louvain community detection on the citation network."
   ]
  },
  {
   "cell_type": "code",
   "execution_count": 8,
   "metadata": {},
   "outputs": [
    {
     "data": {
      "text/plain": [
       "[{'AllVertexCount': 2708},\n",
       " {'InitChangeCount': 0},\n",
       " {'VertexFollowedToCommunity': 371},\n",
       " {'VertexFollowedToVertex': 114},\n",
       " {'VertexAssignedToItself': 0},\n",
       " {'FinalCommunityCount': 2280}]"
      ]
     },
     "execution_count": 8,
     "metadata": {},
     "output_type": "execute_result"
    }
   ],
   "source": [
    "feat = conn.gds.featurizer()\n",
    "\n",
    "params = {\n",
    "    \"v_type_set\": \"Paper\",\n",
    "    \"e_type_set\": \"Cite\",\n",
    "    \"weight_attr\": \"\",\n",
    "    \"max_iter\": 10,\n",
    "    \"result_attribute\": \"community_id\",\n",
    "    \"file_path\": \"\",\n",
    "    \"print_stats\": True\n",
    "}\n",
    "\n",
    "feat.runAlgorithm(\"tg_louvain\", params = params)"
   ]
  },
  {
   "cell_type": "markdown",
   "metadata": {},
   "source": [
    "## Step 3: Leveraging pyTigerGraph’s featurizer to run embedding algorithms\n",
    "\n",
    "pyTIgerGraph provides a full suit of data science capabilities, and in this tutorial, we will showcase how to use featurizer to run a few popular algorithms as an example."
   ]
  },
  {
   "cell_type": "code",
   "execution_count": 9,
   "metadata": {},
   "outputs": [
    {
     "name": "stdout",
     "output_type": "stream",
     "text": [
      "Available algorithms for Embeddings:\n",
      "  FastRP:\n",
      "    01. name: tg_fastRP\n",
      "Call runAlgorithm() with the algorithm name to execute it\n"
     ]
    }
   ],
   "source": [
    "feat.listAlgorithms(\"Embeddings\")"
   ]
  },
  {
   "cell_type": "markdown",
   "metadata": {
    "tags": []
   },
   "source": [
    "### Install and run fastRP algorithm \n",
    "\n",
    "Fast Random Projection (FastRP) is a scalable and performant node-embedding algorithm. It generates node embeddings (vectors) of low dimensionality through random projections from the graph’s adjacency matrix (a high-dimensional matrix) to a low-dimensional matrix, significantly reducing the computing power required to process the data. (https://docs.tigergraph.com/graph-ml/current/node-embeddings/fast-random-projection)"
   ]
  },
  {
   "cell_type": "code",
   "execution_count": 10,
   "metadata": {},
   "outputs": [
    {
     "data": {
      "text/plain": [
       "\"\\n# workaround via specifying an invalid value first\\n%config Application.log_level='WORKAROUND'\\n# => fails, necessary on Fedora 27, ipython3 6.2.1\\n%config Application.log_level='DEBUG'\\nimport logging\\nlogging.getLogger().setLevel(logging.DEBUG)\\nlog = logging.getLogger()\\nlog.debug('Test debug')\\n\""
      ]
     },
     "execution_count": 10,
     "metadata": {},
     "output_type": "execute_result"
    }
   ],
   "source": [
    "'''\n",
    "# workaround via specifying an invalid value first\n",
    "%config Application.log_level='WORKAROUND'\n",
    "# => fails, necessary on Fedora 27, ipython3 6.2.1\n",
    "%config Application.log_level='DEBUG'\n",
    "import logging\n",
    "logging.getLogger().setLevel(logging.DEBUG)\n",
    "log = logging.getLogger()\n",
    "log.debug('Test debug')\n",
    "'''"
   ]
  },
  {
   "cell_type": "code",
   "execution_count": 11,
   "metadata": {
    "tags": []
   },
   "outputs": [
    {
     "data": {
      "text/plain": [
       "[{'@@embedding_dim_map': {'default': {'min_dim': 0,\n",
       "    'max_dim': 128,\n",
       "    'weight': 1}}},\n",
       " {'sample_verts': []}]"
      ]
     },
     "execution_count": 11,
     "metadata": {},
     "output_type": "execute_result"
    }
   ],
   "source": [
    "params={\"v_type\": [\"Paper\"],\n",
    "        \"e_type\": [\"Cite\"],\n",
    "        \"output_v_type\": [\"Paper\"],\n",
    "        \"iteration_weights\": \"1,2,4\",\n",
    "        \"beta\": -0.1,\n",
    "        \"embedding_dimension\": 128,\n",
    "        \"embedding_dim_map\": [],\n",
    "        \"default_length\": 128,\n",
    "        \"sampling_constant\": 3,\n",
    "        \"random_seed\": 42,\n",
    "        \"component_attribute\": \"\",\n",
    "        \"result_attribute\": \"embedding\",\n",
    "        \"choose_k\": 0}\n",
    "\n",
    "conn.runInstalledQuery(\"tg_fastRP\", params=params, usePost=True)"
   ]
  },
  {
   "cell_type": "code",
   "execution_count": 12,
   "metadata": {},
   "outputs": [],
   "source": [
    "df = conn.getVertexDataFrame(\"Paper\")"
   ]
  },
  {
   "cell_type": "code",
   "execution_count": 13,
   "metadata": {},
   "outputs": [
    {
     "data": {
      "text/html": [
       "<div>\n",
       "<style scoped>\n",
       "    .dataframe tbody tr th:only-of-type {\n",
       "        vertical-align: middle;\n",
       "    }\n",
       "\n",
       "    .dataframe tbody tr th {\n",
       "        vertical-align: top;\n",
       "    }\n",
       "\n",
       "    .dataframe thead th {\n",
       "        text-align: right;\n",
       "    }\n",
       "</style>\n",
       "<table border=\"1\" class=\"dataframe\">\n",
       "  <thead>\n",
       "    <tr style=\"text-align: right;\">\n",
       "      <th></th>\n",
       "      <th>v_id</th>\n",
       "      <th>id</th>\n",
       "      <th>x</th>\n",
       "      <th>y</th>\n",
       "      <th>train_mask</th>\n",
       "      <th>val_mask</th>\n",
       "      <th>test_mask</th>\n",
       "      <th>community_id</th>\n",
       "      <th>embedding</th>\n",
       "    </tr>\n",
       "  </thead>\n",
       "  <tbody>\n",
       "    <tr>\n",
       "      <th>0</th>\n",
       "      <td>2696</td>\n",
       "      <td>2696</td>\n",
       "      <td>[0, 0, 0, 0, 0, 0, 0, 0, 0, 0, 0, 0, 0, 0, 0, ...</td>\n",
       "      <td>3</td>\n",
       "      <td>False</td>\n",
       "      <td>False</td>\n",
       "      <td>True</td>\n",
       "      <td>18874394</td>\n",
       "      <td>[0.20723, 0.0653, -0.22448, -0.00338, -0.03258...</td>\n",
       "    </tr>\n",
       "    <tr>\n",
       "      <th>1</th>\n",
       "      <td>2649</td>\n",
       "      <td>2649</td>\n",
       "      <td>[0, 0, 0, 0, 0, 0, 0, 0, 0, 0, 0, 0, 0, 0, 0, ...</td>\n",
       "      <td>6</td>\n",
       "      <td>False</td>\n",
       "      <td>False</td>\n",
       "      <td>True</td>\n",
       "      <td>32505857</td>\n",
       "      <td>[0.06817, 0.09705, -0.08061, -0.17636, 0.07553...</td>\n",
       "    </tr>\n",
       "    <tr>\n",
       "      <th>2</th>\n",
       "      <td>2583</td>\n",
       "      <td>2583</td>\n",
       "      <td>[0, 0, 0, 0, 0, 0, 0, 0, 0, 0, 0, 0, 0, 0, 0, ...</td>\n",
       "      <td>4</td>\n",
       "      <td>False</td>\n",
       "      <td>False</td>\n",
       "      <td>True</td>\n",
       "      <td>28311622</td>\n",
       "      <td>[0, -0.23814, 0, 0, 0.23814, 0.23814, -0.23814...</td>\n",
       "    </tr>\n",
       "    <tr>\n",
       "      <th>3</th>\n",
       "      <td>2509</td>\n",
       "      <td>2509</td>\n",
       "      <td>[0, 1, 0, 0, 0, 0, 0, 0, 0, 0, 0, 0, 0, 0, 0, ...</td>\n",
       "      <td>3</td>\n",
       "      <td>False</td>\n",
       "      <td>False</td>\n",
       "      <td>True</td>\n",
       "      <td>32505859</td>\n",
       "      <td>[-0.23339, -0.261, 0.25222, -0.28747, -0.13489...</td>\n",
       "    </tr>\n",
       "    <tr>\n",
       "      <th>4</th>\n",
       "      <td>2486</td>\n",
       "      <td>2486</td>\n",
       "      <td>[0, 0, 0, 0, 0, 0, 0, 0, 0, 0, 0, 0, 0, 0, 0, ...</td>\n",
       "      <td>3</td>\n",
       "      <td>False</td>\n",
       "      <td>False</td>\n",
       "      <td>True</td>\n",
       "      <td>32505860</td>\n",
       "      <td>[-0.33999, 0.14004, -0.13831, -0.14725, -0.012...</td>\n",
       "    </tr>\n",
       "  </tbody>\n",
       "</table>\n",
       "</div>"
      ],
      "text/plain": [
       "   v_id    id                                                  x  y  \\\n",
       "0  2696  2696  [0, 0, 0, 0, 0, 0, 0, 0, 0, 0, 0, 0, 0, 0, 0, ...  3   \n",
       "1  2649  2649  [0, 0, 0, 0, 0, 0, 0, 0, 0, 0, 0, 0, 0, 0, 0, ...  6   \n",
       "2  2583  2583  [0, 0, 0, 0, 0, 0, 0, 0, 0, 0, 0, 0, 0, 0, 0, ...  4   \n",
       "3  2509  2509  [0, 1, 0, 0, 0, 0, 0, 0, 0, 0, 0, 0, 0, 0, 0, ...  3   \n",
       "4  2486  2486  [0, 0, 0, 0, 0, 0, 0, 0, 0, 0, 0, 0, 0, 0, 0, ...  3   \n",
       "\n",
       "   train_mask  val_mask  test_mask  community_id  \\\n",
       "0       False     False       True      18874394   \n",
       "1       False     False       True      32505857   \n",
       "2       False     False       True      28311622   \n",
       "3       False     False       True      32505859   \n",
       "4       False     False       True      32505860   \n",
       "\n",
       "                                           embedding  \n",
       "0  [0.20723, 0.0653, -0.22448, -0.00338, -0.03258...  \n",
       "1  [0.06817, 0.09705, -0.08061, -0.17636, 0.07553...  \n",
       "2  [0, -0.23814, 0, 0, 0.23814, 0.23814, -0.23814...  \n",
       "3  [-0.23339, -0.261, 0.25222, -0.28747, -0.13489...  \n",
       "4  [-0.33999, 0.14004, -0.13831, -0.14725, -0.012...  "
      ]
     },
     "execution_count": 13,
     "metadata": {},
     "output_type": "execute_result"
    }
   ],
   "source": [
    "df.head()"
   ]
  },
  {
   "cell_type": "code",
   "execution_count": 14,
   "metadata": {},
   "outputs": [
    {
     "data": {
      "text/plain": [
       "community_id\n",
       "1               1925\n",
       "2                314\n",
       "3                 29\n",
       "4                  7\n",
       "5                  3\n",
       "12                 1\n",
       "13                 1\n",
       "dtype: int64"
      ]
     },
     "execution_count": 14,
     "metadata": {},
     "output_type": "execute_result"
    }
   ],
   "source": [
    "import pandas as pd\n",
    "\n",
    "pd.DataFrame(df['community_id'].value_counts()).value_counts().sort_index()"
   ]
  },
  {
   "cell_type": "markdown",
   "metadata": {},
   "source": [
    "### Compute intra- and inter-communities similarities for FastRP embeddings using Louvain Communities"
   ]
  },
  {
   "cell_type": "code",
   "execution_count": 15,
   "metadata": {},
   "outputs": [
    {
     "name": "stdout",
     "output_type": "stream",
     "text": [
      "***Community Detection ID: community_id***\n",
      "\n",
      "Intra-community similarities:\n",
      "\n",
      "Community: 0\n",
      "Number of members in community: 13\n",
      "Mean intra-community similarity: 0.9956323966348748\n",
      "Std. Dev. of intra-community similarity: 0.010735482595663044\n",
      "\n",
      "Community: 1\n",
      "Number of members in community: 12\n",
      "Mean intra-community similarity: 0.9971309685016971\n",
      "Std. Dev. of intra-community similarity: 0.006756221685053729\n",
      "\n",
      "Community: 2\n",
      "Number of members in community: 5\n",
      "Mean intra-community similarity: 0.9981315169978298\n",
      "Std. Dev. of intra-community similarity: 0.002723758625497433\n",
      "\n",
      "Community: 3\n",
      "Number of members in community: 5\n",
      "Mean intra-community similarity: 0.9962851172553873\n",
      "Std. Dev. of intra-community similarity: 0.00541532564470582\n",
      "\n",
      "Community: 4\n",
      "Number of members in community: 5\n",
      "Mean intra-community similarity: 0.9886464492266961\n",
      "Std. Dev. of intra-community similarity: 0.016550502098705008\n",
      "\n",
      "Inter-community similarities:\n",
      "\n",
      "Communities: 0-1\n",
      "Mean inter-community similarity: -0.05688276737496215\n",
      "Std. Dev. of intra-community similarity: 0.006461239825340213\n",
      "\n",
      "Communities: 1-2\n",
      "Mean inter-community similarity: -0.022461945874477092\n",
      "Std. Dev. of intra-community similarity: 0.003462262998691436\n",
      "\n",
      "Communities: 2-3\n",
      "Mean inter-community similarity: 0.11948730879463479\n",
      "Std. Dev. of intra-community similarity: 0.0020275469574939056\n",
      "\n",
      "Communities: 3-4\n",
      "Mean inter-community similarity: -0.06213485849315156\n",
      "Std. Dev. of intra-community similarity: 0.02364271905408149\n",
      "\n"
     ]
    }
   ],
   "source": [
    "import numpy as np\n",
    "from sklearn.metrics.pairwise import cosine_similarity\n",
    "\n",
    "cnt = 5\n",
    "comms_list = ['community_id']\n",
    "\n",
    "for comm in comms_list:\n",
    "    print(f\"***Community Detection ID: {comm}***\\n\")\n",
    "    \n",
    "    comm_embs = None\n",
    "    print(\"Intra-community similarities:\\n\")\n",
    "\n",
    "    for i, c_id in enumerate(df[comm].value_counts().head(cnt).index):\n",
    "        community = df[df[comm] == c_id]\n",
    "        comm_embs = np.stack(community[\"embedding\"].values)\n",
    "        similarities = cosine_similarity(comm_embs)\n",
    "        print(f\"Community: {i}\")\n",
    "        print(f\"Number of members in community: {len(comm_embs)}\")\n",
    "        print(f\"Mean intra-community similarity: {similarities.mean()}\")\n",
    "        print(f\"Std. Dev. of intra-community similarity: {np.std(similarities)}\")\n",
    "        print()\n",
    "\n",
    "    print(\"Inter-community similarities:\\n\")\n",
    "\n",
    "    for i, c_id in enumerate(df[comm].value_counts().head(cnt).index):\n",
    "        community = df[df[comm] == c_id]\n",
    "        comm_embs_comp = comm_embs\n",
    "        comm_embs = np.stack(community[\"embedding\"].values)\n",
    "\n",
    "        if i >= 1:\n",
    "            similarities = cosine_similarity(comm_embs_comp, comm_embs)\n",
    "            print(f\"Communities: {i-1}-{i}\")\n",
    "            print(f\"Mean inter-community similarity: {similarities.mean()}\")\n",
    "            print(f\"Std. Dev. of intra-community similarity: {np.std(similarities)}\")\n",
    "            print()"
   ]
  },
  {
   "cell_type": "code",
   "execution_count": 16,
   "metadata": {},
   "outputs": [],
   "source": [
    "# Grab embeddings for Louvain Communities\n",
    "\n",
    "c_id0 = df[\"community_id\"].value_counts().head(25).index[0]\n",
    "c_id1 = df[\"community_id\"].value_counts().head(25).index[1]\n",
    "c_id2 = df[\"community_id\"].value_counts().head(25).index[2]\n",
    "c_id3 = df[\"community_id\"].value_counts().head(25).index[3]\n",
    "c_id4 = df[\"community_id\"].value_counts().head(25).index[4]\n",
    "\n",
    "community0 = df[df[\"community_id\"] == c_id0]\n",
    "comm_embs0 = np.stack(community0[\"embedding\"].values)\n",
    "\n",
    "community1 = df[df[\"community_id\"] == c_id1]\n",
    "comm_embs1 = np.stack(community1[\"embedding\"].values)\n",
    "\n",
    "community2 = df[df[\"community_id\"] == c_id2]\n",
    "comm_embs2 = np.stack(community2[\"embedding\"].values)\n",
    "\n",
    "community3 = df[df[\"community_id\"] == c_id3]\n",
    "comm_embs3 = np.stack(community3[\"embedding\"].values)\n",
    "\n",
    "community4 = df[df[\"community_id\"] == c_id4]\n",
    "comm_embs4 = np.stack(community4[\"embedding\"].values)\n",
    "\n",
    "X = np.vstack((comm_embs0, comm_embs1, comm_embs2, comm_embs3, comm_embs4))\n",
    "\n",
    "y0 = np.ones((comm_embs0.shape[0])) * 0\n",
    "y1 = np.ones((comm_embs1.shape[0])) * 1\n",
    "y2 = np.ones((comm_embs2.shape[0])) * 2\n",
    "y3 = np.ones((comm_embs3.shape[0])) * 3\n",
    "y4 = np.ones((comm_embs4.shape[0])) * 4\n",
    "y = np.hstack((y0,y1,y2,y3,y4))"
   ]
  },
  {
   "cell_type": "markdown",
   "metadata": {},
   "source": [
    "### Plot embeddings in 2D space"
   ]
  },
  {
   "cell_type": "code",
   "execution_count": 17,
   "metadata": {},
   "outputs": [
    {
     "name": "stdout",
     "output_type": "stream",
     "text": [
      "Requirement already satisfied: umap in /opt/conda/lib/python3.9/site-packages (0.1.1)\n",
      "Requirement already satisfied: umap-learn in /opt/conda/lib/python3.9/site-packages (0.5.3)\n",
      "Requirement already satisfied: numpy>=1.17 in /opt/conda/lib/python3.9/site-packages (from umap-learn) (1.23.0)\n",
      "Requirement already satisfied: pynndescent>=0.5 in /opt/conda/lib/python3.9/site-packages (from umap-learn) (0.5.8)\n",
      "Requirement already satisfied: numba>=0.49 in /opt/conda/lib/python3.9/site-packages (from umap-learn) (0.56.4)\n",
      "Requirement already satisfied: tqdm in /opt/conda/lib/python3.9/site-packages (from umap-learn) (4.64.1)\n",
      "Requirement already satisfied: scipy>=1.0 in /opt/conda/lib/python3.9/site-packages (from umap-learn) (1.9.1)\n",
      "Requirement already satisfied: scikit-learn>=0.22 in /opt/conda/lib/python3.9/site-packages (from umap-learn) (1.1.2)\n",
      "Requirement already satisfied: setuptools in /opt/conda/lib/python3.9/site-packages (from numba>=0.49->umap-learn) (65.5.1)\n",
      "Requirement already satisfied: llvmlite<0.40,>=0.39.0dev0 in /opt/conda/lib/python3.9/site-packages (from numba>=0.49->umap-learn) (0.39.1)\n",
      "Requirement already satisfied: joblib>=0.11 in /opt/conda/lib/python3.9/site-packages (from pynndescent>=0.5->umap-learn) (1.2.0)\n",
      "Requirement already satisfied: threadpoolctl>=2.0.0 in /opt/conda/lib/python3.9/site-packages (from scikit-learn>=0.22->umap-learn) (3.1.0)\n",
      "Requirement already satisfied: seaborn in /opt/conda/lib/python3.9/site-packages (0.12.0)\n",
      "Requirement already satisfied: pandas>=0.25 in /opt/conda/lib/python3.9/site-packages (from seaborn) (1.5.0)\n",
      "Requirement already satisfied: numpy>=1.17 in /opt/conda/lib/python3.9/site-packages (from seaborn) (1.23.0)\n",
      "Requirement already satisfied: matplotlib>=3.1 in /opt/conda/lib/python3.9/site-packages (from seaborn) (3.5.3)\n",
      "Requirement already satisfied: pillow>=6.2.0 in /opt/conda/lib/python3.9/site-packages (from matplotlib>=3.1->seaborn) (9.2.0)\n",
      "Requirement already satisfied: fonttools>=4.22.0 in /opt/conda/lib/python3.9/site-packages (from matplotlib>=3.1->seaborn) (4.38.0)\n",
      "Requirement already satisfied: packaging>=20.0 in /opt/conda/lib/python3.9/site-packages (from matplotlib>=3.1->seaborn) (21.3)\n",
      "Requirement already satisfied: pyparsing>=2.2.1 in /opt/conda/lib/python3.9/site-packages (from matplotlib>=3.1->seaborn) (3.0.9)\n",
      "Requirement already satisfied: cycler>=0.10 in /opt/conda/lib/python3.9/site-packages (from matplotlib>=3.1->seaborn) (0.11.0)\n",
      "Requirement already satisfied: kiwisolver>=1.0.1 in /opt/conda/lib/python3.9/site-packages (from matplotlib>=3.1->seaborn) (1.4.4)\n",
      "Requirement already satisfied: python-dateutil>=2.7 in /opt/conda/lib/python3.9/site-packages (from matplotlib>=3.1->seaborn) (2.8.2)\n",
      "Requirement already satisfied: pytz>=2020.1 in /opt/conda/lib/python3.9/site-packages (from pandas>=0.25->seaborn) (2022.6)\n",
      "Requirement already satisfied: six>=1.5 in /opt/conda/lib/python3.9/site-packages (from python-dateutil>=2.7->matplotlib>=3.1->seaborn) (1.16.0)\n"
     ]
    }
   ],
   "source": [
    "!pip install umap\n",
    "!pip install umap-learn\n",
    "!pip install seaborn"
   ]
  },
  {
   "cell_type": "code",
   "execution_count": 18,
   "metadata": {},
   "outputs": [],
   "source": [
    "import umap.umap_ as umap\n",
    "\n",
    "embd_x = umap.UMAP().fit_transform(X)"
   ]
  },
  {
   "cell_type": "code",
   "execution_count": 19,
   "metadata": {},
   "outputs": [
    {
     "data": {
      "image/png": "[encoded data removed]",
      "text/plain": [
       "<Figure size 800x800 with 1 Axes>"
      ]
     },
     "metadata": {},
     "output_type": "display_data"
    }
   ],
   "source": [
    "import matplotlib.pyplot as plt\n",
    "import seaborn as sns\n",
    "fig, axs = plt.subplots(nrows=1, ncols=1, figsize=(8,8))\n",
    "sns.set(font_scale=1)\n",
    "\n",
    "palette = {}\n",
    "for n, i in enumerate(set([0, 1, 2, 3, 4])):\n",
    "    palette[i] = f'C{n}'\n",
    "    \n",
    "sns.scatterplot(ax=axs, x=embd_x.T[0], y=embd_x.T[1], hue=y, palette=palette)\n",
    "axs.get_legend().remove()\n",
    "plt.title(\"FastRP Embeddings for 5 Largest Louvain Communities\", fontsize=18)\n",
    "\n",
    "plt.show()"
   ]
  },
  {
   "cell_type": "code",
   "execution_count": null,
   "metadata": {},
   "outputs": [],
   "source": []
  }
 ],
 "metadata": {
  "kernelspec": {
   "display_name": "PyTorch",
   "language": "python",
   "name": "python3"
  },
  "language_info": {
   "codemirror_mode": {
    "name": "ipython",
    "version": 3
   },
   "file_extension": ".py",
   "mimetype": "text/x-python",
   "name": "python",
   "nbconvert_exporter": "python",
   "pygments_lexer": "ipython3",
   "version": "3.9.12"
  },
  "vscode": {
   "interpreter": {
    "hash": "90d6c93474222cb78a3df501c82ec4449f5717293aebbaa3deb6ac807c305b50"
   }
  }
 },
 "nbformat": 4,
 "nbformat_minor": 4
}
