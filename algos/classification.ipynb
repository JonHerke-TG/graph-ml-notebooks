{
 "cells": [
  {
   "cell_type": "markdown",
   "id": "aaed7b39-e90c-4a3a-b09f-7b827bbd1f19",
   "metadata": {},
   "source": [
    "# TigerGraph Data Science Library 101 - Classification Algorithm\n",
    "This notebook shows the examples of using the most common classification algorithms in TigerGraph Graph Science Library. More detailed explanations of these algorithms can be found in the official documentation (https://docs.tigergraph.com/graph-ml/current/classification-algorithms/).\n",
    "\n",
    "\n",
    "## Step1: Setting things up\n",
    "- Connect and Load data\n",
    "- Visualize the graph schema \n",
    "- Get basic stats, e.g., counts of nodes & edges"
   ]
  },
  {
   "cell_type": "markdown",
   "id": "11c2b6c3-c501-48d1-877c-6b46cf46f0e9",
   "metadata": {},
   "source": [
    "### Create connection"
   ]
  },
  {
   "cell_type": "code",
   "execution_count": 1,
   "id": "adb48891-b5cb-4660-9c61-6c1c61d1f89b",
   "metadata": {},
   "outputs": [],
   "source": [
    "import json\n",
    "import pandas as pd\n",
    "from pyTigerGraph import TigerGraphConnection\n",
    "from pyTigerGraph.datasets import Datasets\n",
    "from pyTigerGraph.visualization import drawSchema\n",
    "\n",
    "# Read in DB configs\n",
    "with open('../config.json', \"r\") as config_file:\n",
    "    config = json.load(config_file)\n",
    "\n",
    "conn = TigerGraphConnection(\n",
    "    host=config[\"host\"],\n",
    "    username=config[\"username\"],\n",
    "    password=config[\"password\"],\n",
    ")"
   ]
  },
  {
   "cell_type": "markdown",
   "id": "320ff330-d943-42f4-a4ab-7d5a03edc338",
   "metadata": {},
   "source": [
    "### Download movie dataset"
   ]
  },
  {
   "cell_type": "code",
   "execution_count": 2,
   "id": "72857d04-626a-4e79-9815-3f71fe1d2a16",
   "metadata": {},
   "outputs": [
    {
     "data": {
      "application/vnd.jupyter.widget-view+json": {
       "model_id": "70a1ae0867b4479481f278b53b4d2eb5",
       "version_major": 2,
       "version_minor": 0
      },
      "text/plain": [
       "Downloading:   0%|          | 0/2623 [00:00<?, ?it/s]"
      ]
     },
     "metadata": {},
     "output_type": "display_data"
    }
   ],
   "source": [
    "dataset_movie = Datasets(\"movie\")"
   ]
  },
  {
   "cell_type": "markdown",
   "id": "2b6d458c-effe-498a-bd62-eb17acadc77e",
   "metadata": {},
   "source": [
    "### Ingest data"
   ]
  },
  {
   "cell_type": "code",
   "execution_count": 3,
   "id": "5163ed31-a11b-462a-9739-04068ab4980c",
   "metadata": {},
   "outputs": [
    {
     "name": "stdout",
     "output_type": "stream",
     "text": [
      "---- Checking database ----\n",
      "---- Creating graph ----\n",
      "The graph movie is created.\n",
      "---- Creating schema ----\n",
      "Using graph 'movie'\n",
      "Successfully created schema change jobs: [movie_schema].\n",
      "Kick off schema change job movie_schema\n",
      "Doing schema change on graph 'movie' (current version: 0)\n",
      "Trying to add local vertex 'Person' to the graph 'movie'.\n",
      "Trying to add local vertex 'Movie' to the graph 'movie'.\n",
      "Trying to add local edge 'Likes' and its reverse edge 'reverse_Likes' to the graph 'movie'.\n",
      "Trying to add local edge 'Similarity' to the graph 'movie'.\n",
      "\n",
      "Graph movie updated to new version 1\n",
      "The job movie_schema completes in 1.336 seconds!\n",
      "---- Creating loading job ----\n",
      "Using graph 'movie'\n",
      "Successfully created loading jobs: [load_movie].\n",
      "---- Ingesting data ----\n",
      "[[{'sourceFileName': 'Online_POST', 'statistics': {'validLine': 16, 'rejectLine': 0, 'failedConditionLine': 0, 'notEnoughToken': 0, 'invalidJson': 0, 'oversizeToken': 0, 'vertex': [{'typeName': 'Person', 'validObject': 16, 'noIdFound': 0, 'invalidAttribute': 0, 'invalidVertexType': 0, 'invalidPrimaryId': 0, 'invalidSecondaryId': 0, 'incorrectFixedBinaryLength': 0}, {'typeName': 'Movie', 'validObject': 16, 'noIdFound': 0, 'invalidAttribute': 0, 'invalidVertexType': 0, 'invalidPrimaryId': 0, 'invalidSecondaryId': 0, 'incorrectFixedBinaryLength': 0}], 'edge': [{'typeName': 'Likes', 'validObject': 15, 'noIdFound': 0, 'invalidAttribute': 1, 'invalidAttributeLines': ['1:weight'], 'invalidAttributeLinesData': ['Person,Score,Movie,Label\\n'], 'invalidVertexType': 0, 'invalidPrimaryId': 0, 'invalidSecondaryId': 0, 'incorrectFixedBinaryLength': 0}], 'deleteVertex': [], 'deleteEdge': []}}]]\n",
      "---- Cleaning ----\n",
      "---- Finished ingestion ----\n"
     ]
    }
   ],
   "source": [
    "conn.ingestDataset(dataset_movie, getToken=config[\"getToken\"])"
   ]
  },
  {
   "cell_type": "markdown",
   "id": "214cc67b-8fd1-4e94-8673-ba6f18239381",
   "metadata": {},
   "source": [
    "### Visualize schema"
   ]
  },
  {
   "cell_type": "code",
   "execution_count": 5,
   "id": "b69b0e67-d7e6-4727-9c66-0c3e74adbe54",
   "metadata": {},
   "outputs": [
    {
     "data": {
      "application/vnd.jupyter.widget-view+json": {
       "model_id": "66c918ae74cc460790fa410d4eb5de44",
       "version_major": 2,
       "version_minor": 0
      },
      "text/plain": [
       "CytoscapeWidget(cytoscape_layout={'name': 'circle', 'animate': True, 'padding': 1}, cytoscape_style=[{'selecto…"
      ]
     },
     "execution_count": 5,
     "metadata": {},
     "output_type": "execute_result"
    }
   ],
   "source": [
    "drawSchema(conn.getSchema(force=True))"
   ]
  },
  {
   "cell_type": "markdown",
   "id": "340d88d3-4487-4054-86f8-6a68be98d260",
   "metadata": {},
   "source": [
    "### Print graph stats"
   ]
  },
  {
   "cell_type": "code",
   "execution_count": 6,
   "id": "1fbf8481-09a0-4c19-a6e7-963888476b78",
   "metadata": {},
   "outputs": [
    {
     "name": "stdout",
     "output_type": "stream",
     "text": [
      "Node count: (Person : 7) \n",
      "Node count: (Movie : 9) \n",
      "Total node count:  16\n"
     ]
    }
   ],
   "source": [
    "vertices = conn.getVertexTypes()\n",
    "total_count = 0\n",
    "for vertex in vertices:\n",
    "    vertex_cnt = conn.getVertexCount(vertex)\n",
    "    total_count += vertex_cnt\n",
    "    print(\"Node count: ({} : {}) \".format(vertex, vertex_cnt))\n",
    "print(\"Total node count: \", total_count)"
   ]
  },
  {
   "cell_type": "code",
   "execution_count": 7,
   "id": "9a45cb56-989b-47dc-bb0b-49044e769340",
   "metadata": {},
   "outputs": [
    {
     "name": "stdout",
     "output_type": "stream",
     "text": [
      "Edges count: total  8\n",
      "{'Likes': 2, 'Similarity': 0, 'reverse_Likes': 6}\n"
     ]
    }
   ],
   "source": [
    "import pprint\n",
    "edge_count = conn.getEdgeCount()\n",
    "print(\"Edges count: total \", sum(edge_count.values()))\n",
    "pprint.pprint(edge_count) "
   ]
  },
  {
   "cell_type": "markdown",
   "id": "8769620a-62f8-4756-8407-d1bba8e06032",
   "metadata": {},
   "source": [
    "## Step 2: Leveraging pyTigerGraph’s featurizer to run Classification algorithms\n",
    "\n",
    "pyTigerGraph provides a full suit of data science capabilities, and in this tutorial, we will showcase how to use featurizer to list out all available Classification algorithms in our GDS library, and to run a few popular algorithms as an example."
   ]
  },
  {
   "cell_type": "code",
   "execution_count": 8,
   "id": "ca1699c6-cae2-441c-8e84-cde9e9e433db",
   "metadata": {},
   "outputs": [],
   "source": [
    "feat = conn.gds.featurizer()"
   ]
  },
  {
   "cell_type": "code",
   "execution_count": 9,
   "id": "3bc5adc5-f933-43ee-984f-534a74eaacc7",
   "metadata": {},
   "outputs": [
    {
     "name": "stdout",
     "output_type": "stream",
     "text": [
      "Available algorithms for Classification:\n",
      "  greedy_graph_coloring:\n",
      "    01. name: tg_greedy_graph_coloring\n",
      "  k_nearest_neighbors:\n",
      "    all_pairs:\n",
      "      02. name: tg_knn_cosine_all\n",
      "    cross_validation:\n",
      "      03. name: tg_knn_cosine_cv\n",
      "    single_source:\n",
      "      04. name: tg_knn_cosine_ss\n",
      "  maximal_independent_set:\n",
      "    deterministic:\n",
      "      05. name: tg_maximal_indep_set\n",
      "    random:\n",
      "      06. name: tg_maximal_indep_set_random\n",
      "Call runAlgorithm() with the algorithm name to execute it\n"
     ]
    }
   ],
   "source": [
    "feat.listAlgorithms(\"Classification\")"
   ]
  },
  {
   "cell_type": "markdown",
   "id": "9664e7b8-8d23-47ad-9c12-bd5dff76d667",
   "metadata": {},
   "source": [
    "## tg_knn_cosine_ss\n",
    "\n",
    "The k-Nearest Neighbors (kNN) algorithm is one of the simplest classification algorithms. It assumes that some or all the vertices in the graph have already been classified. The classification is stored as an attribute called the label. The goal is to predict the label of a given vertex, by seeing what are the labels of the nearest vertices.\n",
    "\n",
    "Given a source vertex in the dataset and a positive integer k, the algorithm calculates the distance between this vertex and all other vertices and selects the k vertices that are nearest. The prediction of the label of this node is the majority label among its k-nearest neighbors. (https://docs.tigergraph.com/graph-ml/current/classification-algorithms/k-nearest-neighbors)"
   ]
  },
  {
   "cell_type": "markdown",
   "id": "13bdece2-5ffb-4b19-8b22-dbc2fec88d83",
   "metadata": {},
   "source": [
    "## Input Parameters\n",
    "\n",
    "* VERTEX source: The vertex which you want to predict the label (id, type)\n",
    "* SET<STRING> v_type_set: Vertex types to calculate distance to source vertex for\n",
    "* SET<STRING> e_type_set: Edge types to traverse\n",
    "* SET<STRING> reverse_e_type_set: Reverse edge types to traverse\n",
    "* STRING weight_attribute: Edge attribute to use as the weight of the edge\n",
    "* STRING label: Vertex attribute to recognize as the label of the vertex\n",
    "* INT top_k: number of nearest neighbors to consider\n",
    "* BOOL print_results: Boolean value that indicates whether to output to console in JSON\n",
    "* STRING filepath: If provided, the algorithm will output to this file path in CSV format\n",
    "* STRING result_attribute: Vertex attribute to save the predicted label as."
   ]
  },
  {
   "cell_type": "code",
   "execution_count": 14,
   "id": "5ea1a57a-c898-4149-af69-d61a2f732c1a",
   "metadata": {},
   "outputs": [],
   "source": [
    "params = {\n",
    "    \"source\": (\"Neil\", \"Person\"),\n",
    "    \"v_type_set\": \"Person\",\n",
    "    \"e_type_set\": \"Likes\",\n",
    "    \"reverse_e_type_set\": \"reverse_Likes\",\n",
    "    \"weight_attribute\": \"weight\",\n",
    "    \"label\": \"known_label\",\n",
    "    \"top_k\": 5,\n",
    "    \"print_results\": True,\n",
    "    \"file_path\": \"\",\n",
    "    \"result_attribute\": \"predicted_label\"\n",
    "}\n",
    "\n",
    "results = feat.runAlgorithm(\"tg_knn_cosine_ss\", params=params)"
   ]
  },
  {
   "cell_type": "markdown",
   "id": "ebf69b70-9885-4fa4-9561-56576a535efa",
   "metadata": {},
   "source": [
    "## Results \n",
    "\n",
    "We then run kNN, using Neil as the source person and k=3, the persons with the top 3 similarity score: Kat: 0.67509, Jing: 0.46377, Kevin: 0.42436, both of Kat and Kevin have label a."
   ]
  },
  {
   "cell_type": "code",
   "execution_count": 15,
   "id": "340993dc-57f6-4639-8e29-ded24b78f3b0",
   "metadata": {},
   "outputs": [
    {
     "data": {
      "text/html": [
       "<div>\n",
       "<style scoped>\n",
       "    .dataframe tbody tr th:only-of-type {\n",
       "        vertical-align: middle;\n",
       "    }\n",
       "\n",
       "    .dataframe tbody tr th {\n",
       "        vertical-align: top;\n",
       "    }\n",
       "\n",
       "    .dataframe thead th {\n",
       "        text-align: right;\n",
       "    }\n",
       "</style>\n",
       "<table border=\"1\" class=\"dataframe\">\n",
       "  <thead>\n",
       "    <tr style=\"text-align: right;\">\n",
       "      <th></th>\n",
       "      <th>predicted_label</th>\n",
       "    </tr>\n",
       "  </thead>\n",
       "  <tbody>\n",
       "    <tr>\n",
       "      <th>0</th>\n",
       "      <td>a</td>\n",
       "    </tr>\n",
       "  </tbody>\n",
       "</table>\n",
       "</div>"
      ],
      "text/plain": [
       "  predicted_label\n",
       "0               a"
      ]
     },
     "metadata": {},
     "output_type": "display_data"
    }
   ],
   "source": [
    "df_knn_cosine_ss = pd.json_normalize(results)\n",
    "display(df_knn_cosine_ss)"
   ]
  },
  {
   "cell_type": "markdown",
   "id": "1658ec72-2ad7-4279-bcdf-ef9288f9654d",
   "metadata": {},
   "source": [
    "## tg_knn_cosine_all\n",
    "\n",
    "This algorithm is a batch version of the k-Nearest Neighbors, Cosine Neighbor Similarity, single vertex. It makes a prediction for every vertex whose label is not known (i.e., the attribute for the known label is empty), based on its k nearest neighbors' labels.(https://docs.tigergraph.com/graph-ml/current/classification-algorithms/k-nearest-neighbors-batch)"
   ]
  },
  {
   "cell_type": "markdown",
   "id": "54679da6-2aa0-413d-9752-39397c30e8c6",
   "metadata": {},
   "source": [
    "## Input Parameters\n",
    "\n",
    "* SET<STRING> v_type_set: Vertex types to calculate distance to source vertex for\n",
    "* SET<STRING> e_type_set: Edge types to traverse\n",
    "* SET<STRING> reverse_e_type_set: Reverse edge types to traverse\n",
    "* STRING weight_attribute: Edge attribute to use as the weight of the edge\n",
    "* STRING label: Vertex attribute to recognize as the label of the vertex\n",
    "* INT top_k: number of nearest neighbors to consider\n",
    "* BOOL print_results: Boolean value that indicates whether to output to console in JSON\n",
    "* STRING filepath: If provided, the algorithm will output to this file path in CSV format\n",
    "* STRING result_attribute: Vertex attribute to save the predicted label as."
   ]
  },
  {
   "cell_type": "code",
   "execution_count": 18,
   "id": "754253c7-0c84-488d-afeb-cd30fb6e6a56",
   "metadata": {},
   "outputs": [],
   "source": [
    "params = {\n",
    "    \"v_type_set\": \"Person\",\n",
    "    \"e_type_set\": \"Likes\",\n",
    "    \"reverse_e_type_set\": \"reverse_Likes\",\n",
    "    \"weight_attribute\": \"weight\",\n",
    "    \"label\": \"known_label\",\n",
    "    \"top_k\": 3,\n",
    "    \"print_results\": True,\n",
    "    \"file_path\": \"\",\n",
    "    \"result_attribute\": \"predicted_label\"\n",
    "}\n",
    "\n",
    "results = feat.runAlgorithm(\"tg_knn_cosine_all\", params=params)"
   ]
  },
  {
   "cell_type": "markdown",
   "id": "c74dee1f-a0b5-4405-9fcb-900d6771e8dc",
   "metadata": {},
   "source": [
    "## Results \n",
    "\n",
    "The predicted label for the vertices whose label attribute is empty.\n",
    "\n",
    "For the movie graph shown in the single vertex version, run knn_cosine_all, using topK=3. Then you get the following result:"
   ]
  },
  {
   "cell_type": "code",
   "execution_count": 19,
   "id": "b5252f06-4452-4615-a842-4b3884bbbceb",
   "metadata": {},
   "outputs": [
    {
     "data": {
      "text/html": [
       "<div>\n",
       "<style scoped>\n",
       "    .dataframe tbody tr th:only-of-type {\n",
       "        vertical-align: middle;\n",
       "    }\n",
       "\n",
       "    .dataframe tbody tr th {\n",
       "        vertical-align: top;\n",
       "    }\n",
       "\n",
       "    .dataframe thead th {\n",
       "        text-align: right;\n",
       "    }\n",
       "</style>\n",
       "<table border=\"1\" class=\"dataframe\">\n",
       "  <thead>\n",
       "    <tr style=\"text-align: right;\">\n",
       "      <th></th>\n",
       "      <th>v_id</th>\n",
       "      <th>v_type</th>\n",
       "      <th>attributes.name</th>\n",
       "      <th>attributes.known_label</th>\n",
       "      <th>attributes.predicted_label</th>\n",
       "      <th>attributes.@sum_predicted_label</th>\n",
       "    </tr>\n",
       "  </thead>\n",
       "  <tbody>\n",
       "    <tr>\n",
       "      <th>0</th>\n",
       "      <td>Neil</td>\n",
       "      <td>Person</td>\n",
       "      <td>Neil</td>\n",
       "      <td></td>\n",
       "      <td>b</td>\n",
       "      <td>b</td>\n",
       "    </tr>\n",
       "    <tr>\n",
       "      <th>1</th>\n",
       "      <td>Jing</td>\n",
       "      <td>Person</td>\n",
       "      <td>Jing</td>\n",
       "      <td></td>\n",
       "      <td>a</td>\n",
       "      <td>a</td>\n",
       "    </tr>\n",
       "    <tr>\n",
       "      <th>2</th>\n",
       "      <td>Elena</td>\n",
       "      <td>Person</td>\n",
       "      <td>Elena</td>\n",
       "      <td></td>\n",
       "      <td></td>\n",
       "      <td></td>\n",
       "    </tr>\n",
       "  </tbody>\n",
       "</table>\n",
       "</div>"
      ],
      "text/plain": [
       "    v_id  v_type attributes.name attributes.known_label  \\\n",
       "0   Neil  Person            Neil                          \n",
       "1   Jing  Person            Jing                          \n",
       "2  Elena  Person           Elena                          \n",
       "\n",
       "  attributes.predicted_label attributes.@sum_predicted_label  \n",
       "0                          b                               b  \n",
       "1                          a                               a  \n",
       "2                                                             "
      ]
     },
     "metadata": {},
     "output_type": "display_data"
    }
   ],
   "source": [
    "df_knn_cosine_all = pd.json_normalize(results, record_path =['source'])\n",
    "display(df_knn_cosine_all)"
   ]
  },
  {
   "cell_type": "markdown",
   "id": "151b60c0-d323-4138-b482-4dfdba5e0d88",
   "metadata": {},
   "source": [
    "## tg_knn_cosine_cv\n",
    "\n",
    "k-Nearest Neighbors (kNN) is often used for machine learning. You can choose the value for topK based on your experience, or using cross-validation to optimize the hyperparameters. In our library, Leave-one-out cross-validation for selecting optimal k is provided. Given a k value, we run the algorithm repeatedly using every vertex with a known label as the source vertex and predict its label. We assess the accuracy of the predictions for each value of k, and then repeat for different values of k in the given range. The goal is to find the value of k with highest predicting accuracy in the given range, for that dataset. (https://docs.tigergraph.com/graph-ml/current/classification-algorithms/k-nearest-neighbors-cross-validation)"
   ]
  },
  {
   "cell_type": "markdown",
   "id": "04e31bf8-7c5e-4f82-be06-6e77e7d788ef",
   "metadata": {},
   "source": [
    "## Input Parameters\n",
    "\n",
    "* SET<STRING> v_type_set: Vertex types to calculate distance to source vertex for\n",
    "* SET<STRING> e_type_set: Edge types to traverse\n",
    "* SET<STRING> reverse_e_type_set: Reverse edge types to traverse\n",
    "* STRING weight_attribute: Edge attribute to use as the weight of the edge\n",
    "* STRING label: Vertex attribute to recognize as the label of the vertex\n",
    "* INT min_k: lower bound of k (inclusive)\n",
    "* INT max_k: upper bound of k (inclusive)"
   ]
  },
  {
   "cell_type": "code",
   "execution_count": 20,
   "id": "d6e97a6e-d992-4ff9-b1f2-a455a6a3e7c9",
   "metadata": {},
   "outputs": [
    {
     "name": "stdout",
     "output_type": "stream",
     "text": [
      "Installing and optimizing the queries, it might take a minute...\n",
      "Queries installed successfully\n",
      "Installing and optimizing the queries, it might take a minute...\n",
      "Queries installed successfully\n"
     ]
    }
   ],
   "source": [
    "params = {\n",
    "    \"v_type_set\": \"Person\",\n",
    "    \"e_type_set\": \"Likes\",\n",
    "    \"reverse_e_type_set\": \"reverse_Likes\",\n",
    "    \"weight_attribute\": \"weight\",\n",
    "    \"label\": \"known_label\",\n",
    "    \"min_k\": 2,\n",
    "    \"max_k\": 5\n",
    "}\n",
    "\n",
    "results = feat.runAlgorithm(\"tg_knn_cosine_cv\", params=params)"
   ]
  },
  {
   "cell_type": "markdown",
   "id": "d86eb595-8c15-4b44-8d83-d445da2d251b",
   "metadata": {},
   "source": [
    "## Results \n",
    "\n",
    "A list of prediction accuracy for every k value in the given range, and the value of k with the highest predicting accuracy in the given range.\n",
    "\n",
    "Run knn_cosine_cv with min_k=2, max_k = 5."
   ]
  },
  {
   "cell_type": "code",
   "execution_count": 22,
   "id": "573f554b-264c-4ab3-8315-31c06bc2802c",
   "metadata": {},
   "outputs": [
    {
     "name": "stdout",
     "output_type": "stream",
     "text": [
      "[\n",
      " {\n",
      "  \"@@correct_rate_list\": [\n",
      "   0.25,\n",
      "   0.25,\n",
      "   0.25,\n",
      "   0.25\n",
      "  ]\n",
      " },\n",
      " {\n",
      "  \"best_k\": 2\n",
      " }\n",
      "]\n"
     ]
    }
   ],
   "source": [
    "y = json.dumps(results, indent = 1)\n",
    "print (y)"
   ]
  },
  {
   "cell_type": "markdown",
   "id": "11ba6a53-cc57-4075-a9d0-5c855617badb",
   "metadata": {},
   "source": [
    "## Switch to scoial graph to showcase the rest of algorithms\n",
    "\n",
    "* Connect and Load data\n",
    "* Visualize the graph schema \n",
    "* Get basic stats, e.g., counts of nodes & edges\n"
   ]
  },
  {
   "cell_type": "markdown",
   "id": "33e9273b-1b74-4e51-8200-dbbfcb6c0f5b",
   "metadata": {},
   "source": [
    "### Download scocial dataset"
   ]
  },
  {
   "cell_type": "code",
   "execution_count": 23,
   "id": "59f6af16-4bd5-4d2d-9fee-9dc6ffe174f8",
   "metadata": {},
   "outputs": [
    {
     "data": {
      "application/vnd.jupyter.widget-view+json": {
       "model_id": "62649ec5939240a1997bae971b1122b7",
       "version_major": 2,
       "version_minor": 0
      },
      "text/plain": [
       "Downloading:   0%|          | 0/1970 [00:00<?, ?it/s]"
      ]
     },
     "metadata": {},
     "output_type": "display_data"
    }
   ],
   "source": [
    "dataset_social = Datasets(\"social\")"
   ]
  },
  {
   "cell_type": "markdown",
   "id": "311a9bf5-bd88-4153-8f3b-9afd18cd5e2a",
   "metadata": {},
   "source": [
    "### Ingest data"
   ]
  },
  {
   "cell_type": "code",
   "execution_count": 24,
   "id": "483fafc1-6396-4477-a1eb-7a2efbf5fc42",
   "metadata": {},
   "outputs": [
    {
     "name": "stdout",
     "output_type": "stream",
     "text": [
      "---- Checking database ----\n",
      "---- Creating graph ----\n",
      "The graph social is created.\n",
      "---- Creating schema ----\n",
      "Using graph 'social'\n",
      "Successfully created schema change jobs: [social_schema].\n",
      "Kick off schema change job social_schema\n",
      "Doing schema change on graph 'social' (current version: 0)\n",
      "Trying to add local vertex 'Person' to the graph 'social'.\n",
      "Trying to add local edge 'Friend' and its reverse edge 'reverse_Friend' to the graph 'social'.\n",
      "Trying to add local edge 'Coworker' to the graph 'social'.\n",
      "\n",
      "Graph social updated to new version 1\n",
      "The job social_schema completes in 1.662 seconds!\n",
      "---- Creating loading job ----\n",
      "Using graph 'social'\n",
      "Successfully created loading jobs: [load_social].\n",
      "---- Ingesting data ----\n",
      "[[{'sourceFileName': 'Online_POST', 'statistics': {'validLine': 17, 'rejectLine': 0, 'failedConditionLine': 0, 'notEnoughToken': 0, 'invalidJson': 0, 'oversizeToken': 0, 'vertex': [{'typeName': 'Person', 'validObject': 17, 'noIdFound': 0, 'invalidAttribute': 0, 'invalidVertexType': 0, 'invalidPrimaryId': 0, 'invalidSecondaryId': 0, 'incorrectFixedBinaryLength': 0}, {'typeName': 'Person', 'validObject': 15, 'noIdFound': 2, 'invalidAttribute': 0, 'invalidVertexType': 0, 'invalidPrimaryId': 0, 'invalidSecondaryId': 0, 'incorrectFixedBinaryLength': 0}], 'edge': [{'typeName': 'Friend', 'validObject': 14, 'noIdFound': 2, 'invalidAttribute': 1, 'invalidAttributeLines': ['1:weight'], 'invalidAttributeLinesData': ['source,dirTarget,undirTarget,weight,tag\\n'], 'invalidVertexType': 0, 'invalidPrimaryId': 0, 'invalidSecondaryId': 0, 'incorrectFixedBinaryLength': 0}, {'typeName': 'Coworker', 'validObject': 13, 'noIdFound': 3, 'invalidAttribute': 1, 'invalidAttributeLines': ['1:weight'], 'invalidAttributeLinesData': ['source,dirTarget,undirTarget,weight,tag\\n'], 'invalidVertexType': 0, 'invalidPrimaryId': 0, 'invalidSecondaryId': 0, 'incorrectFixedBinaryLength': 0}], 'deleteVertex': [], 'deleteEdge': []}}]]\n",
      "---- Cleaning ----\n",
      "---- Finished ingestion ----\n"
     ]
    }
   ],
   "source": [
    "conn.ingestDataset(dataset_social, getToken=config[\"getToken\"])"
   ]
  },
  {
   "cell_type": "markdown",
   "id": "9f837c69-c38b-4f3c-99b0-0b9d221a0024",
   "metadata": {},
   "source": [
    "### Connect to graph"
   ]
  },
  {
   "cell_type": "code",
   "execution_count": 25,
   "id": "58337f17-4e71-4a90-b520-65da6b6a9a64",
   "metadata": {},
   "outputs": [],
   "source": [
    "# if graph alreay exit (data injection was done in the past) \n",
    "conn.graphname = \"social\"\n",
    "if config[\"getToken\"]:  \n",
    "    conn.getToken(conn.createSecret())"
   ]
  },
  {
   "cell_type": "markdown",
   "id": "c4d107e0-09bb-4df5-94f6-19d70dd36900",
   "metadata": {},
   "source": [
    "### Visualize schema"
   ]
  },
  {
   "cell_type": "code",
   "execution_count": 26,
   "id": "218d3a2a-7e71-4aea-8ffb-a8b8d8847570",
   "metadata": {},
   "outputs": [
    {
     "data": {
      "application/vnd.jupyter.widget-view+json": {
       "model_id": "2cc011eaf1f54056b10a3799e00dafe4",
       "version_major": 2,
       "version_minor": 0
      },
      "text/plain": [
       "CytoscapeWidget(cytoscape_layout={'name': 'circle', 'animate': True, 'padding': 1}, cytoscape_style=[{'selecto…"
      ]
     },
     "execution_count": 26,
     "metadata": {},
     "output_type": "execute_result"
    }
   ],
   "source": [
    "drawSchema(conn.getSchema(force=True))"
   ]
  },
  {
   "cell_type": "markdown",
   "id": "2048f6f2-8935-487f-80a9-a6135b047cb1",
   "metadata": {},
   "source": [
    "### Print graph stats"
   ]
  },
  {
   "cell_type": "code",
   "execution_count": 27,
   "id": "8edf8704-c2aa-468b-bc95-c4dafc3e2426",
   "metadata": {},
   "outputs": [
    {
     "name": "stdout",
     "output_type": "stream",
     "text": [
      "Node count: (Person : 12) \n",
      "Total node count:  12\n"
     ]
    }
   ],
   "source": [
    "vertices = conn.getVertexTypes()\n",
    "total_count = 0\n",
    "for vertex in vertices:\n",
    "    vertex_cnt = conn.getVertexCount(vertex)\n",
    "    total_count += vertex_cnt\n",
    "    print(\"Node count: ({} : {}) \".format(vertex, vertex_cnt))\n",
    "print(\"Total node count: \", total_count)"
   ]
  },
  {
   "cell_type": "code",
   "execution_count": 28,
   "id": "cb88611c-0cde-49ee-84be-88c140050dab",
   "metadata": {},
   "outputs": [
    {
     "name": "stdout",
     "output_type": "stream",
     "text": [
      "Edges count: total  14\n",
      "{'Coworker': 4, 'Friend': 3, 'reverse_Friend': 7}\n"
     ]
    }
   ],
   "source": [
    "import pprint\n",
    "edge_count = conn.getEdgeCount()\n",
    "print(\"Edges count: total \", sum(edge_count.values()))\n",
    "pprint.pprint(edge_count) "
   ]
  },
  {
   "cell_type": "markdown",
   "id": "0be5950e-7fd6-4af6-84c9-6a9550d5f4d5",
   "metadata": {},
   "source": [
    "## tg_maximal_indep_set\n",
    "\n",
    "An independent set of vertices does not contain any pair of vertices that are neighbors, i.e., ones which have an edge between them. A maximal independent set (MIS) is the largest independent set that contains those vertices; you cannot improve upon it unless you start over with a different independent set. However, the search for the largest possible independent set is an NP-hard problem: there is no known algorithm that can find that answer in polynomial time. So we settle for the maximal independent set.\n",
    "\n",
    "This algorithm finds use in applications wanting to find the most efficient configuration which \"covers\" all the necessary cases. For example, it has been used to optimize delivery or transit routes, where each vertex is one transit segment and each edge connects two segments that can not be covered by the same vehicle.\n",
    "\n",
    "Since there could be multiple maximal independent sets, there are two versions of the Maximal Independent Set algorithm:\n",
    "\n",
    "Deterministic. The deterministic version makes sure that you get the same results every time. (https://docs.tigergraph.com/graph-ml/current/classification-algorithms/maximal-independent-set)"
   ]
  },
  {
   "cell_type": "markdown",
   "id": "c5028cc2-b67c-4648-9c7d-dd8c86335555",
   "metadata": {},
   "source": [
    "## Input Parameters\n",
    "\n",
    "* STRING v_type: Name of vertex type to use\n",
    "* STRING e_type: Name of edge type to use\n",
    "* INT maximum_iteration: maximum number of iterations for the search\n",
    "* BOOL print_results: If True, output JSON to standard output\n",
    "* STRING file_path: If not empty, write output to this file."
   ]
  },
  {
   "cell_type": "code",
   "execution_count": 29,
   "id": "8741c725-614d-45d1-8166-9d9ce3655263",
   "metadata": {},
   "outputs": [
    {
     "name": "stdout",
     "output_type": "stream",
     "text": [
      "Installing and optimizing the queries, it might take a minute...\n",
      "Queries installed successfully\n"
     ]
    }
   ],
   "source": [
    "params = {\n",
    "    \"v_type\": \"Person\",\n",
    "    \"e_type\": \"Coworker\",\n",
    "    \"maximum_iteration\": 100,\n",
    "    \"print_results\": True,\n",
    "    \"file_path\": \"\"\n",
    "}\n",
    "\n",
    "results = feat.runAlgorithm(\"tg_maximal_indep_set\", params=params)"
   ]
  },
  {
   "cell_type": "markdown",
   "id": "94309c61-3912-4e44-9231-8f4844390f12",
   "metadata": {},
   "source": [
    "## Results\n",
    "\n",
    "A set of vertices that form a maximal independent set."
   ]
  },
  {
   "cell_type": "code",
   "execution_count": 30,
   "id": "1be09ed9-7b67-4737-935c-a941fd6fa246",
   "metadata": {},
   "outputs": [
    {
     "data": {
      "text/html": [
       "<div>\n",
       "<style scoped>\n",
       "    .dataframe tbody tr th:only-of-type {\n",
       "        vertical-align: middle;\n",
       "    }\n",
       "\n",
       "    .dataframe tbody tr th {\n",
       "        vertical-align: top;\n",
       "    }\n",
       "\n",
       "    .dataframe thead th {\n",
       "        text-align: right;\n",
       "    }\n",
       "</style>\n",
       "<table border=\"1\" class=\"dataframe\">\n",
       "  <thead>\n",
       "    <tr style=\"text-align: right;\">\n",
       "      <th></th>\n",
       "      <th>v_id</th>\n",
       "      <th>v_type</th>\n",
       "      <th>attributes.name</th>\n",
       "      <th>attributes.score</th>\n",
       "      <th>attributes.tag</th>\n",
       "      <th>attributes.flag</th>\n",
       "      <th>attributes.@and_active</th>\n",
       "      <th>attributes.@or_selected</th>\n",
       "      <th>attributes.@min_vid</th>\n",
       "    </tr>\n",
       "  </thead>\n",
       "  <tbody>\n",
       "    <tr>\n",
       "      <th>0</th>\n",
       "      <td>Justin</td>\n",
       "      <td>Person</td>\n",
       "      <td>Justin</td>\n",
       "      <td>0</td>\n",
       "      <td></td>\n",
       "      <td>False</td>\n",
       "      <td>False</td>\n",
       "      <td>True</td>\n",
       "      <td>373293056</td>\n",
       "    </tr>\n",
       "    <tr>\n",
       "      <th>1</th>\n",
       "      <td>Damon</td>\n",
       "      <td>Person</td>\n",
       "      <td>Damon</td>\n",
       "      <td>0</td>\n",
       "      <td></td>\n",
       "      <td>False</td>\n",
       "      <td>False</td>\n",
       "      <td>True</td>\n",
       "      <td>374341632</td>\n",
       "    </tr>\n",
       "    <tr>\n",
       "      <th>2</th>\n",
       "      <td>dirTarget</td>\n",
       "      <td>Person</td>\n",
       "      <td>dirTarget</td>\n",
       "      <td>0</td>\n",
       "      <td></td>\n",
       "      <td>False</td>\n",
       "      <td>False</td>\n",
       "      <td>True</td>\n",
       "      <td>9223372036854775807</td>\n",
       "    </tr>\n",
       "    <tr>\n",
       "      <th>3</th>\n",
       "      <td>George</td>\n",
       "      <td>Person</td>\n",
       "      <td>George</td>\n",
       "      <td>0</td>\n",
       "      <td></td>\n",
       "      <td>False</td>\n",
       "      <td>False</td>\n",
       "      <td>True</td>\n",
       "      <td>369098752</td>\n",
       "    </tr>\n",
       "    <tr>\n",
       "      <th>4</th>\n",
       "      <td>source</td>\n",
       "      <td>Person</td>\n",
       "      <td>source</td>\n",
       "      <td>0</td>\n",
       "      <td></td>\n",
       "      <td>False</td>\n",
       "      <td>False</td>\n",
       "      <td>True</td>\n",
       "      <td>9223372036854775807</td>\n",
       "    </tr>\n",
       "  </tbody>\n",
       "</table>\n",
       "</div>"
      ],
      "text/plain": [
       "        v_id  v_type attributes.name  attributes.score attributes.tag  \\\n",
       "0     Justin  Person          Justin                 0                  \n",
       "1      Damon  Person           Damon                 0                  \n",
       "2  dirTarget  Person       dirTarget                 0                  \n",
       "3     George  Person          George                 0                  \n",
       "4     source  Person          source                 0                  \n",
       "\n",
       "   attributes.flag  attributes.@and_active  attributes.@or_selected  \\\n",
       "0            False                   False                     True   \n",
       "1            False                   False                     True   \n",
       "2            False                   False                     True   \n",
       "3            False                   False                     True   \n",
       "4            False                   False                     True   \n",
       "\n",
       "   attributes.@min_vid  \n",
       "0            373293056  \n",
       "1            374341632  \n",
       "2  9223372036854775807  \n",
       "3            369098752  \n",
       "4  9223372036854775807  "
      ]
     },
     "metadata": {},
     "output_type": "display_data"
    }
   ],
   "source": [
    "df_maximal_indep_set = pd.json_normalize(results, record_path =['Start'])\n",
    "display(df_maximal_indep_set)"
   ]
  },
  {
   "cell_type": "markdown",
   "id": "c205c08d-ff1c-46a5-b22b-bc68ad4a1c8b",
   "metadata": {
    "tags": []
   },
   "source": [
    "## tg_greedy_graph_coloring\n",
    "This algorithm assigns a unique integer value known as its color to the vertices of a graph such that no neighboring vertices share the same color. The reason why this is called color is that this task is equivalent to assigning a color to each nation on a map so that no neighboring nations share the same color. (https://docs.tigergraph.com/graph-ml/current/classification-algorithms/greedy-graph-coloring)"
   ]
  },
  {
   "cell_type": "markdown",
   "id": "7b7ddb40-8f07-44d6-b652-16e3a5cebf58",
   "metadata": {},
   "source": [
    "## Input Parameters\n",
    "\n",
    "* SET<STRING> v_type_set: A set of all vertex types to color.\n",
    "* SET<STRING> e_type_set: A set of all edge types to traverse.\n",
    "* UINT max_colors: The Maximum number of colors that can be used. Use a large number like 999999 unless there is a strict limit.\n",
    "* BOOL print_color_count: If set to true, the total number of colors used will be displayed\n",
    "* BOOL print_stats: If set to true, the output will display all vertices and their associated color\n",
    "* STRING file_path: If a file path is provided, the output will be saved to the file indicated by the file path in CSV format."
   ]
  },
  {
   "cell_type": "code",
   "execution_count": 31,
   "id": "26786af6-5a98-4c13-b260-a2f81f628cfb",
   "metadata": {},
   "outputs": [
    {
     "name": "stdout",
     "output_type": "stream",
     "text": [
      "Installing and optimizing the queries, it might take a minute...\n",
      "Queries installed successfully\n"
     ]
    }
   ],
   "source": [
    "params = {\n",
    "    \"v_type_set\": [\"Person\"],\n",
    "    \"e_type_set\": [\"Friend\", \"Coworker\"],\n",
    "    \"max_colors\": 999999,\n",
    "    \"print_color_count\": True,\n",
    "    \"print_stats\": True,\n",
    "    \"file_path\": \"\"\n",
    "}\n",
    "\n",
    "results = feat.runAlgorithm(\"tg_greedy_graph_coloring\", params=params)"
   ]
  },
  {
   "cell_type": "markdown",
   "id": "d330d2ed-f7db-45b6-a663-30e2dc519e71",
   "metadata": {},
   "source": [
    "## Results\n",
    "\n",
    "On the social graph, we want to color the Person vertices and any two vertices are either connected by a Friend edge or a Coworker edge do not have the same color. By running the greedy_graph_color algorithm, we get the following result:"
   ]
  },
  {
   "cell_type": "code",
   "execution_count": 33,
   "id": "18643de9-76f1-40b3-ab9b-881f2162a3dd",
   "metadata": {},
   "outputs": [
    {
     "name": "stdout",
     "output_type": "stream",
     "text": [
      "[\n",
      " {\n",
      "  \"color_count\": 4\n",
      " },\n",
      " {\n",
      "  \"start\": [\n",
      "   {\n",
      "    \"v_id\": \"Justin\",\n",
      "    \"v_type\": \"Person\",\n",
      "    \"attributes\": {\n",
      "     \"start.@sum_color_vertex\": 4\n",
      "    }\n",
      "   },\n",
      "   {\n",
      "    \"v_id\": \"Damon\",\n",
      "    \"v_type\": \"Person\",\n",
      "    \"attributes\": {\n",
      "     \"start.@sum_color_vertex\": 3\n",
      "    }\n",
      "   },\n",
      "   {\n",
      "    \"v_id\": \"George\",\n",
      "    \"v_type\": \"Person\",\n",
      "    \"attributes\": {\n",
      "     \"start.@sum_color_vertex\": 4\n",
      "    }\n",
      "   },\n",
      "   {\n",
      "    \"v_id\": \"Fiona\",\n",
      "    \"v_type\": \"Person\",\n",
      "    \"attributes\": {\n",
      "     \"start.@sum_color_vertex\": 3\n",
      "    }\n",
      "   },\n",
      "   {\n",
      "    \"v_id\": \"Bob\",\n",
      "    \"v_type\": \"Person\",\n",
      "    \"attributes\": {\n",
      "     \"start.@sum_color_vertex\": 2\n",
      "    }\n",
      "   },\n",
      "   {\n",
      "    \"v_id\": \"Chase\",\n",
      "    \"v_type\": \"Person\",\n",
      "    \"attributes\": {\n",
      "     \"start.@sum_color_vertex\": 2\n",
      "    }\n",
      "   },\n",
      "   {\n",
      "    \"v_id\": \"Alex\",\n",
      "    \"v_type\": \"Person\",\n",
      "    \"attributes\": {\n",
      "     \"start.@sum_color_vertex\": 1\n",
      "    }\n",
      "   },\n",
      "   {\n",
      "    \"v_id\": \"Eddie\",\n",
      "    \"v_type\": \"Person\",\n",
      "    \"attributes\": {\n",
      "     \"start.@sum_color_vertex\": 1\n",
      "    }\n",
      "   },\n",
      "   {\n",
      "    \"v_id\": \"Ivy\",\n",
      "    \"v_type\": \"Person\",\n",
      "    \"attributes\": {\n",
      "     \"start.@sum_color_vertex\": 2\n",
      "    }\n",
      "   },\n",
      "   {\n",
      "    \"v_id\": \"Howard\",\n",
      "    \"v_type\": \"Person\",\n",
      "    \"attributes\": {\n",
      "     \"start.@sum_color_vertex\": 1\n",
      "    }\n",
      "   }\n",
      "  ]\n",
      " }\n",
      "]\n"
     ]
    }
   ],
   "source": [
    "r = json.dumps(results, indent = 1)\n",
    "print (r)"
   ]
  }
 ],
 "metadata": {
  "kernelspec": {
   "display_name": "PyTorch",
   "language": "python",
   "name": "python3"
  },
  "language_info": {
   "codemirror_mode": {
    "name": "ipython",
    "version": 3
   },
   "file_extension": ".py",
   "mimetype": "text/x-python",
   "name": "python",
   "nbconvert_exporter": "python",
   "pygments_lexer": "ipython3",
   "version": "3.9.13"
  }
 },
 "nbformat": 4,
 "nbformat_minor": 5
}
