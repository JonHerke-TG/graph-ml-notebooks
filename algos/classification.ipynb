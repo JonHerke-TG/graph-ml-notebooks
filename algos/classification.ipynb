{
 "cells": [
  {
   "cell_type": "markdown",
   "id": "aaed7b39-e90c-4a3a-b09f-7b827bbd1f19",
   "metadata": {},
   "source": [
    "# TigerGraph Data Science Library 101 - Classification Algorithm\n",
    "This notebook shows the examples of using the most common classification algorithms in TigerGraph Graph Science Library. More detailed explanations of these algorithms can be found in the official documentation (https://docs.tigergraph.com/graph-ml/current/classification-algorithms/).\n",
    "\n",
    "\n",
    "## Step1: Setting things up\n",
    "- Connect and Load data\n",
    "- Visualize the graph schema \n",
    "- Get basic stats, e.g., counts of nodes & edges"
   ]
  },
  {
   "cell_type": "markdown",
   "id": "11c2b6c3-c501-48d1-877c-6b46cf46f0e9",
   "metadata": {},
   "source": [
    "### Create connection"
   ]
  },
  {
   "cell_type": "code",
   "execution_count": 1,
   "id": "adb48891-b5cb-4660-9c61-6c1c61d1f89b",
   "metadata": {},
   "outputs": [],
   "source": [
    "import json\n",
    "import pandas as pd\n",
    "from pyTigerGraph import TigerGraphConnection\n",
    "\n",
    "# Read in DB configs\n",
    "with open('../config.json', \"r\") as config_file:\n",
    "    config = json.load(config_file)\n",
    "\n",
    "conn = TigerGraphConnection(\n",
    "    host=config[\"host\"],\n",
    "    username=config[\"username\"],\n",
    "    password=config[\"password\"],\n",
    ")"
   ]
  },
  {
   "cell_type": "markdown",
   "id": "320ff330-d943-42f4-a4ab-7d5a03edc338",
   "metadata": {},
   "source": [
    "### Download social dataset"
   ]
  },
  {
   "cell_type": "code",
   "execution_count": 2,
   "id": "72857d04-626a-4e79-9815-3f71fe1d2a16",
   "metadata": {},
   "outputs": [
    {
     "data": {
      "application/vnd.jupyter.widget-view+json": {
       "model_id": "420134d21b544142af3d40dfb7da88da",
       "version_major": 2,
       "version_minor": 0
      },
      "text/plain": [
       "Downloading:   0%|          | 0/1970 [00:00<?, ?it/s]"
      ]
     },
     "metadata": {},
     "output_type": "display_data"
    }
   ],
   "source": [
    "from pyTigerGraph.datasets import Datasets\n",
    "\n",
    "dataset_social = Datasets(\"social\")"
   ]
  },
  {
   "cell_type": "markdown",
   "id": "2b6d458c-effe-498a-bd62-eb17acadc77e",
   "metadata": {},
   "source": [
    "### Ingest data"
   ]
  },
  {
   "cell_type": "code",
   "execution_count": 3,
   "id": "5163ed31-a11b-462a-9739-04068ab4980c",
   "metadata": {},
   "outputs": [
    {
     "name": "stdout",
     "output_type": "stream",
     "text": [
      "---- Checking database ----\n",
      "---- Creating graph ----\n",
      "The graph social is created.\n",
      "---- Creating schema ----\n",
      "Using graph 'social'\n",
      "Successfully created schema change jobs: [social_schema].\n",
      "Kick off schema change job social_schema\n",
      "Doing schema change on graph 'social' (current version: 0)\n",
      "Trying to add local vertex 'Person' to the graph 'social'.\n",
      "Trying to add local edge 'Friend' and its reverse edge 'reverse_Friend' to the graph 'social'.\n",
      "Trying to add local edge 'Coworker' to the graph 'social'.\n",
      "\n",
      "Graph social updated to new version 1\n",
      "The job social_schema completes in 1.400 seconds!\n",
      "---- Creating loading job ----\n",
      "Using graph 'social'\n",
      "Successfully created loading jobs: [load_social].\n",
      "---- Ingesting data ----\n",
      "Ingested 17 objects into VERTEX Person\n",
      "Ingested 15 objects into VERTEX Person\n",
      "Ingested 14 objects into EDGE Friend\n",
      "Ingested 13 objects into EDGE Coworker\n",
      "---- Cleaning ----\n",
      "---- Finished ingestion ----\n"
     ]
    }
   ],
   "source": [
    "conn.ingestDataset(dataset_social, getToken=config[\"getToken\"])"
   ]
  },
  {
   "cell_type": "markdown",
   "id": "214cc67b-8fd1-4e94-8673-ba6f18239381",
   "metadata": {},
   "source": [
    "### Visualize schema"
   ]
  },
  {
   "cell_type": "code",
   "execution_count": 4,
   "id": "b69b0e67-d7e6-4727-9c66-0c3e74adbe54",
   "metadata": {},
   "outputs": [
    {
     "data": {
      "application/vnd.jupyter.widget-view+json": {
       "model_id": "39714c37cfcd45e0a913233dbc6308ef",
       "version_major": 2,
       "version_minor": 0
      },
      "text/plain": [
       "CytoscapeWidget(cytoscape_layout={'name': 'circle', 'animate': True, 'padding': 1}, cytoscape_style=[{'selecto…"
      ]
     },
     "execution_count": 4,
     "metadata": {},
     "output_type": "execute_result"
    }
   ],
   "source": [
    "from pyTigerGraph.visualization import drawSchema\n",
    "\n",
    "drawSchema(conn.getSchema(force=True))"
   ]
  },
  {
   "cell_type": "markdown",
   "id": "340d88d3-4487-4054-86f8-6a68be98d260",
   "metadata": {},
   "source": [
    "### Print graph stats"
   ]
  },
  {
   "cell_type": "code",
   "execution_count": 5,
   "id": "1fbf8481-09a0-4c19-a6e7-963888476b78",
   "metadata": {},
   "outputs": [
    {
     "name": "stdout",
     "output_type": "stream",
     "text": [
      "Node count: (Person : 12) \n",
      "Total node count:  12\n"
     ]
    }
   ],
   "source": [
    "vertices = conn.getVertexTypes()\n",
    "total_count = 0\n",
    "for vertex in vertices:\n",
    "    vertex_cnt = conn.getVertexCount(vertex)\n",
    "    total_count += vertex_cnt\n",
    "    print(\"Node count: ({} : {}) \".format(vertex, vertex_cnt))\n",
    "print(\"Total node count: \", total_count)"
   ]
  },
  {
   "cell_type": "code",
   "execution_count": 6,
   "id": "9a45cb56-989b-47dc-bb0b-49044e769340",
   "metadata": {},
   "outputs": [
    {
     "name": "stdout",
     "output_type": "stream",
     "text": [
      "Edges count: total  39\n",
      "{'Coworker': 11, 'Friend': 14, 'reverse_Friend': 14}\n"
     ]
    }
   ],
   "source": [
    "import pprint\n",
    "edge_count = conn.getEdgeCount()\n",
    "print(\"Edges count: total \", sum(edge_count.values()))\n",
    "pprint.pprint(edge_count) "
   ]
  },
  {
   "cell_type": "markdown",
   "id": "8769620a-62f8-4756-8407-d1bba8e06032",
   "metadata": {},
   "source": [
    "## Step 2: Leveraging pyTigerGraph’s featurizer to run Classification algorithms\n",
    "\n",
    "pyTigerGraph provides a full suit of data science capabilities, and in this tutorial, we will showcase how to use featurizer to list out all available Classification algorithms in our GDS library, and to run a few popular algorithms as an example."
   ]
  },
  {
   "cell_type": "code",
   "execution_count": 7,
   "id": "ca1699c6-cae2-441c-8e84-cde9e9e433db",
   "metadata": {},
   "outputs": [],
   "source": [
    "feat = conn.gds.featurizer()"
   ]
  },
  {
   "cell_type": "code",
   "execution_count": 8,
   "id": "3bc5adc5-f933-43ee-984f-534a74eaacc7",
   "metadata": {},
   "outputs": [
    {
     "name": "stdout",
     "output_type": "stream",
     "text": [
      "Available algorithms for Classification:\n",
      "  greedy_graph_coloring:\n",
      "    01. name: tg_greedy_graph_coloring\n",
      "  maximal_independent_set:\n",
      "    deterministic:\n",
      "      02. name: tg_maximal_indep_set\n",
      "    random:\n",
      "      03. name: tg_maximal_indep_set_random\n",
      "Call runAlgorithm() with the algorithm name to execute it\n"
     ]
    }
   ],
   "source": [
    "feat.listAlgorithms(\"Classification\")"
   ]
  },
  {
   "cell_type": "markdown",
   "id": "0be5950e-7fd6-4af6-84c9-6a9550d5f4d5",
   "metadata": {},
   "source": [
    "## tg_maximal_indep_set\n",
    "\n",
    "An independent set of vertices does not contain any pair of vertices that are neighbors, i.e., ones which have an edge between them. A maximal independent set (MIS) is the largest independent set that contains those vertices; you cannot improve upon it unless you start over with a different independent set. However, the search for the largest possible independent set is an NP-hard problem: there is no known algorithm that can find that answer in polynomial time. So we settle for the maximal independent set.\n",
    "\n",
    "This algorithm finds use in applications wanting to find the most efficient configuration which \"covers\" all the necessary cases. For example, it has been used to optimize delivery or transit routes, where each vertex is one transit segment and each edge connects two segments that can not be covered by the same vehicle.\n",
    "\n",
    "Since there could be multiple maximal independent sets, there are two versions of the Maximal Independent Set algorithm:\n",
    "\n",
    "Deterministic. The deterministic version makes sure that you get the same results every time. (https://docs.tigergraph.com/graph-ml/current/classification-algorithms/maximal-independent-set)"
   ]
  },
  {
   "cell_type": "markdown",
   "id": "c5028cc2-b67c-4648-9c7d-dd8c86335555",
   "metadata": {},
   "source": [
    "## Input Parameters\n",
    "\n",
    "* STRING v_type: Name of vertex type to use\n",
    "* STRING e_type: Name of edge type to use\n",
    "* INT maximum_iteration: maximum number of iterations for the search\n",
    "* BOOL print_results: If True, output JSON to standard output\n",
    "* STRING file_path: If not empty, write output to this file."
   ]
  },
  {
   "cell_type": "code",
   "execution_count": 9,
   "id": "8741c725-614d-45d1-8166-9d9ce3655263",
   "metadata": {},
   "outputs": [
    {
     "name": "stdout",
     "output_type": "stream",
     "text": [
      "Installing and optimizing the queries, it might take a minute...\n",
      "Queries installed successfully\n"
     ]
    }
   ],
   "source": [
    "params = {\n",
    "    \"v_type\": \"Person\",\n",
    "    \"e_type\": \"Coworker\",\n",
    "    \"max_iter\": 100,\n",
    "    \"print_accum\": True,\n",
    "    \"file_path\": \"\"\n",
    "}\n",
    "\n",
    "results = feat.runAlgorithm(\"tg_maximal_indep_set\", params=params)"
   ]
  },
  {
   "cell_type": "markdown",
   "id": "94309c61-3912-4e44-9231-8f4844390f12",
   "metadata": {},
   "source": [
    "## Results\n",
    "\n",
    "A set of vertices that form a maximal independent set."
   ]
  },
  {
   "cell_type": "code",
   "execution_count": 10,
   "id": "1be09ed9-7b67-4737-935c-a941fd6fa246",
   "metadata": {},
   "outputs": [
    {
     "data": {
      "text/html": [
       "<div>\n",
       "<style scoped>\n",
       "    .dataframe tbody tr th:only-of-type {\n",
       "        vertical-align: middle;\n",
       "    }\n",
       "\n",
       "    .dataframe tbody tr th {\n",
       "        vertical-align: top;\n",
       "    }\n",
       "\n",
       "    .dataframe thead th {\n",
       "        text-align: right;\n",
       "    }\n",
       "</style>\n",
       "<table border=\"1\" class=\"dataframe\">\n",
       "  <thead>\n",
       "    <tr style=\"text-align: right;\">\n",
       "      <th></th>\n",
       "      <th>v_id</th>\n",
       "      <th>v_type</th>\n",
       "      <th>attributes.name</th>\n",
       "      <th>attributes.score</th>\n",
       "      <th>attributes.tag</th>\n",
       "      <th>attributes.flag</th>\n",
       "      <th>attributes.@and_active</th>\n",
       "      <th>attributes.@or_selected</th>\n",
       "      <th>attributes.@min_vid</th>\n",
       "    </tr>\n",
       "  </thead>\n",
       "  <tbody>\n",
       "    <tr>\n",
       "      <th>0</th>\n",
       "      <td>Eddie</td>\n",
       "      <td>Person</td>\n",
       "      <td>Eddie</td>\n",
       "      <td>0</td>\n",
       "      <td></td>\n",
       "      <td>False</td>\n",
       "      <td>False</td>\n",
       "      <td>True</td>\n",
       "      <td>347078656</td>\n",
       "    </tr>\n",
       "    <tr>\n",
       "      <th>1</th>\n",
       "      <td>Ivy</td>\n",
       "      <td>Person</td>\n",
       "      <td>Ivy</td>\n",
       "      <td>0</td>\n",
       "      <td></td>\n",
       "      <td>False</td>\n",
       "      <td>False</td>\n",
       "      <td>True</td>\n",
       "      <td>369098752</td>\n",
       "    </tr>\n",
       "    <tr>\n",
       "      <th>2</th>\n",
       "      <td>Justin</td>\n",
       "      <td>Person</td>\n",
       "      <td>Justin</td>\n",
       "      <td>0</td>\n",
       "      <td></td>\n",
       "      <td>False</td>\n",
       "      <td>False</td>\n",
       "      <td>True</td>\n",
       "      <td>373293056</td>\n",
       "    </tr>\n",
       "    <tr>\n",
       "      <th>3</th>\n",
       "      <td>dirTarget</td>\n",
       "      <td>Person</td>\n",
       "      <td>dirTarget</td>\n",
       "      <td>0</td>\n",
       "      <td></td>\n",
       "      <td>False</td>\n",
       "      <td>False</td>\n",
       "      <td>True</td>\n",
       "      <td>9223372036854775807</td>\n",
       "    </tr>\n",
       "    <tr>\n",
       "      <th>4</th>\n",
       "      <td>source</td>\n",
       "      <td>Person</td>\n",
       "      <td>source</td>\n",
       "      <td>0</td>\n",
       "      <td></td>\n",
       "      <td>False</td>\n",
       "      <td>False</td>\n",
       "      <td>True</td>\n",
       "      <td>9223372036854775807</td>\n",
       "    </tr>\n",
       "  </tbody>\n",
       "</table>\n",
       "</div>"
      ],
      "text/plain": [
       "        v_id  v_type attributes.name  attributes.score attributes.tag  \\\n",
       "0      Eddie  Person           Eddie                 0                  \n",
       "1        Ivy  Person             Ivy                 0                  \n",
       "2     Justin  Person          Justin                 0                  \n",
       "3  dirTarget  Person       dirTarget                 0                  \n",
       "4     source  Person          source                 0                  \n",
       "\n",
       "   attributes.flag  attributes.@and_active  attributes.@or_selected  \\\n",
       "0            False                   False                     True   \n",
       "1            False                   False                     True   \n",
       "2            False                   False                     True   \n",
       "3            False                   False                     True   \n",
       "4            False                   False                     True   \n",
       "\n",
       "   attributes.@min_vid  \n",
       "0            347078656  \n",
       "1            369098752  \n",
       "2            373293056  \n",
       "3  9223372036854775807  \n",
       "4  9223372036854775807  "
      ]
     },
     "metadata": {},
     "output_type": "display_data"
    }
   ],
   "source": [
    "df_maximal_indep_set = pd.json_normalize(results, record_path =['Start'])\n",
    "display(df_maximal_indep_set)"
   ]
  },
  {
   "cell_type": "markdown",
   "id": "c205c08d-ff1c-46a5-b22b-bc68ad4a1c8b",
   "metadata": {
    "tags": []
   },
   "source": [
    "## tg_greedy_graph_coloring\n",
    "This algorithm assigns a unique integer value known as its color to the vertices of a graph such that no neighboring vertices share the same color. The reason why this is called color is that this task is equivalent to assigning a color to each nation on a map so that no neighboring nations share the same color. (https://docs.tigergraph.com/graph-ml/current/classification-algorithms/greedy-graph-coloring)"
   ]
  },
  {
   "cell_type": "markdown",
   "id": "7b7ddb40-8f07-44d6-b652-16e3a5cebf58",
   "metadata": {},
   "source": [
    "## Input Parameters\n",
    "\n",
    "* SET<STRING> v_type_set: A set of all vertex types to color.\n",
    "* SET<STRING> e_type_set: A set of all edge types to traverse.\n",
    "* UINT max_colors: The Maximum number of colors that can be used. Use a large number like 999999 unless there is a strict limit.\n",
    "* BOOL print_color_count: If set to true, the total number of colors used will be displayed\n",
    "* BOOL print_stats: If set to true, the output will display all vertices and their associated color\n",
    "* STRING file_path: If a file path is provided, the output will be saved to the file indicated by the file path in CSV format."
   ]
  },
  {
   "cell_type": "code",
   "execution_count": 11,
   "id": "26786af6-5a98-4c13-b260-a2f81f628cfb",
   "metadata": {},
   "outputs": [
    {
     "name": "stdout",
     "output_type": "stream",
     "text": [
      "Installing and optimizing the queries, it might take a minute...\n",
      "Queries installed successfully\n"
     ]
    }
   ],
   "source": [
    "params = {\n",
    "    \"v_type\": [\"Person\"],\n",
    "    \"e_type\": [\"Friend\", \"Coworker\"],\n",
    "    \"max_colors\": 999999,\n",
    "    \"print_color_count\": True,\n",
    "    \"display\": True,\n",
    "    \"file_path\": \"\"\n",
    "}\n",
    "\n",
    "results = feat.runAlgorithm(\"tg_greedy_graph_coloring\", params=params)"
   ]
  },
  {
   "cell_type": "markdown",
   "id": "d330d2ed-f7db-45b6-a663-30e2dc519e71",
   "metadata": {},
   "source": [
    "## Results\n",
    "\n",
    "On the social graph, we want to color the Person vertices and any two vertices are either connected by a Friend edge or a Coworker edge do not have the same color. By running the greedy_graph_color algorithm, we get the following result:"
   ]
  },
  {
   "cell_type": "code",
   "execution_count": 12,
   "id": "18643de9-76f1-40b3-ab9b-881f2162a3dd",
   "metadata": {},
   "outputs": [
    {
     "name": "stdout",
     "output_type": "stream",
     "text": [
      "[\n",
      " {\n",
      "  \"color_count\": 4\n",
      " },\n",
      " {\n",
      "  \"start\": [\n",
      "   {\n",
      "    \"v_id\": \"Eddie\",\n",
      "    \"v_type\": \"Person\",\n",
      "    \"attributes\": {\n",
      "     \"start.@sum_color_vertex\": 3\n",
      "    }\n",
      "   },\n",
      "   {\n",
      "    \"v_id\": \"Ivy\",\n",
      "    \"v_type\": \"Person\",\n",
      "    \"attributes\": {\n",
      "     \"start.@sum_color_vertex\": 4\n",
      "    }\n",
      "   },\n",
      "   {\n",
      "    \"v_id\": \"Justin\",\n",
      "    \"v_type\": \"Person\",\n",
      "    \"attributes\": {\n",
      "     \"start.@sum_color_vertex\": 4\n",
      "    }\n",
      "   },\n",
      "   {\n",
      "    \"v_id\": \"Damon\",\n",
      "    \"v_type\": \"Person\",\n",
      "    \"attributes\": {\n",
      "     \"start.@sum_color_vertex\": 2\n",
      "    }\n",
      "   },\n",
      "   {\n",
      "    \"v_id\": \"Fiona\",\n",
      "    \"v_type\": \"Person\",\n",
      "    \"attributes\": {\n",
      "     \"start.@sum_color_vertex\": 3\n",
      "    }\n",
      "   },\n",
      "   {\n",
      "    \"v_id\": \"Bob\",\n",
      "    \"v_type\": \"Person\",\n",
      "    \"attributes\": {\n",
      "     \"start.@sum_color_vertex\": 2\n",
      "    }\n",
      "   },\n",
      "   {\n",
      "    \"v_id\": \"Chase\",\n",
      "    \"v_type\": \"Person\",\n",
      "    \"attributes\": {\n",
      "     \"start.@sum_color_vertex\": 1\n",
      "    }\n",
      "   },\n",
      "   {\n",
      "    \"v_id\": \"Alex\",\n",
      "    \"v_type\": \"Person\",\n",
      "    \"attributes\": {\n",
      "     \"start.@sum_color_vertex\": 1\n",
      "    }\n",
      "   },\n",
      "   {\n",
      "    \"v_id\": \"George\",\n",
      "    \"v_type\": \"Person\",\n",
      "    \"attributes\": {\n",
      "     \"start.@sum_color_vertex\": 2\n",
      "    }\n",
      "   },\n",
      "   {\n",
      "    \"v_id\": \"Howard\",\n",
      "    \"v_type\": \"Person\",\n",
      "    \"attributes\": {\n",
      "     \"start.@sum_color_vertex\": 1\n",
      "    }\n",
      "   }\n",
      "  ]\n",
      " }\n",
      "]\n"
     ]
    }
   ],
   "source": [
    "r = json.dumps(results, indent = 1)\n",
    "print (r)"
   ]
  }
 ],
 "metadata": {
  "kernelspec": {
   "display_name": "PyTorch",
   "language": "python",
   "name": "python3"
  },
  "language_info": {
   "codemirror_mode": {
    "name": "ipython",
    "version": 3
   },
   "file_extension": ".py",
   "mimetype": "text/x-python",
   "name": "python",
   "nbconvert_exporter": "python",
   "pygments_lexer": "ipython3",
   "version": "3.9.13"
  }
 },
 "nbformat": 4,
 "nbformat_minor": 5
}
