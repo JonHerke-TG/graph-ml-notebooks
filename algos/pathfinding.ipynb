{
 "cells": [
  {
   "cell_type": "markdown",
   "id": "0e0831b7-cce4-41de-8520-a48260ff4825",
   "metadata": {},
   "source": [
    "# TigerGraph Graph Data Science Library 101 - Path Finding Algorithm\n",
    "\n",
    "This notebook shows the examples of using the most common path finding algorithms in TigerGraph Graph Science Library. More detailed explanations of these algorithms can be four in the official documentation (https://docs.tigergraph.com/graph-ml/current/pathfinding-algorithms/).  "
   ]
  },
  {
   "cell_type": "markdown",
   "id": "ec177fb7-4d6b-4a5d-82c8-0ee3c0486e63",
   "metadata": {},
   "source": [
    "## Step 1: Setting things up\n",
    "- Connect and Load data"
   ]
  },
  {
   "cell_type": "code",
   "execution_count": 1,
   "id": "eb94a475-0005-4aa0-ae68-23a5f462dad0",
   "metadata": {},
   "outputs": [
    {
     "data": {
      "application/vnd.jupyter.widget-view+json": {
       "model_id": "8029222c00254f4586c3fadd11c22bdf",
       "version_major": 2,
       "version_minor": 0
      },
      "text/plain": [
       "Downloading:   0%|          | 0/286678171 [00:00<?, ?it/s]"
      ]
     },
     "metadata": {},
     "output_type": "display_data"
    }
   ],
   "source": [
    "from pyTigerGraph.datasets import Datasets\n",
    "\n",
    "dataset = Datasets(\"ldbc_snb\")"
   ]
  },
  {
   "cell_type": "code",
   "execution_count": 2,
   "id": "f5efa57a-06b3-4068-928c-4b977088641e",
   "metadata": {},
   "outputs": [],
   "source": [
    "from pyTigerGraph import TigerGraphConnection\n",
    "import json\n",
    "\n",
    "# Read in DB configs\n",
    "with open('../config.json', \"r\") as config_file:\n",
    "    config = json.load(config_file)\n",
    "\n",
    "conn = TigerGraphConnection(\n",
    "    host=config[\"host\"],\n",
    "    username=config[\"username\"],\n",
    "    password=config[\"password\"],\n",
    ")"
   ]
  },
  {
   "cell_type": "code",
   "execution_count": 3,
   "id": "f6125eb0-2879-4010-9178-870be4715349",
   "metadata": {},
   "outputs": [
    {
     "name": "stdout",
     "output_type": "stream",
     "text": [
      "---- Checking database ----\n",
      "A graph with name ldbc_snb already exists in the database. Please drop it first before ingesting.\n"
     ]
    }
   ],
   "source": [
    "conn.ingestDataset(dataset, getToken=config[\"getToken\"])"
   ]
  },
  {
   "cell_type": "markdown",
   "id": "baea2610-074a-44c4-a421-d1cc6bb253a5",
   "metadata": {},
   "source": [
    "- Visualize the graph schema "
   ]
  },
  {
   "cell_type": "code",
   "execution_count": 4,
   "id": "9104e0bd-f771-4598-8f6f-9f8ff2c7e87d",
   "metadata": {},
   "outputs": [
    {
     "data": {
      "application/vnd.jupyter.widget-view+json": {
       "model_id": "1d463c361d024ee4be1ffcbe3c6cd502",
       "version_major": 2,
       "version_minor": 0
      },
      "text/plain": [
       "CytoscapeWidget(cytoscape_layout={'name': 'circle', 'animate': True, 'padding': 1}, cytoscape_style=[{'selecto…"
      ]
     },
     "execution_count": 4,
     "metadata": {},
     "output_type": "execute_result"
    }
   ],
   "source": [
    "from pyTigerGraph.visualization import drawSchema\n",
    "\n",
    "drawSchema(conn.getSchema(force=True))"
   ]
  },
  {
   "cell_type": "markdown",
   "id": "793b7b8c-20aa-4c6e-a58e-69002d517dde",
   "metadata": {},
   "source": [
    "- Get basic stats, e.g., counts of nodes & edges"
   ]
  },
  {
   "cell_type": "code",
   "execution_count": 5,
   "id": "e95e5301-de9c-4aaf-ac10-ceae09d94d90",
   "metadata": {},
   "outputs": [
    {
     "name": "stdout",
     "output_type": "stream",
     "text": [
      "Node count: (Comment : 2052169) \n",
      "Node count: (Post : 1003605) \n",
      "Node count: (Company : 1575) \n",
      "Node count: (University : 6380) \n",
      "Node count: (City : 1343) \n",
      "Node count: (Country : 111) \n",
      "Node count: (Continent : 6) \n",
      "Node count: (Forum : 90492) \n",
      "Node count: (Person : 9892) \n",
      "Node count: (Tag : 16080) \n",
      "Node count: (Tag_Class : 71) \n"
     ]
    }
   ],
   "source": [
    "vertices = conn.getVertexTypes()\n",
    "for vertex in vertices:\n",
    "    print(\"Node count: ({} : {}) \".format(vertex, conn.getVertexCount(vertex)))"
   ]
  },
  {
   "cell_type": "code",
   "execution_count": 6,
   "id": "ab71a409-6782-437b-8ac9-b96d5149692e",
   "metadata": {},
   "outputs": [
    {
     "name": "stdout",
     "output_type": "stream",
     "text": [
      "Edges counts: \n",
      "{'Container_Of': 1003605,\n",
      " 'Container_Of_Reverse': 1003605,\n",
      " 'Has_Creator': 3055774,\n",
      " 'Has_Creator_Reverse': 3055774,\n",
      " 'Has_Interest': 229166,\n",
      " 'Has_Interest_Reverse': 229166,\n",
      " 'Has_Member': 1611869,\n",
      " 'Has_Member_Reverse': 1611869,\n",
      " 'Has_Moderator': 90492,\n",
      " 'Has_Moderator_Reverse': 90492,\n",
      " 'Has_Tag': 3721417,\n",
      " 'Has_Tag_Reverse': 3721417,\n",
      " 'Has_Type': 16080,\n",
      " 'Has_Type_Reverse': 16080,\n",
      " 'Is_Located_In': 3073621,\n",
      " 'Is_Located_In_Reverse': 3073621,\n",
      " 'Is_Part_Of': 1454,\n",
      " 'Is_Part_Of_Reverse': 1454,\n",
      " 'Is_Subclass_Of': 70,\n",
      " 'Is_Subclass_Of_Reverse': 70,\n",
      " 'Knows': 180623,\n",
      " 'Likes': 2190095,\n",
      " 'Likes_Reverse': 2190095,\n",
      " 'Reply_Of': 2052169,\n",
      " 'Reply_Of_Reverse': 2052169,\n",
      " 'Study_At': 7949,\n",
      " 'Study_At_Reverse': 7949,\n",
      " 'Work_At': 21654,\n",
      " 'Work_At_Reverse': 21654}\n"
     ]
    }
   ],
   "source": [
    "import pprint\n",
    "print(\"Edges counts: \")\n",
    "pprint.pprint(conn.getEdgeCount())"
   ]
  },
  {
   "cell_type": "markdown",
   "id": "4d6c0a1c-b6bf-4967-9d35-4e881407e3a7",
   "metadata": {},
   "source": [
    "## Step 2: Leveraging pyTigerGraph’s featurizer to run Path Finding algorithms\n"
   ]
  },
  {
   "cell_type": "code",
   "execution_count": 7,
   "id": "8170bb7e-e946-4687-9dc7-b37565078aa4",
   "metadata": {},
   "outputs": [],
   "source": [
    "feat = conn.gds.featurizer()"
   ]
  },
  {
   "cell_type": "code",
   "execution_count": 8,
   "id": "219d6423-7e09-4f26-89fa-66009fd515e5",
   "metadata": {},
   "outputs": [
    {
     "name": "stdout",
     "output_type": "stream",
     "text": [
      "Available algorithms for Path:\n",
      "  bfs:\n",
      "    01. name: tg_bfs\n",
      "  cycle_detection:\n",
      "    02. name: tg_cycle_detection_count\n",
      "  shortest_path:\n",
      "    03. name: tg_shortest_ss_no_wt\n",
      "Call runAlgorithm() with the algorithm name to execute it\n"
     ]
    }
   ],
   "source": [
    "feat.listAlgorithms(\"Path\")"
   ]
  },
  {
   "cell_type": "markdown",
   "id": "3722d88f-c38b-4ddc-aa08-22491315fca8",
   "metadata": {},
   "source": [
    "## tg_bfs\n",
    "Breadth-First Search Algorithm from a single source node"
   ]
  },
  {
   "cell_type": "code",
   "execution_count": 9,
   "id": "d38181ac-f4db-4fc7-bd5d-6a054f6ef593",
   "metadata": {},
   "outputs": [],
   "source": [
    "params = {\n",
    "    \"v_type_set\": [\"Person\"],\n",
    "    \"e_type_set\": [\"Knows\"],\n",
    "    \"max_hops\": 2,\n",
    "    \"v_start\": {\"id\": \"21990232556463\", \"type\": \"Person\"}, ##{\"id\": \"vertex_id\", \"type\": \"vertex_type\"}\n",
    "    \"print_results\": True,\n",
    "    \"result_attribute\": \"\",\n",
    "    \"file_path\": \"\",\n",
    "    \"display_edges\": False\n",
    "  }"
   ]
  },
  {
   "cell_type": "code",
   "execution_count": 10,
   "id": "69ec71f5-2a04-44c9-a6d2-8c8303fca93b",
   "metadata": {},
   "outputs": [],
   "source": [
    "res = feat.runAlgorithm(\"tg_bfs\", params=params)"
   ]
  },
  {
   "cell_type": "code",
   "execution_count": 11,
   "id": "3aa803ad-099c-449c-a65f-785f52c0eac8",
   "metadata": {},
   "outputs": [
    {
     "data": {
      "text/plain": [
       "(4069,\n",
       " [{'v_id': '21990232566155',\n",
       "   'v_type': 'Person',\n",
       "   'attributes': {'Start.@sum_step': 2}},\n",
       "  {'v_id': '8796093029876',\n",
       "   'v_type': 'Person',\n",
       "   'attributes': {'Start.@sum_step': 2}},\n",
       "  {'v_id': '21990232565733',\n",
       "   'v_type': 'Person',\n",
       "   'attributes': {'Start.@sum_step': 2}},\n",
       "  {'v_id': '6597069769055',\n",
       "   'v_type': 'Person',\n",
       "   'attributes': {'Start.@sum_step': 2}},\n",
       "  {'v_id': '2199023263448',\n",
       "   'v_type': 'Person',\n",
       "   'attributes': {'Start.@sum_step': 2}},\n",
       "  {'v_id': '8796093027437',\n",
       "   'v_type': 'Person',\n",
       "   'attributes': {'Start.@sum_step': 2}},\n",
       "  {'v_id': '2199023257517',\n",
       "   'v_type': 'Person',\n",
       "   'attributes': {'Start.@sum_step': 2}},\n",
       "  {'v_id': '6597069770520',\n",
       "   'v_type': 'Person',\n",
       "   'attributes': {'Start.@sum_step': 2}},\n",
       "  {'v_id': '17592186052664',\n",
       "   'v_type': 'Person',\n",
       "   'attributes': {'Start.@sum_step': 2}},\n",
       "  {'v_id': '19791209302191',\n",
       "   'v_type': 'Person',\n",
       "   'attributes': {'Start.@sum_step': 2}}])"
      ]
     },
     "execution_count": 11,
     "metadata": {},
     "output_type": "execute_result"
    }
   ],
   "source": [
    "len(res[0]['Start']), res[0]['Start'][:10]"
   ]
  },
  {
   "cell_type": "markdown",
   "id": "47a2bf5d-f177-4c77-a9d0-b2938b5c8506",
   "metadata": {},
   "source": [
    "## tg_shortest_path\n",
    "Single-source shortest path algorithm, with unweighted edges."
   ]
  },
  {
   "cell_type": "code",
   "execution_count": 12,
   "id": "878e31c3-4d1b-4f4a-9479-415182c00042",
   "metadata": {},
   "outputs": [],
   "source": [
    "params = {\n",
    "    \"source\": {\"id\": \"21990232556463\", \"type\": \"Person\"}, ##{\"id\": \"vertex_id\", \"type\": \"vertex_type\"}\n",
    "    \"v_type_set\": [\"Person\"],\n",
    "    \"e_type_set\": [\"Knows\"],\n",
    "    \"print_limit\": 20,\n",
    "    \"print_results\": True,\n",
    "    \"result_attribute\": \"\",\n",
    "    \"file_path\": \"\",\n",
    "    \"display_edges\": False\n",
    "}"
   ]
  },
  {
   "cell_type": "code",
   "execution_count": 13,
   "id": "caa2bac5-7852-46fc-9bb3-684af9c53e1a",
   "metadata": {},
   "outputs": [],
   "source": [
    "res = feat.runAlgorithm(\"tg_shortest_ss_no_wt\", params=params)"
   ]
  },
  {
   "cell_type": "code",
   "execution_count": 14,
   "id": "17538494-4b5e-4f9d-b256-609d2d8b9eda",
   "metadata": {},
   "outputs": [
    {
     "name": "stdout",
     "output_type": "stream",
     "text": [
      "20\n"
     ]
    },
    {
     "data": {
      "text/plain": [
       "[{'v_id': '15393162794623',\n",
       "  'v_type': 'Person',\n",
       "  'attributes': {'ResultSet.@min_dis': 3,\n",
       "   'ResultSet.@path_list': ['21990232556463',\n",
       "    '10995116278291',\n",
       "    '19791209304170',\n",
       "    '15393162794623']}},\n",
       " {'v_id': '21990232566155',\n",
       "  'v_type': 'Person',\n",
       "  'attributes': {'ResultSet.@min_dis': 2,\n",
       "   'ResultSet.@path_list': ['21990232556463', '2783', '21990232566155']}},\n",
       " {'v_id': '8796093029876',\n",
       "  'v_type': 'Person',\n",
       "  'attributes': {'ResultSet.@min_dis': 2,\n",
       "   'ResultSet.@path_list': ['21990232556463',\n",
       "    '6597069777240',\n",
       "    '8796093029876']}},\n",
       " {'v_id': '35184372098404',\n",
       "  'v_type': 'Person',\n",
       "  'attributes': {'ResultSet.@min_dis': 3,\n",
       "   'ResultSet.@path_list': ['21990232556463',\n",
       "    '32985348834375',\n",
       "    '17592186053137',\n",
       "    '35184372098404']}},\n",
       " {'v_id': '21990232565733',\n",
       "  'v_type': 'Person',\n",
       "  'attributes': {'ResultSet.@min_dis': 2,\n",
       "   'ResultSet.@path_list': ['21990232556463',\n",
       "    '32985348834375',\n",
       "    '21990232565733']}}]"
      ]
     },
     "execution_count": 14,
     "metadata": {},
     "output_type": "execute_result"
    }
   ],
   "source": [
    "print(len(res[0]['ResultSet']))\n",
    "res[0]['ResultSet'][:5]"
   ]
  },
  {
   "cell_type": "markdown",
   "id": "26e00437-44b9-4f70-9be4-490f0cbaaf2a",
   "metadata": {},
   "source": [
    "## tg_cycle_detection_count\n",
    "This is a distributed algorithm for detecting all the cycles on large-scale directed graphs."
   ]
  },
  {
   "cell_type": "code",
   "execution_count": 15,
   "id": "26cbe2a8-e48c-44bf-bd43-6b6d03b6f51e",
   "metadata": {},
   "outputs": [],
   "source": [
    "params =  {\n",
    "    \"v_type_set\": [\"Person\"],\n",
    "    \"e_type_set\": [\"Knows\"],\n",
    "    \"depth\": 2,\n",
    "    \"batches\": 2,\n",
    "    \"print_results\": True\n",
    "}"
   ]
  },
  {
   "cell_type": "code",
   "execution_count": 16,
   "id": "b69385cd-b0da-4031-9cad-2d8829eb7d9b",
   "metadata": {},
   "outputs": [],
   "source": [
    "res = feat.runAlgorithm(\"tg_cycle_detection_count\", params=params)"
   ]
  },
  {
   "cell_type": "code",
   "execution_count": 17,
   "id": "7c3d28f6-c9ee-4271-bef6-0eadc29d85a0",
   "metadata": {},
   "outputs": [
    {
     "data": {
      "text/plain": [
       "[{'cycles': 180623}]"
      ]
     },
     "execution_count": 17,
     "metadata": {},
     "output_type": "execute_result"
    }
   ],
   "source": [
    "# Display Results\n",
    "res"
   ]
  }
 ],
 "metadata": {
  "kernelspec": {
   "display_name": "Python 3 (ipykernel)",
   "language": "python",
   "name": "python3"
  },
  "language_info": {
   "codemirror_mode": {
    "name": "ipython",
    "version": 3
   },
   "file_extension": ".py",
   "mimetype": "text/x-python",
   "name": "python",
   "nbconvert_exporter": "python",
   "pygments_lexer": "ipython3",
   "version": "3.9.6"
  },
  "vscode": {
   "interpreter": {
    "hash": "31f2aee4e71d21fbe5cf8b01ff0e069b9275f58929596ceb00d14d90e3e16cd6"
   }
  }
 },
 "nbformat": 4,
 "nbformat_minor": 5
}
