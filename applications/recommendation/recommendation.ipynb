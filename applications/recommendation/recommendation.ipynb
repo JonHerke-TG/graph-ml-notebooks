{
 "cells": [
  {
   "cell_type": "markdown",
   "id": "1c59e553-8289-4eed-869c-40ba857d249f",
   "metadata": {},
   "source": [
    "# Recommendation with LightGCN and LastFM Data"
   ]
  },
  {
   "cell_type": "markdown",
   "id": "2c50d950-9855-408d-a4ee-b7717a52ed4c",
   "metadata": {},
   "source": [
    "This tutorial demonstrates how to build a recommender system with the LastFM data. It uses the data loaders in [pyTigerGraph](https://docs.tigergraph.com/pytigergraph/current/intro/) to pull data from a TigerGraph database and trains a [LightGCN](https://arxiv.org/abs/2002.02126) model from the [PyTorch Geometric](https://pytorch-geometric.readthedocs.io/en/latest/) package for recommendation.\n",
    "\n",
    "The data used here are users' listening information from the last.fm music website, which comprises a heterogeneous graph between users and items (e.g. songs).  See below for the schema of this graph. There are 1,892 user vertices, 17,632 item vertices, and 92,834 interaction edges. The dataset is from [PyG datasets](https://pytorch-geometric.readthedocs.io/en/latest/modules/datasets.html#torch_geometric.datasets.LastFM)."
   ]
  },
  {
   "attachments": {
    "a410d7e0-15cd-489d-8270-1d5ee99b0541.png": {
     "image/png": "[encoded data removed]"
    }
   },
   "cell_type": "markdown",
   "id": "3c0336ea-8d58-4f00-9149-d4a3c3b0ff18",
   "metadata": {},
   "source": [
    "![image.png](attachment:a410d7e0-15cd-489d-8270-1d5ee99b0541.png)"
   ]
  },
  {
   "cell_type": "markdown",
   "id": "0303ed0a-9351-488f-abff-1294cf093b6c",
   "metadata": {},
   "source": [
    "## Database Preparation"
   ]
  },
  {
   "cell_type": "markdown",
   "id": "5910ac9f-6699-4765-ab03-5d91a92edb55",
   "metadata": {},
   "source": [
    "The `TigerGraphConnection` class represents a connection to the TigerGraph database. Under the hood, it stores the necessary information to communicate with the database. It is able to perform quite a few database tasks. Please see its [documentation](https://docs.tigergraph.com/pytigergraph/current/intro/) for details.\n",
    "\n",
    "To connect your database, modify the `config.json` file accompanying this notebook. Set the value of `getToken` based on whether token auth is enabled for your database. Token auth is always enabled for tgcloud databases."
   ]
  },
  {
   "cell_type": "code",
   "execution_count": 2,
   "id": "06b5ec17-9d71-4492-b8ad-e541801a1589",
   "metadata": {},
   "outputs": [
    {
     "name": "stderr",
     "output_type": "stream",
     "text": [
      "/Users/feng.shi/mlworkbench/lib/python3.9/site-packages/pyTigerGraph/pyTigerGraphBase.py:127: DeprecationWarning: The `debug` parameter is deprecated; configure standard logging in your app.\n",
      "  warnings.warn(\n"
     ]
    }
   ],
   "source": [
    "from pyTigerGraph import TigerGraphConnection\n",
    "import json\n",
    "\n",
    "# Read in DB configs\n",
    "with open('../../config.json', \"r\") as config_file:\n",
    "    config = json.load(config_file)\n",
    "    \n",
    "conn = TigerGraphConnection(\n",
    "    host=config[\"host\"],\n",
    "    username=config[\"username\"],\n",
    "    password=config[\"password\"]\n",
    ")"
   ]
  },
  {
   "cell_type": "markdown",
   "id": "61015aca-7d3f-4dc9-bdf3-dec57e33c779",
   "metadata": {},
   "source": [
    "Download LastFM dataset and ingest it to the database."
   ]
  },
  {
   "cell_type": "code",
   "execution_count": 3,
   "id": "4b038409-9858-4386-b47d-d36ad290db0d",
   "metadata": {},
   "outputs": [
    {
     "data": {
      "application/vnd.jupyter.widget-view+json": {
       "model_id": "1d1a37a3ec394554aca9432b9d191c59",
       "version_major": 2,
       "version_minor": 0
      },
      "text/plain": [
       "Downloading:   0%|          | 0/316950 [00:00<?, ?it/s]"
      ]
     },
     "metadata": {},
     "output_type": "display_data"
    },
    {
     "name": "stdout",
     "output_type": "stream",
     "text": [
      "---- Checking database ----\n",
      "---- Creating graph ----\n",
      "The graph LastFM is created.\n",
      "---- Creating schema ----\n",
      "Using graph 'LastFM'\n",
      "Successfully created schema change jobs: [lastfm_schema].\n",
      "Kick off schema change job lastfm_schema\n",
      "Doing schema change on graph 'LastFM' (current version: 0)\n",
      "Trying to add local vertex 'User' to the graph 'LastFM'.\n",
      "Trying to add local vertex 'Item' to the graph 'LastFM'.\n",
      "Trying to add local edge 'Interact' to the graph 'LastFM'.\n",
      "\n",
      "Graph LastFM updated to new version 1\n",
      "The job lastfm_schema completes in 1.384 seconds!\n",
      "---- Creating loading job ----\n",
      "Using graph 'LastFM'\n",
      "Successfully created loading jobs: [Load_LastFM].\n",
      "---- Ingesting data ----\n",
      "[[{'sourceFileName': 'Online_POST', 'statistics': {'validLine': 92834, 'rejectLine': 0, 'failedConditionLine': 0, 'notEnoughToken': 0, 'invalidJson': 0, 'oversizeToken': 0, 'vertex': [{'typeName': 'User', 'validObject': 92834, 'noIdFound': 0, 'invalidAttribute': 0, 'invalidVertexType': 0, 'invalidPrimaryId': 0, 'invalidSecondaryId': 0, 'incorrectFixedBinaryLength': 0}, {'typeName': 'Item', 'validObject': 92834, 'noIdFound': 0, 'invalidAttribute': 0, 'invalidVertexType': 0, 'invalidPrimaryId': 0, 'invalidSecondaryId': 0, 'incorrectFixedBinaryLength': 0}], 'edge': [{'typeName': 'Interact', 'validObject': 92834, 'noIdFound': 0, 'invalidAttribute': 0, 'invalidVertexType': 0, 'invalidPrimaryId': 0, 'invalidSecondaryId': 0, 'incorrectFixedBinaryLength': 0}], 'deleteVertex': [], 'deleteEdge': []}}]]\n",
      "---- Cleaning ----\n",
      "---- Finished ingestion ----\n"
     ]
    }
   ],
   "source": [
    "from pyTigerGraph.datasets import Datasets\n",
    "\n",
    "dataset = Datasets(\"LastFM\")\n",
    "\n",
    "conn.ingestDataset(dataset, getToken=config[\"getToken\"])"
   ]
  },
  {
   "cell_type": "markdown",
   "id": "9dd7d82a-e3ae-4bec-93dc-035c5145fa88",
   "metadata": {},
   "source": [
    "Visualize schema"
   ]
  },
  {
   "cell_type": "code",
   "execution_count": 4,
   "id": "70ef3c3d-ab3f-481f-bce8-e059cfb62744",
   "metadata": {},
   "outputs": [
    {
     "data": {
      "application/vnd.jupyter.widget-view+json": {
       "model_id": "7ab048412f284fefa7b8e4c273303b8c",
       "version_major": 2,
       "version_minor": 0
      },
      "text/plain": [
       "CytoscapeWidget(cytoscape_layout={'name': 'circle', 'animate': True, 'padding': 1}, cytoscape_style=[{'selecto…"
      ]
     },
     "execution_count": 4,
     "metadata": {},
     "output_type": "execute_result"
    }
   ],
   "source": [
    "from pyTigerGraph.visualization import drawSchema\n",
    "\n",
    "drawSchema(conn.getSchema(force=True))"
   ]
  },
  {
   "cell_type": "markdown",
   "id": "fd58ef81-8879-450a-ade9-86e4caed700e",
   "metadata": {},
   "source": [
    "## Load data"
   ]
  },
  {
   "cell_type": "markdown",
   "id": "b0e6f63a-869f-460b-b095-ae2840a44376",
   "metadata": {},
   "source": [
    "Use graph loader to pull the whole graph from db. In this case, we are loading both the user ID and item ID as part of the vertex feature, and we are going to apply the training and testing filter for this data export. Notice that the output format for the data is PyG as we are leveraging the PyG library for the actual GNN model development.\n"
   ]
  },
  {
   "cell_type": "code",
   "execution_count": 6,
   "id": "b683ee98-81ab-403a-a766-a2cae62c97bc",
   "metadata": {},
   "outputs": [
    {
     "name": "stdout",
     "output_type": "stream",
     "text": [
      "Installing and optimizing queries. It might take a minute if this is the first time you use this loader.\n",
      "Query installation finished.\n"
     ]
    }
   ],
   "source": [
    "graph_loader = conn.gds.graphLoader(\n",
    "    num_batches=1,\n",
    "    v_extra_feats={\n",
    "        \"User\": ['id'],\n",
    "        \"Item\": [\"id\"]},\n",
    "    e_extra_feats={\n",
    "        \"Interact\": [\"is_train\",\"is_test\"]},\n",
    "    output_format = \"PyG\")"
   ]
  },
  {
   "cell_type": "code",
   "execution_count": 7,
   "id": "3aa228b3-9fdc-466d-a21d-d5b291ecb3a0",
   "metadata": {},
   "outputs": [],
   "source": [
    "data = graph_loader.data"
   ]
  },
  {
   "cell_type": "markdown",
   "id": "25f5b5f4",
   "metadata": {},
   "source": [
    "Print a summary of the data to see what the graph looks like. It will show all the vertex and edge types in this graph and exported features. "
   ]
  },
  {
   "cell_type": "code",
   "execution_count": 8,
   "id": "605ae0fe-f438-4065-b471-f4999e0fda40",
   "metadata": {},
   "outputs": [
    {
     "data": {
      "text/plain": [
       "HeteroData(\n",
       "  \u001b[1mUser\u001b[0m={ id=[1892] },\n",
       "  \u001b[1mItem\u001b[0m={ id=[17632] },\n",
       "  \u001b[1m(User, Interact, Item)\u001b[0m={\n",
       "    edge_index=[2, 185668],\n",
       "    is_train=[185668],\n",
       "    is_test=[185668]\n",
       "  }\n",
       ")"
      ]
     },
     "execution_count": 8,
     "metadata": {},
     "output_type": "execute_result"
    }
   ],
   "source": [
    "data"
   ]
  },
  {
   "cell_type": "code",
   "execution_count": 9,
   "id": "0ad51197-a5fd-48d0-b354-61bb12fb17ea",
   "metadata": {},
   "outputs": [
    {
     "name": "stdout",
     "output_type": "stream",
     "text": [
      "Number of users: 1892\n",
      "Number of items: 17632\n",
      "Number of nodes: 19524\n"
     ]
    }
   ],
   "source": [
    "num_users = data[\"User\"].id.shape[0]\n",
    "num_items = data[\"Item\"].id.shape[0]\n",
    "num_nodes = num_users + num_items\n",
    "\n",
    "print(\"Number of users: {}\".format(num_users))\n",
    "print(\"Number of items: {}\".format(num_items))\n",
    "print(\"Number of nodes: {}\".format(num_nodes))"
   ]
  },
  {
   "cell_type": "markdown",
   "id": "07846c2f",
   "metadata": {},
   "source": [
    "Now that we have taken care of all the data needed to train the model, let's start the model development leveraging the pyG library. "
   ]
  },
  {
   "cell_type": "code",
   "execution_count": 12,
   "id": "6efa55f9-8ddb-49d3-8758-bc6074a61171",
   "metadata": {},
   "outputs": [
    {
     "name": "stdout",
     "output_type": "stream",
     "text": [
      "Number of training edges: 74314\n",
      "Number of testing edges: 18520\n"
     ]
    },
    {
     "name": "stderr",
     "output_type": "stream",
     "text": [
      "/var/folders/qh/06wrdpnj41zbhy68nl677rzr0000gn/T/ipykernel_50397/792070348.py:32: UserWarning: Sparse CSR tensor support is in beta state. If you miss a functionality in the sparse tensor support, please submit a feature request to https://github.com/pytorch/pytorch/issues. (Triggered internally at  /Users/runner/work/pytorch/pytorch/pytorch/aten/src/ATen/SparseCsrTensorImpl.cpp:68.)\n",
      "  user_item_history = torch.sparse_csr_tensor(user_item_history.indptr,\n"
     ]
    }
   ],
   "source": [
    "import torch\n",
    "import scipy.sparse as ssp\n",
    "import numpy as np\n",
    "from torch_geometric.utils import coalesce\n",
    "\n",
    "# Get user-item bi-adjacency matrix for testing\n",
    "test_user_item = coalesce(data[\"Interact\"][\"edge_index\"][:, data[\"Interact\"].is_test])\n",
    "# Convert the bi-adjacency matrix to the adjacency matrix of a unipartite graph. \n",
    "# Items are indexed after users. This step is needed because LightGCN only supports unipartite graph.\n",
    "test_edge_index = test_user_item.clone().detach()\n",
    "test_edge_index[1] = test_edge_index[1] + num_users\n",
    "# Get test users.\n",
    "test_users = test_user_item[0].unique()\n",
    "# Convert the bi-adjacency matrix to a sparse matrix for computations later.\n",
    "test_user_item_sparse = ssp.coo_matrix((np.ones(test_user_item.shape[1]),\n",
    "                                        test_user_item), \n",
    "                                       shape=(num_users, num_items)).tocsr()\n",
    "test_user_item_sparse = test_user_item_sparse[test_users]\n",
    "\n",
    "# Get user-item bi-adjacency matrix for training\n",
    "train_user_item = coalesce(data[\"Interact\"][\"edge_index\"][:, data[\"Interact\"].is_train])\n",
    "# Convert the bi-adjacency matrix to the adjacency matrix of a unipartite graph. \n",
    "# Items are indexed after users. This step is needed because LightGCN only supports unipartite graph.\n",
    "train_edge_index = train_user_item.clone().detach()\n",
    "train_edge_index[1] = train_edge_index[1] + num_users\n",
    "# Make the adjacency matrix symmetric.\n",
    "train_edge_index = torch.cat((train_edge_index, train_edge_index[[1,0]]), dim=1)\n",
    "# Convert the user-item bi-adjacency matrix to a sparse matrix for easier computation later.\n",
    "user_item_history = ssp.coo_matrix((np.ones(train_user_item.shape[1]), train_user_item), \n",
    "                                   shape=(num_users, num_items)).tocsr()\n",
    "user_item_history = user_item_history[test_users]\n",
    "user_item_history = torch.sparse_csr_tensor(user_item_history.indptr, \n",
    "                                            user_item_history.indices, \n",
    "                                            user_item_history.data, \n",
    "                                            size=user_item_history.shape)\n",
    "\n",
    "\n",
    "\n",
    "print(\"Number of training edges: {}\".format(train_user_item.shape[1]))\n",
    "print(\"Number of testing edges: {}\".format(test_user_item.shape[1]))"
   ]
  },
  {
   "cell_type": "markdown",
   "id": "3d258413-fca2-43dd-8ed2-8defcc8958f6",
   "metadata": {},
   "source": [
    "## LightGCN Model"
   ]
  },
  {
   "cell_type": "markdown",
   "id": "011a2291-6f0e-4410-a817-f683d6f2b4dd",
   "metadata": {},
   "source": [
    "### Create model\n",
    "\n",
    "We define the architecture of our LightGCN model below."
   ]
  },
  {
   "cell_type": "code",
   "execution_count": 13,
   "id": "e2a42965-d878-40e6-bdd0-638c6ca0f019",
   "metadata": {},
   "outputs": [],
   "source": [
    "from torch import Tensor\n",
    "import torch.nn.functional as F\n",
    "import torch_geometric\n",
    "from torch_geometric.typing import Adj\n",
    "\n",
    "class LightGCN(torch_geometric.nn.models.LightGCN):           \n",
    "    def encode(self, edge_index: Adj, \n",
    "               nodes: Tensor = None) -> Tensor:\n",
    "        if nodes:\n",
    "            x = self.embedding(nodes)\n",
    "        else:\n",
    "            x = self.embedding.weight\n",
    "        out = x * self.alpha[0]\n",
    "        for i in range(self.num_layers):\n",
    "            x = self.convs[i](x, edge_index)\n",
    "            out = out + x * self.alpha[i + 1]\n",
    "        return out\n",
    "    \n",
    "    def decode(self, embedding: Tensor, node_pairs: Adj) -> Tensor:\n",
    "        out_src = embedding[node_pairs[0]]\n",
    "        out_dst = embedding[node_pairs[1]]\n",
    "        return (out_src * out_dst).sum(dim=-1)\n",
    "    \n",
    "    def forward(self, edge_index: Adj, nodes: Tensor = None, \n",
    "                node_pairs: Adj = None) -> Tensor:\n",
    "        if node_pairs is None:\n",
    "            node_pairs = edge_index\n",
    "        embed = self.encode(edge_index, nodes)\n",
    "        out = self.decode(embed, node_pairs)\n",
    "        return out\n",
    "    \n",
    "    def bpr_loss(self, pos_scores: Tensor, neg_scores: Tensor):\n",
    "        log_prob = F.logsigmoid(pos_scores - neg_scores).mean()\n",
    "        return -log_prob\n",
    "    \n",
    "    def recommend(self, embedding: Tensor, src_index: Tensor = None,\n",
    "                  dst_index: Tensor = None, k: int = 1, history: Tensor = None) -> Tensor:\n",
    "        out_src = embedding if src_index is None else embedding[src_index] \n",
    "        out_dst = embedding if dst_index is None else embedding[dst_index]\n",
    "        \n",
    "        pred = out_src @ out_dst.t()\n",
    "        \n",
    "        if history is not None:\n",
    "            pred = F.softmax(pred, dim=-1) + history.neg()\n",
    "        \n",
    "        top_index = pred.topk(k, dim=-1).indices\n",
    "\n",
    "        if dst_index is not None:  # Map local top-indices to original indices.\n",
    "            top_index = dst_index[top_index.view(-1)].view(*top_index.size())\n",
    "\n",
    "        return top_index"
   ]
  },
  {
   "cell_type": "code",
   "execution_count": 14,
   "id": "154f5915-8121-4059-9cfe-ece66ef468aa",
   "metadata": {},
   "outputs": [],
   "source": [
    "# Hyperparameters\n",
    "hp = {\"embedding_dim\": 64, \n",
    "      \"num_layers\": 2, \n",
    "      \"dropout\": 0.6, \n",
    "      \"lr\": 0.001, \n",
    "      \"l2_penalty\": 1e-5,\n",
    "      \"topk\": 10}"
   ]
  },
  {
   "cell_type": "code",
   "execution_count": 15,
   "id": "31047550-7c9d-4310-9b2d-552d7812d166",
   "metadata": {},
   "outputs": [],
   "source": [
    "lightgcn = LightGCN(\n",
    "    num_nodes, hp['embedding_dim'], hp['num_layers'], hp['dropout'])\n",
    "\n",
    "optimizer = torch.optim.Adam(\n",
    "    lightgcn.parameters(), lr=hp[\"lr\"], weight_decay=hp[\"l2_penalty\"]\n",
    ")"
   ]
  },
  {
   "cell_type": "code",
   "execution_count": 16,
   "id": "280b7645-e84a-4043-b508-b182f762c2a2",
   "metadata": {},
   "outputs": [
    {
     "data": {
      "text/plain": [
       "LightGCN(19524, 64, num_layers=2)"
      ]
     },
     "execution_count": 16,
     "metadata": {},
     "output_type": "execute_result"
    }
   ],
   "source": [
    "lightgcn"
   ]
  },
  {
   "cell_type": "markdown",
   "id": "82dbd642-2d5f-4805-bccc-95cb091a4856",
   "metadata": {},
   "source": [
    "### Train model\n",
    "\n",
    "The training loop for the LightGCN model is very similar to other Neural Networks. For each epoch and each training batch, we perform a forward pass, calculate loss, and backpropagate the gradient to update the model.\n"
   ]
  },
  {
   "cell_type": "code",
   "execution_count": 17,
   "id": "3f27350b-d6bd-4495-a24a-38354d8efb31",
   "metadata": {},
   "outputs": [
    {
     "data": {
      "application/vnd.jupyter.widget-view+json": {
       "model_id": "1843ed5464cc44899e19ef206feaa6d8",
       "version_major": 2,
       "version_minor": 0
      },
      "text/plain": [
       "  0%|          | 0/12 [00:00<?, ?it/s]"
      ]
     },
     "metadata": {},
     "output_type": "display_data"
    }
   ],
   "source": [
    "import numpy as np\n",
    "import scipy.sparse as ssp\n",
    "from tqdm.auto import trange\n",
    "\n",
    "metrics = {}\n",
    "metrics[\"loss_lgcn_train\"]=[] \n",
    "metrics[\"loss_lgcn_val\"]=[]\n",
    "metrics[\"recall_k_val\"]=[]\n",
    "metrics[\"precision_k_val\"]=[]\n",
    "\n",
    "for epoch in trange(12):\n",
    "    lightgcn.train()\n",
    "    # Negative sampling. Randomly permute items to get negative user \n",
    "    # item edges.\n",
    "    neg_edges = train_user_item.clone().detach()\n",
    "    neg_edges[1] = neg_edges[1][torch.randperm(neg_edges.shape[1])] + num_users\n",
    "    # Forward pass. Encode + decode\n",
    "    h = lightgcn.encode(train_edge_index)\n",
    "    pos_scores = lightgcn.decode(h, train_edge_index[:, :train_user_item.shape[1]])\n",
    "    neg_scores = lightgcn.decode(h, neg_edges)\n",
    "    # Loss and backprop\n",
    "    loss = lightgcn.bpr_loss(pos_scores, neg_scores)\n",
    "    optimizer.zero_grad()\n",
    "    loss.backward()\n",
    "    optimizer.step()\n",
    "    # Logging\n",
    "    metrics[\"loss_lgcn_train\"].append(loss.item())\n",
    "    \n",
    "    # Evaluate\n",
    "    lightgcn.eval()\n",
    "    neg_edges = test_edge_index.clone().detach()\n",
    "    neg_edges[1]=neg_edges[1][torch.randperm(neg_edges.shape[1])]\n",
    "    with torch.no_grad():\n",
    "        # Loss\n",
    "        pos_scores = lightgcn.decode(h, test_edge_index)\n",
    "        neg_scores = lightgcn.decode(h, neg_edges) \n",
    "        loss = lightgcn.bpr_loss(pos_scores, neg_scores)\n",
    "        metrics[\"loss_lgcn_val\"].append(loss.item())\n",
    "        # Recall at k\n",
    "        # Get recommendations using the current model\n",
    "        recs = lightgcn.recommend(embedding=h, \n",
    "                                  src_index=test_users, \n",
    "                                  dst_index=torch.arange(num_users, num_nodes), \n",
    "                                  k=hp[\"topk\"], \n",
    "                                  history=user_item_history)\n",
    "        # Convert the recommendations to a sparse matrix\n",
    "        recs = ssp.csr_matrix((np.ones(recs.shape[0]*recs.shape[1]),\n",
    "                               recs.flatten() - num_users,\n",
    "                               np.arange(0, recs.shape[0]*recs.shape[1]+1, hp[\"topk\"])),\n",
    "                              shape=(len(test_users), num_items))\n",
    "        metrics[\"recall_k_val\"].append(\n",
    "            (recs.multiply(test_user_item_sparse).sum(axis=1) / test_user_item_sparse.sum(axis=1)).mean())\n",
    "        metrics[\"precision_k_val\"].append(\n",
    "            (recs.multiply(test_user_item_sparse).sum(axis=1) / hp[\"topk\"]).mean())"
   ]
  },
  {
   "cell_type": "markdown",
   "id": "e1351678",
   "metadata": {},
   "source": [
    "Now that the model has been trained, let's visualize its performance metrics using matplotlib."
   ]
  },
  {
   "cell_type": "code",
   "execution_count": 18,
   "id": "e3923e3f-1dfa-4e7c-8366-5113d806a34d",
   "metadata": {},
   "outputs": [
    {
     "data": {
      "image/png": "[encoded data removed]",
      "text/plain": [
       "<Figure size 1000x600 with 2 Axes>"
      ]
     },
     "metadata": {},
     "output_type": "display_data"
    }
   ],
   "source": [
    "import matplotlib.pyplot as plt\n",
    "\n",
    "fig,ax = plt.subplots(3,1, figsize=(10,9))\n",
    "ax[0].plot(metrics[\"loss_lgcn_train\"], label=\"Train\");\n",
    "ax[0].plot(metrics[\"loss_lgcn_val\"], label=\"Valid\");\n",
    "ax[0].set_ylabel(\"Loss\", fontsize=12)\n",
    "ax[0].legend();\n",
    "ax[1].plot(metrics[\"recall_k_val\"], color=\"C1\");\n",
    "ax[1].set_ylabel(\"Recall at {}\".format(hp[\"topk\"]), fontsize=12);\n",
    "ax[1].set_xlabel(\"Step\", fontsize=12);\n",
    "ax[2].plot(metrics[\"precision_k_val\"], color=\"C1\");\n",
    "ax[2].set_ylabel(\"Precision at {}\".format(hp[\"topk\"]), fontsize=12);\n",
    "ax[2].set_xlabel(\"Step\", fontsize=12);"
   ]
  },
  {
   "cell_type": "markdown",
   "id": "70336038-7a9e-4b07-bcef-14d2231f5023",
   "metadata": {},
   "source": [
    "## Conclusion\n",
    "\n",
    "* We built and trained a LightGCN model on the LastFM graph stored in a TigerGraph database.\n",
    "* We learnt how to do recommendations with the trained LightGCN model.\n",
    "* We learnt how to measure the quality of recommendations with Recall at K."
   ]
  },
  {
   "cell_type": "code",
   "execution_count": null,
   "id": "909afd09-e982-40ce-ab42-f5961b843cc6",
   "metadata": {},
   "outputs": [],
   "source": []
  }
 ],
 "metadata": {
  "kernelspec": {
   "display_name": "Python 3.9.6 64-bit",
   "language": "python",
   "name": "python3"
  },
  "language_info": {
   "codemirror_mode": {
    "name": "ipython",
    "version": 3
   },
   "file_extension": ".py",
   "mimetype": "text/x-python",
   "name": "python",
   "nbconvert_exporter": "python",
   "pygments_lexer": "ipython3",
   "version": "3.9.6"
  },
  "vscode": {
   "interpreter": {
    "hash": "31f2aee4e71d21fbe5cf8b01ff0e069b9275f58929596ceb00d14d90e3e16cd6"
   }
  }
 },
 "nbformat": 4,
 "nbformat_minor": 5
}
