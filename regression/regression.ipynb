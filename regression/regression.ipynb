{
 "cells": [
  {
   "cell_type": "code",
   "execution_count": 1,
   "id": "cc354491-c629-47b3-a7d6-b4b5060409de",
   "metadata": {},
   "outputs": [
    {
     "name": "stdout",
     "output_type": "stream",
     "text": [
      "/home/tigergraph/GML/graph-ml-notebooks/algos/topologicalLinkPrediction.ipynb\n",
      "/home/tigergraph/GML/graph-ml-notebooks/algos/embedding.ipynb\n",
      "/home/tigergraph/GML/graph-ml-notebooks/algos/classification.ipynb\n",
      "/home/tigergraph/GML/graph-ml-notebooks/algos/similarity.ipynb\n",
      "/home/tigergraph/GML/graph-ml-notebooks/algos/centrality.ipynb\n",
      "/home/tigergraph/GML/graph-ml-notebooks/algos/community.ipynb\n",
      "/home/tigergraph/GML/graph-ml-notebooks/algos/pathfinding.ipynb\n"
     ]
    }
   ],
   "source": [
    "import os\n",
    "\n",
    "# folder path\n",
    "dir_path = \"/home/tigergraph/GraphML/algos/\"\n",
    "\n",
    "# list to store files\n",
    "notebook_list = []\n",
    "\n",
    "# Iterate directory\n",
    "for root, dirs, files in os.walk(dir_path):\n",
    "    for file in files:\n",
    "        if file.endswith(\".ipynb\") and \"checkpoint\" not in file and \"regression\" not in file:\n",
    "            notebook_list.append(os.path.join(root, file))\n",
    "        \n",
    "for notebook in notebook_list:\n",
    "    print(notebook)"
   ]
  },
  {
   "cell_type": "code",
   "execution_count": 2,
   "id": "f5249446-1e9d-4c03-a2c2-cd8d69febb5e",
   "metadata": {},
   "outputs": [],
   "source": [
    "import json\n",
    "from pyTigerGraph import TigerGraphConnection\n",
    "\n",
    "# Read in DB configs\n",
    "with open('../config.json', \"r\") as config_file:\n",
    "    config = json.load(config_file)\n",
    "\n",
    "conn = TigerGraphConnection(\n",
    "    host=config[\"host\"],\n",
    "    username=config[\"username\"],\n",
    "    password=config[\"password\"],\n",
    ")"
   ]
  },
  {
   "cell_type": "code",
   "execution_count": 3,
   "id": "027412ab-fced-4f6a-be78-ef7def5e4a00",
   "metadata": {},
   "outputs": [
    {
     "name": "stdout",
     "output_type": "stream",
     "text": [
      "Requirement already satisfied: memory_profiler in /opt/conda/lib/python3.9/site-packages (0.61.0)\n",
      "Requirement already satisfied: psutil in /opt/conda/lib/python3.9/site-packages (from memory_profiler) (5.9.1)\n"
     ]
    },
    {
     "name": "stderr",
     "output_type": "stream",
     "text": [
      "/opt/conda/lib/python3.9/site-packages/memory_profiler.py:1136: DeprecationWarning: distutils Version classes are deprecated. Use packaging.version instead.\n",
      "  ipython_version = LooseVersion(IPython.__version__)\n",
      "/opt/conda/lib/python3.9/site-packages/setuptools/_distutils/version.py:346: DeprecationWarning: distutils Version classes are deprecated. Use packaging.version instead.\n",
      "  other = LooseVersion(other)\n"
     ]
    },
    {
     "name": "stdout",
     "output_type": "stream",
     "text": [
      "Dropping all graphs, loading jobs, and queries sucessfully.\n",
      "\n",
      "Executing notebook: /home/tigergraph/GML/graph-ml-notebooks/algos/topologicalLinkPrediction.ipynb\n",
      "cd /home/tigergraph/GML/graph-ml-notebooks/algos && jupyter nbconvert --to html --execute topologicalLinkPrediction.ipynb --output-dir=/home/tigergraph/GML/graph-ml-notebooks/output/algos/topologicalLinkPrediction.ipynb\n"
     ]
    },
    {
     "name": "stderr",
     "output_type": "stream",
     "text": [
      "[NbConvertApp] Converting notebook topologicalLinkPrediction.ipynb to html\n",
      "[NbConvertApp] Writing 674800 bytes to /home/tigergraph/GML/graph-ml-notebooks/output/algos/topologicalLinkPrediction.ipynb/topologicalLinkPrediction.html\n"
     ]
    },
    {
     "name": "stdout",
     "output_type": "stream",
     "text": [
      "peak memory: 75.13 MiB, increment: 0.27 MiB\n",
      "The CPU usage is:  26.5\n",
      "RAM Used (GB): 6.797631488\n",
      "/home/tigergraph/GML/graph-ml-notebooks/algos/topologicalLinkPrediction.ipynb executed successfully\n",
      "execution time: 282.30571269989014 seconds\n",
      "\n",
      "Dropping all graphs, loading jobs, and queries sucessfully.\n",
      "\n",
      "Executing notebook: /home/tigergraph/GML/graph-ml-notebooks/algos/embedding.ipynb\n",
      "cd /home/tigergraph/GML/graph-ml-notebooks/algos && jupyter nbconvert --to html --execute embedding.ipynb --output-dir=/home/tigergraph/GML/graph-ml-notebooks/output/algos/embedding.ipynb\n"
     ]
    },
    {
     "name": "stderr",
     "output_type": "stream",
     "text": [
      "[NbConvertApp] Converting notebook embedding.ipynb to html\n",
      "[NbConvertApp] Writing 687473 bytes to /home/tigergraph/GML/graph-ml-notebooks/output/algos/embedding.ipynb/embedding.html\n"
     ]
    },
    {
     "name": "stdout",
     "output_type": "stream",
     "text": [
      "peak memory: 75.25 MiB, increment: 0.03 MiB\n",
      "The CPU usage is:  26.4\n",
      "RAM Used (GB): 6.9184512\n",
      "/home/tigergraph/GML/graph-ml-notebooks/algos/embedding.ipynb executed successfully\n",
      "execution time: 243.8325412273407 seconds\n",
      "\n",
      "Dropping all graphs, loading jobs, and queries sucessfully.\n",
      "\n",
      "Executing notebook: /home/tigergraph/GML/graph-ml-notebooks/algos/classification.ipynb\n",
      "cd /home/tigergraph/GML/graph-ml-notebooks/algos && jupyter nbconvert --to html --execute classification.ipynb --output-dir=/home/tigergraph/GML/graph-ml-notebooks/output/algos/classification.ipynb\n"
     ]
    },
    {
     "name": "stderr",
     "output_type": "stream",
     "text": [
      "[NbConvertApp] Converting notebook classification.ipynb to html\n",
      "[NbConvertApp] Writing 708898 bytes to /home/tigergraph/GML/graph-ml-notebooks/output/algos/classification.ipynb/classification.html\n"
     ]
    },
    {
     "name": "stdout",
     "output_type": "stream",
     "text": [
      "peak memory: 75.35 MiB, increment: 0.10 MiB\n",
      "The CPU usage is:  24.0\n",
      "RAM Used (GB): 6.934577152\n",
      "/home/tigergraph/GML/graph-ml-notebooks/algos/classification.ipynb executed successfully\n",
      "execution time: 414.18331146240234 seconds\n",
      "\n",
      "Dropping all graphs, loading jobs, and queries sucessfully.\n",
      "\n",
      "Executing notebook: /home/tigergraph/GML/graph-ml-notebooks/algos/similarity.ipynb\n",
      "cd /home/tigergraph/GML/graph-ml-notebooks/algos && jupyter nbconvert --to html --execute similarity.ipynb --output-dir=/home/tigergraph/GML/graph-ml-notebooks/output/algos/similarity.ipynb\n"
     ]
    },
    {
     "name": "stderr",
     "output_type": "stream",
     "text": [
      "[NbConvertApp] Converting notebook similarity.ipynb to html\n",
      "[NbConvertApp] Writing 657096 bytes to /home/tigergraph/GML/graph-ml-notebooks/output/algos/similarity.ipynb/similarity.html\n"
     ]
    },
    {
     "name": "stdout",
     "output_type": "stream",
     "text": [
      "peak memory: 75.35 MiB, increment: 0.00 MiB\n",
      "The CPU usage is:  23.9\n",
      "RAM Used (GB): 6.8861952\n",
      "/home/tigergraph/GML/graph-ml-notebooks/algos/similarity.ipynb executed successfully\n",
      "execution time: 217.29136562347412 seconds\n",
      "\n",
      "Dropping all graphs, loading jobs, and queries sucessfully.\n",
      "\n",
      "Executing notebook: /home/tigergraph/GML/graph-ml-notebooks/algos/centrality.ipynb\n",
      "cd /home/tigergraph/GML/graph-ml-notebooks/algos && jupyter nbconvert --to html --execute centrality.ipynb --output-dir=/home/tigergraph/GML/graph-ml-notebooks/output/algos/centrality.ipynb\n"
     ]
    },
    {
     "name": "stderr",
     "output_type": "stream",
     "text": [
      "[NbConvertApp] Converting notebook centrality.ipynb to html\n",
      "[NbConvertApp] Writing 764722 bytes to /home/tigergraph/GML/graph-ml-notebooks/output/algos/centrality.ipynb/centrality.html\n"
     ]
    },
    {
     "name": "stdout",
     "output_type": "stream",
     "text": [
      "peak memory: 75.39 MiB, increment: 0.02 MiB\n",
      "The CPU usage is:  26.1\n",
      "RAM Used (GB): 9.723551744\n",
      "/home/tigergraph/GML/graph-ml-notebooks/algos/centrality.ipynb executed successfully\n",
      "execution time: 529.8975987434387 seconds\n",
      "\n",
      "Dropping all graphs, loading jobs, and queries sucessfully.\n",
      "\n",
      "Executing notebook: /home/tigergraph/GML/graph-ml-notebooks/algos/community.ipynb\n",
      "cd /home/tigergraph/GML/graph-ml-notebooks/algos && jupyter nbconvert --to html --execute community.ipynb --output-dir=/home/tigergraph/GML/graph-ml-notebooks/output/algos/community.ipynb\n"
     ]
    },
    {
     "name": "stderr",
     "output_type": "stream",
     "text": [
      "[NbConvertApp] Converting notebook community.ipynb to html\n",
      "[NbConvertApp] Writing 706541 bytes to /home/tigergraph/GML/graph-ml-notebooks/output/algos/community.ipynb/community.html\n"
     ]
    },
    {
     "name": "stdout",
     "output_type": "stream",
     "text": [
      "peak memory: 75.42 MiB, increment: 0.03 MiB\n",
      "The CPU usage is:  25.4\n",
      "RAM Used (GB): 9.666461696\n",
      "/home/tigergraph/GML/graph-ml-notebooks/algos/community.ipynb executed successfully\n",
      "execution time: 608.2130348682404 seconds\n",
      "\n",
      "Dropping all graphs, loading jobs, and queries sucessfully.\n",
      "\n",
      "Executing notebook: /home/tigergraph/GML/graph-ml-notebooks/algos/pathfinding.ipynb\n",
      "cd /home/tigergraph/GML/graph-ml-notebooks/algos && jupyter nbconvert --to html --execute pathfinding.ipynb --output-dir=/home/tigergraph/GML/graph-ml-notebooks/output/algos/pathfinding.ipynb\n"
     ]
    },
    {
     "name": "stderr",
     "output_type": "stream",
     "text": [
      "[NbConvertApp] Converting notebook pathfinding.ipynb to html\n",
      "[NbConvertApp] Writing 672256 bytes to /home/tigergraph/GML/graph-ml-notebooks/output/algos/pathfinding.ipynb/pathfinding.html\n"
     ]
    },
    {
     "name": "stdout",
     "output_type": "stream",
     "text": [
      "peak memory: 75.43 MiB, increment: 0.00 MiB\n",
      "The CPU usage is:  33.3\n",
      "RAM Used (GB): 10.289545216\n",
      "/home/tigergraph/GML/graph-ml-notebooks/algos/pathfinding.ipynb executed successfully\n",
      "execution time: 401.25413250923157 seconds\n",
      "\n"
     ]
    }
   ],
   "source": [
    "import csv\n",
    "import os\n",
    "import time\n",
    "import psutil\n",
    "!pip install memory_profiler\n",
    "%load_ext memory_profiler\n",
    "\n",
    "notebook_performance_out = '/home/tigergraph/GraphML/output/notebook_' + config[\"job_id\"] + '.csv'\n",
    "algorithm_performance_out = '/home/tigergraph/GraphML/output/algorithm_' + config[\"job_id\"] + '.csv'\n",
    "\n",
    "# notebook_header = [\"notebook_id\", \"is_failure\", \"host_cpu_usage\", \"notebook_memory\", \"execution_time\", \"host_memory\", \"error_message\", \"cron_job_id\"]\n",
    "\n",
    "# algorithm_header = [\"algorithm_id\", \"is_failure\", \"host_cpu_usage\", \"algo_memory\", \"execution_time\", \"host_memory\", \"algo_version\", \"error_message\", \"notebook_id\"]\n",
    "\n",
    "# os.makedirs(os.path.dirname(notebook_performance_out), exist_ok=True)\n",
    "# with open(notebook_performance_out, mode='a+', encoding='utf-8') as f:\n",
    "#         writer = csv.writer(f) \n",
    "#         writer.writerow(notebook_header)\n",
    "\n",
    "os.makedirs(os.path.dirname(algorithm_performance_out), exist_ok=True)\n",
    "with open(algorithm_performance_out, mode='a+', encoding='utf-8') as f:\n",
    "        writer = csv.writer(f) \n",
    "#         writer.writerow(algorithm_header)\n",
    "\n",
    "for nb_file in notebook_list:\n",
    "    \n",
    "    result = conn.gsql('DROP ALL')\n",
    "    print ('Dropping all graphs, loading jobs, and queries sucessfully.\\n')\n",
    "    \n",
    "    print ('Executing notebook: ' + nb_file)\n",
    "    \n",
    "    root = '/home/tigergraph/GraphML/algos/'\n",
    "    \n",
    "    nb_file = nb_file.replace(\"./\", root)\n",
    "    \n",
    "    cmd = 'cd {} && jupyter nbconvert --to html --execute {} --output-dir=/home/tigergraph/GraphML/output/{}'.format(os.path.dirname(nb_file), os.path.basename(nb_file), nb_file.replace(\"/home/tigergraph/GML/graph-ml-notebooks/\", \"\"))\n",
    "    \n",
    "    print (cmd)\n",
    "    \n",
    "    start_time = time.time()\n",
    "    \n",
    "    notebook_memory = %memit -r 1 -o os.system(cmd)\n",
    "    \n",
    "    notebook_memory = str(notebook_memory)\n",
    "    \n",
    "    start = notebook_memory.find(\": \") + 1\n",
    "    end = notebook_memory.find(\"M\")\n",
    "    \n",
    "    notebook_memory = notebook_memory[start:end].strip()\n",
    "    \n",
    "    execution_time = time.time() - start_time\n",
    "    \n",
    "    cpu_usage = psutil.cpu_percent(4)\n",
    "    \n",
    "    print('The CPU usage is: ', cpu_usage)\n",
    "    \n",
    "    # print('RAM memory % used:', psutil.virtual_memory()[2])\n",
    "    \n",
    "    host_memory = psutil.virtual_memory()[3]/1000000000\n",
    "\n",
    "    print('RAM Used (GB):', host_memory)\n",
    "    \n",
    "    print (nb_file + ' executed successfully')\n",
    "    \n",
    "    print ('execution time: ' + str(execution_time) + ' seconds\\n')\n",
    "    \n",
    "    nb_file = nb_file.replace(\"/home/tigergraph/GraphML/algos/\", \"\")\n",
    "    \n",
    "    nb_file = nb_file.replace(\"/\", \"_\")\n",
    "    \n",
    "    nb_id = nb_file + \"_\" + config[\"job_id\"]\n",
    "    \n",
    "    job_id = \"job_\" + config[\"job_id\"]\n",
    "    \n",
    "    data = [nb_id, \"false\" ,cpu_usage, notebook_memory, execution_time, host_memory, \"no errors\", job_id]\n",
    "    \n",
    "    os.makedirs(os.path.dirname(notebook_performance_out), exist_ok=True)\n",
    "    with open(notebook_performance_out, mode='a+', encoding='utf-8') as f:\n",
    "        writer = csv.writer(f) \n",
    "        writer.writerow(data)"
   ]
  },
  {
   "cell_type": "code",
   "execution_count": 5,
   "id": "02e80112-206e-46d8-9bb7-7ab5aa0d0027",
   "metadata": {},
   "outputs": [
    {
     "data": {
      "text/plain": [
       "('s8jj9v3rc4oleljkr1263kjnfncf2f2g', 1674250471, '2023-01-20 21:34:31')"
      ]
     },
     "execution_count": 5,
     "metadata": {},
     "output_type": "execute_result"
    }
   ],
   "source": [
    "from pyTigerGraph import TigerGraphConnection\n",
    "\n",
    "conn = TigerGraphConnection(\n",
    "    host=\"https://mlwb-monitoring.i.tgcloud.io\",\n",
    "    username=\"user_1\",\n",
    "    password=\"Yo6Kf9Lg1Pp8Nu7|\",\n",
    "    graphname=\"mlwb_monitor\"\n",
    ")\n",
    "conn.getToken(conn.createSecret())"
   ]
  },
  {
   "cell_type": "code",
   "execution_count": 7,
   "id": "7bcddb06-bc2c-4b6a-8d8f-5398dd85befe",
   "metadata": {},
   "outputs": [
    {
     "name": "stdout",
     "output_type": "stream",
     "text": [
      "[{'sourceFileName': 'Online_POST', 'statistics': {'validLine': 7, 'rejectLine': 0, 'failedConditionLine': 0, 'notEnoughToken': 0, 'invalidJson': 0, 'oversizeToken': 0, 'vertex': [{'typeName': 'Notebook', 'validObject': 7, 'noIdFound': 0, 'invalidAttribute': 0, 'invalidVertexType': 0, 'invalidPrimaryId': 0, 'invalidSecondaryId': 0, 'incorrectFixedBinaryLength': 0}], 'edge': [{'typeName': 'hasNotebook', 'validObject': 7, 'noIdFound': 0, 'invalidAttribute': 0, 'invalidVertexType': 0, 'invalidPrimaryId': 0, 'invalidSecondaryId': 0, 'incorrectFixedBinaryLength': 0}], 'deleteVertex': [], 'deleteEdge': []}}]\n"
     ]
    }
   ],
   "source": [
    "uploadNotebookFile = conn.runLoadingJobWithFile(notebook_performance_out, \"notebook_file\", \"load_mlwb_monitor\", \",\")\n",
    "print (uploadNotebookFile)"
   ]
  },
  {
   "cell_type": "code",
   "execution_count": 8,
   "id": "03195591-4df2-4b9c-9c22-226c94f6f0a6",
   "metadata": {},
   "outputs": [
    {
     "name": "stdout",
     "output_type": "stream",
     "text": [
      "[{'sourceFileName': 'Online_POST', 'statistics': {'validLine': 26, 'rejectLine': 0, 'failedConditionLine': 0, 'notEnoughToken': 0, 'invalidJson': 0, 'oversizeToken': 0, 'vertex': [{'typeName': 'Algorithm', 'validObject': 26, 'noIdFound': 0, 'invalidAttribute': 0, 'invalidVertexType': 0, 'invalidPrimaryId': 0, 'invalidSecondaryId': 0, 'incorrectFixedBinaryLength': 0}], 'edge': [{'typeName': 'runAlgorithm', 'validObject': 26, 'noIdFound': 0, 'invalidAttribute': 0, 'invalidVertexType': 0, 'invalidPrimaryId': 0, 'invalidSecondaryId': 0, 'incorrectFixedBinaryLength': 0}], 'deleteVertex': [], 'deleteEdge': []}}]\n"
     ]
    }
   ],
   "source": [
    "uploadAlgorithmFile = conn.runLoadingJobWithFile(algorithm_performance_out, \"algorithm_file\", \"load_mlwb_monitor\", \",\")\n",
    "print (uploadAlgorithmFile)"
   ]
  }
 ],
 "metadata": {
  "kernelspec": {
   "display_name": "Python 3 (ipykernel)",
   "language": "python",
   "name": "python3"
  },
  "language_info": {
   "codemirror_mode": {
    "name": "ipython",
    "version": 3
   },
   "file_extension": ".py",
   "mimetype": "text/x-python",
   "name": "python",
   "nbconvert_exporter": "python",
   "pygments_lexer": "ipython3",
   "version": "3.9.6"
  }
 },
 "nbformat": 4,
 "nbformat_minor": 5
}
