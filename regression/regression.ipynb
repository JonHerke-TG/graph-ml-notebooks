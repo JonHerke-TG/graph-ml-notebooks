{
 "cells": [
  {
   "cell_type": "code",
   "execution_count": 1,
   "id": "cc354491-c629-47b3-a7d6-b4b5060409de",
   "metadata": {},
   "outputs": [
    {
     "name": "stdout",
     "output_type": "stream",
     "text": [
      "/home/tigergraph/GML/GNNs/PyG/gcn_link_prediction.ipynb\n",
      "/home/tigergraph/GML/GNNs/PyG/gcn_node_classification.ipynb\n",
      "/home/tigergraph/GML/GNNs/PyG/hgat_node_classification.ipynb\n",
      "/home/tigergraph/GML/GNNs/Spektral/gcn_node_classification.ipynb\n",
      "/home/tigergraph/GML/GNNs/DGL/gcn_node_classification.ipynb\n",
      "/home/tigergraph/GML/GNNs/DGL/rgcn_node_classification.ipynb\n",
      "/home/tigergraph/GML/algos/topologicalLinkPrediction.ipynb\n",
      "/home/tigergraph/GML/algos/embedding.ipynb\n",
      "/home/tigergraph/GML/algos/classification.ipynb\n",
      "/home/tigergraph/GML/algos/similarity.ipynb\n",
      "/home/tigergraph/GML/algos/centrality.ipynb\n",
      "/home/tigergraph/GML/algos/community.ipynb\n",
      "/home/tigergraph/GML/algos/pathfinding.ipynb\n",
      "/home/tigergraph/GML/applications/recommendation/recommendation.ipynb\n",
      "/home/tigergraph/GML/applications/fraud_detection/fraud_detection.ipynb\n",
      "/home/tigergraph/GML/basics/gsql_102.ipynb\n",
      "/home/tigergraph/GML/basics/datasets.ipynb\n",
      "/home/tigergraph/GML/basics/pyTigergraph_101.ipynb\n",
      "/home/tigergraph/GML/basics/feature_engineering.ipynb\n",
      "/home/tigergraph/GML/basics/gsql_101.ipynb\n"
     ]
    }
   ],
   "source": [
    "import os\n",
    "\n",
    "# folder path\n",
    "dir_path = \"/home/tigergraph/GraphML\"\n",
    "\n",
    "# list to store files\n",
    "notebook_list = []\n",
    "\n",
    "# Iterate directory\n",
    "for root, dirs, files in os.walk(dir_path):\n",
    "    for file in files:\n",
    "        if file.endswith(\".ipynb\") and \"checkpoint\" not in file and \"benchmark\" not in file and \"Untitled\" not in file and \"test\" not in file:\n",
    "            notebook_list.append(os.path.join(root, file))\n",
    "        \n",
    "for notebook in notebook_list:\n",
    "    print(notebook)"
   ]
  },
  {
   "cell_type": "code",
   "execution_count": 2,
   "id": "f5249446-1e9d-4c03-a2c2-cd8d69febb5e",
   "metadata": {},
   "outputs": [],
   "source": [
    "import json\n",
    "from pyTigerGraph import TigerGraphConnection\n",
    "\n",
    "# Read in DB configs\n",
    "with open('../config.json', \"r\") as config_file:\n",
    "    config = json.load(config_file)\n",
    "\n",
    "conn = TigerGraphConnection(\n",
    "    host=config[\"host\"],\n",
    "    username=config[\"username\"],\n",
    "    password=config[\"password\"],\n",
    ")"
   ]
  },
  {
   "cell_type": "code",
   "execution_count": 3,
   "id": "027412ab-fced-4f6a-be78-ef7def5e4a00",
   "metadata": {},
   "outputs": [
    {
     "name": "stderr",
     "output_type": "stream",
     "text": [
      "/opt/conda/lib/python3.9/site-packages/memory_profiler.py:1136: DeprecationWarning: distutils Version classes are deprecated. Use packaging.version instead.\n",
      "  ipython_version = LooseVersion(IPython.__version__)\n",
      "/opt/conda/lib/python3.9/site-packages/setuptools/_distutils/version.py:346: DeprecationWarning: distutils Version classes are deprecated. Use packaging.version instead.\n",
      "  other = LooseVersion(other)\n"
     ]
    },
    {
     "name": "stdout",
     "output_type": "stream",
     "text": [
      "Dropping all graphs, loading jobs, and queries sucessfully.\n",
      "\n",
      "Executing notebook: /home/tigergraph/GML/GNNs/PyG/gcn_link_prediction.ipynb\n"
     ]
    },
    {
     "name": "stderr",
     "output_type": "stream",
     "text": [
      "[NbConvertApp] Converting notebook gcn_link_prediction.ipynb to html\n",
      "[NbConvertApp] Writing 662525 bytes to /home/tigergraph/GML/output/GNNs/PyG/gcn_link_prediction.ipynb/gcn_link_prediction.html\n"
     ]
    },
    {
     "name": "stdout",
     "output_type": "stream",
     "text": [
      "peak memory: 74.75 MiB, increment: 0.45 MiB\n",
      "The CPU usage is:  22.3\n",
      "RAM memory % used: 34.0\n",
      "RAM Used (GB): 4.99724288\n",
      "/home/tigergraph/GML/GNNs/PyG/gcn_link_prediction.ipynb executed successfully\n",
      "execution time: 318.173624753952 seconds\n",
      "\n",
      "Dropping all graphs, loading jobs, and queries sucessfully.\n",
      "\n",
      "Executing notebook: /home/tigergraph/GML/GNNs/PyG/gcn_node_classification.ipynb\n"
     ]
    },
    {
     "name": "stderr",
     "output_type": "stream",
     "text": [
      "[NbConvertApp] Converting notebook gcn_node_classification.ipynb to html\n",
      "[NbConvertApp] Writing 683215 bytes to /home/tigergraph/GML/output/GNNs/PyG/gcn_node_classification.ipynb/gcn_node_classification.html\n"
     ]
    },
    {
     "name": "stdout",
     "output_type": "stream",
     "text": [
      "peak memory: 74.80 MiB, increment: 0.04 MiB\n",
      "The CPU usage is:  24.5\n",
      "RAM memory % used: 33.8\n",
      "RAM Used (GB): 4.966948864\n",
      "/home/tigergraph/GML/GNNs/PyG/gcn_node_classification.ipynb executed successfully\n",
      "execution time: 206.7193534374237 seconds\n",
      "\n",
      "Dropping all graphs, loading jobs, and queries sucessfully.\n",
      "\n",
      "Executing notebook: /home/tigergraph/GML/GNNs/PyG/hgat_node_classification.ipynb\n"
     ]
    },
    {
     "name": "stderr",
     "output_type": "stream",
     "text": [
      "[NbConvertApp] Converting notebook hgat_node_classification.ipynb to html\n",
      "[NbConvertApp] Writing 709765 bytes to /home/tigergraph/GML/output/GNNs/PyG/hgat_node_classification.ipynb/hgat_node_classification.html\n"
     ]
    },
    {
     "name": "stdout",
     "output_type": "stream",
     "text": [
      "peak memory: 75.00 MiB, increment: 0.19 MiB\n",
      "The CPU usage is:  24.0\n",
      "RAM memory % used: 37.0\n",
      "RAM Used (GB): 5.505605632\n",
      "/home/tigergraph/GML/GNNs/PyG/hgat_node_classification.ipynb executed successfully\n",
      "execution time: 357.10809111595154 seconds\n",
      "\n",
      "Dropping all graphs, loading jobs, and queries sucessfully.\n",
      "\n",
      "Executing notebook: /home/tigergraph/GML/GNNs/Spektral/gcn_node_classification.ipynb\n"
     ]
    },
    {
     "name": "stderr",
     "output_type": "stream",
     "text": [
      "[NbConvertApp] Converting notebook gcn_node_classification.ipynb to html\n",
      "2022-12-01 01:39:48.725747: I tensorflow/core/platform/cpu_feature_guard.cc:193] This TensorFlow binary is optimized with oneAPI Deep Neural Network Library (oneDNN) to use the following CPU instructions in performance-critical operations:  AVX2 AVX512F AVX512_VNNI FMA\n",
      "To enable them in other operations, rebuild TensorFlow with the appropriate compiler flags.\n",
      "2022-12-01 01:39:49.330028: I tensorflow/core/util/util.cc:169] oneDNN custom operations are on. You may see slightly different numerical results due to floating-point round-off errors from different computation orders. To turn them off, set the environment variable `TF_ENABLE_ONEDNN_OPTS=0`.\n",
      "2022-12-01 01:39:49.507275: W tensorflow/stream_executor/platform/default/dso_loader.cc:64] Could not load dynamic library 'libcudart.so.11.0'; dlerror: libcudart.so.11.0: cannot open shared object file: No such file or directory\n",
      "2022-12-01 01:39:49.507296: I tensorflow/stream_executor/cuda/cudart_stub.cc:29] Ignore above cudart dlerror if you do not have a GPU set up on your machine.\n",
      "2022-12-01 01:39:49.609810: E tensorflow/stream_executor/cuda/cuda_blas.cc:2981] Unable to register cuBLAS factory: Attempting to register factory for plugin cuBLAS when one has already been registered\n",
      "2022-12-01 01:39:51.504342: W tensorflow/stream_executor/platform/default/dso_loader.cc:64] Could not load dynamic library 'libnvinfer.so.7'; dlerror: libnvinfer.so.7: cannot open shared object file: No such file or directory\n",
      "2022-12-01 01:39:51.504519: W tensorflow/stream_executor/platform/default/dso_loader.cc:64] Could not load dynamic library 'libnvinfer_plugin.so.7'; dlerror: libnvinfer_plugin.so.7: cannot open shared object file: No such file or directory\n",
      "2022-12-01 01:39:51.504533: W tensorflow/compiler/tf2tensorrt/utils/py_utils.cc:38] TF-TRT Warning: Cannot dlopen some TensorRT libraries. If you would like to use Nvidia GPU with TensorRT, please make sure the missing libraries mentioned above are installed properly.\n",
      "2022-12-01 01:39:55.775870: W tensorflow/stream_executor/platform/default/dso_loader.cc:64] Could not load dynamic library 'libcuda.so.1'; dlerror: libcuda.so.1: cannot open shared object file: No such file or directory\n",
      "2022-12-01 01:39:55.776666: W tensorflow/stream_executor/cuda/cuda_driver.cc:263] failed call to cuInit: UNKNOWN ERROR (303)\n",
      "2022-12-01 01:39:55.776712: I tensorflow/stream_executor/cuda/cuda_diagnostics.cc:156] kernel driver does not appear to be running on this host (df8d3fc244d1): /proc/driver/nvidia/version does not exist\n",
      "2022-12-01 01:39:55.783791: I tensorflow/core/platform/cpu_feature_guard.cc:193] This TensorFlow binary is optimized with oneAPI Deep Neural Network Library (oneDNN) to use the following CPU instructions in performance-critical operations:  AVX2 AVX512F AVX512_VNNI FMA\n",
      "To enable them in other operations, rebuild TensorFlow with the appropriate compiler flags.\n",
      "[NbConvertApp] Writing 695734 bytes to /home/tigergraph/GML/output/GNNs/Spektral/gcn_node_classification.ipynb/gcn_node_classification.html\n"
     ]
    },
    {
     "name": "stdout",
     "output_type": "stream",
     "text": [
      "peak memory: 75.02 MiB, increment: 0.01 MiB\n",
      "The CPU usage is:  22.6\n",
      "RAM memory % used: 34.0\n",
      "RAM Used (GB): 5.001146368\n",
      "/home/tigergraph/GML/GNNs/Spektral/gcn_node_classification.ipynb executed successfully\n",
      "execution time: 245.4487910270691 seconds\n",
      "\n",
      "Dropping all graphs, loading jobs, and queries sucessfully.\n",
      "\n",
      "Executing notebook: /home/tigergraph/GML/GNNs/DGL/gcn_node_classification.ipynb\n"
     ]
    },
    {
     "name": "stderr",
     "output_type": "stream",
     "text": [
      "[NbConvertApp] Converting notebook gcn_node_classification.ipynb to html\n",
      "[NbConvertApp] Writing 704860 bytes to /home/tigergraph/GML/output/GNNs/DGL/gcn_node_classification.ipynb/gcn_node_classification.html\n"
     ]
    },
    {
     "name": "stdout",
     "output_type": "stream",
     "text": [
      "peak memory: 75.05 MiB, increment: 0.02 MiB\n",
      "The CPU usage is:  21.9\n",
      "RAM memory % used: 34.2\n",
      "RAM Used (GB): 5.031469056\n",
      "/home/tigergraph/GML/GNNs/DGL/gcn_node_classification.ipynb executed successfully\n",
      "execution time: 204.36822628974915 seconds\n",
      "\n",
      "Dropping all graphs, loading jobs, and queries sucessfully.\n",
      "\n",
      "Executing notebook: /home/tigergraph/GML/GNNs/DGL/rgcn_node_classification.ipynb\n"
     ]
    },
    {
     "name": "stderr",
     "output_type": "stream",
     "text": [
      "[NbConvertApp] Converting notebook rgcn_node_classification.ipynb to html\n",
      "[NbConvertApp] Writing 725103 bytes to /home/tigergraph/GML/output/GNNs/DGL/rgcn_node_classification.ipynb/rgcn_node_classification.html\n"
     ]
    },
    {
     "name": "stdout",
     "output_type": "stream",
     "text": [
      "peak memory: 75.06 MiB, increment: 0.00 MiB\n",
      "The CPU usage is:  21.7\n",
      "RAM memory % used: 37.3\n",
      "RAM Used (GB): 5.556895744\n",
      "/home/tigergraph/GML/GNNs/DGL/rgcn_node_classification.ipynb executed successfully\n",
      "execution time: 354.14860129356384 seconds\n",
      "\n",
      "Dropping all graphs, loading jobs, and queries sucessfully.\n",
      "\n",
      "Executing notebook: /home/tigergraph/GML/algos/topologicalLinkPrediction.ipynb\n"
     ]
    },
    {
     "name": "stderr",
     "output_type": "stream",
     "text": [
      "[NbConvertApp] Converting notebook topologicalLinkPrediction.ipynb to html\n",
      "[NbConvertApp] Writing 641582 bytes to /home/tigergraph/GML/output/algos/topologicalLinkPrediction.ipynb/topologicalLinkPrediction.html\n"
     ]
    },
    {
     "name": "stdout",
     "output_type": "stream",
     "text": [
      "peak memory: 75.06 MiB, increment: 0.00 MiB\n",
      "The CPU usage is:  22.0\n",
      "RAM memory % used: 33.5\n",
      "RAM Used (GB): 4.930695168\n",
      "/home/tigergraph/GML/algos/topologicalLinkPrediction.ipynb executed successfully\n",
      "execution time: 241.41627502441406 seconds\n",
      "\n",
      "Dropping all graphs, loading jobs, and queries sucessfully.\n",
      "\n",
      "Executing notebook: /home/tigergraph/GML/algos/embedding.ipynb\n"
     ]
    },
    {
     "name": "stderr",
     "output_type": "stream",
     "text": [
      "[NbConvertApp] Converting notebook embedding.ipynb to html\n",
      "[NbConvertApp] Writing 682799 bytes to /home/tigergraph/GML/output/algos/embedding.ipynb/embedding.html\n"
     ]
    },
    {
     "name": "stdout",
     "output_type": "stream",
     "text": [
      "peak memory: 75.06 MiB, increment: 0.00 MiB\n",
      "The CPU usage is:  22.5\n",
      "RAM memory % used: 34.7\n",
      "RAM Used (GB): 5.118521344\n",
      "/home/tigergraph/GML/algos/embedding.ipynb executed successfully\n",
      "execution time: 218.51526021957397 seconds\n",
      "\n",
      "Dropping all graphs, loading jobs, and queries sucessfully.\n",
      "\n",
      "Executing notebook: /home/tigergraph/GML/algos/classification.ipynb\n"
     ]
    },
    {
     "name": "stderr",
     "output_type": "stream",
     "text": [
      "[NbConvertApp] Converting notebook classification.ipynb to html\n",
      "[NbConvertApp] Writing 678395 bytes to /home/tigergraph/GML/output/algos/classification.ipynb/classification.html\n"
     ]
    },
    {
     "name": "stdout",
     "output_type": "stream",
     "text": [
      "peak memory: 75.07 MiB, increment: 0.01 MiB\n",
      "The CPU usage is:  22.5\n",
      "RAM memory % used: 34.9\n",
      "RAM Used (GB): 5.160931328\n",
      "/home/tigergraph/GML/algos/classification.ipynb executed successfully\n",
      "execution time: 363.59282636642456 seconds\n",
      "\n",
      "Dropping all graphs, loading jobs, and queries sucessfully.\n",
      "\n",
      "Executing notebook: /home/tigergraph/GML/algos/similarity.ipynb\n"
     ]
    },
    {
     "name": "stderr",
     "output_type": "stream",
     "text": [
      "[NbConvertApp] Converting notebook similarity.ipynb to html\n",
      "[NbConvertApp] Writing 635908 bytes to /home/tigergraph/GML/output/algos/similarity.ipynb/similarity.html\n"
     ]
    },
    {
     "name": "stdout",
     "output_type": "stream",
     "text": [
      "peak memory: 75.07 MiB, increment: 0.00 MiB\n",
      "The CPU usage is:  23.3\n",
      "RAM memory % used: 34.9\n",
      "RAM Used (GB): 5.166055424\n",
      "/home/tigergraph/GML/algos/similarity.ipynb executed successfully\n",
      "execution time: 193.1436746120453 seconds\n",
      "\n",
      "Dropping all graphs, loading jobs, and queries sucessfully.\n",
      "\n",
      "Executing notebook: /home/tigergraph/GML/algos/centrality.ipynb\n"
     ]
    },
    {
     "name": "stderr",
     "output_type": "stream",
     "text": [
      "[NbConvertApp] Converting notebook centrality.ipynb to html\n",
      "[NbConvertApp] Writing 743372 bytes to /home/tigergraph/GML/output/algos/centrality.ipynb/centrality.html\n"
     ]
    },
    {
     "name": "stdout",
     "output_type": "stream",
     "text": [
      "peak memory: 75.08 MiB, increment: 0.00 MiB\n",
      "The CPU usage is:  28.3\n",
      "RAM memory % used: 51.5\n",
      "RAM Used (GB): 7.943671808\n",
      "/home/tigergraph/GML/algos/centrality.ipynb executed successfully\n",
      "execution time: 470.4471106529236 seconds\n",
      "\n",
      "Dropping all graphs, loading jobs, and queries sucessfully.\n",
      "\n",
      "Executing notebook: /home/tigergraph/GML/algos/community.ipynb\n"
     ]
    },
    {
     "name": "stderr",
     "output_type": "stream",
     "text": [
      "[NbConvertApp] Converting notebook community.ipynb to html\n",
      "[NbConvertApp] Writing 683972 bytes to /home/tigergraph/GML/output/algos/community.ipynb/community.html\n"
     ]
    },
    {
     "name": "stdout",
     "output_type": "stream",
     "text": [
      "peak memory: 75.08 MiB, increment: 0.00 MiB\n",
      "The CPU usage is:  30.2\n",
      "RAM memory % used: 52.1\n",
      "RAM Used (GB): 8.04780032\n",
      "/home/tigergraph/GML/algos/community.ipynb executed successfully\n",
      "execution time: 542.4974973201752 seconds\n",
      "\n",
      "Dropping all graphs, loading jobs, and queries sucessfully.\n",
      "\n",
      "Executing notebook: /home/tigergraph/GML/algos/pathfinding.ipynb\n"
     ]
    },
    {
     "name": "stderr",
     "output_type": "stream",
     "text": [
      "[NbConvertApp] Converting notebook pathfinding.ipynb to html\n",
      "[NbConvertApp] Writing 654313 bytes to /home/tigergraph/GML/output/algos/pathfinding.ipynb/pathfinding.html\n"
     ]
    },
    {
     "name": "stdout",
     "output_type": "stream",
     "text": [
      "peak memory: 75.08 MiB, increment: 0.00 MiB\n",
      "The CPU usage is:  28.8\n",
      "RAM memory % used: 54.4\n",
      "RAM Used (GB): 8.434761728\n",
      "/home/tigergraph/GML/algos/pathfinding.ipynb executed successfully\n",
      "execution time: 363.4259989261627 seconds\n",
      "\n",
      "Dropping all graphs, loading jobs, and queries sucessfully.\n",
      "\n",
      "Executing notebook: /home/tigergraph/GML/applications/recommendation/recommendation.ipynb\n"
     ]
    },
    {
     "name": "stderr",
     "output_type": "stream",
     "text": [
      "[NbConvertApp] Converting notebook recommendation.ipynb to html\n",
      "[NbConvertApp] Writing 758735 bytes to /home/tigergraph/GML/output/applications/recommendation/recommendation.ipynb/recommendation.html\n"
     ]
    },
    {
     "name": "stdout",
     "output_type": "stream",
     "text": [
      "peak memory: 75.09 MiB, increment: 0.00 MiB\n",
      "The CPU usage is:  26.7\n",
      "RAM memory % used: 35.4\n",
      "RAM Used (GB): 5.246107648\n",
      "/home/tigergraph/GML/applications/recommendation/recommendation.ipynb executed successfully\n",
      "execution time: 131.5125663280487 seconds\n",
      "\n",
      "Dropping all graphs, loading jobs, and queries sucessfully.\n",
      "\n",
      "Executing notebook: /home/tigergraph/GML/applications/fraud_detection/fraud_detection.ipynb\n"
     ]
    },
    {
     "name": "stderr",
     "output_type": "stream",
     "text": [
      "[NbConvertApp] Converting notebook fraud_detection.ipynb to html\n",
      "[NbConvertApp] Writing 1260584 bytes to /home/tigergraph/GML/output/applications/fraud_detection/fraud_detection.ipynb/fraud_detection.html\n"
     ]
    },
    {
     "name": "stdout",
     "output_type": "stream",
     "text": [
      "peak memory: 75.09 MiB, increment: 0.00 MiB\n",
      "The CPU usage is:  31.6\n",
      "RAM memory % used: 36.1\n",
      "RAM Used (GB): 5.360242688\n",
      "/home/tigergraph/GML/applications/fraud_detection/fraud_detection.ipynb executed successfully\n",
      "execution time: 347.6134707927704 seconds\n",
      "\n",
      "Dropping all graphs, loading jobs, and queries sucessfully.\n",
      "\n",
      "Executing notebook: /home/tigergraph/GML/basics/gsql_102.ipynb\n"
     ]
    },
    {
     "name": "stderr",
     "output_type": "stream",
     "text": [
      "[NbConvertApp] Converting notebook gsql_102.ipynb to html\n",
      "[NbConvertApp] Writing 727589 bytes to /home/tigergraph/GML/output/basics/gsql_102.ipynb/gsql_102.html\n"
     ]
    },
    {
     "name": "stdout",
     "output_type": "stream",
     "text": [
      "peak memory: 75.09 MiB, increment: 0.00 MiB\n",
      "The CPU usage is:  23.6\n",
      "RAM memory % used: 52.1\n",
      "RAM Used (GB): 8.045740032\n",
      "/home/tigergraph/GML/basics/gsql_102.ipynb executed successfully\n",
      "execution time: 338.6693663597107 seconds\n",
      "\n",
      "Dropping all graphs, loading jobs, and queries sucessfully.\n",
      "\n",
      "Executing notebook: /home/tigergraph/GML/basics/datasets.ipynb\n"
     ]
    },
    {
     "name": "stderr",
     "output_type": "stream",
     "text": [
      "[NbConvertApp] Converting notebook datasets.ipynb to html\n",
      "[NbConvertApp] Writing 630515 bytes to /home/tigergraph/GML/output/basics/datasets.ipynb/datasets.html\n"
     ]
    },
    {
     "name": "stdout",
     "output_type": "stream",
     "text": [
      "peak memory: 75.09 MiB, increment: 0.00 MiB\n",
      "The CPU usage is:  29.5\n",
      "RAM memory % used: 36.9\n",
      "RAM Used (GB): 5.492711424\n",
      "/home/tigergraph/GML/basics/datasets.ipynb executed successfully\n",
      "execution time: 68.28859567642212 seconds\n",
      "\n",
      "Dropping all graphs, loading jobs, and queries sucessfully.\n",
      "\n",
      "Executing notebook: /home/tigergraph/GML/basics/pyTigergraph_101.ipynb\n"
     ]
    },
    {
     "name": "stderr",
     "output_type": "stream",
     "text": [
      "[NbConvertApp] Converting notebook pyTigergraph_101.ipynb to html\n",
      "[NbConvertApp] Writing 821115 bytes to /home/tigergraph/GML/output/basics/pyTigergraph_101.ipynb/pyTigergraph_101.html\n"
     ]
    },
    {
     "name": "stdout",
     "output_type": "stream",
     "text": [
      "peak memory: 75.09 MiB, increment: 0.00 MiB\n",
      "The CPU usage is:  25.5\n",
      "RAM memory % used: 34.7\n",
      "RAM Used (GB): 5.123076096\n",
      "/home/tigergraph/GML/basics/pyTigergraph_101.ipynb executed successfully\n",
      "execution time: 119.43766331672668 seconds\n",
      "\n",
      "Dropping all graphs, loading jobs, and queries sucessfully.\n",
      "\n",
      "Executing notebook: /home/tigergraph/GML/basics/feature_engineering.ipynb\n"
     ]
    },
    {
     "name": "stderr",
     "output_type": "stream",
     "text": [
      "[NbConvertApp] Converting notebook feature_engineering.ipynb to html\n",
      "[NbConvertApp] Writing 643793 bytes to /home/tigergraph/GML/output/basics/feature_engineering.ipynb/feature_engineering.html\n"
     ]
    },
    {
     "name": "stdout",
     "output_type": "stream",
     "text": [
      "peak memory: 75.09 MiB, increment: 0.00 MiB\n",
      "The CPU usage is:  26.1\n",
      "RAM memory % used: 36.3\n",
      "RAM Used (GB): 5.388734464\n",
      "/home/tigergraph/GML/basics/feature_engineering.ipynb executed successfully\n",
      "execution time: 209.28624367713928 seconds\n",
      "\n",
      "Dropping all graphs, loading jobs, and queries sucessfully.\n",
      "\n",
      "Executing notebook: /home/tigergraph/GML/basics/gsql_101.ipynb\n"
     ]
    },
    {
     "name": "stderr",
     "output_type": "stream",
     "text": [
      "[NbConvertApp] Converting notebook gsql_101.ipynb to html\n",
      "Traceback (most recent call last):\n",
      "  File \"/opt/conda/bin/jupyter-nbconvert\", line 10, in <module>\n",
      "    sys.exit(main())\n",
      "  File \"/opt/conda/lib/python3.9/site-packages/jupyter_core/application.py\", line 276, in launch_instance\n",
      "    return super().launch_instance(argv=argv, **kwargs)\n",
      "  File \"/opt/conda/lib/python3.9/site-packages/traitlets/config/application.py\", line 982, in launch_instance\n",
      "    app.start()\n",
      "  File \"/opt/conda/lib/python3.9/site-packages/nbconvert/nbconvertapp.py\", line 426, in start\n",
      "    self.convert_notebooks()\n",
      "  File \"/opt/conda/lib/python3.9/site-packages/nbconvert/nbconvertapp.py\", line 600, in convert_notebooks\n",
      "    self.convert_single_notebook(notebook_filename)\n",
      "  File \"/opt/conda/lib/python3.9/site-packages/nbconvert/nbconvertapp.py\", line 563, in convert_single_notebook\n",
      "    output, resources = self.export_single_notebook(\n",
      "  File \"/opt/conda/lib/python3.9/site-packages/nbconvert/nbconvertapp.py\", line 491, in export_single_notebook\n",
      "    output, resources = self.exporter.from_filename(\n",
      "  File \"/opt/conda/lib/python3.9/site-packages/nbconvert/exporters/exporter.py\", line 190, in from_filename\n",
      "    return self.from_file(f, resources=resources, **kw)\n",
      "  File \"/opt/conda/lib/python3.9/site-packages/nbconvert/exporters/exporter.py\", line 207, in from_file\n",
      "    return self.from_notebook_node(\n",
      "  File \"/opt/conda/lib/python3.9/site-packages/nbconvert/exporters/html.py\", line 223, in from_notebook_node\n",
      "    return super().from_notebook_node(nb, resources, **kw)\n",
      "  File \"/opt/conda/lib/python3.9/site-packages/nbconvert/exporters/templateexporter.py\", line 385, in from_notebook_node\n",
      "    nb_copy, resources = super().from_notebook_node(nb, resources, **kw)\n",
      "  File \"/opt/conda/lib/python3.9/site-packages/nbconvert/exporters/exporter.py\", line 147, in from_notebook_node\n",
      "    nb_copy, resources = self._preprocess(nb_copy, resources)\n",
      "  File \"/opt/conda/lib/python3.9/site-packages/nbconvert/exporters/exporter.py\", line 342, in _preprocess\n",
      "    nbc, resc = preprocessor(nbc, resc)\n",
      "  File \"/opt/conda/lib/python3.9/site-packages/nbconvert/preprocessors/base.py\", line 47, in __call__\n",
      "    return self.preprocess(nb, resources)\n",
      "  File \"/opt/conda/lib/python3.9/site-packages/nbconvert/preprocessors/execute.py\", line 91, in preprocess\n",
      "    self.preprocess_cell(cell, resources, index)\n",
      "  File \"/opt/conda/lib/python3.9/site-packages/nbconvert/preprocessors/execute.py\", line 112, in preprocess_cell\n",
      "    cell = self.execute_cell(cell, index, store_history=True)\n",
      "  File \"/opt/conda/lib/python3.9/site-packages/nbclient/util.py\", line 85, in wrapped\n",
      "    return just_run(coro(*args, **kwargs))\n",
      "  File \"/opt/conda/lib/python3.9/site-packages/nbclient/util.py\", line 60, in just_run\n",
      "    return loop.run_until_complete(coro)\n",
      "  File \"/opt/conda/lib/python3.9/site-packages/nest_asyncio.py\", line 90, in run_until_complete\n",
      "    return f.result()\n",
      "  File \"/opt/conda/lib/python3.9/asyncio/futures.py\", line 201, in result\n",
      "    raise self._exception\n",
      "  File \"/opt/conda/lib/python3.9/asyncio/tasks.py\", line 256, in __step\n",
      "    result = coro.send(None)\n",
      "  File \"/opt/conda/lib/python3.9/site-packages/nbclient/client.py\", line 1019, in async_execute_cell\n",
      "    await self._check_raise_for_error(cell, cell_index, exec_reply)\n",
      "  File \"/opt/conda/lib/python3.9/site-packages/nbclient/client.py\", line 913, in _check_raise_for_error\n",
      "    raise CellExecutionError.from_cell_and_msg(cell, exec_reply_content)\n",
      "nbclient.exceptions.CellExecutionError: An error occurred while executing the following cell:\n",
      "------------------\n",
      "results = conn.gsql(\n",
      "'''\n",
      "CREATE GRAPH Social_101 ()\n",
      "'''\n",
      ")\n",
      "\n",
      "print(results)\n",
      "------------------\n",
      "\n",
      "An exception has occurred, use %tb to see the full traceback.\n",
      "\n",
      "\u001b[0;31mSystemExit\u001b[0m\u001b[0;31m:\u001b[0m 1\n",
      "\n",
      "SystemExit: 1\n",
      "\n"
     ]
    },
    {
     "name": "stdout",
     "output_type": "stream",
     "text": [
      "peak memory: 75.09 MiB, increment: 0.00 MiB\n",
      "The CPU usage is:  7.2\n",
      "RAM memory % used: 34.3\n",
      "RAM Used (GB): 5.062365184\n",
      "/home/tigergraph/GML/basics/gsql_101.ipynb executed successfully\n",
      "execution time: 133.9192452430725 seconds\n",
      "\n"
     ]
    }
   ],
   "source": [
    "import os\n",
    "import time\n",
    "import psutil\n",
    "!pip install memory_profiler\n",
    "\n",
    "%load_ext memory_profiler\n",
    "\n",
    "notebook_performance_out = '/home/tigergraph/GraphML/output/performance.txt'\n",
    "\n",
    "for nb_file in notebook_list:\n",
    "    \n",
    "    result = conn.gsql('DROP ALL')\n",
    "    print ('Dropping all graphs, loading jobs, and queries sucessfully.\\n')\n",
    "    \n",
    "    print ('Executing notebook: ' + nb_file)\n",
    "    \n",
    "    root = '/home/tigergraph/GraphML/'\n",
    "    \n",
    "    nb_file = nb_file.replace(\"./\", root)\n",
    "    \n",
    "    cmd = 'cd {} && jupyter nbconvert --to html --execute {} --output-dir=/home/tigergraph/GraphML/output/{}'.format(os.path.dirname(nb_file), os.path.basename(nb_file), nb_file.replace(\"/home/tigergraph/GraphML/\", \"\"))\n",
    "    \n",
    "    # print (cmd)\n",
    "    \n",
    "    start_time = time.time()\n",
    "    \n",
    "    memory = %memit -r 1 -o os.system(cmd)\n",
    "    \n",
    "    execution_time = time.time() - start_time\n",
    "    \n",
    "#     print('The CPU usage is: ', psutil.cpu_percent(4))\n",
    "    \n",
    "#     print('RAM memory % used:', psutil.virtual_memory()[2])\n",
    "\n",
    "#     print('RAM Used (GB):', psutil.virtual_memory()[3]/1000000000)\n",
    "    \n",
    "    print (nb_file + ' executed successfully')\n",
    "    print ('execution time: ' + str(execution_time) + ' seconds\\n')\n",
    "    \n",
    "    os.makedirs(os.path.dirname(notebook_performance_out), exist_ok=True)\n",
    "    with open(notebook_performance_out, mode='a+', encoding='utf-8') as f:\n",
    "        f.write('executed notebook: ' + nb_file + '\\n')\n",
    "        f.write('execution time: ' + str(execution_time) + ' seconds\\n')\n",
    "        f.write(str(memory) + '\\n\\n')\n",
    "    "
   ]
  }
 ],
 "metadata": {
  "kernelspec": {
   "display_name": "Python 3 (ipykernel)",
   "language": "python",
   "name": "python3"
  },
  "language_info": {
   "codemirror_mode": {
    "name": "ipython",
    "version": 3
   },
   "file_extension": ".py",
   "mimetype": "text/x-python",
   "name": "python",
   "nbconvert_exporter": "python",
   "pygments_lexer": "ipython3",
   "version": "3.9.6"
  }
 },
 "nbformat": 4,
 "nbformat_minor": 5
}
